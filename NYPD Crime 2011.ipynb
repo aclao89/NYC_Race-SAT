{
 "cells": [
  {
   "cell_type": "markdown",
   "metadata": {},
   "source": [
    "# Analyzing NYPD Historical Crime Data: Impact on academic performance \n"
   ]
  },
  {
   "cell_type": "markdown",
   "metadata": {},
   "source": [
    "## Abstract \n",
    "\n",
    "This is a breakdown of every criminal complaint report filed in NYC by the NYPD in 2011. This data is manually extracted every quarter and reviewed by the Office of Management Analysis and Planning. Each record represents a criminal complaint in NYC and includes information abot the type of crime, the location and time of enforcement. This data can be used by the public to explore the nature of criminal activity in conjunction with the Safety/Respect Scores and SAT performance. \n",
    "\n",
    "## Methods \n",
    "\n",
    "This dataset includes all valid felony, misdemeanor, and violation crimes reported to the New York City Police Department (NYPD) from 2006 to the end of last year (2017). For additional details, please see the [data dictionary](https://data.cityofnewyork.us/Public-Safety/NYPD-Complaint-Data-Historic/qgea-i56i). \n",
    "\n",
    "I preprocessed the data and selected only the variables of my interest and saved the file as NYPD_Complaint_Data_Historic_2011.csv."
   ]
  },
  {
   "cell_type": "markdown",
   "metadata": {},
   "source": [
    "# ETL"
   ]
  },
  {
   "cell_type": "code",
   "execution_count": 1,
   "metadata": {},
   "outputs": [],
   "source": [
    "#Libraries used for analysis and visualizations \n",
    "\n",
    "import pandas as pd\n",
    "import numpy as np\n",
    "import re\n",
    "import matplotlib.pyplot as plt\n",
    "%matplotlib inline \n",
    "import plotly.express as px\n",
    "import seaborn as sns \n",
    "import folium\n",
    "from folium.plugins import HeatMap\n",
    "from random import sample \n",
    "import branca.colormap as cm\n",
    "import json\n"
   ]
  },
  {
   "cell_type": "code",
   "execution_count": 2,
   "metadata": {},
   "outputs": [
    {
     "data": {
      "text/html": [
       "<div>\n",
       "<style scoped>\n",
       "    .dataframe tbody tr th:only-of-type {\n",
       "        vertical-align: middle;\n",
       "    }\n",
       "\n",
       "    .dataframe tbody tr th {\n",
       "        vertical-align: top;\n",
       "    }\n",
       "\n",
       "    .dataframe thead th {\n",
       "        text-align: right;\n",
       "    }\n",
       "</style>\n",
       "<table border=\"1\" class=\"dataframe\">\n",
       "  <thead>\n",
       "    <tr style=\"text-align: right;\">\n",
       "      <th></th>\n",
       "      <th>CMPLNT_FR_DT</th>\n",
       "      <th>OFNS_DESC</th>\n",
       "      <th>PD_CD</th>\n",
       "      <th>LAW_CAT_CD</th>\n",
       "      <th>BORO_NM</th>\n",
       "      <th>LOC_OF_OCCUR_DESC</th>\n",
       "      <th>SUSP_RACE</th>\n",
       "      <th>Latitude</th>\n",
       "      <th>Longitude</th>\n",
       "      <th>PATROL_BORO</th>\n",
       "    </tr>\n",
       "    <tr>\n",
       "      <th>CMPLNT_NUM</th>\n",
       "      <th></th>\n",
       "      <th></th>\n",
       "      <th></th>\n",
       "      <th></th>\n",
       "      <th></th>\n",
       "      <th></th>\n",
       "      <th></th>\n",
       "      <th></th>\n",
       "      <th></th>\n",
       "      <th></th>\n",
       "    </tr>\n",
       "  </thead>\n",
       "  <tbody>\n",
       "    <tr>\n",
       "      <th>519234712</th>\n",
       "      <td>1/1/2011</td>\n",
       "      <td>SEX CRIMES</td>\n",
       "      <td>177.0</td>\n",
       "      <td>FELONY</td>\n",
       "      <td>BROOKLYN</td>\n",
       "      <td>INSIDE</td>\n",
       "      <td>WHITE HISPANIC</td>\n",
       "      <td>40.648650</td>\n",
       "      <td>-73.950336</td>\n",
       "      <td>PATROL BORO BKLYN SOUTH</td>\n",
       "    </tr>\n",
       "    <tr>\n",
       "      <th>495207193</th>\n",
       "      <td>1/1/2011</td>\n",
       "      <td>PETIT LARCENY</td>\n",
       "      <td>338.0</td>\n",
       "      <td>MISDEMEANOR</td>\n",
       "      <td>MANHATTAN</td>\n",
       "      <td>INSIDE</td>\n",
       "      <td>NaN</td>\n",
       "      <td>40.862255</td>\n",
       "      <td>-73.926297</td>\n",
       "      <td>PATROL BORO MAN NORTH</td>\n",
       "    </tr>\n",
       "    <tr>\n",
       "      <th>527650130</th>\n",
       "      <td>1/1/2011</td>\n",
       "      <td>SEX CRIMES</td>\n",
       "      <td>177.0</td>\n",
       "      <td>FELONY</td>\n",
       "      <td>BRONX</td>\n",
       "      <td>INSIDE</td>\n",
       "      <td>UNKNOWN</td>\n",
       "      <td>40.816392</td>\n",
       "      <td>-73.895296</td>\n",
       "      <td>PATROL BORO BRONX</td>\n",
       "    </tr>\n",
       "    <tr>\n",
       "      <th>512891731</th>\n",
       "      <td>1/1/2011</td>\n",
       "      <td>FRAUDS</td>\n",
       "      <td>718.0</td>\n",
       "      <td>MISDEMEANOR</td>\n",
       "      <td>BROOKLYN</td>\n",
       "      <td>INSIDE</td>\n",
       "      <td>NaN</td>\n",
       "      <td>40.633193</td>\n",
       "      <td>-73.941884</td>\n",
       "      <td>PATROL BORO BKLYN SOUTH</td>\n",
       "    </tr>\n",
       "    <tr>\n",
       "      <th>234370701</th>\n",
       "      <td>1/1/2011</td>\n",
       "      <td>RAPE</td>\n",
       "      <td>157.0</td>\n",
       "      <td>FELONY</td>\n",
       "      <td>QUEENS</td>\n",
       "      <td>NaN</td>\n",
       "      <td>UNKNOWN</td>\n",
       "      <td>40.745253</td>\n",
       "      <td>-73.870063</td>\n",
       "      <td>PATROL BORO QUEENS NORTH</td>\n",
       "    </tr>\n",
       "  </tbody>\n",
       "</table>\n",
       "</div>"
      ],
      "text/plain": [
       "           CMPLNT_FR_DT      OFNS_DESC  PD_CD   LAW_CAT_CD    BORO_NM  \\\n",
       "CMPLNT_NUM                                                              \n",
       "519234712      1/1/2011     SEX CRIMES  177.0       FELONY   BROOKLYN   \n",
       "495207193      1/1/2011  PETIT LARCENY  338.0  MISDEMEANOR  MANHATTAN   \n",
       "527650130      1/1/2011     SEX CRIMES  177.0       FELONY      BRONX   \n",
       "512891731      1/1/2011         FRAUDS  718.0  MISDEMEANOR   BROOKLYN   \n",
       "234370701      1/1/2011           RAPE  157.0       FELONY     QUEENS   \n",
       "\n",
       "           LOC_OF_OCCUR_DESC       SUSP_RACE   Latitude  Longitude  \\\n",
       "CMPLNT_NUM                                                           \n",
       "519234712             INSIDE  WHITE HISPANIC  40.648650 -73.950336   \n",
       "495207193             INSIDE             NaN  40.862255 -73.926297   \n",
       "527650130             INSIDE         UNKNOWN  40.816392 -73.895296   \n",
       "512891731             INSIDE             NaN  40.633193 -73.941884   \n",
       "234370701                NaN         UNKNOWN  40.745253 -73.870063   \n",
       "\n",
       "                         PATROL_BORO  \n",
       "CMPLNT_NUM                            \n",
       "519234712    PATROL BORO BKLYN SOUTH  \n",
       "495207193      PATROL BORO MAN NORTH  \n",
       "527650130          PATROL BORO BRONX  \n",
       "512891731    PATROL BORO BKLYN SOUTH  \n",
       "234370701   PATROL BORO QUEENS NORTH  "
      ]
     },
     "execution_count": 2,
     "metadata": {},
     "output_type": "execute_result"
    }
   ],
   "source": [
    "crime_2011 = pd.read_csv('schools/NYPD_Complaint_Data_Historic_PDID.csv', index_col = 'CMPLNT_NUM')\n",
    "crime_2011.head()"
   ]
  },
  {
   "cell_type": "code",
   "execution_count": 3,
   "metadata": {},
   "outputs": [
    {
     "data": {
      "text/plain": [
       "CMPLNT_FR_DT              0\n",
       "OFNS_DESC              1625\n",
       "PD_CD                   494\n",
       "LAW_CAT_CD                0\n",
       "BORO_NM                 499\n",
       "LOC_OF_OCCUR_DESC    112230\n",
       "SUSP_RACE            298651\n",
       "Latitude                 54\n",
       "Longitude                54\n",
       "PATROL_BORO             494\n",
       "dtype: int64"
      ]
     },
     "execution_count": 3,
     "metadata": {},
     "output_type": "execute_result"
    }
   ],
   "source": [
    "crime_2011.isnull().sum()"
   ]
  },
  {
   "cell_type": "code",
   "execution_count": 4,
   "metadata": {},
   "outputs": [
    {
     "data": {
      "text/plain": [
       "CMPLNT_FR_DT          object\n",
       "OFNS_DESC             object\n",
       "PD_CD                float64\n",
       "LAW_CAT_CD            object\n",
       "BORO_NM               object\n",
       "LOC_OF_OCCUR_DESC     object\n",
       "SUSP_RACE             object\n",
       "Latitude             float64\n",
       "Longitude            float64\n",
       "PATROL_BORO           object\n",
       "dtype: object"
      ]
     },
     "execution_count": 4,
     "metadata": {},
     "output_type": "execute_result"
    }
   ],
   "source": [
    "crime_2011.dtypes"
   ]
  },
  {
   "cell_type": "code",
   "execution_count": 5,
   "metadata": {},
   "outputs": [
    {
     "data": {
      "text/html": [
       "<div>\n",
       "<style scoped>\n",
       "    .dataframe tbody tr th:only-of-type {\n",
       "        vertical-align: middle;\n",
       "    }\n",
       "\n",
       "    .dataframe tbody tr th {\n",
       "        vertical-align: top;\n",
       "    }\n",
       "\n",
       "    .dataframe thead th {\n",
       "        text-align: right;\n",
       "    }\n",
       "</style>\n",
       "<table border=\"1\" class=\"dataframe\">\n",
       "  <thead>\n",
       "    <tr style=\"text-align: right;\">\n",
       "      <th></th>\n",
       "      <th>CMPLNT_FR_DT</th>\n",
       "      <th>OFNS_DESC</th>\n",
       "      <th>PD_CD</th>\n",
       "      <th>LAW_CAT_CD</th>\n",
       "      <th>BORO_NM</th>\n",
       "      <th>LOC_OF_OCCUR_DESC</th>\n",
       "      <th>SUSP_RACE</th>\n",
       "      <th>Latitude</th>\n",
       "      <th>Longitude</th>\n",
       "      <th>PATROL_BORO</th>\n",
       "    </tr>\n",
       "    <tr>\n",
       "      <th>CMPLNT_NUM</th>\n",
       "      <th></th>\n",
       "      <th></th>\n",
       "      <th></th>\n",
       "      <th></th>\n",
       "      <th></th>\n",
       "      <th></th>\n",
       "      <th></th>\n",
       "      <th></th>\n",
       "      <th></th>\n",
       "      <th></th>\n",
       "    </tr>\n",
       "  </thead>\n",
       "  <tbody>\n",
       "    <tr>\n",
       "      <th>519234712</th>\n",
       "      <td>1/1/2011</td>\n",
       "      <td>SEX CRIMES</td>\n",
       "      <td>177.0</td>\n",
       "      <td>FELONY</td>\n",
       "      <td>BROOKLYN</td>\n",
       "      <td>INSIDE</td>\n",
       "      <td>WHITE HISPANIC</td>\n",
       "      <td>40.648650</td>\n",
       "      <td>-73.950336</td>\n",
       "      <td>PATROL BORO BKLYN SOUTH</td>\n",
       "    </tr>\n",
       "    <tr>\n",
       "      <th>527650130</th>\n",
       "      <td>1/1/2011</td>\n",
       "      <td>SEX CRIMES</td>\n",
       "      <td>177.0</td>\n",
       "      <td>FELONY</td>\n",
       "      <td>BRONX</td>\n",
       "      <td>INSIDE</td>\n",
       "      <td>UNKNOWN</td>\n",
       "      <td>40.816392</td>\n",
       "      <td>-73.895296</td>\n",
       "      <td>PATROL BORO BRONX</td>\n",
       "    </tr>\n",
       "    <tr>\n",
       "      <th>234370701</th>\n",
       "      <td>1/1/2011</td>\n",
       "      <td>RAPE</td>\n",
       "      <td>157.0</td>\n",
       "      <td>FELONY</td>\n",
       "      <td>QUEENS</td>\n",
       "      <td>NaN</td>\n",
       "      <td>UNKNOWN</td>\n",
       "      <td>40.745253</td>\n",
       "      <td>-73.870063</td>\n",
       "      <td>PATROL BORO QUEENS NORTH</td>\n",
       "    </tr>\n",
       "    <tr>\n",
       "      <th>109241832</th>\n",
       "      <td>1/1/2011</td>\n",
       "      <td>THEFT-FRAUD</td>\n",
       "      <td>739.0</td>\n",
       "      <td>FELONY</td>\n",
       "      <td>MANHATTAN</td>\n",
       "      <td>INSIDE</td>\n",
       "      <td>UNKNOWN</td>\n",
       "      <td>40.802140</td>\n",
       "      <td>-73.939060</td>\n",
       "      <td>PATROL BORO MAN NORTH</td>\n",
       "    </tr>\n",
       "    <tr>\n",
       "      <th>911408185</th>\n",
       "      <td>1/1/2011</td>\n",
       "      <td>SEX CRIMES</td>\n",
       "      <td>177.0</td>\n",
       "      <td>FELONY</td>\n",
       "      <td>MANHATTAN</td>\n",
       "      <td>INSIDE</td>\n",
       "      <td>BLACK HISPANIC</td>\n",
       "      <td>40.736698</td>\n",
       "      <td>-73.983316</td>\n",
       "      <td>PATROL BORO MAN SOUTH</td>\n",
       "    </tr>\n",
       "  </tbody>\n",
       "</table>\n",
       "</div>"
      ],
      "text/plain": [
       "           CMPLNT_FR_DT    OFNS_DESC  PD_CD LAW_CAT_CD    BORO_NM  \\\n",
       "CMPLNT_NUM                                                          \n",
       "519234712      1/1/2011   SEX CRIMES  177.0     FELONY   BROOKLYN   \n",
       "527650130      1/1/2011   SEX CRIMES  177.0     FELONY      BRONX   \n",
       "234370701      1/1/2011         RAPE  157.0     FELONY     QUEENS   \n",
       "109241832      1/1/2011  THEFT-FRAUD  739.0     FELONY  MANHATTAN   \n",
       "911408185      1/1/2011   SEX CRIMES  177.0     FELONY  MANHATTAN   \n",
       "\n",
       "           LOC_OF_OCCUR_DESC       SUSP_RACE   Latitude  Longitude  \\\n",
       "CMPLNT_NUM                                                           \n",
       "519234712             INSIDE  WHITE HISPANIC  40.648650 -73.950336   \n",
       "527650130             INSIDE         UNKNOWN  40.816392 -73.895296   \n",
       "234370701                NaN         UNKNOWN  40.745253 -73.870063   \n",
       "109241832             INSIDE         UNKNOWN  40.802140 -73.939060   \n",
       "911408185             INSIDE  BLACK HISPANIC  40.736698 -73.983316   \n",
       "\n",
       "                         PATROL_BORO  \n",
       "CMPLNT_NUM                            \n",
       "519234712    PATROL BORO BKLYN SOUTH  \n",
       "527650130          PATROL BORO BRONX  \n",
       "234370701   PATROL BORO QUEENS NORTH  \n",
       "109241832      PATROL BORO MAN NORTH  \n",
       "911408185      PATROL BORO MAN SOUTH  "
      ]
     },
     "execution_count": 5,
     "metadata": {},
     "output_type": "execute_result"
    }
   ],
   "source": [
    "# Keeping all rows with Borough Names \n",
    "crime_df = crime_2011[crime_2011['SUSP_RACE'].notna()]\n",
    "\n",
    "crime_df.head()"
   ]
  },
  {
   "cell_type": "code",
   "execution_count": 6,
   "metadata": {
    "scrolled": true
   },
   "outputs": [
    {
     "data": {
      "text/html": [
       "<div>\n",
       "<style scoped>\n",
       "    .dataframe tbody tr th:only-of-type {\n",
       "        vertical-align: middle;\n",
       "    }\n",
       "\n",
       "    .dataframe tbody tr th {\n",
       "        vertical-align: top;\n",
       "    }\n",
       "\n",
       "    .dataframe thead th {\n",
       "        text-align: right;\n",
       "    }\n",
       "</style>\n",
       "<table border=\"1\" class=\"dataframe\">\n",
       "  <thead>\n",
       "    <tr style=\"text-align: right;\">\n",
       "      <th></th>\n",
       "      <th>Date of Complaint</th>\n",
       "      <th>Offense Desc.</th>\n",
       "      <th>PD_CD</th>\n",
       "      <th>Location of Incident</th>\n",
       "      <th>Suspect Race</th>\n",
       "      <th>Crime Classification</th>\n",
       "      <th>Borough</th>\n",
       "      <th>Latitude</th>\n",
       "      <th>Longitude</th>\n",
       "      <th>Patrol Borough</th>\n",
       "    </tr>\n",
       "    <tr>\n",
       "      <th>CMPLNT_NUM</th>\n",
       "      <th></th>\n",
       "      <th></th>\n",
       "      <th></th>\n",
       "      <th></th>\n",
       "      <th></th>\n",
       "      <th></th>\n",
       "      <th></th>\n",
       "      <th></th>\n",
       "      <th></th>\n",
       "      <th></th>\n",
       "    </tr>\n",
       "  </thead>\n",
       "  <tbody>\n",
       "    <tr>\n",
       "      <th>519234712</th>\n",
       "      <td>1/1/2011</td>\n",
       "      <td>SEX CRIMES</td>\n",
       "      <td>177.0</td>\n",
       "      <td>INSIDE</td>\n",
       "      <td>WHITE HISPANIC</td>\n",
       "      <td>FELONY</td>\n",
       "      <td>BROOKLYN</td>\n",
       "      <td>40.648650</td>\n",
       "      <td>-73.950336</td>\n",
       "      <td>PATROL BORO BKLYN SOUTH</td>\n",
       "    </tr>\n",
       "    <tr>\n",
       "      <th>527650130</th>\n",
       "      <td>1/1/2011</td>\n",
       "      <td>SEX CRIMES</td>\n",
       "      <td>177.0</td>\n",
       "      <td>INSIDE</td>\n",
       "      <td>UNKNOWN</td>\n",
       "      <td>FELONY</td>\n",
       "      <td>BRONX</td>\n",
       "      <td>40.816392</td>\n",
       "      <td>-73.895296</td>\n",
       "      <td>PATROL BORO BRONX</td>\n",
       "    </tr>\n",
       "    <tr>\n",
       "      <th>234370701</th>\n",
       "      <td>1/1/2011</td>\n",
       "      <td>RAPE</td>\n",
       "      <td>157.0</td>\n",
       "      <td>NaN</td>\n",
       "      <td>UNKNOWN</td>\n",
       "      <td>FELONY</td>\n",
       "      <td>QUEENS</td>\n",
       "      <td>40.745253</td>\n",
       "      <td>-73.870063</td>\n",
       "      <td>PATROL BORO QUEENS NORTH</td>\n",
       "    </tr>\n",
       "    <tr>\n",
       "      <th>109241832</th>\n",
       "      <td>1/1/2011</td>\n",
       "      <td>THEFT-FRAUD</td>\n",
       "      <td>739.0</td>\n",
       "      <td>INSIDE</td>\n",
       "      <td>UNKNOWN</td>\n",
       "      <td>FELONY</td>\n",
       "      <td>MANHATTAN</td>\n",
       "      <td>40.802140</td>\n",
       "      <td>-73.939060</td>\n",
       "      <td>PATROL BORO MAN NORTH</td>\n",
       "    </tr>\n",
       "    <tr>\n",
       "      <th>911408185</th>\n",
       "      <td>1/1/2011</td>\n",
       "      <td>SEX CRIMES</td>\n",
       "      <td>177.0</td>\n",
       "      <td>INSIDE</td>\n",
       "      <td>BLACK HISPANIC</td>\n",
       "      <td>FELONY</td>\n",
       "      <td>MANHATTAN</td>\n",
       "      <td>40.736698</td>\n",
       "      <td>-73.983316</td>\n",
       "      <td>PATROL BORO MAN SOUTH</td>\n",
       "    </tr>\n",
       "  </tbody>\n",
       "</table>\n",
       "</div>"
      ],
      "text/plain": [
       "           Date of Complaint Offense Desc.  PD_CD Location of Incident  \\\n",
       "CMPLNT_NUM                                                               \n",
       "519234712           1/1/2011    SEX CRIMES  177.0               INSIDE   \n",
       "527650130           1/1/2011    SEX CRIMES  177.0               INSIDE   \n",
       "234370701           1/1/2011          RAPE  157.0                  NaN   \n",
       "109241832           1/1/2011   THEFT-FRAUD  739.0               INSIDE   \n",
       "911408185           1/1/2011    SEX CRIMES  177.0               INSIDE   \n",
       "\n",
       "              Suspect Race Crime Classification    Borough   Latitude  \\\n",
       "CMPLNT_NUM                                                              \n",
       "519234712   WHITE HISPANIC               FELONY   BROOKLYN  40.648650   \n",
       "527650130          UNKNOWN               FELONY      BRONX  40.816392   \n",
       "234370701          UNKNOWN               FELONY     QUEENS  40.745253   \n",
       "109241832          UNKNOWN               FELONY  MANHATTAN  40.802140   \n",
       "911408185   BLACK HISPANIC               FELONY  MANHATTAN  40.736698   \n",
       "\n",
       "            Longitude            Patrol Borough  \n",
       "CMPLNT_NUM                                       \n",
       "519234712  -73.950336   PATROL BORO BKLYN SOUTH  \n",
       "527650130  -73.895296         PATROL BORO BRONX  \n",
       "234370701  -73.870063  PATROL BORO QUEENS NORTH  \n",
       "109241832  -73.939060     PATROL BORO MAN NORTH  \n",
       "911408185  -73.983316     PATROL BORO MAN SOUTH  "
      ]
     },
     "execution_count": 6,
     "metadata": {},
     "output_type": "execute_result"
    }
   ],
   "source": [
    "crime_df= crime_df[['CMPLNT_FR_DT', 'OFNS_DESC','PD_CD','LOC_OF_OCCUR_DESC','SUSP_RACE', 'LAW_CAT_CD', 'BORO_NM','Latitude','Longitude', 'PATROL_BORO']]\n",
    "\n",
    "df_clean =  crime_df[crime_df['Latitude'].notna() & crime_df['Longitude'].notna() & crime_df['OFNS_DESC'] & crime_df['PD_CD'].notna()]\n",
    "df_clean.isnull().sum()\n",
    "crime_cleaned = df_clean.rename({'CMPLNT_FR_DT':'Date of Complaint',\n",
    "                                'OFNS_DESC': 'Offense Desc.',\n",
    "                                 'LOC_OF_OCCUR_DESC': 'Location of Incident',\n",
    "                                 'PREM_TYP_DESC': 'Premise Type',\n",
    "                                 'SUSP_RACE': 'Suspect Race',\n",
    "                                 'BORO_NM':'Borough',\n",
    "                                'LAW_CAT_CD':'Crime Classification',\n",
    "                                'PATROL_BORO': 'Patrol Borough'}, axis =1)\n",
    "\n",
    "crime_cleaned.head()"
   ]
  },
  {
   "cell_type": "code",
   "execution_count": 7,
   "metadata": {},
   "outputs": [],
   "source": [
    "date = crime_cleaned['Date of Complaint'].str.split(\"/\", n=3, expand = True)\n",
    "\n",
    "crime_cleaned['Day'] = date[1].astype(int)\n",
    "crime_cleaned['Month'] = date[0].astype(int)\n"
   ]
  },
  {
   "cell_type": "code",
   "execution_count": 8,
   "metadata": {},
   "outputs": [],
   "source": [
    "# crime_cleaned['Suspect Race'] = crime_cleaned['Suspect Race'].str.split(\" \").apply(lambda x:x[0])\n",
    "# crime_cleaned.head()"
   ]
  },
  {
   "cell_type": "code",
   "execution_count": 9,
   "metadata": {},
   "outputs": [],
   "source": [
    "# crime_cleaned.drop(['race'], axis =1 )"
   ]
  },
  {
   "cell_type": "code",
   "execution_count": 10,
   "metadata": {},
   "outputs": [
    {
     "data": {
      "text/plain": [
       "Date of Complaint        object\n",
       "Offense Desc.            object\n",
       "PD_CD                   float64\n",
       "Location of Incident     object\n",
       "Suspect Race             object\n",
       "Crime Classification     object\n",
       "Borough                  object\n",
       "Latitude                float64\n",
       "Longitude               float64\n",
       "Patrol Borough           object\n",
       "Day                       int32\n",
       "Month                     int32\n",
       "dtype: object"
      ]
     },
     "execution_count": 10,
     "metadata": {},
     "output_type": "execute_result"
    }
   ],
   "source": [
    "crime_cleaned.dtypes"
   ]
  },
  {
   "cell_type": "code",
   "execution_count": 11,
   "metadata": {},
   "outputs": [
    {
     "data": {
      "text/html": [
       "<div>\n",
       "<style scoped>\n",
       "    .dataframe tbody tr th:only-of-type {\n",
       "        vertical-align: middle;\n",
       "    }\n",
       "\n",
       "    .dataframe tbody tr th {\n",
       "        vertical-align: top;\n",
       "    }\n",
       "\n",
       "    .dataframe thead th {\n",
       "        text-align: right;\n",
       "    }\n",
       "</style>\n",
       "<table border=\"1\" class=\"dataframe\">\n",
       "  <thead>\n",
       "    <tr style=\"text-align: right;\">\n",
       "      <th></th>\n",
       "      <th>Date of Complaint</th>\n",
       "      <th>Offense Desc.</th>\n",
       "      <th>PD_CD</th>\n",
       "      <th>Location of Incident</th>\n",
       "      <th>Suspect Race</th>\n",
       "      <th>Crime Classification</th>\n",
       "      <th>Borough</th>\n",
       "      <th>Latitude</th>\n",
       "      <th>Longitude</th>\n",
       "      <th>Patrol Borough</th>\n",
       "      <th>Day</th>\n",
       "      <th>Month</th>\n",
       "    </tr>\n",
       "    <tr>\n",
       "      <th>CMPLNT_NUM</th>\n",
       "      <th></th>\n",
       "      <th></th>\n",
       "      <th></th>\n",
       "      <th></th>\n",
       "      <th></th>\n",
       "      <th></th>\n",
       "      <th></th>\n",
       "      <th></th>\n",
       "      <th></th>\n",
       "      <th></th>\n",
       "      <th></th>\n",
       "      <th></th>\n",
       "    </tr>\n",
       "  </thead>\n",
       "  <tbody>\n",
       "    <tr>\n",
       "      <th>519234712</th>\n",
       "      <td>1/1/2011</td>\n",
       "      <td>SEX CRIMES</td>\n",
       "      <td>177.0</td>\n",
       "      <td>INSIDE</td>\n",
       "      <td>WHITE HISPANIC</td>\n",
       "      <td>FELONY</td>\n",
       "      <td>BROOKLYN</td>\n",
       "      <td>40.648650</td>\n",
       "      <td>-73.950336</td>\n",
       "      <td>PATROL BORO BKLYN SOUTH</td>\n",
       "      <td>1</td>\n",
       "      <td>Jan</td>\n",
       "    </tr>\n",
       "    <tr>\n",
       "      <th>527650130</th>\n",
       "      <td>1/1/2011</td>\n",
       "      <td>SEX CRIMES</td>\n",
       "      <td>177.0</td>\n",
       "      <td>INSIDE</td>\n",
       "      <td>UNKNOWN</td>\n",
       "      <td>FELONY</td>\n",
       "      <td>BRONX</td>\n",
       "      <td>40.816392</td>\n",
       "      <td>-73.895296</td>\n",
       "      <td>PATROL BORO BRONX</td>\n",
       "      <td>1</td>\n",
       "      <td>Jan</td>\n",
       "    </tr>\n",
       "    <tr>\n",
       "      <th>234370701</th>\n",
       "      <td>1/1/2011</td>\n",
       "      <td>RAPE</td>\n",
       "      <td>157.0</td>\n",
       "      <td>NaN</td>\n",
       "      <td>UNKNOWN</td>\n",
       "      <td>FELONY</td>\n",
       "      <td>QUEENS</td>\n",
       "      <td>40.745253</td>\n",
       "      <td>-73.870063</td>\n",
       "      <td>PATROL BORO QUEENS NORTH</td>\n",
       "      <td>1</td>\n",
       "      <td>Jan</td>\n",
       "    </tr>\n",
       "    <tr>\n",
       "      <th>109241832</th>\n",
       "      <td>1/1/2011</td>\n",
       "      <td>THEFT-FRAUD</td>\n",
       "      <td>739.0</td>\n",
       "      <td>INSIDE</td>\n",
       "      <td>UNKNOWN</td>\n",
       "      <td>FELONY</td>\n",
       "      <td>MANHATTAN</td>\n",
       "      <td>40.802140</td>\n",
       "      <td>-73.939060</td>\n",
       "      <td>PATROL BORO MAN NORTH</td>\n",
       "      <td>1</td>\n",
       "      <td>Jan</td>\n",
       "    </tr>\n",
       "    <tr>\n",
       "      <th>911408185</th>\n",
       "      <td>1/1/2011</td>\n",
       "      <td>SEX CRIMES</td>\n",
       "      <td>177.0</td>\n",
       "      <td>INSIDE</td>\n",
       "      <td>BLACK HISPANIC</td>\n",
       "      <td>FELONY</td>\n",
       "      <td>MANHATTAN</td>\n",
       "      <td>40.736698</td>\n",
       "      <td>-73.983316</td>\n",
       "      <td>PATROL BORO MAN SOUTH</td>\n",
       "      <td>1</td>\n",
       "      <td>Jan</td>\n",
       "    </tr>\n",
       "  </tbody>\n",
       "</table>\n",
       "</div>"
      ],
      "text/plain": [
       "           Date of Complaint Offense Desc.  PD_CD Location of Incident  \\\n",
       "CMPLNT_NUM                                                               \n",
       "519234712           1/1/2011    SEX CRIMES  177.0               INSIDE   \n",
       "527650130           1/1/2011    SEX CRIMES  177.0               INSIDE   \n",
       "234370701           1/1/2011          RAPE  157.0                  NaN   \n",
       "109241832           1/1/2011   THEFT-FRAUD  739.0               INSIDE   \n",
       "911408185           1/1/2011    SEX CRIMES  177.0               INSIDE   \n",
       "\n",
       "              Suspect Race Crime Classification    Borough   Latitude  \\\n",
       "CMPLNT_NUM                                                              \n",
       "519234712   WHITE HISPANIC               FELONY   BROOKLYN  40.648650   \n",
       "527650130          UNKNOWN               FELONY      BRONX  40.816392   \n",
       "234370701          UNKNOWN               FELONY     QUEENS  40.745253   \n",
       "109241832          UNKNOWN               FELONY  MANHATTAN  40.802140   \n",
       "911408185   BLACK HISPANIC               FELONY  MANHATTAN  40.736698   \n",
       "\n",
       "            Longitude            Patrol Borough  Day Month  \n",
       "CMPLNT_NUM                                                  \n",
       "519234712  -73.950336   PATROL BORO BKLYN SOUTH    1   Jan  \n",
       "527650130  -73.895296         PATROL BORO BRONX    1   Jan  \n",
       "234370701  -73.870063  PATROL BORO QUEENS NORTH    1   Jan  \n",
       "109241832  -73.939060     PATROL BORO MAN NORTH    1   Jan  \n",
       "911408185  -73.983316     PATROL BORO MAN SOUTH    1   Jan  "
      ]
     },
     "execution_count": 11,
     "metadata": {},
     "output_type": "execute_result"
    }
   ],
   "source": [
    "\n",
    "months = {1:'Jan', 2:'Feb',3:'Mar',4:'Apr', 5: 'May',6: 'Jun', 7:'Jul', 8: 'Aug',9: 'Sep', 10:'Oct', 11: 'Nov', 12: 'Dec'}\n",
    "crime_cleaned['Month'] = crime_cleaned['Month'].replace(months)\n",
    "\n",
    "crime_cleaned.head()"
   ]
  },
  {
   "cell_type": "code",
   "execution_count": 12,
   "metadata": {},
   "outputs": [
    {
     "data": {
      "text/plain": [
       "(162808, 12)"
      ]
     },
     "execution_count": 12,
     "metadata": {},
     "output_type": "execute_result"
    }
   ],
   "source": [
    "crime_cleaned = crime_cleaned[crime_cleaned['Borough'].notna() & crime_cleaned['Location of Incident'].notna()]\n",
    "\n",
    "crime_cleaned.isnull().sum()\n",
    "crime_cleaned.shape"
   ]
  },
  {
   "cell_type": "markdown",
   "metadata": {},
   "source": [
    "# Data Exploration"
   ]
  },
  {
   "cell_type": "code",
   "execution_count": 13,
   "metadata": {},
   "outputs": [
    {
     "data": {
      "image/png": "[encoded data removed]",
      "text/plain": [
       "<Figure size 720x432 with 1 Axes>"
      ]
     },
     "metadata": {
      "needs_background": "light"
     },
     "output_type": "display_data"
    }
   ],
   "source": [
    "plt.figure(figsize=(10,6))\n",
    "ax = sns.countplot(x = 'Borough', hue  = 'Suspect Race', data=crime_cleaned, palette = 'deep')"
   ]
  },
  {
   "cell_type": "code",
   "execution_count": 14,
   "metadata": {},
   "outputs": [
    {
     "data": {
      "image/png": "[encoded data removed]",
      "text/plain": [
       "<Figure size 720x432 with 1 Axes>"
      ]
     },
     "metadata": {
      "needs_background": "light"
     },
     "output_type": "display_data"
    }
   ],
   "source": [
    "plt.figure(figsize=(10,6))\n",
    "ax = sns.countplot(x = 'Borough', hue  = 'Crime Classification', data=crime_cleaned, palette = 'muted')"
   ]
  },
  {
   "cell_type": "code",
   "execution_count": 15,
   "metadata": {},
   "outputs": [
    {
     "data": {
      "text/plain": [
       "<matplotlib.axes._subplots.AxesSubplot at 0x21d75578710>"
      ]
     },
     "execution_count": 15,
     "metadata": {},
     "output_type": "execute_result"
    },
    {
     "data": {
      "image/png": "[encoded data removed]",
      "text/plain": [
       "<Figure size 576x432 with 1 Axes>"
      ]
     },
     "metadata": {
      "needs_background": "light"
     },
     "output_type": "display_data"
    }
   ],
   "source": [
    "f, ax = plt.subplots(figsize=(8,6))\n",
    "\n",
    "sns.countplot(x = 'Borough', data=crime_cleaned, palette = 'pastel')"
   ]
  },
  {
   "cell_type": "code",
   "execution_count": 16,
   "metadata": {},
   "outputs": [
    {
     "data": {
      "text/plain": [
       "Text(0.5, 1.0, 'Number of Complaints per Month')"
      ]
     },
     "execution_count": 16,
     "metadata": {},
     "output_type": "execute_result"
    },
    {
     "data": {
      "image/png": "[encoded data removed]",
      "text/plain": [
       "<Figure size 720x432 with 1 Axes>"
      ]
     },
     "metadata": {
      "needs_background": "light"
     },
     "output_type": "display_data"
    }
   ],
   "source": [
    "f, ax = plt.subplots(figsize=(10,6))\n",
    "\n",
    "sns.countplot(x='Month', data =crime_cleaned).set_title('Number of Complaints per Month')\n",
    "\n",
    "\n"
   ]
  },
  {
   "cell_type": "code",
   "execution_count": 17,
   "metadata": {},
   "outputs": [],
   "source": [
    "boro = crime_cleaned['PD_CD'].value_counts()\n",
    "\n",
    "\n",
    "boro.columns = ['Borough', 'count']"
   ]
  },
  {
   "cell_type": "code",
   "execution_count": 18,
   "metadata": {},
   "outputs": [
    {
     "data": {
      "text/plain": [
       "Index(['Date of Complaint', 'Offense Desc.', 'PD_CD', 'Location of Incident',\n",
       "       'Suspect Race', 'Crime Classification', 'Borough', 'Latitude',\n",
       "       'Longitude', 'Patrol Borough', 'Day', 'Month'],\n",
       "      dtype='object')"
      ]
     },
     "execution_count": 18,
     "metadata": {},
     "output_type": "execute_result"
    }
   ],
   "source": [
    "crime_cleaned.columns"
   ]
  },
  {
   "cell_type": "code",
   "execution_count": 19,
   "metadata": {},
   "outputs": [],
   "source": [
    "# crime_boro = folium.Map(location=[40.75, -73.98],\n",
    "#                         zoom_start=11,\n",
    "#                         tiles=\"CartoDB dark_matter\")\n",
    "\n",
    "# five_boros = a.loc[:,['Suspect Race','Latitude','Longitude','Patrol Borough']]\n",
    "\n",
    "# for i in range(len(five_boros)):\n",
    "#     lat = five_boros.iloc[i][1]\n",
    "#     long = five_boros.iloc[i][2]\n",
    "#     popup_text = \"\"\"\n",
    "#                 Suspect Race: {}<br>\n",
    "#                 Location Description : {}<br>\"\"\"\n",
    "#     popup_text = popup_text.format(\n",
    "#                                five_boros.iloc[i][0],\n",
    "#                                five_boros.iloc[i][3]\n",
    "#                                )\n",
    "#     folium.CircleMarker(location = [lat, long], popup= popup_text, fill = True).add_to(crime_boro)\n",
    "    \n",
    "# crime_boro.save('race&location.html')"
   ]
  },
  {
   "cell_type": "code",
   "execution_count": 20,
   "metadata": {},
   "outputs": [
    {
     "name": "stdout",
     "output_type": "stream",
     "text": [
      "<class 'folium.features.GeoJson'>\n",
      "<class 'branca.colormap.StepColormap'>\n"
     ]
    }
   ],
   "source": [
    "# San Francisco latitude and longitude values\n",
    "latitude = 40.75\n",
    "longitude = -73.98\n",
    "nyc_geo = 'community_districts.geojson'\n",
    "\n",
    "# Create map\n",
    "nyc_map = folium.Map(\n",
    "       location=[latitude,longitude],\n",
    "       tiles='cartodbpositron',\n",
    "       zoom_start=12)\n",
    "\n",
    "# # Use json file  TEST based on class\n",
    "# nyc_map.choropleth(\n",
    "#        geo_data=nyc_geo,\n",
    "#        data=boro,\n",
    "#        name='choropleth',\n",
    "#        columns=['Borough','Count'],\n",
    "#        key_on='feature.properties.BoroName',\n",
    "#        fill_color='YlOrRd',\n",
    "#        fill_opacity='0.7',\n",
    "#        line_opacity='0.2',\n",
    "#        legend_name='Crime Rate in New York City, by Neighborhood')\n",
    "\n",
    "# folium.LayerControl().add_to(nyc_map)\n",
    "\n",
    "\n",
    "\n",
    "choropleth = folium.Choropleth(geo_data = nyc_geo,  \n",
    "                data = boro,\n",
    "                columns = ['Borough', 'count'],\n",
    "                key_on = \"feature.properties.BoroCD\",\n",
    "                fill_color = 'YlGn', \n",
    "                fill_opacity = 0.7, \n",
    "                line_opacity = 0.2,\n",
    "                legend_name = 'Incidents by Police Department Districts',\n",
    "                show=False,\n",
    "                highlight=True).add_to(nyc_map)\n",
    "\n",
    "print(type(choropleth.geojson))\n",
    "print(type(choropleth.color_scale))\n",
    "\n",
    "folium.LayerControl(collapsed=False).add_to(nyc_map)\n",
    "\n",
    "# Display Region Label\n",
    "choropleth.geojson.add_child(\n",
    "    folium.features.GeoJsonTooltip(['BoroCD'], labels=False)\n",
    ")\n",
    "\n",
    "# display the map\n",
    "nyc_map.save('map.html')"
   ]
  },
  {
   "cell_type": "code",
   "execution_count": 21,
   "metadata": {},
   "outputs": [],
   "source": [
    "positions = []\n",
    "\n",
    "positions = list(zip(crime_cleaned['Latitude'], crime_cleaned['Longitude']))\n",
    "tiles = 'OpenStreetMap'\n",
    "\n",
    "base_map = folium.Map(location=[40.75,-73.98], zoom_start=10, tiles = tiles)\n",
    "\n",
    "pos_sample = sample(positions, 53000)\n",
    "HeatMap(pos_sample, radius =8).add_to(base_map)\n",
    "\n",
    "\n",
    "colormap = cm.LinearColormap(colors=['lightblue','green', 'yellow', 'red'])\n",
    "colormap.caption = 'Number of Crime Incidents'\n",
    "colormap.add_to(base_map)\n",
    "\n",
    "base_map.save('crime_heatmap.html')"
   ]
  }
 ],
 "metadata": {
  "kernelspec": {
   "display_name": "Python 3",
   "language": "python",
   "name": "python3"
  },
  "language_info": {
   "codemirror_mode": {
    "name": "ipython",
    "version": 3
   },
   "file_extension": ".py",
   "mimetype": "text/x-python",
   "name": "python",
   "nbconvert_exporter": "python",
   "pygments_lexer": "ipython3",
   "version": "3.7.3"
  }
 },
 "nbformat": 4,
 "nbformat_minor": 2
}
