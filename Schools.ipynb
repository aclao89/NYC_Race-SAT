{
 "cells": [
  {
   "cell_type": "markdown",
   "metadata": {},
   "source": [
    "# Academic success in high schools: What factors influence differences in SAT performance across New York City?"
   ]
  },
  {
   "cell_type": "markdown",
   "metadata": {},
   "source": [
    "## Abstract "
   ]
  },
  {
   "cell_type": "markdown",
   "metadata": {},
   "source": [
    "The SAT is a standardized test widely used for college admissions in the United States. The goal of this project was to identify any unintended patterns that would put certain groups at an disadvantage. This is an important step in making the US education system more equal for all. According the US Department of Education website, the challenge of ensuring educational equity is formidable. \n",
    "\n",
    "In hopes to be more informed on this matter, I would like to know:\n",
    "\n",
    "1. What factors influence differences in SAT scores and opportunities to attend certain colleges/universities? \n",
    "2. Factoring in housing prices, where can one get the best high school education in New York City?\n",
    "3. Using crime and US Household median income data to back up the safety scores "
   ]
  },
  {
   "cell_type": "markdown",
   "metadata": {},
   "source": [
    "## Methods"
   ]
  },
  {
   "cell_type": "markdown",
   "metadata": {},
   "source": [
    "This analysis used descriptive statistics and data vizualizations to explore the following datasets on New York City high schools.\n",
    "\n",
    "1. Sat scores for all NYC high schools in 2011-2012\n",
    "2. School attendance information \n",
    "3. Class size \n",
    "4. Advanced Placement (AP) test results - only select schools offered AP curriculum  \n",
    "5. Demographic information \n",
    "6. Graduation outcome \n",
    "7. NYC Housing Data \n",
    "8. NYC Crime Data \n",
    "\n",
    "\n",
    "The extract, transform, and load (ETL) portion was done as part of dataquests instructions and methodology. \n",
    "\n"
   ]
  },
  {
   "cell_type": "markdown",
   "metadata": {},
   "source": [
    "# ETL"
   ]
  },
  {
   "cell_type": "code",
   "execution_count": 1,
   "metadata": {},
   "outputs": [
    {
     "data": {
      "text/html": [
       "        <script type=\"text/javascript\">\n",
       "        window.PlotlyConfig = {MathJaxConfig: 'local'};\n",
       "        if (window.MathJax) {MathJax.Hub.Config({SVG: {font: \"STIX-Web\"}});}\n",
       "        if (typeof require !== 'undefined') {\n",
       "        require.undef(\"plotly\");\n",
       "        requirejs.config({\n",
       "            paths: {\n",
       "                'plotly': ['https://cdn.plot.ly/plotly-latest.min']\n",
       "            }\n",
       "        });\n",
       "        require(['plotly'], function(Plotly) {\n",
       "            window._Plotly = Plotly;\n",
       "        });\n",
       "        }\n",
       "        </script>\n",
       "        "
      ]
     },
     "metadata": {},
     "output_type": "display_data"
    },
    {
     "data": {
      "text/html": [
       "        <script type=\"text/javascript\">\n",
       "        window.PlotlyConfig = {MathJaxConfig: 'local'};\n",
       "        if (window.MathJax) {MathJax.Hub.Config({SVG: {font: \"STIX-Web\"}});}\n",
       "        if (typeof require !== 'undefined') {\n",
       "        require.undef(\"plotly\");\n",
       "        requirejs.config({\n",
       "            paths: {\n",
       "                'plotly': ['https://cdn.plot.ly/plotly-latest.min']\n",
       "            }\n",
       "        });\n",
       "        require(['plotly'], function(Plotly) {\n",
       "            window._Plotly = Plotly;\n",
       "        });\n",
       "        }\n",
       "        </script>\n",
       "        "
      ]
     },
     "metadata": {},
     "output_type": "display_data"
    }
   ],
   "source": [
    "#Libraries used for analysis and visualizations \n",
    "\n",
    "import pandas as pd\n",
    "import numpy as np\n",
    "import re\n",
    "import matplotlib.pyplot as plt\n",
    "%matplotlib inline \n",
    "import seaborn as sns \n",
    "import folium\n",
    "import branca.colormap as cm\n",
    "import cufflinks as cf  # interactive plotting made easy (pandas style)\n",
    "\n",
    "# Using plotly + cufflinks in offline mode\n",
    "from plotly.offline import iplot, init_notebook_mode\n",
    "cf.go_offline(connected=True)\n",
    "init_notebook_mode(connected=True)\n",
    "\n",
    "\n",
    "data_files = [\n",
    "    \"ap_2010.csv\",\n",
    "    \"class_size.csv\",\n",
    "    \"demographics.csv\",\n",
    "    \"graduation.csv\",\n",
    "    \"hs_directory.csv\",\n",
    "    \"sat_results.csv\"\n",
    "]\n",
    "\n",
    "data = {}\n",
    "\n",
    "for f in data_files:\n",
    "    d = pd.read_csv(\"schools/{0}\".format(f))\n",
    "    data[f.replace(\".csv\", \"\")] = d"
   ]
  },
  {
   "cell_type": "markdown",
   "metadata": {},
   "source": [
    "# Read in the surveys"
   ]
  },
  {
   "cell_type": "code",
   "execution_count": 2,
   "metadata": {},
   "outputs": [
    {
     "name": "stderr",
     "output_type": "stream",
     "text": [
      "C:\\Users\\alao8\\Anaconda3\\lib\\site-packages\\ipykernel_launcher.py:3: FutureWarning:\n",
      "\n",
      "Sorting because non-concatenation axis is not aligned. A future version\n",
      "of pandas will change to not sort by default.\n",
      "\n",
      "To accept the future behavior, pass 'sort=False'.\n",
      "\n",
      "To retain the current behavior and silence the warning, pass 'sort=True'.\n",
      "\n",
      "\n"
     ]
    }
   ],
   "source": [
    "all_survey = pd.read_csv(\"schools/survey_all.txt\", delimiter=\"\\t\", encoding='windows-1252')\n",
    "d75_survey = pd.read_csv(\"schools/survey_d75.txt\", delimiter=\"\\t\", encoding='windows-1252')\n",
    "survey = pd.concat([all_survey, d75_survey], axis=0)\n",
    "\n",
    "survey[\"DBN\"] = survey[\"dbn\"]\n",
    "\n",
    "survey_fields = [\n",
    "    \"DBN\", \n",
    "    \"rr_s\", \n",
    "    \"rr_t\", \n",
    "    \"rr_p\", \n",
    "    \"N_s\", \n",
    "    \"N_t\", \n",
    "    \"N_p\", \n",
    "    \"saf_p_11\", \n",
    "    \"com_p_11\", \n",
    "    \"eng_p_11\", \n",
    "    \"aca_p_11\", \n",
    "    \"saf_t_11\", \n",
    "    \"com_t_11\", \n",
    "    \"eng_t_11\", \n",
    "    \"aca_t_11\", \n",
    "    \"saf_s_11\", \n",
    "    \"com_s_11\", \n",
    "    \"eng_s_11\", \n",
    "    \"aca_s_11\", \n",
    "    \"saf_tot_11\", \n",
    "    \"com_tot_11\", \n",
    "    \"eng_tot_11\", \n",
    "    \"aca_tot_11\",\n",
    "]\n",
    "survey = survey.loc[:,survey_fields]\n",
    "data[\"survey\"] = survey"
   ]
  },
  {
   "cell_type": "markdown",
   "metadata": {},
   "source": [
    "# Add DBN columns"
   ]
  },
  {
   "cell_type": "code",
   "execution_count": 3,
   "metadata": {},
   "outputs": [],
   "source": [
    "# add DBN columns as unique identifier in datasets where they are not yet present\n",
    "\n",
    "data[\"hs_directory\"][\"DBN\"] = data[\"hs_directory\"][\"dbn\"]\n",
    "\n",
    "def pad_csd(num):\n",
    "    string_representation = str(num)\n",
    "    if len(string_representation) > 1:\n",
    "        return string_representation\n",
    "    else:\n",
    "        return \"0\" + string_representation\n",
    "    \n",
    "data[\"class_size\"][\"padded_csd\"] = data[\"class_size\"][\"CSD\"].apply(pad_csd)\n",
    "data[\"class_size\"][\"DBN\"] = data[\"class_size\"][\"padded_csd\"] + data[\"class_size\"][\"SCHOOL CODE\"]"
   ]
  },
  {
   "cell_type": "markdown",
   "metadata": {},
   "source": [
    "# Convert columns to numeric"
   ]
  },
  {
   "cell_type": "code",
   "execution_count": 4,
   "metadata": {},
   "outputs": [],
   "source": [
    "# summing SAT-score\n",
    "cols = ['SAT Math Avg. Score', 'SAT Critical Reading Avg. Score', 'SAT Writing Avg. Score']\n",
    "for c in cols:\n",
    "    data[\"sat_results\"][c] = pd.to_numeric(data[\"sat_results\"][c], errors=\"coerce\")\n",
    "\n",
    "data['sat_results']['sat_score'] = data['sat_results'][cols[0]] + data['sat_results'][cols[1]] + data['sat_results'][cols[2]]\n",
    "\n",
    "\n",
    "\n",
    "\n",
    "def find_lat(loc):\n",
    "    coords = re.findall(\"\\(.+, .+\\)\", loc)\n",
    "    lat = coords[0].split(\",\")[0].replace(\"(\", \"\")\n",
    "    return lat\n",
    "\n",
    "def find_lon(loc):\n",
    "    coords = re.findall(\"\\(.+, .+\\)\", loc)\n",
    "    lon = coords[0].split(\",\")[1].replace(\")\", \"\").strip()\n",
    "    return lon\n",
    "\n",
    "data[\"hs_directory\"][\"lat\"] = data[\"hs_directory\"][\"Location 1\"].apply(find_lat)\n",
    "data[\"hs_directory\"][\"lon\"] = data[\"hs_directory\"][\"Location 1\"].apply(find_lon)\n",
    "\n",
    "data[\"hs_directory\"][\"lat\"] = pd.to_numeric(data[\"hs_directory\"][\"lat\"], errors=\"coerce\")\n",
    "data[\"hs_directory\"][\"lon\"] = pd.to_numeric(data[\"hs_directory\"][\"lon\"], errors=\"coerce\")"
   ]
  },
  {
   "cell_type": "markdown",
   "metadata": {},
   "source": [
    "# Condense datasets"
   ]
  },
  {
   "cell_type": "code",
   "execution_count": 5,
   "metadata": {},
   "outputs": [],
   "source": [
    "# selecting the classes relevant for SAT-analysis (high school, general education)\n",
    "class_size = data[\"class_size\"]\n",
    "class_size = class_size[class_size[\"GRADE \"] == \"09-12\"]\n",
    "class_size = class_size[class_size[\"PROGRAM TYPE\"] == \"GEN ED\"]\n",
    "\n",
    "class_size = class_size.groupby(\"DBN\").agg(np.mean)\n",
    "class_size.reset_index(inplace=True)\n",
    "data[\"class_size\"] = class_size\n",
    "\n",
    "# select most recent data available in \"demographics\" and \"graduation\" dataset\n",
    "data[\"demographics\"] = data[\"demographics\"][data[\"demographics\"][\"schoolyear\"] == 20112012]\n",
    "data[\"graduation\"] = data[\"graduation\"][data[\"graduation\"][\"Cohort\"] == \"2006\"]\n",
    "data[\"graduation\"] = data[\"graduation\"][data[\"graduation\"][\"Demographic\"] == \"Total Cohort\"]"
   ]
  },
  {
   "cell_type": "markdown",
   "metadata": {},
   "source": [
    "# Convert AP scores to numeric"
   ]
  },
  {
   "cell_type": "code",
   "execution_count": 6,
   "metadata": {},
   "outputs": [],
   "source": [
    "cols = ['AP Test Takers ', 'Total Exams Taken', 'Number of Exams with scores 3 4 or 5']\n",
    "\n",
    "for col in cols:\n",
    "    data[\"ap_2010\"][col] = pd.to_numeric(data[\"ap_2010\"][col], errors=\"coerce\")"
   ]
  },
  {
   "cell_type": "markdown",
   "metadata": {},
   "source": [
    "# Combine the datasets"
   ]
  },
  {
   "cell_type": "code",
   "execution_count": 7,
   "metadata": {},
   "outputs": [],
   "source": [
    "combined = data[\"sat_results\"]\n",
    "# left joins for somewhat sparse datasets, because we do not want to lose any SAT-info\n",
    "combined = combined.merge(data[\"ap_2010\"], on=\"DBN\", how=\"left\")\n",
    "combined = combined.merge(data[\"graduation\"], on=\"DBN\", how=\"left\")\n",
    "\n",
    "# inner joins for other dataset that potentially contain very relevant explanatory features.\n",
    "to_merge = [\"class_size\", \"demographics\", \"survey\", \"hs_directory\"]\n",
    "for m in to_merge:\n",
    "    combined = combined.merge(data[m], on=\"DBN\", how=\"inner\")\n",
    "    \n",
    "#missing values for numeric columns filled with mean, non-numerics with zeros \n",
    "combined = combined.fillna(combined.mean())\n",
    "combined = combined.fillna(0)"
   ]
  },
  {
   "cell_type": "markdown",
   "metadata": {},
   "source": [
    "# Add a school district column for mapping"
   ]
  },
  {
   "cell_type": "code",
   "execution_count": 8,
   "metadata": {},
   "outputs": [],
   "source": [
    "# Add a school district column for later analysis\n",
    "def get_first_two_chars(dbn):\n",
    "    return dbn[0:2]\n",
    "\n",
    "combined[\"school_dist\"] = combined[\"DBN\"].apply(get_first_two_chars)"
   ]
  },
  {
   "cell_type": "markdown",
   "metadata": {},
   "source": [
    "# Find correlations"
   ]
  },
  {
   "cell_type": "code",
   "execution_count": 9,
   "metadata": {},
   "outputs": [
    {
     "name": "stdout",
     "output_type": "stream",
     "text": [
      "SAT Critical Reading Avg. Score         0.986820\n",
      "SAT Math Avg. Score                     0.972643\n",
      "SAT Writing Avg. Score                  0.987771\n",
      "sat_score                               1.000000\n",
      "AP Test Takers                          0.523140\n",
      "Total Exams Taken                       0.514333\n",
      "Number of Exams with scores 3 4 or 5    0.463245\n",
      "Total Cohort                            0.325144\n",
      "CSD                                     0.042948\n",
      "NUMBER OF STUDENTS / SEATS FILLED       0.394626\n",
      "NUMBER OF SECTIONS                      0.362673\n",
      "AVERAGE CLASS SIZE                      0.381014\n",
      "SIZE OF SMALLEST CLASS                  0.249949\n",
      "SIZE OF LARGEST CLASS                   0.314434\n",
      "SCHOOLWIDE PUPIL-TEACHER RATIO               NaN\n",
      "schoolyear                                   NaN\n",
      "fl_percent                                   NaN\n",
      "frl_percent                            -0.722225\n",
      "total_enrollment                        0.367857\n",
      "ell_num                                -0.153778\n",
      "ell_percent                            -0.398750\n",
      "sped_num                                0.034933\n",
      "sped_percent                           -0.448170\n",
      "asian_num                               0.475445\n",
      "asian_per                               0.570730\n",
      "black_num                               0.027979\n",
      "black_per                              -0.284139\n",
      "hispanic_num                            0.025744\n",
      "hispanic_per                           -0.396985\n",
      "white_num                               0.449559\n",
      "                                          ...   \n",
      "rr_p                                    0.047925\n",
      "N_s                                     0.423463\n",
      "N_t                                     0.291463\n",
      "N_p                                     0.421530\n",
      "saf_p_11                                0.122913\n",
      "com_p_11                               -0.115073\n",
      "eng_p_11                                0.020254\n",
      "aca_p_11                                0.035155\n",
      "saf_t_11                                0.313810\n",
      "com_t_11                                0.082419\n",
      "eng_t_11                                0.036906\n",
      "aca_t_11                                0.132348\n",
      "saf_s_11                                0.337639\n",
      "com_s_11                                0.187370\n",
      "eng_s_11                                0.213822\n",
      "aca_s_11                                0.339435\n",
      "saf_tot_11                              0.318753\n",
      "com_tot_11                              0.077310\n",
      "eng_tot_11                              0.100102\n",
      "aca_tot_11                              0.190966\n",
      "grade_span_max                               NaN\n",
      "expgrade_span_max                            NaN\n",
      "zip                                    -0.063977\n",
      "total_students                          0.407827\n",
      "number_programs                         0.117012\n",
      "priority08                                   NaN\n",
      "priority09                                   NaN\n",
      "priority10                                   NaN\n",
      "lat                                    -0.121029\n",
      "lon                                    -0.132222\n",
      "Name: sat_score, Length: 67, dtype: float64\n"
     ]
    }
   ],
   "source": [
    "correlations = combined.corr()\n",
    "correlations = correlations[\"sat_score\"]\n",
    "print(correlations)"
   ]
  },
  {
   "cell_type": "markdown",
   "metadata": {},
   "source": [
    "# Plotting survey correlations"
   ]
  },
  {
   "cell_type": "code",
   "execution_count": 10,
   "metadata": {},
   "outputs": [],
   "source": [
    "# Remove DBN since it's a unique identifier, not a useful numerical value for correlation.\n",
    "survey_fields.remove(\"DBN\")"
   ]
  },
  {
   "cell_type": "markdown",
   "metadata": {},
   "source": [
    "# Correlation between School Safety Score and Sat Scores"
   ]
  },
  {
   "cell_type": "code",
   "execution_count": 11,
   "metadata": {},
   "outputs": [
    {
     "data": {
      "image/png": "[encoded data removed]",
      "text/plain": [
       "<Figure size 432x288 with 1 Axes>"
      ]
     },
     "metadata": {
      "needs_background": "light"
     },
     "output_type": "display_data"
    }
   ],
   "source": [
    "%matplotlib inline\n",
    "ax = combined.plot.scatter(x = 'saf_s_11', y = 'sat_score',s=50, zorder =2, title= 'Correlation of Student Safety and Respect Score and SAT scores')\n",
    "ax.spines['right'].set_visible(False)\n",
    "ax.spines['top'].set_visible(False)"
   ]
  },
  {
   "cell_type": "markdown",
   "metadata": {},
   "source": [
    "There appears to be a correlation between SAT scores and safety, although it isn't that strong. It looks like there are a few schools with extremely high SAT scores and high safety scores. There are a few schools with low safety scores and low SAT scores. No school with a safety score lower than 6.5 has an average SAT score higher than 1500 or so. Unsafe environments could negatively influence good SAT performance."
   ]
  },
  {
   "cell_type": "code",
   "execution_count": 12,
   "metadata": {},
   "outputs": [
    {
     "data": {
      "text/html": [
       "<div style=\"width:100%;\"><div style=\"position:relative;width:100%;height:0;padding-bottom:60%;\"><iframe src=\"data:text/html;charset=utf-8;base64,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\" style=\"position:absolute;width:100%;height:100%;left:0;top:0;border:none !important;\" allowfullscreen webkitallowfullscreen mozallowfullscreen></iframe></div></div>"
      ],
      "text/plain": [
       "<folium.folium.Map at 0x26fc906add8>"
      ]
     },
     "execution_count": 12,
     "metadata": {},
     "output_type": "execute_result"
    }
   ],
   "source": [
    "by_district = combined.groupby(\"school_dist\").mean().reset_index()\n",
    "\n",
    "\n",
    "#Set up base map \n",
    "nyc_school_map = folium.Map(location=[40.693943, -73.985880],\n",
    "                           zoom_start = 10,\n",
    "                           tiles= 'openstreetmap')\n",
    "map_title = \"Safety and Respect Score and Average SAT Scores by NYC School Districts\"\n",
    "title_html = '''\n",
    "            <h3 align=\"center\" style=\"font-size:20px\"><b>{}</b></h3>\n",
    "            '''.format(map_title)\n",
    "\n",
    "nyc_school_map.get_root().html.add_child(folium.Element(title_html))\n",
    "\n",
    "#column names to be used \n",
    "size_param = 'sat_score'\n",
    "color_param = 'saf_s_11'\n",
    "\n",
    "start_val = by_district[color_param].min()\n",
    "end_val = by_district[color_param].max()\n",
    "start_color = \"#de2d26\"\n",
    "end_color = \"#31a354\" \n",
    "\n",
    "color_map = cm.LinearColormap(colors=[start_color,\n",
    "                                     end_color],\n",
    "                             vmin=start_val,\n",
    "                             vmax=end_val\n",
    "                            )\n",
    "color_map.caption = \"Safety and Respect Score, students response\"\n",
    "\n",
    "for index, row in by_district.iterrows():\n",
    "    folium.Circle(location=[row[\"lat\"],row[\"lon\"]],\n",
    "                  color=color_map(row[color_param]),\n",
    "                  fill_color=color_map(row[color_param]),\n",
    "                  fill_opacity=0.75,\n",
    "                  radius=row[size_param],\n",
    "                  weight=2,\n",
    "                  tooltip=\"District \"+row[\"school_dist\"]+\n",
    "                      \" <br> Avg. Safety / Respect Score, students response (color): {:.1f}\".format(row[color_param])+\n",
    "                      \" <br> Avg. SAT Scores (size): {:.0f}\".format(row[size_param])\n",
    "                 ).add_to(nyc_school_map)\n",
    "\n",
    "nyc_school_map.add_child(color_map)\n",
    "nyc_school_map"
   ]
  },
  {
   "cell_type": "markdown",
   "metadata": {},
   "source": [
    "Looks like part of Bronx and Upper Brooklyn report low Safety/Response, student responses. As seen in the scatterplot, there is correlation between good SAT scores and high Safety/Response, student responses. "
   ]
  },
  {
   "cell_type": "markdown",
   "metadata": {},
   "source": [
    "# Correlation between survey responses and SAT scores"
   ]
  },
  {
   "cell_type": "code",
   "execution_count": 13,
   "metadata": {},
   "outputs": [
    {
     "data": {
      "image/png": "[encoded data removed]",
      "text/plain": [
       "<Figure size 720x576 with 1 Axes>"
      ]
     },
     "metadata": {
      "needs_background": "light"
     },
     "output_type": "display_data"
    }
   ],
   "source": [
    "#correlation of SAT scores \n",
    "correlations = combined.corr()['sat_score']\n",
    "\n",
    "#create a bar chart \n",
    "\n",
    "ax = correlations[survey_fields].sort_values().plot(kind= 'bar', figsize = (10,8), title = 'Correlation between surveys and SAT scores')\n",
    "ax.spines['right'].set_visible(False)\n",
    "ax.spines['top'].set_visible(False)\n",
    "\n",
    "#create a horizontal line to readability purposes \n",
    "ax.axhline(y=0.0, color='red', linestyle='-', linewidth=1)\n",
    "\n",
    "#values on each bar \n",
    "\n",
    "for i in ax.patches:\n",
    "    ax.annotate(str(round(i.get_height(),2)),\n",
    "               (i.get_x()+0.1, max(i.get_height(),0)+ 0.025), rotation=90)"
   ]
  },
  {
   "cell_type": "markdown",
   "metadata": {},
   "source": [
    "Safety and Respect (saf_s_11 ~0.34) and student academic expectations (aca_s_11 ~0.34) have a moderate correlation with good SAT scores. It's also important to note the teachers' safety and respect score (saf_t_11 ~ 0.29) is relevant with good SAT scores. Overall, it makes sense when students and teachers feel safe and have trusting relationships, they can focus on providing a positive environment to achieve better academic results."
   ]
  },
  {
   "cell_type": "markdown",
   "metadata": {},
   "source": [
    "# Racial Differences in SAT Scores: Blacks and Hispanics are at high disadvantage. "
   ]
  },
  {
   "cell_type": "code",
   "execution_count": 14,
   "metadata": {
    "scrolled": true
   },
   "outputs": [
    {
     "data": {
      "image/png": "[encoded data removed]",
      "text/plain": [
       "<Figure size 576x432 with 1 Axes>"
      ]
     },
     "metadata": {
      "needs_background": "light"
     },
     "output_type": "display_data"
    }
   ],
   "source": [
    "race_fields= ['white_per', 'asian_per', 'black_per', 'hispanic_per']\n",
    "\n",
    "ax = combined.corr()['sat_score'][race_fields].plot(kind= 'bar', figsize=(8,6), title='Correlation of Race and SAT scores')\n",
    "ax.spines['top'].set_visible(False)\n",
    "ax.spines['right'].set_visible(False)\n",
    "\n",
    "#create a horizontal line to readability purposes \n",
    "ax.axhline(y=0.0, color='red', linestyle='-', linewidth=1)\n",
    "\n",
    "#values on each bar \n",
    "\n",
    "for i in ax.patches:\n",
    "    ax.annotate(str(round(i.get_height(),2)),\n",
    "               (i.get_x()+0.23, max(i.get_height(),0)+ 0.05), rotation=90)"
   ]
  },
  {
   "cell_type": "markdown",
   "metadata": {},
   "source": [
    "White and Asian students have a significant positive correlations with SAT scores, whereas  Black and Hispanic students have negative correlations with Hispanics being at a slightly higher disadvantage. This trends in the NYC dataset are in agreement with the achievement gaps among groups of students in the same time period (2011).  https://nces.ed.gov/nationsreportcard/studies/gaps/ "
   ]
  },
  {
   "cell_type": "code",
   "execution_count": 15,
   "metadata": {
    "scrolled": true
   },
   "outputs": [
    {
     "data": {
      "application/vnd.plotly.v1+json": {
       "config": {
        "linkText": "Export to plot.ly",
        "plotlyServerURL": "https://plot.ly",
        "showLink": true
       },
       "data": [
        {
         "marker": {
          "color": "rgba(255, 153, 51, 1.0)",
          "line": {
           "width": 1.3
          },
          "opacity": 0.8,
          "size": 12,
          "symbol": "circle"
         },
         "mode": "markers",
         "name": "Manhattan",
         "text": [
          "HENRY STREET SCHOOL FOR INTERNATIONAL STUDIES",
          "UNIVERSITY NEIGHBORHOOD HIGH SCHOOL",
          "EAST SIDE COMMUNITY SCHOOL",
          "MARTA VALLE HIGH SCHOOL",
          "NEW EXPLORATIONS INTO SCIENCE, TECHNOLOGY AND MATH HIGH SCHOOL",
          "BARD HIGH SCHOOL EARLY COLLEGE",
          "47 THE AMERICAN SIGN LANGUAGE AND ENGLISH SECONDARY SCHOOL",
          "FOOD AND FINANCE HIGH SCHOOL",
          "ESSEX STREET ACADEMY",
          "HIGH SCHOOL OF HOSPITALITY MANAGEMENT",
          "PACE HIGH SCHOOL",
          "URBAN ASSEMBLY SCHOOL OF DESIGN AND CONSTRUCTION, THE",
          "FACING HISTORY SCHOOL, THE",
          "URBAN ASSEMBLY ACADEMY OF GOVERNMENT AND LAW, THE",
          "LOWER MANHATTAN ARTS ACADEMY",
          "URBAN ASSEMBLY SCHOOL OF BUSINESS FOR YOUNG WOMEN, THE",
          "GRAMERCY ARTS HIGH SCHOOL",
          "NYC ISCHOOL",
          "MANHATTAN BUSINESS ACADEMY",
          "BUSINESS OF SPORTS SCHOOL",
          "THE HIGH SCHOOL FOR LANGUAGE AND DIPLOMACY",
          "HIGH SCHOOL FOR ENVIRONMENTAL STUDIES",
          "PROFESSIONAL PERFORMING ARTS HIGH SCHOOL",
          "BARUCH COLLEGE CAMPUS HIGH SCHOOL",
          "N.Y.C. LAB SCHOOL FOR COLLABORATIVE STUDIES",
          "N.Y.C. MUSEUM SCHOOL",
          "ELEANOR ROOSEVELT HIGH SCHOOL",
          "MILLENNIUM HIGH SCHOOL",
          "LANDMARK HIGH SCHOOL",
          "HIGH SCHOOL FOR HEALTH PROFESSIONS AND HUMAN SERVICES",
          "LEADERSHIP AND PUBLIC SERVICE HIGH SCHOOL",
          "MANHATTAN ACADEMY FOR ARTS & LANGUAGE",
          "HUDSON HIGH SCHOOL OF LEARNING TECHNOLOGIES",
          "INTERNATIONAL HIGH SCHOOL AT UNION SQUARE",
          "MANHATTAN VILLAGE ACADEMY",
          "VANGUARD HIGH SCHOOL",
          "MANHATTAN INTERNATIONAL HIGH SCHOOL",
          "STUYVESANT HIGH SCHOOL",
          "HIGH SCHOOL OF ECONOMICS AND FINANCE",
          "UNITY CENTER FOR URBAN TECHNOLOGIES",
          "TALENT UNLIMITED HIGH SCHOOL",
          "MURRY BERGTRAUM HIGH SCHOOL FOR BUSINESS CAREERS",
          "JACQUELINE KENNEDY ONASSIS HIGH SCHOOL",
          "REPERTORY COMPANY HIGH SCHOOL FOR THEATRE ARTS",
          "MANHATTAN BRIDGES HIGH SCHOOL",
          "NEW DESIGN HIGH SCHOOL",
          "HIGH SCHOOL FOR DUAL LANGUAGE AND ASIAN STUDIES",
          "THE URBAN ASSEMBLY NEW YORK HARBOR SCHOOL",
          "RICHARD R. GREEN HIGH SCHOOL OF TEACHING",
          "THE HIGH SCHOOL OF FASHION INDUSTRIES",
          "HUMANITIES PREPARATORY ACADEMY",
          "CHELSEA CAREER AND TECHNICAL EDUCATION HIGH SCHOOL",
          "ART AND DESIGN HIGH SCHOOL",
          "LIFE SCIENCES SECONDARY SCHOOL",
          "HIGH SCHOOL FOR ARTS, IMAGINATION AND INQUIRY",
          "URBAN ASSEMBLY SCHOOL FOR MEDIA STUDIES, THE",
          "THE URBAN ASSEMBLY SCHOOL FOR GREEN CAREERS",
          "THE GLOBAL LEARNING COLLABORATIVE",
          "WADLEIGH SECONDARY SCHOOL FOR THE PERFORMING & VISUAL ARTS",
          "FRANK MCCOURT HIGH SCHOOL",
          "BEACON HIGH SCHOOL",
          "FIORELLO H. LAGUARDIA HIGH SCHOOL OF MUSIC & ART AND PERFORMING ARTS",
          "HIGH SCHOOL FOR LAW, ADVOCACY AND COMMUNITY JUSTICE",
          "HIGH SCHOOL OF ARTS AND TECHNOLOGY",
          "MANHATTAN / HUNTER SCIENCE HIGH SCHOOL",
          "FREDERICK DOUGLASS ACADEMY II SECONDARY SCHOOL",
          "COALITION SCHOOL FOR SOCIAL CHANGE",
          "MANHATTAN CENTER FOR SCIENCE AND MATHEMATICS",
          "PARK EAST HIGH SCHOOL",
          "CENTRAL PARK EAST HIGH SCHOOL",
          "YOUNG WOMEN'S LEADERSHIP SCHOOL",
          "YOUNG WOMEN'S LEADERSHIP SCHOOL",
          "HERITAGE SCHOOL, THE",
          "MOTT HALL HIGH SCHOOL",
          "COLUMBIA SECONDARY SCHOOL FOR MATH, SCIENCE, AND ENGINEERING",
          "ACADEMY FOR SOCIAL ACTION: A COLLEGE BOARD SCHOOL",
          "URBAN ASSEMBLY SCHOOL FOR THE PERFORMING ARTS",
          "FREDERICK DOUGLASS ACADEMY",
          "THURGOOD MARSHALL ACADEMY FOR LEARNING AND SOCIAL CHANGE",
          "HIGH SCHOOL FOR MATHEMATICS, SCIENCE AND ENGINEERING AT CITY COLLEGE",
          "CITY COLLEGE ACADEMY OF THE ARTS",
          "COMMUNITY HEALTH ACADEMY OF THE HEIGHTS",
          "WASHINGTON HEIGHTS EXPEDITIONARY LEARNING SCHOOL",
          "HIGH SCHOOL FOR EXCELLENCE AND INNOVATION",
          "HIGH SCHOOL FOR INTERNATIONAL BUSINESS AND FINANCE",
          "HIGH SCHOOL FOR MEDIA AND COMMUNICATIONS",
          "HIGH SCHOOL FOR LAW AND PUBLIC SERVICE",
          "HIGH SCHOOL FOR HEALTH CAREERS AND SCIENCES",
          "A. PHILIP RANDOLPH CAMPUS HIGH SCHOOL",
          "GREGORIO LUPERON HIGH SCHOOL FOR SCIENCE AND MATHEMATICS"
         ],
         "textfont": {
          "color": "#4D5663"
         },
         "type": "scatter",
         "x": [
          53.8,
          45.9,
          55.4,
          56.9,
          14.2,
          18.2,
          59.2,
          47.6,
          60.6,
          66.1,
          42,
          59.2,
          73.2,
          50.6,
          55.7,
          48.4,
          45.1,
          43,
          58.7,
          57.2,
          32.8,
          57.2,
          23.7,
          14.6,
          14,
          39.9,
          11.6,
          21.7,
          74.8,
          49.7,
          54.2,
          84.6,
          62.4,
          43.2,
          71.8,
          59,
          36.9,
          2.4,
          43.5,
          55.3,
          39.3,
          46.6,
          69.9,
          42.4,
          99.8,
          62.2,
          4,
          49.3,
          59.3,
          52.3,
          57.8,
          60.5,
          51,
          64.3,
          58.9,
          56,
          76,
          62.6,
          38.8,
          37,
          22.8,
          16.6,
          48.1,
          57.2,
          41.5,
          18.9,
          58.7,
          57.4,
          59.6,
          64.5,
          60.1,
          60.1,
          69.4,
          63.8,
          48.5,
          38.1,
          38.2,
          22.8,
          20.9,
          21.2,
          92,
          93.8,
          96.7,
          72.5,
          91.4,
          87.1,
          84.4,
          83.8,
          62.3,
          99.8
         ],
         "y": [
          1122,
          1172,
          1149,
          1207,
          1621,
          1856,
          1182,
          1194,
          1156,
          1111,
          1293,
          1269,
          1051,
          1148,
          1200,
          1127,
          1176,
          1435,
          1223.4388059701494,
          1223.4388059701494,
          1223.4388059701494,
          1419,
          1522,
          1577,
          1677,
          1419,
          1758,
          1614,
          1170,
          1306,
          1233,
          1223.4388059701494,
          1223.4388059701494,
          1223.4388059701494,
          1372,
          1199,
          1227,
          2096,
          1374,
          1070,
          1416,
          1240,
          1239,
          1253,
          1058,
          1168,
          1424,
          1212,
          1195,
          1257,
          1255,
          1207,
          1315,
          1236,
          1132,
          1144,
          1223.4388059701494,
          1223.4388059701494,
          1109,
          1223.4388059701494,
          1744,
          1707,
          1196,
          1277,
          1446,
          1096,
          1084,
          1430,
          1128,
          1221,
          1326,
          1326,
          1054,
          1210,
          1223.4388059701494,
          1062,
          1077,
          1374,
          1202,
          1847,
          1270,
          1105,
          1174,
          1223.4388059701494,
          1127,
          1098,
          1102,
          1224,
          1309,
          1014
         ]
        },
        {
         "marker": {
          "color": "rgba(55, 128, 191, 1.0)",
          "line": {
           "width": 1.3
          },
          "opacity": 0.8,
          "size": 12,
          "symbol": "circle"
         },
         "mode": "markers",
         "name": "Bronx",
         "text": [
          "SOUTH BRONX PREPARATORY: A COLLEGE BOARD SCHOOL",
          "INTERNATIONAL COMMUNITY HIGH SCHOOL",
          "COMMUNITY SCHOOL FOR SOCIAL JUSTICE",
          "MOTT HAVEN VILLAGE PREPARATORY HIGH SCHOOL",
          "UNIVERSITY HEIGHTS SECONDARY SCHOOL",
          "HOSTOSsLINCOLN ACADEMY OF SCIENCE",
          "FOREIGN LANGUAGE ACADEMY OF GLOBAL STUDIES",
          "BRONX LEADERSHIP ACADEMY II HIGH SCHOOL",
          "NEW EXPLORERS HIGH SCHOOL",
          "URBAN ASSEMBLY SCHOOL FOR CAREERS IN SPORTS",
          "BRONX ACADEMY OF LETTERS",
          "ALFRED E. SMITH CAREER AND TECHNICAL EDUCATION HIGH SCHOOL",
          "HEALTH OPPORTUNITIES HIGH SCHOOL",
          "BRONX STUDIO SCHOOL FOR WRITERS AND ARTISTS",
          "WOMEN'S ACADEMY OF EXCELLENCE",
          "RENAISSANCE HIGH SCHOOL FOR MUSICAL THEATER & TECHNOLOGY",
          "PABLO NERUDA ACADEMY FOR ARCHITECTURE AND WORLD STUDIES",
          "MILLENNIUM ART ACADEMY",
          "HOLCOMBE L. RUCKER SCHOOL OF COMMUNITY RESEARCH",
          "ANTONIA PANTOJA PREPARATORY ACADEMY, A COLLEGE BOARD SCHOOL",
          "HERBERT H. LEHMAN HIGH SCHOOL",
          "BRONX BRIDGES HIGH SCHOOL",
          "FELISA RINCON DE GAUTIER INSTITUTE FOR LAW AND PUBLIC POLICY, THE",
          "BANANA KELLY HIGH SCHOOL",
          "BRONX EXPEDITIONARY LEARNING HIGH SCHOOL",
          "EAGLE ACADEMY FOR YOUNG MEN",
          "URBAN ASSEMBLY SCHOOL FOR APPLIED MATH AND SCIENCE, THE",
          "EXIMIUS COLLEGE PREPARATORY ACADEMY: A COLLEGE BOARD SCHOOL",
          "MOTT HALL BRONX HIGH SCHOOL",
          "BRONX CENTER FOR SCIENCE AND MATHEMATICS",
          "VALIDUS PREPARATORY ACADEMY: AN EXPEDITIONARY LEARNING SCHOOL",
          "LEADERSHIP INSTITUTE",
          "MORRIS ACADEMY FOR COLLABORATIVE STUDIES",
          "BRONX EARLY COLLEGE ACADEMY FOR TEACHING & LEARNING",
          "DREAMYARD PREPARATORY SCHOOL",
          "ACADEMY FOR LANGUAGE AND TECHNOLOGY",
          "BRONX INTERNATIONAL HIGH SCHOOL",
          "SCHOOL FOR EXCELLENCE",
          "BRONX HIGH SCHOOL OF BUSINESS",
          "BRONX HIGH SCHOOL FOR MEDICAL SCIENCE",
          "BRONX SCHOOL FOR LAW, GOVERNMENT AND JUSTICE",
          "FREDERICK DOUGLASS ACADEMY III SECONDARY SCHOOL",
          "BRONX LEADERSHIP ACADEMY HIGH SCHOOL",
          "HIGH SCHOOL FOR VIOLIN AND DANCE",
          "RIVERDALE / KINGSBRIDGE ACADEMY (MIDDLE SCHOOL / HIGH SCHOOL 141)",
          "BRONX ENGINEERING AND TECHNOLOGY ACADEMY",
          "THEATRE ARTS PRODUCTION COMPANY SCHOOL",
          "THE MARIE CURIE SCHOOL FOR MEDICINE, NURSING, AND HEALTH PROFESSIONS",
          "WEST BRONX ACADEMY FOR THE FUTURE",
          "KINGSBRIDGE INTERNATIONAL HIGH SCHOOL",
          "BRONX SCHOOL OF LAW AND FINANCE",
          "INTERNATIONAL SCHOOL FOR LIBERAL ARTS",
          "INsTECH ACADEMY (M.S. / HIGH SCHOOL 368)",
          "KNOWLEDGE AND POWER PREPARATORY ACADEMY INTERNATIONAL HIGH SCHOOL (KAPPA)",
          "HIGH SCHOOL FOR TEACHING AND THE PROFESSIONS",
          "BELMONT PREPARATORY HIGH SCHOOL",
          "FORDHAM HIGH SCHOOL FOR THE ARTS",
          "FORDHAM LEADERSHIP ACADEMY FOR BUSINESS AND TECHNOLOGY",
          "BRONX HIGH SCHOOL FOR LAW AND COMMUNITY SERVICE",
          "DEWITT CLINTON HIGH SCHOOL",
          "CELIA CRUZ BRONX HIGH SCHOOL OF MUSIC, THE",
          "BRONX HIGH SCHOOL OF SCIENCE",
          "MARBLE HILL HIGH SCHOOL FOR INTERNATIONAL STUDIES",
          "BRONX THEATRE HIGH SCHOOL",
          "DISCOVERY HIGH SCHOOL",
          "HIGH SCHOOL OF AMERICAN STUDIES AT LEHMAN COLLEGE",
          "BRONX HEALTH SCIENCES HIGH SCHOOL",
          "BRONX HIGH SCHOOL FOR WRITING AND COMMUNICATION ARTS",
          "BRONX LAB SCHOOL",
          "ACADEMY FOR SCHOLARSHIP AND ENTREPRENEURSHIP: A COLLEGE BOARD SCHOOL",
          "HIGH SCHOOL OF COMPUTERS AND TECHNOLOGY",
          "COLLEGIATE INSTITUTE FOR MATH AND SCIENCE",
          "BRONX ACADEMY OF HEALTH CAREERS",
          "ASTOR COLLEGIATE ACADEMY",
          "BRONX HIGH SCHOOL FOR THE VISUAL ARTS",
          "HARRY S TRUMAN HIGH SCHOOL",
          "NEW WORLD HIGH SCHOOL",
          "THE BRONXWOOD PREPARATORY ACADEMY",
          "PELHAM PREPARATORY ACADEMY",
          "HIGH SCHOOL FOR CONTEMPORARY ARTS",
          "BRONX AEROSPACE HIGH SCHOOL",
          "METROPOLITAN HIGH SCHOOL, THE",
          "EXPLORATIONS ACADEMY",
          "BRONX LATIN",
          "EAST BRONX ACADEMY FOR THE FUTURE",
          "PEACE AND DIVERSITY ACADEMY",
          "PAN AMERICAN INTERNATIONAL HIGH SCHOOL AT MONROE",
          "THE CINEMA SCHOOL",
          "BRONX CAREER AND COLLEGE PREPARATORY HIGH SCHOOL",
          "HIGH SCHOOL OF WORLD CULTURES",
          "FANNIE LOU HAMER FREEDOM HIGH SCHOOL",
          "WINGS ACADEMY",
          "MONROE ACADEMY FOR VISUAL ARTS & DESIGN"
         ],
         "textfont": {
          "color": "#4D5663"
         },
         "type": "scatter",
         "x": [
          68.8,
          71.8,
          65.5,
          76,
          78.1,
          72.7,
          68.8,
          56,
          68.1,
          70.4,
          64.3,
          61.5,
          56.9,
          74.8,
          46.4,
          63.8,
          69.9,
          64.3,
          56.8,
          66,
          60.6,
          83.2,
          76,
          65.4,
          69.3,
          33.8,
          63.4,
          58.1,
          73.7,
          68.7,
          63.8,
          63.5,
          73.1,
          64.5,
          69.9,
          99.4,
          72.2,
          64.5,
          59.9,
          57.8,
          66.2,
          41.4,
          57,
          62.5,
          53,
          64.2,
          69.7,
          57.4,
          69.5,
          84.7,
          65.2,
          99.8,
          81.9,
          59.9,
          70.4,
          65.6,
          61.5,
          67.8,
          64.6,
          59.6,
          69.5,
          7.2,
          57.9,
          69,
          75.6,
          18,
          36.3,
          47.6,
          57.3,
          32,
          59.5,
          46.8,
          41.2,
          46,
          62.3,
          43.8,
          70.4,
          37.3,
          49.7,
          59.9,
          72.6,
          72.9,
          65.5,
          73.2,
          68.3,
          53.7,
          99.8,
          65,
          59.8,
          84.6,
          68.8,
          42.2,
          77.5
         ],
         "y": [
          1090,
          945,
          1077,
          1097,
          1201,
          1257,
          1186,
          1103,
          1084,
          1181,
          1201,
          1158,
          1095,
          1223.4388059701494,
          1171,
          1158,
          1038,
          1164,
          1084,
          1223.4388059701494,
          1241,
          1223.4388059701494,
          1099,
          1131,
          1049,
          1134,
          1290,
          1169,
          1092,
          1396,
          1075,
          1081,
          1148,
          1223.4388059701494,
          1138,
          951,
          965,
          1074,
          1083,
          1221,
          1224,
          1121,
          1166,
          1039,
          1333,
          1150,
          1190,
          1157,
          1158,
          962,
          1182,
          934,
          1181,
          1180,
          1106,
          1222,
          1077,
          1119,
          1082,
          1255,
          1270,
          1969,
          1263,
          1064,
          1115,
          1920,
          1133,
          1147,
          1135,
          1141,
          1111,
          1348,
          1135,
          1169,
          1268,
          1151,
          1048,
          1112,
          1288,
          1126,
          1163,
          1055,
          1122,
          1251,
          1102,
          1155,
          970,
          1223.4388059701494,
          1223.4388059701494,
          939,
          1029,
          1114,
          1038
         ]
        },
        {
         "marker": {
          "color": "rgba(50, 171, 96, 1.0)",
          "line": {
           "width": 1.3
          },
          "opacity": 0.8,
          "size": 12,
          "symbol": "circle"
         },
         "mode": "markers",
         "name": "Brooklyn",
         "text": [
          "DR. SUSAN S. MCKINNEY SECONDARY SCHOOL OF THE ARTS",
          "URBAN ASSEMBLY HIGH SCHOOL OF MUSIC AND ART",
          "BROOKLYN COMMUNITY HIGH SCHOOL OF COMMUNICATION, ARTS AND MEDIA",
          "SCIENCE SKILLS CENTER HIGH SCHOOL FOR SCIENCE, TECHNOLOGY AND THE CREATIVE ARTS",
          "BROOKLYN TECHNICAL HIGH SCHOOL",
          "BROOKLYN INTERNATIONAL HIGH SCHOOL",
          "THE URBAN ASSEMBLY SCHOOL FOR LAW AND JUSTICE",
          "ACORN COMMUNITY HIGH SCHOOL",
          "URBAN ASSEMBLY INSTITUTE OF MATH AND SCIENCE FOR YOUNG WOMEN",
          "BEDFORD ACADEMY HIGH SCHOOL",
          "GEORGE WESTINGHOUSE CAREER AND TECHNICAL EDUCATION HIGH SCHOOL",
          "BENJAMIN BANNEKER ACADEMY",
          "CITY POLYTECHNIC HIGH SCHOOL OF ENGINEERING, ARCHITECTURE, AND TECHNOLOGY",
          "JUAN MOREL CAMPOS SECONDARY SCHOOL",
          "FOUNDATIONS ACADEMY",
          "BROOKLYN LATIN SCHOOL, THE",
          "GREEN SCHOOL: AN ACADEMY FOR ENVIRONMENTAL CAREERS",
          "PROGRESS HIGH SCHOOL FOR PROFESSIONAL CAREERS",
          "SCHOOL FOR LEGAL STUDIES",
          "THE HIGH SCHOOL FOR ENTERPRISE, BUSINESS AND TECHNOLOGY",
          "BROOKLYN PREPARATORY HIGH SCHOOL",
          "WILLIAMSBURG HIGH SCHOOL FOR ARCHITECTURE AND DESIGN",
          "WILLIAMSBURG PREPARATORY SCHOOL",
          "LYONS COMMUNITY SCHOOL",
          "AUTOMOTIVE HIGH SCHOOL",
          "FRANCES PERKINS ACADEMY",
          "EL PUENTE ACADEMY FOR PEACE AND JUSTICE",
          "BROOKLYN SCHOOL FOR GLOBAL STUDIES",
          "BROOKLYN SECONDARY SCHOOL FOR COLLABORATIVE STUDIES",
          "SECONDARY SCHOOL FOR LAW",
          "SECONDARY SCHOOL FOR JOURNALISM",
          "PARK SLOPE COLLEGIATE",
          "SCHOOL FOR INTERNATIONAL STUDIES",
          "COBBLE HILL SCHOOL OF AMERICAN STUDIES",
          "BROOKLYN HIGH SCHOOL OF THE ARTS",
          "SUNSET PARK HIGH SCHOOL",
          "FREDERICK DOUGLASS ACADEMY IV SECONDARY SCHOOL",
          "BOYS AND GIRLS HIGH SCHOOL",
          "BROOKLYN HIGH SCHOOL FOR LAW AND TECHNOLOGY",
          "THE BROOKLYN ACADEMY OF GLOBAL FINANCE",
          "ACADEMY FOR COLLEGE PREPARATION AND CAREER EXPLORATION: A COLLEGE BOARD SCHOOL",
          "ACADEMY OF HOSPITALITY AND TOURISM",
          "INTERNATIONAL HIGH SCHOOL AT PROSPECT HEIGHTS",
          "THE HIGH SCHOOL FOR GLOBAL CITIZENSHIP",
          "SCHOOL FOR HUMAN RIGHTS, THE",
          "SCHOOL FOR DEMOCRACY AND LEADERSHIP",
          "HIGH SCHOOL FOR YOUTH AND COMMUNITY DEVELOPMENT AT ERASMUS",
          "HIGH SCHOOL FOR SERVICE & LEARNING AT ERASMUS",
          "SCIENCE, TECHNOLOGY AND RESEARCH EARLY COLLEGE HIGH SCHOOL AT ERASMUS",
          "HIGH SCHOOL FOR PUBLIC SERVICE: HEROES OF TOMORROW",
          "BROOKLYN ACADEMY OF SCIENCE AND THE ENVIRONMENT",
          "BROOKLYN SCHOOL FOR MUSIC & THEATRE",
          "MEDGAR EVERS COLLEGE PREPARATORY SCHOOL",
          "CLARA BARTON HIGH SCHOOL",
          "IT TAKES A VILLAGE ACADEMY",
          "BROOKLYN GENERATION SCHOOL",
          "BROOKLYN THEATRE ARTS HIGH SCHOOL",
          "KURT HAHN EXPEDITIONARY LEARNING SCHOOL",
          "VICTORY COLLEGIATE HIGH SCHOOL",
          "ARTS & MEDIA PREPARATORY ACADEMY",
          "HIGH SCHOOL FOR INNOVATION IN ADVERTISING AND MEDIA",
          "CULTURAL ACADEMY FOR THE ARTS AND SCIENCES",
          "HIGH SCHOOL FOR MEDICAL PROFESSIONS",
          "ACADEMY FOR CONSERVATION AND THE ENVIRONMENT",
          "URBAN ACTION ACADEMY",
          "EAST NEW YORK FAMILY ACADEMY",
          "FDNY HIGH SCHOOL FOR FIRE AND LIFE SAFETY",
          "HIGH SCHOOL FOR CIVIL RIGHTS",
          "PERFORMING ARTS AND TECHNOLOGY HIGH SCHOOL",
          "WORLD ACADEMY FOR TOTAL COMMUNITY HEALTH HIGH SCHOOL",
          "MULTICULTURAL HIGH SCHOOL",
          "TRANSIT TECH CAREER AND TECHNICAL EDUCATION HIGH SCHOOL",
          "ACADEMY OF INNOVATIVE TECHNOLOGY",
          "BROOKLYN LAB SCHOOL",
          "CYPRESS HILLS COLLEGIATE PREPARATORY SCHOOL",
          "W. H. MAXWELL CAREER AND TECHNICAL EDUCATION HIGH SCHOOL",
          "THE SCHOOL FOR CLASSICS: AN ACADEMY OF THINKERS, WRITERS AND PERFORMERS",
          "NEW UTRECHT HIGH SCHOOL",
          "HIGH SCHOOL OF TELECOMMUNICATION ARTS AND TECHNOLOGY",
          "FORT HAMILTON HIGH SCHOOL",
          "FRANKLIN DELANO ROOSEVELT HIGH SCHOOL",
          "THE URBAN ASSEMBLY SCHOOL FOR CRIMINAL JUSTICE",
          "INTERNATIONAL HIGH SCHOOL AT LAFAYETTE",
          "RACHEL CARSON HIGH SCHOOL FOR COASTAL STUDIES",
          "HIGH SCHOOL OF SPORTS MANAGEMENT",
          "ABRAHAM LINCOLN HIGH SCHOOL",
          "KINGSBOROUGH EARLY COLLEGE SCHOOL",
          "EDWARD R. MURROW HIGH SCHOOL",
          "JOHN DEWEY HIGH SCHOOL",
          "LIFE ACADEMY HIGH SCHOOL FOR FILM AND MUSIC",
          "EXPEDITIONARY LEARNING SCHOOL FOR COMMUNITY LEADERS",
          "WILLIAM E. GRADY CAREER AND TECHNICAL EDUCATION HIGH SCHOOL",
          "BROOKLYN STUDIO SECONDARY SCHOOL",
          "MIDWOOD HIGH SCHOOL",
          "JAMES MADISON HIGH SCHOOL",
          "LEON M. GOLDSTEIN HIGH SCHOOL FOR THE SCIENCES",
          "BROOKLYN COLLEGE ACADEMY",
          "BROOKLYN COLLEGIATE: A COLLEGE BOARD SCHOOL",
          "FREDERICK DOUGLASS ACADEMY VII HIGH SCHOOL",
          "TEACHERS PREPARATORY HIGH SCHOOL",
          "ACADEMY FOR ENVIRONMENTAL LEADERSHIP",
          "EBC HIGH SCHOOL FOR PUBLIC SERVICE–BUSHWICK",
          "BUSHWICK SCHOOL FOR SOCIAL JUSTICE",
          "ACADEMY OF URBAN PLANNING",
          "ALL CITY LEADERSHIP SECONDARY SCHOOL",
          "BUSHWICK LEADERS HIGH SCHOOL FOR ACADEMIC EXCELLENCE"
         ],
         "textfont": {
          "color": "#4D5663"
         },
         "type": "scatter",
         "x": [
          24.6,
          22.7,
          17.1,
          12.2,
          7.9,
          28.6,
          17.1,
          12.2,
          11.7,
          7.1,
          15.3,
          8.8,
          26.3,
          80.6,
          29.8,
          17.9,
          46.9,
          65.4,
          39.3,
          55.4,
          37.7,
          57.2,
          61.5,
          54.6,
          30.2,
          31.2,
          87.6,
          39,
          48.1,
          29.6,
          43.2,
          51.8,
          38.9,
          21,
          19,
          80.8,
          14.1,
          7.8,
          24.9,
          20.8,
          6.7,
          12.9,
          27.9,
          7.3,
          8.3,
          8.4,
          9.1,
          9,
          9.4,
          12.2,
          14.2,
          15.3,
          2.8,
          5.8,
          4.5,
          8.5,
          12.8,
          8.8,
          5.8,
          9.6,
          10.6,
          11.4,
          12.4,
          12,
          10.5,
          30.3,
          23.4,
          22.2,
          17.4,
          14.2,
          99.8,
          23.2,
          50.2,
          65,
          73.2,
          25.4,
          34.7,
          28,
          54.1,
          30.2,
          27.3,
          21.9,
          21,
          25.8,
          23,
          20.1,
          22.7,
          17.6,
          19.1,
          29.9,
          41.2,
          14,
          23.1,
          11.7,
          14.5,
          10.8,
          12.4,
          8.3,
          10.4,
          13.1,
          77.1,
          88.1,
          68.7,
          70.4,
          79.5,
          77.3
         ],
         "y": [
          1074,
          1080,
          1114,
          1211,
          1833,
          981,
          1206,
          1116,
          1223.4388059701494,
          1312,
          1189,
          1391,
          1353,
          1085,
          1223.4388059701494,
          1740,
          1189,
          1114,
          1204,
          1215,
          1090,
          1112,
          1187,
          1103,
          1093,
          1122,
          1035,
          1111,
          1179,
          1203,
          1169,
          1175,
          1212,
          1185,
          1258,
          1223.4388059701494,
          1068,
          1097,
          1092,
          1223.4388059701494,
          1139,
          1045,
          913,
          1176,
          1088,
          1153,
          1027,
          1105,
          1360,
          1273,
          1143,
          1151,
          1436,
          1251,
          963,
          1145,
          1118,
          1092,
          1143,
          1080,
          1183,
          1169,
          1159,
          1111,
          1135,
          1242,
          1023,
          1054,
          1149,
          1106,
          887,
          1193,
          1096,
          1108,
          1129,
          1102,
          1157,
          1272,
          1323,
          1306,
          1244,
          1223.4388059701494,
          1026,
          1237,
          1164,
          1226,
          1223.4388059701494,
          1431,
          1262,
          1124,
          1079,
          1184,
          1313,
          1473,
          1350,
          1627,
          1352,
          1185,
          1091,
          1196,
          1098,
          1154,
          1035,
          1060,
          1315,
          1055
         ]
        },
        {
         "marker": {
          "color": "rgba(128, 0, 128, 1.0)",
          "line": {
           "width": 1.3
          },
          "opacity": 0.8,
          "size": 12,
          "symbol": "circle"
         },
         "mode": "markers",
         "name": "Queens",
         "text": [
          "ACADEMY OF FINANCE AND ENTERPRISE",
          "HIGH SCHOOL OF APPLIED COMMUNICATION",
          "CIVIC LEADERSHIP ACADEMY",
          "PAN AMERICAN INTERNATIONAL HIGH SCHOOL",
          "BARD HIGH SCHOOL EARLY COLLEGE II",
          "NEWTOWN HIGH SCHOOL",
          "GROVER CLEVELAND HIGH SCHOOL",
          "MIDDLE COLLEGE HIGH SCHOOL AT LAGUARDIA COMMUNITY COLLEGE",
          "INTERNATIONAL HIGH SCHOOL AT LAGUARDIA COMMUNITY COLLEGE",
          "HIGH SCHOOL FOR ARTS AND BUSINESS",
          "ROBERT F. WAGNER, JR. SECONDARY SCHOOL FOR ARTS AND TECHNOLOGY",
          "QUEENS VOCATIONAL AND TECHNICAL HIGH SCHOOL",
          "AVIATION CAREER & TECHNICAL EDUCATION HIGH SCHOOL",
          "QUEENS SCHOOL OF INQUIRY, THE",
          "FLUSHING INTERNATIONAL HIGH SCHOOL",
          "EASTsWEST SCHOOL OF INTERNATIONAL STUDIES",
          "WORLD JOURNALISM PREPARATORY: A COLLEGE BOARD SCHOOL",
          "JOHN BOWNE HIGH SCHOOL",
          "FLUSHING HIGH SCHOOL",
          "TOWNSEND HARRIS HIGH SCHOOL",
          "ROBERT F. KENNEDY COMMUNITY HIGH SCHOOL",
          "BENJAMIN N. CARDOZO HIGH SCHOOL",
          "FRANCIS LEWIS HIGH SCHOOL",
          "MARTIN VAN BUREN HIGH SCHOOL",
          "BAYSIDE HIGH SCHOOL",
          "QUEENS HIGH SCHOOL OF TEACHING, LIBERAL ARTS AND THE SCIENCES",
          "FREDERICK DOUGLASS ACADEMY VI HIGH SCHOOL",
          "CHANNEL VIEW SCHOOL FOR RESEARCH",
          "QUEENS HIGH SCHOOL FOR INFORMATION, RESEARCH, AND TECHNOLOGY",
          "ROBERT H. GODDARD HIGH SCHOOL OF COMMUNICATION ARTS AND TECHNOLOGY",
          "ACADEMY OF MEDICAL TECHNOLOGY: A COLLEGE BOARD SCHOOL",
          "SCHOLARS' ACADEMY",
          "AUGUST MARTIN HIGH SCHOOL",
          "RICHMOND HILL HIGH SCHOOL",
          "JOHN ADAMS HIGH SCHOOL",
          "HIGH SCHOOL FOR CONSTRUCTION TRADES, ENGINEERING AND ARCHITECTURE",
          "YORK EARLY COLLEGE ACADEMY",
          "QUEENS COLLEGIATE: A COLLEGE BOARD SCHOOL",
          "HILLSIDE ARTS & LETTERS ACADEMY",
          "FOREST HILLS HIGH SCHOOL",
          "HILLCREST HIGH SCHOOL",
          "THOMAS A. EDISON CAREER AND TECHNICAL EDUCATION HIGH SCHOOL",
          "QUEENS GATEWAY TO HEALTH SCIENCES SECONDARY SCHOOL",
          "QUEENS METROPOLITAN HIGH SCHOOL",
          "QUEENS HIGH SCHOOL FOR THE SCIENCES AT YORK COLLEGE",
          "HIGH SCHOOL FOR LAW ENFORCEMENT AND PUBLIC SAFETY",
          "YOUNG WOMEN'S LEADERSHIP SCHOOL, QUEENS",
          "QUEENS PREPARATORY ACADEMY",
          "PATHWAYS COLLEGE PREPARATORY SCHOOL: A COLLEGE BOARD SCHOOL",
          "EXCELSIOR PREPARATORY HIGH SCHOOL",
          "GEORGE WASHINGTON CARVER HIGH SCHOOL FOR THE SCIENCES",
          "PREPARATORY ACADEMY FOR WRITERS: A COLLEGE BOARD SCHOOL",
          "CAMBRIA HEIGHTS ACADEMY",
          "MATHEMATICS, SCIENCE RESEARCH AND TECHNOLOGY MAGNET HIGH SCHOOL",
          "HUMANITIES & ARTS MAGNET HIGH SCHOOL",
          "YOUNG WOMEN'S LEADERSHIP SCHOOL, ASTORIA",
          "ACADEMY FOR CAREERS IN TELEVISION AND FILM",
          "WILLIAM CULLEN BRYANT HIGH SCHOOL",
          "LONG ISLAND CITY HIGH SCHOOL",
          "FRANK SINATRA SCHOOL OF THE ARTS HIGH SCHOOL",
          "INFORMATION TECHNOLOGY HIGH SCHOOL",
          "NEWCOMERS HIGH SCHOOL",
          "ACADEMY OF AMERICAN STUDIES",
          "BACCALAUREATE SCHOOL FOR GLOBAL EDUCATION"
         ],
         "textfont": {
          "color": "#4D5663"
         },
         "type": "scatter",
         "x": [
          56.4,
          57.2,
          79.3,
          100,
          21.2,
          60.3,
          63.5,
          71.4,
          44,
          79.2,
          62.4,
          74.2,
          55.3,
          24.2,
          32.7,
          17.9,
          20.3,
          40.7,
          49.8,
          12.9,
          35.4,
          18.6,
          24.1,
          15.1,
          22.3,
          16.8,
          27,
          27.5,
          30,
          42.6,
          34.2,
          15.9,
          11.5,
          46.4,
          37.1,
          41.6,
          10.2,
          18.5,
          21,
          30.2,
          22.8,
          21.1,
          15.7,
          38.6,
          7.9,
          15.1,
          18.4,
          8.2,
          2.9,
          9.7,
          14.1,
          10.4,
          7.5,
          11.9,
          8.5,
          40.4,
          53.5,
          48.8,
          62.7,
          27.2,
          56.6,
          43.5,
          34.7,
          24.3
         ],
         "y": [
          1280,
          1219,
          1240,
          951,
          1663,
          1203,
          1211,
          1177,
          1064,
          1174,
          1330,
          1270,
          1364,
          1396,
          1049,
          1271,
          1441,
          1243,
          1216,
          1910,
          1330,
          1514,
          1474,
          1172,
          1449,
          1279,
          1145,
          1252,
          1156,
          1265,
          1094,
          1532,
          1108,
          1154,
          1192,
          1345,
          1223.4388059701494,
          1265,
          1223.4388059701494,
          1407,
          1194,
          1372,
          1538,
          1223.4388059701494,
          1868,
          1196,
          1316,
          1099,
          1173,
          1202,
          1287,
          1100,
          1223.4388059701494,
          1220,
          1151,
          1223.4388059701494,
          1255,
          1275,
          1218,
          1494,
          1239,
          1127,
          1470,
          1636
         ]
        },
        {
         "marker": {
          "color": "rgba(219, 64, 82, 1.0)",
          "line": {
           "width": 1.3
          },
          "opacity": 0.8,
          "size": 12,
          "symbol": "circle"
         },
         "mode": "markers",
         "name": "Staten Island",
         "text": [
          "CSI HIGH SCHOOL FOR INTERNATIONAL STUDIES",
          "GAYNOR MCCOWN EXPEDITIONARY LEARNING SCHOOL",
          "THE MICHAEL J. PETRIDES SCHOOL",
          "NEW DORP HIGH SCHOOL",
          "PORT RICHMOND HIGH SCHOOL",
          "CURTIS HIGH SCHOOL",
          "TOTTENVILLE HIGH SCHOOL",
          "SUSAN E. WAGNER HIGH SCHOOL",
          "RALPH R. MCKEE CAREER AND TECHNICAL EDUCATION HIGH SCHOOL",
          "STATEN ISLAND TECHNICAL HIGH SCHOOL"
         ],
         "textfont": {
          "color": "#4D5663"
         },
         "type": "scatter",
         "x": [
          17.9,
          17.6,
          16.9,
          27.3,
          37.6,
          31.9,
          9.9,
          24.1,
          33.2,
          5.3
         ],
         "y": [
          1353,
          1195,
          1426,
          1277,
          1279,
          1301,
          1418,
          1388,
          1235,
          1953
         ]
        }
       ],
       "layout": {
        "legend": {
         "bgcolor": "#F5F6F9",
         "font": {
          "color": "#4D5663"
         }
        },
        "paper_bgcolor": "#F5F6F9",
        "plot_bgcolor": "#F5F6F9",
        "shapes": [
         {
          "line": {
           "color": "#000000",
           "dash": "dash",
           "width": 1
          },
          "type": "line",
          "x0": 0,
          "x1": 1,
          "xref": "paper",
          "y0": 1223.438805970149,
          "y1": 1223.438805970149,
          "yref": "y"
         },
         {
          "line": {
           "color": "#000000",
           "dash": "dash",
           "width": 1
          },
          "type": "line",
          "x0": 44.06831955922865,
          "x1": 44.06831955922865,
          "xref": "x",
          "y0": 0,
          "y1": 1,
          "yref": "paper"
         }
        ],
        "title": "Hispanic students vs. SAT score by school <br> Dashed lines: Averages of each parameter",
        "titlefont": {
         "color": "#4D5663"
        },
        "xaxis": {
         "gridcolor": "#E1E5ED",
         "showgrid": true,
         "tickfont": {
          "color": "#4D5663"
         },
         "title": "Share hispanics, %",
         "titlefont": {
          "color": "#4D5663"
         },
         "zerolinecolor": "#E1E5ED"
        },
        "yaxis": {
         "gridcolor": "#E1E5ED",
         "showgrid": true,
         "tickfont": {
          "color": "#4D5663"
         },
         "title": "Avg. SAT score",
         "titlefont": {
          "color": "#4D5663"
         },
         "zerolinecolor": "#E1E5ED"
        }
       }
      },
      "text/html": [
       "<div>\n",
       "        \n",
       "        \n",
       "            <div id=\"28cd95a1-f760-476a-8c54-1d2fa61607cb\" class=\"plotly-graph-div\" style=\"height:525px; width:100%;\"></div>\n",
       "            <script type=\"text/javascript\">\n",
       "                require([\"plotly\"], function(Plotly) {\n",
       "                    window.PLOTLYENV=window.PLOTLYENV || {};\n",
       "                    window.PLOTLYENV.BASE_URL='https://plot.ly';\n",
       "                    \n",
       "                if (document.getElementById(\"28cd95a1-f760-476a-8c54-1d2fa61607cb\")) {\n",
       "                    Plotly.newPlot(\n",
       "                        '28cd95a1-f760-476a-8c54-1d2fa61607cb',\n",
       "                        [{\"marker\": {\"color\": \"rgba(255, 153, 51, 1.0)\", \"line\": {\"width\": 1.3}, \"opacity\": 0.8, \"size\": 12, \"symbol\": \"circle\"}, \"mode\": \"markers\", \"name\": \"Manhattan\", \"text\": [\"HENRY STREET SCHOOL FOR INTERNATIONAL STUDIES\", \"UNIVERSITY NEIGHBORHOOD HIGH SCHOOL\", \"EAST SIDE COMMUNITY SCHOOL\", \"MARTA VALLE HIGH SCHOOL\", \"NEW EXPLORATIONS INTO SCIENCE, TECHNOLOGY AND MATH HIGH SCHOOL\", \"BARD HIGH SCHOOL EARLY COLLEGE\", \"47 THE AMERICAN SIGN LANGUAGE AND ENGLISH SECONDARY SCHOOL\", \"FOOD AND FINANCE HIGH SCHOOL\", \"ESSEX STREET ACADEMY\", \"HIGH SCHOOL OF HOSPITALITY MANAGEMENT\", \"PACE HIGH SCHOOL\", \"URBAN ASSEMBLY SCHOOL OF DESIGN AND CONSTRUCTION, THE\", \"FACING HISTORY SCHOOL, THE\", \"URBAN ASSEMBLY ACADEMY OF GOVERNMENT AND LAW, THE\", \"LOWER MANHATTAN ARTS ACADEMY\", \"URBAN ASSEMBLY SCHOOL OF BUSINESS FOR YOUNG WOMEN, THE\", \"GRAMERCY ARTS HIGH SCHOOL\", \"NYC ISCHOOL\", \"MANHATTAN BUSINESS ACADEMY\", \"BUSINESS OF SPORTS SCHOOL\", \"THE HIGH SCHOOL FOR LANGUAGE AND DIPLOMACY\", \"HIGH SCHOOL FOR ENVIRONMENTAL STUDIES\", \"PROFESSIONAL PERFORMING ARTS HIGH SCHOOL\", \"BARUCH COLLEGE CAMPUS HIGH SCHOOL\", \"N.Y.C. LAB SCHOOL FOR COLLABORATIVE STUDIES\", \"N.Y.C. MUSEUM SCHOOL\", \"ELEANOR ROOSEVELT HIGH SCHOOL\", \"MILLENNIUM HIGH SCHOOL\", \"LANDMARK HIGH SCHOOL\", \"HIGH SCHOOL FOR HEALTH PROFESSIONS AND HUMAN SERVICES\", \"LEADERSHIP AND PUBLIC SERVICE HIGH SCHOOL\", \"MANHATTAN ACADEMY FOR ARTS & LANGUAGE\", \"HUDSON HIGH SCHOOL OF LEARNING TECHNOLOGIES\", \"INTERNATIONAL HIGH SCHOOL AT UNION SQUARE\", \"MANHATTAN VILLAGE ACADEMY\", \"VANGUARD HIGH SCHOOL\", \"MANHATTAN INTERNATIONAL HIGH SCHOOL\", \"STUYVESANT HIGH SCHOOL\", \"HIGH SCHOOL OF ECONOMICS AND FINANCE\", \"UNITY CENTER FOR URBAN TECHNOLOGIES\", \"TALENT UNLIMITED HIGH SCHOOL\", \"MURRY BERGTRAUM HIGH SCHOOL FOR BUSINESS CAREERS\", \"JACQUELINE KENNEDY ONASSIS HIGH SCHOOL\", \"REPERTORY COMPANY HIGH SCHOOL FOR THEATRE ARTS\", \"MANHATTAN BRIDGES HIGH SCHOOL\", \"NEW DESIGN HIGH SCHOOL\", \"HIGH SCHOOL FOR DUAL LANGUAGE AND ASIAN STUDIES\", \"THE URBAN ASSEMBLY NEW YORK HARBOR SCHOOL\", \"RICHARD R. GREEN HIGH SCHOOL OF TEACHING\", \"THE HIGH SCHOOL OF FASHION INDUSTRIES\", \"HUMANITIES PREPARATORY ACADEMY\", \"CHELSEA CAREER AND TECHNICAL EDUCATION HIGH SCHOOL\", \"ART AND DESIGN HIGH SCHOOL\", \"LIFE SCIENCES SECONDARY SCHOOL\", \"HIGH SCHOOL FOR ARTS, IMAGINATION AND INQUIRY\", \"URBAN ASSEMBLY SCHOOL FOR MEDIA STUDIES, THE\", \"THE URBAN ASSEMBLY SCHOOL FOR GREEN CAREERS\", \"THE GLOBAL LEARNING COLLABORATIVE\", \"WADLEIGH SECONDARY SCHOOL FOR THE PERFORMING & VISUAL ARTS\", \"FRANK MCCOURT HIGH SCHOOL\", \"BEACON HIGH SCHOOL\", \"FIORELLO H. LAGUARDIA HIGH SCHOOL OF MUSIC & ART AND PERFORMING ARTS\", \"HIGH SCHOOL FOR LAW, ADVOCACY AND COMMUNITY JUSTICE\", \"HIGH SCHOOL OF ARTS AND TECHNOLOGY\", \"MANHATTAN / HUNTER SCIENCE HIGH SCHOOL\", \"FREDERICK DOUGLASS ACADEMY II SECONDARY SCHOOL\", \"COALITION SCHOOL FOR SOCIAL CHANGE\", \"MANHATTAN CENTER FOR SCIENCE AND MATHEMATICS\", \"PARK EAST HIGH SCHOOL\", \"CENTRAL PARK EAST HIGH SCHOOL\", \"YOUNG WOMEN'S LEADERSHIP SCHOOL\", \"YOUNG WOMEN'S LEADERSHIP SCHOOL\", \"HERITAGE SCHOOL, THE\", \"MOTT HALL HIGH SCHOOL\", \"COLUMBIA SECONDARY SCHOOL FOR MATH, SCIENCE, AND ENGINEERING\", \"ACADEMY FOR SOCIAL ACTION: A COLLEGE BOARD SCHOOL\", \"URBAN ASSEMBLY SCHOOL FOR THE PERFORMING ARTS\", \"FREDERICK DOUGLASS ACADEMY\", \"THURGOOD MARSHALL ACADEMY FOR LEARNING AND SOCIAL CHANGE\", \"HIGH SCHOOL FOR MATHEMATICS, SCIENCE AND ENGINEERING AT CITY COLLEGE\", \"CITY COLLEGE ACADEMY OF THE ARTS\", \"COMMUNITY HEALTH ACADEMY OF THE HEIGHTS\", \"WASHINGTON HEIGHTS EXPEDITIONARY LEARNING SCHOOL\", \"HIGH SCHOOL FOR EXCELLENCE AND INNOVATION\", \"HIGH SCHOOL FOR INTERNATIONAL BUSINESS AND FINANCE\", \"HIGH SCHOOL FOR MEDIA AND COMMUNICATIONS\", \"HIGH SCHOOL FOR LAW AND PUBLIC SERVICE\", \"HIGH SCHOOL FOR HEALTH CAREERS AND SCIENCES\", \"A. PHILIP RANDOLPH CAMPUS HIGH SCHOOL\", \"GREGORIO LUPERON HIGH SCHOOL FOR SCIENCE AND MATHEMATICS\"], \"textfont\": {\"color\": \"#4D5663\"}, \"type\": \"scatter\", \"x\": [53.8, 45.9, 55.4, 56.9, 14.2, 18.2, 59.2, 47.6, 60.6, 66.1, 42.0, 59.2, 73.2, 50.6, 55.7, 48.4, 45.1, 43.0, 58.7, 57.2, 32.8, 57.2, 23.7, 14.6, 14.0, 39.9, 11.6, 21.7, 74.8, 49.7, 54.2, 84.6, 62.4, 43.2, 71.8, 59.0, 36.9, 2.4, 43.5, 55.3, 39.3, 46.6, 69.9, 42.4, 99.8, 62.2, 4.0, 49.3, 59.3, 52.3, 57.8, 60.5, 51.0, 64.3, 58.9, 56.0, 76.0, 62.6, 38.8, 37.0, 22.8, 16.6, 48.1, 57.2, 41.5, 18.9, 58.7, 57.4, 59.6, 64.5, 60.1, 60.1, 69.4, 63.8, 48.5, 38.1, 38.2, 22.8, 20.9, 21.2, 92.0, 93.8, 96.7, 72.5, 91.4, 87.1, 84.4, 83.8, 62.3, 99.8], \"y\": [1122.0, 1172.0, 1149.0, 1207.0, 1621.0, 1856.0, 1182.0, 1194.0, 1156.0, 1111.0, 1293.0, 1269.0, 1051.0, 1148.0, 1200.0, 1127.0, 1176.0, 1435.0, 1223.4388059701494, 1223.4388059701494, 1223.4388059701494, 1419.0, 1522.0, 1577.0, 1677.0, 1419.0, 1758.0, 1614.0, 1170.0, 1306.0, 1233.0, 1223.4388059701494, 1223.4388059701494, 1223.4388059701494, 1372.0, 1199.0, 1227.0, 2096.0, 1374.0, 1070.0, 1416.0, 1240.0, 1239.0, 1253.0, 1058.0, 1168.0, 1424.0, 1212.0, 1195.0, 1257.0, 1255.0, 1207.0, 1315.0, 1236.0, 1132.0, 1144.0, 1223.4388059701494, 1223.4388059701494, 1109.0, 1223.4388059701494, 1744.0, 1707.0, 1196.0, 1277.0, 1446.0, 1096.0, 1084.0, 1430.0, 1128.0, 1221.0, 1326.0, 1326.0, 1054.0, 1210.0, 1223.4388059701494, 1062.0, 1077.0, 1374.0, 1202.0, 1847.0, 1270.0, 1105.0, 1174.0, 1223.4388059701494, 1127.0, 1098.0, 1102.0, 1224.0, 1309.0, 1014.0]}, {\"marker\": {\"color\": \"rgba(55, 128, 191, 1.0)\", \"line\": {\"width\": 1.3}, \"opacity\": 0.8, \"size\": 12, \"symbol\": \"circle\"}, \"mode\": \"markers\", \"name\": \"Bronx\", \"text\": [\"SOUTH BRONX PREPARATORY: A COLLEGE BOARD SCHOOL\", \"INTERNATIONAL COMMUNITY HIGH SCHOOL\", \"COMMUNITY SCHOOL FOR SOCIAL JUSTICE\", \"MOTT HAVEN VILLAGE PREPARATORY HIGH SCHOOL\", \"UNIVERSITY HEIGHTS SECONDARY SCHOOL\", \"HOSTOSsLINCOLN ACADEMY OF SCIENCE\", \"FOREIGN LANGUAGE ACADEMY OF GLOBAL STUDIES\", \"BRONX LEADERSHIP ACADEMY II HIGH SCHOOL\", \"NEW EXPLORERS HIGH SCHOOL\", \"URBAN ASSEMBLY SCHOOL FOR CAREERS IN SPORTS\", \"BRONX ACADEMY OF LETTERS\", \"ALFRED E. SMITH CAREER AND TECHNICAL EDUCATION HIGH SCHOOL\", \"HEALTH OPPORTUNITIES HIGH SCHOOL\", \"BRONX STUDIO SCHOOL FOR WRITERS AND ARTISTS\", \"WOMEN'S ACADEMY OF EXCELLENCE\", \"RENAISSANCE HIGH SCHOOL FOR MUSICAL THEATER & TECHNOLOGY\", \"PABLO NERUDA ACADEMY FOR ARCHITECTURE AND WORLD STUDIES\", \"MILLENNIUM ART ACADEMY\", \"HOLCOMBE L. RUCKER SCHOOL OF COMMUNITY RESEARCH\", \"ANTONIA PANTOJA PREPARATORY ACADEMY, A COLLEGE BOARD SCHOOL\", \"HERBERT H. LEHMAN HIGH SCHOOL\", \"BRONX BRIDGES HIGH SCHOOL\", \"FELISA RINCON DE GAUTIER INSTITUTE FOR LAW AND PUBLIC POLICY, THE\", \"BANANA KELLY HIGH SCHOOL\", \"BRONX EXPEDITIONARY LEARNING HIGH SCHOOL\", \"EAGLE ACADEMY FOR YOUNG MEN\", \"URBAN ASSEMBLY SCHOOL FOR APPLIED MATH AND SCIENCE, THE\", \"EXIMIUS COLLEGE PREPARATORY ACADEMY: A COLLEGE BOARD SCHOOL\", \"MOTT HALL BRONX HIGH SCHOOL\", \"BRONX CENTER FOR SCIENCE AND MATHEMATICS\", \"VALIDUS PREPARATORY ACADEMY: AN EXPEDITIONARY LEARNING SCHOOL\", \"LEADERSHIP INSTITUTE\", \"MORRIS ACADEMY FOR COLLABORATIVE STUDIES\", \"BRONX EARLY COLLEGE ACADEMY FOR TEACHING & LEARNING\", \"DREAMYARD PREPARATORY SCHOOL\", \"ACADEMY FOR LANGUAGE AND TECHNOLOGY\", \"BRONX INTERNATIONAL HIGH SCHOOL\", \"SCHOOL FOR EXCELLENCE\", \"BRONX HIGH SCHOOL OF BUSINESS\", \"BRONX HIGH SCHOOL FOR MEDICAL SCIENCE\", \"BRONX SCHOOL FOR LAW, GOVERNMENT AND JUSTICE\", \"FREDERICK DOUGLASS ACADEMY III SECONDARY SCHOOL\", \"BRONX LEADERSHIP ACADEMY HIGH SCHOOL\", \"HIGH SCHOOL FOR VIOLIN AND DANCE\", \"RIVERDALE / KINGSBRIDGE ACADEMY (MIDDLE SCHOOL / HIGH SCHOOL 141)\", \"BRONX ENGINEERING AND TECHNOLOGY ACADEMY\", \"THEATRE ARTS PRODUCTION COMPANY SCHOOL\", \"THE MARIE CURIE SCHOOL FOR MEDICINE, NURSING, AND HEALTH PROFESSIONS\", \"WEST BRONX ACADEMY FOR THE FUTURE\", \"KINGSBRIDGE INTERNATIONAL HIGH SCHOOL\", \"BRONX SCHOOL OF LAW AND FINANCE\", \"INTERNATIONAL SCHOOL FOR LIBERAL ARTS\", \"INsTECH ACADEMY (M.S. / HIGH SCHOOL 368)\", \"KNOWLEDGE AND POWER PREPARATORY ACADEMY INTERNATIONAL HIGH SCHOOL (KAPPA)\", \"HIGH SCHOOL FOR TEACHING AND THE PROFESSIONS\", \"BELMONT PREPARATORY HIGH SCHOOL\", \"FORDHAM HIGH SCHOOL FOR THE ARTS\", \"FORDHAM LEADERSHIP ACADEMY FOR BUSINESS AND TECHNOLOGY\", \"BRONX HIGH SCHOOL FOR LAW AND COMMUNITY SERVICE\", \"DEWITT CLINTON HIGH SCHOOL\", \"CELIA CRUZ BRONX HIGH SCHOOL OF MUSIC, THE\", \"BRONX HIGH SCHOOL OF SCIENCE\", \"MARBLE HILL HIGH SCHOOL FOR INTERNATIONAL STUDIES\", \"BRONX THEATRE HIGH SCHOOL\", \"DISCOVERY HIGH SCHOOL\", \"HIGH SCHOOL OF AMERICAN STUDIES AT LEHMAN COLLEGE\", \"BRONX HEALTH SCIENCES HIGH SCHOOL\", \"BRONX HIGH SCHOOL FOR WRITING AND COMMUNICATION ARTS\", \"BRONX LAB SCHOOL\", \"ACADEMY FOR SCHOLARSHIP AND ENTREPRENEURSHIP: A COLLEGE BOARD SCHOOL\", \"HIGH SCHOOL OF COMPUTERS AND TECHNOLOGY\", \"COLLEGIATE INSTITUTE FOR MATH AND SCIENCE\", \"BRONX ACADEMY OF HEALTH CAREERS\", \"ASTOR COLLEGIATE ACADEMY\", \"BRONX HIGH SCHOOL FOR THE VISUAL ARTS\", \"HARRY S TRUMAN HIGH SCHOOL\", \"NEW WORLD HIGH SCHOOL\", \"THE BRONXWOOD PREPARATORY ACADEMY\", \"PELHAM PREPARATORY ACADEMY\", \"HIGH SCHOOL FOR CONTEMPORARY ARTS\", \"BRONX AEROSPACE HIGH SCHOOL\", \"METROPOLITAN HIGH SCHOOL, THE\", \"EXPLORATIONS ACADEMY\", \"BRONX LATIN\", \"EAST BRONX ACADEMY FOR THE FUTURE\", \"PEACE AND DIVERSITY ACADEMY\", \"PAN AMERICAN INTERNATIONAL HIGH SCHOOL AT MONROE\", \"THE CINEMA SCHOOL\", \"BRONX CAREER AND COLLEGE PREPARATORY HIGH SCHOOL\", \"HIGH SCHOOL OF WORLD CULTURES\", \"FANNIE LOU HAMER FREEDOM HIGH SCHOOL\", \"WINGS ACADEMY\", \"MONROE ACADEMY FOR VISUAL ARTS & DESIGN\"], \"textfont\": {\"color\": \"#4D5663\"}, \"type\": \"scatter\", \"x\": [68.8, 71.8, 65.5, 76.0, 78.1, 72.7, 68.8, 56.0, 68.1, 70.4, 64.3, 61.5, 56.9, 74.8, 46.4, 63.8, 69.9, 64.3, 56.8, 66.0, 60.6, 83.2, 76.0, 65.4, 69.3, 33.8, 63.4, 58.1, 73.7, 68.7, 63.8, 63.5, 73.1, 64.5, 69.9, 99.4, 72.2, 64.5, 59.9, 57.8, 66.2, 41.4, 57.0, 62.5, 53.0, 64.2, 69.7, 57.4, 69.5, 84.7, 65.2, 99.8, 81.9, 59.9, 70.4, 65.6, 61.5, 67.8, 64.6, 59.6, 69.5, 7.2, 57.9, 69.0, 75.6, 18.0, 36.3, 47.6, 57.3, 32.0, 59.5, 46.8, 41.2, 46.0, 62.3, 43.8, 70.4, 37.3, 49.7, 59.9, 72.6, 72.9, 65.5, 73.2, 68.3, 53.7, 99.8, 65.0, 59.8, 84.6, 68.8, 42.2, 77.5], \"y\": [1090.0, 945.0, 1077.0, 1097.0, 1201.0, 1257.0, 1186.0, 1103.0, 1084.0, 1181.0, 1201.0, 1158.0, 1095.0, 1223.4388059701494, 1171.0, 1158.0, 1038.0, 1164.0, 1084.0, 1223.4388059701494, 1241.0, 1223.4388059701494, 1099.0, 1131.0, 1049.0, 1134.0, 1290.0, 1169.0, 1092.0, 1396.0, 1075.0, 1081.0, 1148.0, 1223.4388059701494, 1138.0, 951.0, 965.0, 1074.0, 1083.0, 1221.0, 1224.0, 1121.0, 1166.0, 1039.0, 1333.0, 1150.0, 1190.0, 1157.0, 1158.0, 962.0, 1182.0, 934.0, 1181.0, 1180.0, 1106.0, 1222.0, 1077.0, 1119.0, 1082.0, 1255.0, 1270.0, 1969.0, 1263.0, 1064.0, 1115.0, 1920.0, 1133.0, 1147.0, 1135.0, 1141.0, 1111.0, 1348.0, 1135.0, 1169.0, 1268.0, 1151.0, 1048.0, 1112.0, 1288.0, 1126.0, 1163.0, 1055.0, 1122.0, 1251.0, 1102.0, 1155.0, 970.0, 1223.4388059701494, 1223.4388059701494, 939.0, 1029.0, 1114.0, 1038.0]}, {\"marker\": {\"color\": \"rgba(50, 171, 96, 1.0)\", \"line\": {\"width\": 1.3}, \"opacity\": 0.8, \"size\": 12, \"symbol\": \"circle\"}, \"mode\": \"markers\", \"name\": \"Brooklyn\", \"text\": [\"DR. SUSAN S. MCKINNEY SECONDARY SCHOOL OF THE ARTS\", \"URBAN ASSEMBLY HIGH SCHOOL OF MUSIC AND ART\", \"BROOKLYN COMMUNITY HIGH SCHOOL OF COMMUNICATION, ARTS AND MEDIA\", \"SCIENCE SKILLS CENTER HIGH SCHOOL FOR SCIENCE, TECHNOLOGY AND THE CREATIVE ARTS\", \"BROOKLYN TECHNICAL HIGH SCHOOL\", \"BROOKLYN INTERNATIONAL HIGH SCHOOL\", \"THE URBAN ASSEMBLY SCHOOL FOR LAW AND JUSTICE\", \"ACORN COMMUNITY HIGH SCHOOL\", \"URBAN ASSEMBLY INSTITUTE OF MATH AND SCIENCE FOR YOUNG WOMEN\", \"BEDFORD ACADEMY HIGH SCHOOL\", \"GEORGE WESTINGHOUSE CAREER AND TECHNICAL EDUCATION HIGH SCHOOL\", \"BENJAMIN BANNEKER ACADEMY\", \"CITY POLYTECHNIC HIGH SCHOOL OF ENGINEERING, ARCHITECTURE, AND TECHNOLOGY\", \"JUAN MOREL CAMPOS SECONDARY SCHOOL\", \"FOUNDATIONS ACADEMY\", \"BROOKLYN LATIN SCHOOL, THE\", \"GREEN SCHOOL: AN ACADEMY FOR ENVIRONMENTAL CAREERS\", \"PROGRESS HIGH SCHOOL FOR PROFESSIONAL CAREERS\", \"SCHOOL FOR LEGAL STUDIES\", \"THE HIGH SCHOOL FOR ENTERPRISE, BUSINESS AND TECHNOLOGY\", \"BROOKLYN PREPARATORY HIGH SCHOOL\", \"WILLIAMSBURG HIGH SCHOOL FOR ARCHITECTURE AND DESIGN\", \"WILLIAMSBURG PREPARATORY SCHOOL\", \"LYONS COMMUNITY SCHOOL\", \"AUTOMOTIVE HIGH SCHOOL\", \"FRANCES PERKINS ACADEMY\", \"EL PUENTE ACADEMY FOR PEACE AND JUSTICE\", \"BROOKLYN SCHOOL FOR GLOBAL STUDIES\", \"BROOKLYN SECONDARY SCHOOL FOR COLLABORATIVE STUDIES\", \"SECONDARY SCHOOL FOR LAW\", \"SECONDARY SCHOOL FOR JOURNALISM\", \"PARK SLOPE COLLEGIATE\", \"SCHOOL FOR INTERNATIONAL STUDIES\", \"COBBLE HILL SCHOOL OF AMERICAN STUDIES\", \"BROOKLYN HIGH SCHOOL OF THE ARTS\", \"SUNSET PARK HIGH SCHOOL\", \"FREDERICK DOUGLASS ACADEMY IV SECONDARY SCHOOL\", \"BOYS AND GIRLS HIGH SCHOOL\", \"BROOKLYN HIGH SCHOOL FOR LAW AND TECHNOLOGY\", \"THE BROOKLYN ACADEMY OF GLOBAL FINANCE\", \"ACADEMY FOR COLLEGE PREPARATION AND CAREER EXPLORATION: A COLLEGE BOARD SCHOOL\", \"ACADEMY OF HOSPITALITY AND TOURISM\", \"INTERNATIONAL HIGH SCHOOL AT PROSPECT HEIGHTS\", \"THE HIGH SCHOOL FOR GLOBAL CITIZENSHIP\", \"SCHOOL FOR HUMAN RIGHTS, THE\", \"SCHOOL FOR DEMOCRACY AND LEADERSHIP\", \"HIGH SCHOOL FOR YOUTH AND COMMUNITY DEVELOPMENT AT ERASMUS\", \"HIGH SCHOOL FOR SERVICE & LEARNING AT ERASMUS\", \"SCIENCE, TECHNOLOGY AND RESEARCH EARLY COLLEGE HIGH SCHOOL AT ERASMUS\", \"HIGH SCHOOL FOR PUBLIC SERVICE: HEROES OF TOMORROW\", \"BROOKLYN ACADEMY OF SCIENCE AND THE ENVIRONMENT\", \"BROOKLYN SCHOOL FOR MUSIC & THEATRE\", \"MEDGAR EVERS COLLEGE PREPARATORY SCHOOL\", \"CLARA BARTON HIGH SCHOOL\", \"IT TAKES A VILLAGE ACADEMY\", \"BROOKLYN GENERATION SCHOOL\", \"BROOKLYN THEATRE ARTS HIGH SCHOOL\", \"KURT HAHN EXPEDITIONARY LEARNING SCHOOL\", \"VICTORY COLLEGIATE HIGH SCHOOL\", \"ARTS & MEDIA PREPARATORY ACADEMY\", \"HIGH SCHOOL FOR INNOVATION IN ADVERTISING AND MEDIA\", \"CULTURAL ACADEMY FOR THE ARTS AND SCIENCES\", \"HIGH SCHOOL FOR MEDICAL PROFESSIONS\", \"ACADEMY FOR CONSERVATION AND THE ENVIRONMENT\", \"URBAN ACTION ACADEMY\", \"EAST NEW YORK FAMILY ACADEMY\", \"FDNY HIGH SCHOOL FOR FIRE AND LIFE SAFETY\", \"HIGH SCHOOL FOR CIVIL RIGHTS\", \"PERFORMING ARTS AND TECHNOLOGY HIGH SCHOOL\", \"WORLD ACADEMY FOR TOTAL COMMUNITY HEALTH HIGH SCHOOL\", \"MULTICULTURAL HIGH SCHOOL\", \"TRANSIT TECH CAREER AND TECHNICAL EDUCATION HIGH SCHOOL\", \"ACADEMY OF INNOVATIVE TECHNOLOGY\", \"BROOKLYN LAB SCHOOL\", \"CYPRESS HILLS COLLEGIATE PREPARATORY SCHOOL\", \"W. H. MAXWELL CAREER AND TECHNICAL EDUCATION HIGH SCHOOL\", \"THE SCHOOL FOR CLASSICS: AN ACADEMY OF THINKERS, WRITERS AND PERFORMERS\", \"NEW UTRECHT HIGH SCHOOL\", \"HIGH SCHOOL OF TELECOMMUNICATION ARTS AND TECHNOLOGY\", \"FORT HAMILTON HIGH SCHOOL\", \"FRANKLIN DELANO ROOSEVELT HIGH SCHOOL\", \"THE URBAN ASSEMBLY SCHOOL FOR CRIMINAL JUSTICE\", \"INTERNATIONAL HIGH SCHOOL AT LAFAYETTE\", \"RACHEL CARSON HIGH SCHOOL FOR COASTAL STUDIES\", \"HIGH SCHOOL OF SPORTS MANAGEMENT\", \"ABRAHAM LINCOLN HIGH SCHOOL\", \"KINGSBOROUGH EARLY COLLEGE SCHOOL\", \"EDWARD R. MURROW HIGH SCHOOL\", \"JOHN DEWEY HIGH SCHOOL\", \"LIFE ACADEMY HIGH SCHOOL FOR FILM AND MUSIC\", \"EXPEDITIONARY LEARNING SCHOOL FOR COMMUNITY LEADERS\", \"WILLIAM E. GRADY CAREER AND TECHNICAL EDUCATION HIGH SCHOOL\", \"BROOKLYN STUDIO SECONDARY SCHOOL\", \"MIDWOOD HIGH SCHOOL\", \"JAMES MADISON HIGH SCHOOL\", \"LEON M. GOLDSTEIN HIGH SCHOOL FOR THE SCIENCES\", \"BROOKLYN COLLEGE ACADEMY\", \"BROOKLYN COLLEGIATE: A COLLEGE BOARD SCHOOL\", \"FREDERICK DOUGLASS ACADEMY VII HIGH SCHOOL\", \"TEACHERS PREPARATORY HIGH SCHOOL\", \"ACADEMY FOR ENVIRONMENTAL LEADERSHIP\", \"EBC HIGH SCHOOL FOR PUBLIC SERVICE\\u2013BUSHWICK\", \"BUSHWICK SCHOOL FOR SOCIAL JUSTICE\", \"ACADEMY OF URBAN PLANNING\", \"ALL CITY LEADERSHIP SECONDARY SCHOOL\", \"BUSHWICK LEADERS HIGH SCHOOL FOR ACADEMIC EXCELLENCE\"], \"textfont\": {\"color\": \"#4D5663\"}, \"type\": \"scatter\", \"x\": [24.6, 22.7, 17.1, 12.2, 7.9, 28.6, 17.1, 12.2, 11.7, 7.1, 15.3, 8.8, 26.3, 80.6, 29.8, 17.9, 46.9, 65.4, 39.3, 55.4, 37.7, 57.2, 61.5, 54.6, 30.2, 31.2, 87.6, 39.0, 48.1, 29.6, 43.2, 51.8, 38.9, 21.0, 19.0, 80.8, 14.1, 7.8, 24.9, 20.8, 6.7, 12.9, 27.9, 7.3, 8.3, 8.4, 9.1, 9.0, 9.4, 12.2, 14.2, 15.3, 2.8, 5.8, 4.5, 8.5, 12.8, 8.8, 5.8, 9.6, 10.6, 11.4, 12.4, 12.0, 10.5, 30.3, 23.4, 22.2, 17.4, 14.2, 99.8, 23.2, 50.2, 65.0, 73.2, 25.4, 34.7, 28.0, 54.1, 30.2, 27.3, 21.9, 21.0, 25.8, 23.0, 20.1, 22.7, 17.6, 19.1, 29.9, 41.2, 14.0, 23.1, 11.7, 14.5, 10.8, 12.4, 8.3, 10.4, 13.1, 77.1, 88.1, 68.7, 70.4, 79.5, 77.3], \"y\": [1074.0, 1080.0, 1114.0, 1211.0, 1833.0, 981.0, 1206.0, 1116.0, 1223.4388059701494, 1312.0, 1189.0, 1391.0, 1353.0, 1085.0, 1223.4388059701494, 1740.0, 1189.0, 1114.0, 1204.0, 1215.0, 1090.0, 1112.0, 1187.0, 1103.0, 1093.0, 1122.0, 1035.0, 1111.0, 1179.0, 1203.0, 1169.0, 1175.0, 1212.0, 1185.0, 1258.0, 1223.4388059701494, 1068.0, 1097.0, 1092.0, 1223.4388059701494, 1139.0, 1045.0, 913.0, 1176.0, 1088.0, 1153.0, 1027.0, 1105.0, 1360.0, 1273.0, 1143.0, 1151.0, 1436.0, 1251.0, 963.0, 1145.0, 1118.0, 1092.0, 1143.0, 1080.0, 1183.0, 1169.0, 1159.0, 1111.0, 1135.0, 1242.0, 1023.0, 1054.0, 1149.0, 1106.0, 887.0, 1193.0, 1096.0, 1108.0, 1129.0, 1102.0, 1157.0, 1272.0, 1323.0, 1306.0, 1244.0, 1223.4388059701494, 1026.0, 1237.0, 1164.0, 1226.0, 1223.4388059701494, 1431.0, 1262.0, 1124.0, 1079.0, 1184.0, 1313.0, 1473.0, 1350.0, 1627.0, 1352.0, 1185.0, 1091.0, 1196.0, 1098.0, 1154.0, 1035.0, 1060.0, 1315.0, 1055.0]}, {\"marker\": {\"color\": \"rgba(128, 0, 128, 1.0)\", \"line\": {\"width\": 1.3}, \"opacity\": 0.8, \"size\": 12, \"symbol\": \"circle\"}, \"mode\": \"markers\", \"name\": \"Queens\", \"text\": [\"ACADEMY OF FINANCE AND ENTERPRISE\", \"HIGH SCHOOL OF APPLIED COMMUNICATION\", \"CIVIC LEADERSHIP ACADEMY\", \"PAN AMERICAN INTERNATIONAL HIGH SCHOOL\", \"BARD HIGH SCHOOL EARLY COLLEGE II\", \"NEWTOWN HIGH SCHOOL\", \"GROVER CLEVELAND HIGH SCHOOL\", \"MIDDLE COLLEGE HIGH SCHOOL AT LAGUARDIA COMMUNITY COLLEGE\", \"INTERNATIONAL HIGH SCHOOL AT LAGUARDIA COMMUNITY COLLEGE\", \"HIGH SCHOOL FOR ARTS AND BUSINESS\", \"ROBERT F. WAGNER, JR. SECONDARY SCHOOL FOR ARTS AND TECHNOLOGY\", \"QUEENS VOCATIONAL AND TECHNICAL HIGH SCHOOL\", \"AVIATION CAREER & TECHNICAL EDUCATION HIGH SCHOOL\", \"QUEENS SCHOOL OF INQUIRY, THE\", \"FLUSHING INTERNATIONAL HIGH SCHOOL\", \"EASTsWEST SCHOOL OF INTERNATIONAL STUDIES\", \"WORLD JOURNALISM PREPARATORY: A COLLEGE BOARD SCHOOL\", \"JOHN BOWNE HIGH SCHOOL\", \"FLUSHING HIGH SCHOOL\", \"TOWNSEND HARRIS HIGH SCHOOL\", \"ROBERT F. KENNEDY COMMUNITY HIGH SCHOOL\", \"BENJAMIN N. CARDOZO HIGH SCHOOL\", \"FRANCIS LEWIS HIGH SCHOOL\", \"MARTIN VAN BUREN HIGH SCHOOL\", \"BAYSIDE HIGH SCHOOL\", \"QUEENS HIGH SCHOOL OF TEACHING, LIBERAL ARTS AND THE SCIENCES\", \"FREDERICK DOUGLASS ACADEMY VI HIGH SCHOOL\", \"CHANNEL VIEW SCHOOL FOR RESEARCH\", \"QUEENS HIGH SCHOOL FOR INFORMATION, RESEARCH, AND TECHNOLOGY\", \"ROBERT H. GODDARD HIGH SCHOOL OF COMMUNICATION ARTS AND TECHNOLOGY\", \"ACADEMY OF MEDICAL TECHNOLOGY: A COLLEGE BOARD SCHOOL\", \"SCHOLARS' ACADEMY\", \"AUGUST MARTIN HIGH SCHOOL\", \"RICHMOND HILL HIGH SCHOOL\", \"JOHN ADAMS HIGH SCHOOL\", \"HIGH SCHOOL FOR CONSTRUCTION TRADES, ENGINEERING AND ARCHITECTURE\", \"YORK EARLY COLLEGE ACADEMY\", \"QUEENS COLLEGIATE: A COLLEGE BOARD SCHOOL\", \"HILLSIDE ARTS & LETTERS ACADEMY\", \"FOREST HILLS HIGH SCHOOL\", \"HILLCREST HIGH SCHOOL\", \"THOMAS A. EDISON CAREER AND TECHNICAL EDUCATION HIGH SCHOOL\", \"QUEENS GATEWAY TO HEALTH SCIENCES SECONDARY SCHOOL\", \"QUEENS METROPOLITAN HIGH SCHOOL\", \"QUEENS HIGH SCHOOL FOR THE SCIENCES AT YORK COLLEGE\", \"HIGH SCHOOL FOR LAW ENFORCEMENT AND PUBLIC SAFETY\", \"YOUNG WOMEN'S LEADERSHIP SCHOOL, QUEENS\", \"QUEENS PREPARATORY ACADEMY\", \"PATHWAYS COLLEGE PREPARATORY SCHOOL: A COLLEGE BOARD SCHOOL\", \"EXCELSIOR PREPARATORY HIGH SCHOOL\", \"GEORGE WASHINGTON CARVER HIGH SCHOOL FOR THE SCIENCES\", \"PREPARATORY ACADEMY FOR WRITERS: A COLLEGE BOARD SCHOOL\", \"CAMBRIA HEIGHTS ACADEMY\", \"MATHEMATICS, SCIENCE RESEARCH AND TECHNOLOGY MAGNET HIGH SCHOOL\", \"HUMANITIES & ARTS MAGNET HIGH SCHOOL\", \"YOUNG WOMEN'S LEADERSHIP SCHOOL, ASTORIA\", \"ACADEMY FOR CAREERS IN TELEVISION AND FILM\", \"WILLIAM CULLEN BRYANT HIGH SCHOOL\", \"LONG ISLAND CITY HIGH SCHOOL\", \"FRANK SINATRA SCHOOL OF THE ARTS HIGH SCHOOL\", \"INFORMATION TECHNOLOGY HIGH SCHOOL\", \"NEWCOMERS HIGH SCHOOL\", \"ACADEMY OF AMERICAN STUDIES\", \"BACCALAUREATE SCHOOL FOR GLOBAL EDUCATION\"], \"textfont\": {\"color\": \"#4D5663\"}, \"type\": \"scatter\", \"x\": [56.4, 57.2, 79.3, 100.0, 21.2, 60.3, 63.5, 71.4, 44.0, 79.2, 62.4, 74.2, 55.3, 24.2, 32.7, 17.9, 20.3, 40.7, 49.8, 12.9, 35.4, 18.6, 24.1, 15.1, 22.3, 16.8, 27.0, 27.5, 30.0, 42.6, 34.2, 15.9, 11.5, 46.4, 37.1, 41.6, 10.2, 18.5, 21.0, 30.2, 22.8, 21.1, 15.7, 38.6, 7.9, 15.1, 18.4, 8.2, 2.9, 9.7, 14.1, 10.4, 7.5, 11.9, 8.5, 40.4, 53.5, 48.8, 62.7, 27.2, 56.6, 43.5, 34.7, 24.3], \"y\": [1280.0, 1219.0, 1240.0, 951.0, 1663.0, 1203.0, 1211.0, 1177.0, 1064.0, 1174.0, 1330.0, 1270.0, 1364.0, 1396.0, 1049.0, 1271.0, 1441.0, 1243.0, 1216.0, 1910.0, 1330.0, 1514.0, 1474.0, 1172.0, 1449.0, 1279.0, 1145.0, 1252.0, 1156.0, 1265.0, 1094.0, 1532.0, 1108.0, 1154.0, 1192.0, 1345.0, 1223.4388059701494, 1265.0, 1223.4388059701494, 1407.0, 1194.0, 1372.0, 1538.0, 1223.4388059701494, 1868.0, 1196.0, 1316.0, 1099.0, 1173.0, 1202.0, 1287.0, 1100.0, 1223.4388059701494, 1220.0, 1151.0, 1223.4388059701494, 1255.0, 1275.0, 1218.0, 1494.0, 1239.0, 1127.0, 1470.0, 1636.0]}, {\"marker\": {\"color\": \"rgba(219, 64, 82, 1.0)\", \"line\": {\"width\": 1.3}, \"opacity\": 0.8, \"size\": 12, \"symbol\": \"circle\"}, \"mode\": \"markers\", \"name\": \"Staten Island\", \"text\": [\"CSI HIGH SCHOOL FOR INTERNATIONAL STUDIES\", \"GAYNOR MCCOWN EXPEDITIONARY LEARNING SCHOOL\", \"THE MICHAEL J. PETRIDES SCHOOL\", \"NEW DORP HIGH SCHOOL\", \"PORT RICHMOND HIGH SCHOOL\", \"CURTIS HIGH SCHOOL\", \"TOTTENVILLE HIGH SCHOOL\", \"SUSAN E. WAGNER HIGH SCHOOL\", \"RALPH R. MCKEE CAREER AND TECHNICAL EDUCATION HIGH SCHOOL\", \"STATEN ISLAND TECHNICAL HIGH SCHOOL\"], \"textfont\": {\"color\": \"#4D5663\"}, \"type\": \"scatter\", \"x\": [17.9, 17.6, 16.9, 27.3, 37.6, 31.9, 9.9, 24.1, 33.2, 5.3], \"y\": [1353.0, 1195.0, 1426.0, 1277.0, 1279.0, 1301.0, 1418.0, 1388.0, 1235.0, 1953.0]}],\n",
       "                        {\"legend\": {\"bgcolor\": \"#F5F6F9\", \"font\": {\"color\": \"#4D5663\"}}, \"paper_bgcolor\": \"#F5F6F9\", \"plot_bgcolor\": \"#F5F6F9\", \"shapes\": [{\"line\": {\"color\": \"#000000\", \"dash\": \"dash\", \"width\": 1}, \"type\": \"line\", \"x0\": 0, \"x1\": 1, \"xref\": \"paper\", \"y0\": 1223.438805970149, \"y1\": 1223.438805970149, \"yref\": \"y\"}, {\"line\": {\"color\": \"#000000\", \"dash\": \"dash\", \"width\": 1}, \"type\": \"line\", \"x0\": 44.06831955922865, \"x1\": 44.06831955922865, \"xref\": \"x\", \"y0\": 0, \"y1\": 1, \"yref\": \"paper\"}], \"title\": \"Hispanic students vs. SAT score by school <br> Dashed lines: Averages of each parameter\", \"titlefont\": {\"color\": \"#4D5663\"}, \"xaxis\": {\"gridcolor\": \"#E1E5ED\", \"showgrid\": true, \"tickfont\": {\"color\": \"#4D5663\"}, \"title\": \"Share hispanics, %\", \"titlefont\": {\"color\": \"#4D5663\"}, \"zerolinecolor\": \"#E1E5ED\"}, \"yaxis\": {\"gridcolor\": \"#E1E5ED\", \"showgrid\": true, \"tickfont\": {\"color\": \"#4D5663\"}, \"title\": \"Avg. SAT score\", \"titlefont\": {\"color\": \"#4D5663\"}, \"zerolinecolor\": \"#E1E5ED\"}},\n",
       "                        {\"showLink\": true, \"linkText\": \"Export to plot.ly\", \"plotlyServerURL\": \"https://plot.ly\", \"responsive\": true}\n",
       "                    ).then(function(){\n",
       "                            \n",
       "var gd = document.getElementById('28cd95a1-f760-476a-8c54-1d2fa61607cb');\n",
       "var x = new MutationObserver(function (mutations, observer) {{\n",
       "        var display = window.getComputedStyle(gd).display;\n",
       "        if (!display || display === 'none') {{\n",
       "            console.log([gd, 'removed!']);\n",
       "            Plotly.purge(gd);\n",
       "            observer.disconnect();\n",
       "        }}\n",
       "}});\n",
       "\n",
       "// Listen for the removal of the full notebook cells\n",
       "var notebookContainer = gd.closest('#notebook-container');\n",
       "if (notebookContainer) {{\n",
       "    x.observe(notebookContainer, {childList: true});\n",
       "}}\n",
       "\n",
       "// Listen for the clearing of the current output cell\n",
       "var outputEl = gd.closest('.output');\n",
       "if (outputEl) {{\n",
       "    x.observe(outputEl, {childList: true});\n",
       "}}\n",
       "\n",
       "                        })\n",
       "                };\n",
       "                });\n",
       "            </script>\n",
       "        </div>"
      ]
     },
     "metadata": {},
     "output_type": "display_data"
    },
    {
     "name": "stdout",
     "output_type": "stream",
     "text": [
      "Recommendation: Click the legend to view by boroughs\n"
     ]
    }
   ],
   "source": [
    "combined.iplot(\n",
    "        x='hispanic_per',\n",
    "        y='sat_score',\n",
    "        categories='boro',\n",
    "        text=\"SCHOOL NAME\",\n",
    "        vline= {\"x\":combined[\"hispanic_per\"].mean(),\n",
    "                \"color\":\"#000000\",\n",
    "                \"dash\": \"dash\"\n",
    "               },\n",
    "        hline={\"y\":combined[\"sat_score\"].mean(),\n",
    "               \"color\":\"#000000\",\n",
    "               \"dash\": \"dash\"\n",
    "              },\n",
    "        xTitle='Share hispanics, %',\n",
    "        yTitle='Avg. SAT score',\n",
    "        title='Hispanic students vs. SAT score by school <br> Dashed lines: Averages of each parameter'\n",
    "    )\n",
    "print(\"Recommendation: Click the legend to view by boroughs\")\n"
   ]
  },
  {
   "cell_type": "markdown",
   "metadata": {},
   "source": [
    "1. Schools with low average SAT scores and high percentages of hispanic students are often named \"International\". These schools specialize on students with limited English skills thus these schools tend to score below average because the SAT tests both reading and writing.\n",
    "\n",
    "\n",
    "2. Schools with high average SAT scores and low percentages of hispanics are highly selective ('technical') public schools with prestigious reputations. Here's a list of schools from each borough with avg SAT > 1800:\n",
    "            Manhattan - Stuyvesant High School, Bard High School Early College\n",
    "            Bronx - Bronx High School and High School of American Studies at Lehman College \n",
    "            Brooklyn - Brooklyn Technical School\n",
    "            Queens - Queens High School for the Sciences at York College and Townsend Harris High School \n",
    "            Staten Island - Staten Island Technical High School\n",
    "            \n",
    "            \n",
    "This brings up another question of interest. Out of these high-performing schools (avg. SAT > 1800), what are the demographics?"
   ]
  },
  {
   "cell_type": "code",
   "execution_count": 16,
   "metadata": {},
   "outputs": [
    {
     "data": {
      "text/html": [
       "<div>\n",
       "<style scoped>\n",
       "    .dataframe tbody tr th:only-of-type {\n",
       "        vertical-align: middle;\n",
       "    }\n",
       "\n",
       "    .dataframe tbody tr th {\n",
       "        vertical-align: top;\n",
       "    }\n",
       "\n",
       "    .dataframe thead th {\n",
       "        text-align: right;\n",
       "    }\n",
       "</style>\n",
       "<table border=\"1\" class=\"dataframe\">\n",
       "  <thead>\n",
       "    <tr style=\"text-align: right;\">\n",
       "      <th></th>\n",
       "      <th>DBN</th>\n",
       "      <th>SCHOOL NAME</th>\n",
       "      <th>Num of SAT Test Takers</th>\n",
       "      <th>SAT Critical Reading Avg. Score</th>\n",
       "      <th>SAT Math Avg. Score</th>\n",
       "      <th>SAT Writing Avg. Score</th>\n",
       "      <th>sat_score</th>\n",
       "      <th>SchoolName</th>\n",
       "      <th>AP Test Takers</th>\n",
       "      <th>Total Exams Taken</th>\n",
       "      <th>...</th>\n",
       "      <th>priority05</th>\n",
       "      <th>priority06</th>\n",
       "      <th>priority07</th>\n",
       "      <th>priority08</th>\n",
       "      <th>priority09</th>\n",
       "      <th>priority10</th>\n",
       "      <th>Location 1</th>\n",
       "      <th>lat</th>\n",
       "      <th>lon</th>\n",
       "      <th>school_dist</th>\n",
       "    </tr>\n",
       "  </thead>\n",
       "  <tbody>\n",
       "    <tr>\n",
       "      <th>5</th>\n",
       "      <td>01M696</td>\n",
       "      <td>BARD HIGH SCHOOL EARLY COLLEGE</td>\n",
       "      <td>130</td>\n",
       "      <td>624.0</td>\n",
       "      <td>604.0</td>\n",
       "      <td>628.0</td>\n",
       "      <td>1856.0</td>\n",
       "      <td>0</td>\n",
       "      <td>129.028846</td>\n",
       "      <td>197.038462</td>\n",
       "      <td>...</td>\n",
       "      <td>0</td>\n",
       "      <td>0</td>\n",
       "      <td>0</td>\n",
       "      <td>0</td>\n",
       "      <td>0</td>\n",
       "      <td>0</td>\n",
       "      <td>525 East Houston Street\\r\\nNew York, NY 10002\\...</td>\n",
       "      <td>40.718962</td>\n",
       "      <td>-73.976066</td>\n",
       "      <td>01</td>\n",
       "    </tr>\n",
       "    <tr>\n",
       "      <th>79</th>\n",
       "      <td>05M692</td>\n",
       "      <td>HIGH SCHOOL FOR MATHEMATICS, SCIENCE AND ENGIN...</td>\n",
       "      <td>101</td>\n",
       "      <td>605.0</td>\n",
       "      <td>654.0</td>\n",
       "      <td>588.0</td>\n",
       "      <td>1847.0</td>\n",
       "      <td>HIGH SCHOOL FOR MATH SCIENCE ENGINEERING @ CCNY</td>\n",
       "      <td>114.000000</td>\n",
       "      <td>124.000000</td>\n",
       "      <td>...</td>\n",
       "      <td>0</td>\n",
       "      <td>0</td>\n",
       "      <td>0</td>\n",
       "      <td>0</td>\n",
       "      <td>0</td>\n",
       "      <td>0</td>\n",
       "      <td>240 Convent Ave\\r\\nNew York, NY 10031\\r\\n(40.8...</td>\n",
       "      <td>40.821123</td>\n",
       "      <td>-73.948845</td>\n",
       "      <td>05</td>\n",
       "    </tr>\n",
       "    <tr>\n",
       "      <th>155</th>\n",
       "      <td>10X696</td>\n",
       "      <td>HIGH SCHOOL OF AMERICAN STUDIES AT LEHMAN COLLEGE</td>\n",
       "      <td>92</td>\n",
       "      <td>636.0</td>\n",
       "      <td>648.0</td>\n",
       "      <td>636.0</td>\n",
       "      <td>1920.0</td>\n",
       "      <td>HIGH SCHOOL OF AMERICAN STUDIES At Lehman College</td>\n",
       "      <td>194.000000</td>\n",
       "      <td>302.000000</td>\n",
       "      <td>...</td>\n",
       "      <td>0</td>\n",
       "      <td>0</td>\n",
       "      <td>0</td>\n",
       "      <td>0</td>\n",
       "      <td>0</td>\n",
       "      <td>0</td>\n",
       "      <td>2925 Goulden Avenue\\r\\nBronx, NY 10468\\r\\n(40....</td>\n",
       "      <td>40.871255</td>\n",
       "      <td>-73.897516</td>\n",
       "      <td>10</td>\n",
       "    </tr>\n",
       "    <tr>\n",
       "      <th>302</th>\n",
       "      <td>25Q525</td>\n",
       "      <td>TOWNSEND HARRIS HIGH SCHOOL</td>\n",
       "      <td>278</td>\n",
       "      <td>621.0</td>\n",
       "      <td>651.0</td>\n",
       "      <td>638.0</td>\n",
       "      <td>1910.0</td>\n",
       "      <td>TOWNSEND HARRIS HS</td>\n",
       "      <td>613.000000</td>\n",
       "      <td>796.000000</td>\n",
       "      <td>...</td>\n",
       "      <td>0</td>\n",
       "      <td>0</td>\n",
       "      <td>0</td>\n",
       "      <td>0</td>\n",
       "      <td>0</td>\n",
       "      <td>0</td>\n",
       "      <td>149-11 Melbourne Avenue\\r\\nFlushing, NY 11367\\...</td>\n",
       "      <td>40.734408</td>\n",
       "      <td>-73.821417</td>\n",
       "      <td>25</td>\n",
       "    </tr>\n",
       "  </tbody>\n",
       "</table>\n",
       "<p>4 rows × 160 columns</p>\n",
       "</div>"
      ],
      "text/plain": [
       "        DBN                                        SCHOOL NAME  \\\n",
       "5    01M696                     BARD HIGH SCHOOL EARLY COLLEGE   \n",
       "79   05M692  HIGH SCHOOL FOR MATHEMATICS, SCIENCE AND ENGIN...   \n",
       "155  10X696  HIGH SCHOOL OF AMERICAN STUDIES AT LEHMAN COLLEGE   \n",
       "302  25Q525                        TOWNSEND HARRIS HIGH SCHOOL   \n",
       "\n",
       "    Num of SAT Test Takers  SAT Critical Reading Avg. Score  \\\n",
       "5                      130                            624.0   \n",
       "79                     101                            605.0   \n",
       "155                     92                            636.0   \n",
       "302                    278                            621.0   \n",
       "\n",
       "     SAT Math Avg. Score  SAT Writing Avg. Score  sat_score  \\\n",
       "5                  604.0                   628.0     1856.0   \n",
       "79                 654.0                   588.0     1847.0   \n",
       "155                648.0                   636.0     1920.0   \n",
       "302                651.0                   638.0     1910.0   \n",
       "\n",
       "                                            SchoolName  AP Test Takers   \\\n",
       "5                                                    0       129.028846   \n",
       "79     HIGH SCHOOL FOR MATH SCIENCE ENGINEERING @ CCNY       114.000000   \n",
       "155  HIGH SCHOOL OF AMERICAN STUDIES At Lehman College       194.000000   \n",
       "302                                 TOWNSEND HARRIS HS       613.000000   \n",
       "\n",
       "     Total Exams Taken  ...  priority05 priority06 priority07 priority08  \\\n",
       "5           197.038462  ...           0          0          0          0   \n",
       "79          124.000000  ...           0          0          0          0   \n",
       "155         302.000000  ...           0          0          0          0   \n",
       "302         796.000000  ...           0          0          0          0   \n",
       "\n",
       "     priority09 priority10                                         Location 1  \\\n",
       "5             0          0  525 East Houston Street\\r\\nNew York, NY 10002\\...   \n",
       "79            0          0  240 Convent Ave\\r\\nNew York, NY 10031\\r\\n(40.8...   \n",
       "155           0          0  2925 Goulden Avenue\\r\\nBronx, NY 10468\\r\\n(40....   \n",
       "302           0          0  149-11 Melbourne Avenue\\r\\nFlushing, NY 11367\\...   \n",
       "\n",
       "           lat        lon school_dist  \n",
       "5    40.718962 -73.976066          01  \n",
       "79   40.821123 -73.948845          05  \n",
       "155  40.871255 -73.897516          10  \n",
       "302  40.734408 -73.821417          25  \n",
       "\n",
       "[4 rows x 160 columns]"
      ]
     },
     "execution_count": 16,
     "metadata": {},
     "output_type": "execute_result"
    }
   ],
   "source": [
    "elite = combined[(combined['hispanic_per'] > 10) & (combined['sat_score'] > 1800)]\n",
    "elite"
   ]
  },
  {
   "cell_type": "code",
   "execution_count": 17,
   "metadata": {},
   "outputs": [
    {
     "data": {
      "application/vnd.plotly.v1+json": {
       "config": {
        "linkText": "Export to plot.ly",
        "plotlyServerURL": "https://plot.ly",
        "showLink": true
       },
       "data": [
        {
         "marker": {
          "color": "rgba(255, 153, 51, 0.6)",
          "line": {
           "color": "rgba(255, 153, 51, 1.0)",
           "width": 1
          }
         },
         "name": "Asian",
         "orientation": "v",
         "text": "",
         "type": "bar",
         "x": [
          "All schools",
          "Elite schools"
         ],
         "y": [
          17,
          58
         ]
        },
        {
         "marker": {
          "color": "rgba(55, 128, 191, 0.6)",
          "line": {
           "color": "rgba(55, 128, 191, 1.0)",
           "width": 1
          }
         },
         "name": "Black",
         "orientation": "v",
         "text": "",
         "type": "bar",
         "x": [
          "All schools",
          "Elite schools"
         ],
         "y": [
          30,
          6
         ]
        },
        {
         "marker": {
          "color": "rgba(50, 171, 96, 0.6)",
          "line": {
           "color": "rgba(50, 171, 96, 1.0)",
           "width": 1
          }
         },
         "name": "Hispanic",
         "orientation": "v",
         "text": "",
         "type": "bar",
         "x": [
          "All schools",
          "Elite schools"
         ],
         "y": [
          38,
          7
         ]
        },
        {
         "marker": {
          "color": "rgba(128, 0, 128, 0.6)",
          "line": {
           "color": "rgba(128, 0, 128, 1.0)",
           "width": 1
          }
         },
         "name": "White",
         "orientation": "v",
         "text": "",
         "type": "bar",
         "x": [
          "All schools",
          "Elite schools"
         ],
         "y": [
          13,
          27
         ]
        }
       ],
       "layout": {
        "barmode": "stack",
        "legend": {
         "bgcolor": "#F5F6F9",
         "font": {
          "color": "#4D5663"
         },
         "traceorder": "normal"
        },
        "paper_bgcolor": "#F5F6F9",
        "plot_bgcolor": "#F5F6F9",
        "template": {
         "data": {
          "bar": [
           {
            "error_x": {
             "color": "#2a3f5f"
            },
            "error_y": {
             "color": "#2a3f5f"
            },
            "marker": {
             "line": {
              "color": "#E5ECF6",
              "width": 0.5
             }
            },
            "type": "bar"
           }
          ],
          "barpolar": [
           {
            "marker": {
             "line": {
              "color": "#E5ECF6",
              "width": 0.5
             }
            },
            "type": "barpolar"
           }
          ],
          "carpet": [
           {
            "aaxis": {
             "endlinecolor": "#2a3f5f",
             "gridcolor": "white",
             "linecolor": "white",
             "minorgridcolor": "white",
             "startlinecolor": "#2a3f5f"
            },
            "baxis": {
             "endlinecolor": "#2a3f5f",
             "gridcolor": "white",
             "linecolor": "white",
             "minorgridcolor": "white",
             "startlinecolor": "#2a3f5f"
            },
            "type": "carpet"
           }
          ],
          "choropleth": [
           {
            "colorbar": {
             "outlinewidth": 0,
             "ticks": ""
            },
            "type": "choropleth"
           }
          ],
          "contour": [
           {
            "colorbar": {
             "outlinewidth": 0,
             "ticks": ""
            },
            "colorscale": [
             [
              0,
              "#0d0887"
             ],
             [
              0.1111111111111111,
              "#46039f"
             ],
             [
              0.2222222222222222,
              "#7201a8"
             ],
             [
              0.3333333333333333,
              "#9c179e"
             ],
             [
              0.4444444444444444,
              "#bd3786"
             ],
             [
              0.5555555555555556,
              "#d8576b"
             ],
             [
              0.6666666666666666,
              "#ed7953"
             ],
             [
              0.7777777777777778,
              "#fb9f3a"
             ],
             [
              0.8888888888888888,
              "#fdca26"
             ],
             [
              1,
              "#f0f921"
             ]
            ],
            "type": "contour"
           }
          ],
          "contourcarpet": [
           {
            "colorbar": {
             "outlinewidth": 0,
             "ticks": ""
            },
            "type": "contourcarpet"
           }
          ],
          "heatmap": [
           {
            "colorbar": {
             "outlinewidth": 0,
             "ticks": ""
            },
            "colorscale": [
             [
              0,
              "#0d0887"
             ],
             [
              0.1111111111111111,
              "#46039f"
             ],
             [
              0.2222222222222222,
              "#7201a8"
             ],
             [
              0.3333333333333333,
              "#9c179e"
             ],
             [
              0.4444444444444444,
              "#bd3786"
             ],
             [
              0.5555555555555556,
              "#d8576b"
             ],
             [
              0.6666666666666666,
              "#ed7953"
             ],
             [
              0.7777777777777778,
              "#fb9f3a"
             ],
             [
              0.8888888888888888,
              "#fdca26"
             ],
             [
              1,
              "#f0f921"
             ]
            ],
            "type": "heatmap"
           }
          ],
          "heatmapgl": [
           {
            "colorbar": {
             "outlinewidth": 0,
             "ticks": ""
            },
            "colorscale": [
             [
              0,
              "#0d0887"
             ],
             [
              0.1111111111111111,
              "#46039f"
             ],
             [
              0.2222222222222222,
              "#7201a8"
             ],
             [
              0.3333333333333333,
              "#9c179e"
             ],
             [
              0.4444444444444444,
              "#bd3786"
             ],
             [
              0.5555555555555556,
              "#d8576b"
             ],
             [
              0.6666666666666666,
              "#ed7953"
             ],
             [
              0.7777777777777778,
              "#fb9f3a"
             ],
             [
              0.8888888888888888,
              "#fdca26"
             ],
             [
              1,
              "#f0f921"
             ]
            ],
            "type": "heatmapgl"
           }
          ],
          "histogram": [
           {
            "marker": {
             "colorbar": {
              "outlinewidth": 0,
              "ticks": ""
             }
            },
            "type": "histogram"
           }
          ],
          "histogram2d": [
           {
            "colorbar": {
             "outlinewidth": 0,
             "ticks": ""
            },
            "colorscale": [
             [
              0,
              "#0d0887"
             ],
             [
              0.1111111111111111,
              "#46039f"
             ],
             [
              0.2222222222222222,
              "#7201a8"
             ],
             [
              0.3333333333333333,
              "#9c179e"
             ],
             [
              0.4444444444444444,
              "#bd3786"
             ],
             [
              0.5555555555555556,
              "#d8576b"
             ],
             [
              0.6666666666666666,
              "#ed7953"
             ],
             [
              0.7777777777777778,
              "#fb9f3a"
             ],
             [
              0.8888888888888888,
              "#fdca26"
             ],
             [
              1,
              "#f0f921"
             ]
            ],
            "type": "histogram2d"
           }
          ],
          "histogram2dcontour": [
           {
            "colorbar": {
             "outlinewidth": 0,
             "ticks": ""
            },
            "colorscale": [
             [
              0,
              "#0d0887"
             ],
             [
              0.1111111111111111,
              "#46039f"
             ],
             [
              0.2222222222222222,
              "#7201a8"
             ],
             [
              0.3333333333333333,
              "#9c179e"
             ],
             [
              0.4444444444444444,
              "#bd3786"
             ],
             [
              0.5555555555555556,
              "#d8576b"
             ],
             [
              0.6666666666666666,
              "#ed7953"
             ],
             [
              0.7777777777777778,
              "#fb9f3a"
             ],
             [
              0.8888888888888888,
              "#fdca26"
             ],
             [
              1,
              "#f0f921"
             ]
            ],
            "type": "histogram2dcontour"
           }
          ],
          "mesh3d": [
           {
            "colorbar": {
             "outlinewidth": 0,
             "ticks": ""
            },
            "type": "mesh3d"
           }
          ],
          "parcoords": [
           {
            "line": {
             "colorbar": {
              "outlinewidth": 0,
              "ticks": ""
             }
            },
            "type": "parcoords"
           }
          ],
          "pie": [
           {
            "automargin": true,
            "type": "pie"
           }
          ],
          "scatter": [
           {
            "marker": {
             "colorbar": {
              "outlinewidth": 0,
              "ticks": ""
             }
            },
            "type": "scatter"
           }
          ],
          "scatter3d": [
           {
            "line": {
             "colorbar": {
              "outlinewidth": 0,
              "ticks": ""
             }
            },
            "marker": {
             "colorbar": {
              "outlinewidth": 0,
              "ticks": ""
             }
            },
            "type": "scatter3d"
           }
          ],
          "scattercarpet": [
           {
            "marker": {
             "colorbar": {
              "outlinewidth": 0,
              "ticks": ""
             }
            },
            "type": "scattercarpet"
           }
          ],
          "scattergeo": [
           {
            "marker": {
             "colorbar": {
              "outlinewidth": 0,
              "ticks": ""
             }
            },
            "type": "scattergeo"
           }
          ],
          "scattergl": [
           {
            "marker": {
             "colorbar": {
              "outlinewidth": 0,
              "ticks": ""
             }
            },
            "type": "scattergl"
           }
          ],
          "scattermapbox": [
           {
            "marker": {
             "colorbar": {
              "outlinewidth": 0,
              "ticks": ""
             }
            },
            "type": "scattermapbox"
           }
          ],
          "scatterpolar": [
           {
            "marker": {
             "colorbar": {
              "outlinewidth": 0,
              "ticks": ""
             }
            },
            "type": "scatterpolar"
           }
          ],
          "scatterpolargl": [
           {
            "marker": {
             "colorbar": {
              "outlinewidth": 0,
              "ticks": ""
             }
            },
            "type": "scatterpolargl"
           }
          ],
          "scatterternary": [
           {
            "marker": {
             "colorbar": {
              "outlinewidth": 0,
              "ticks": ""
             }
            },
            "type": "scatterternary"
           }
          ],
          "surface": [
           {
            "colorbar": {
             "outlinewidth": 0,
             "ticks": ""
            },
            "colorscale": [
             [
              0,
              "#0d0887"
             ],
             [
              0.1111111111111111,
              "#46039f"
             ],
             [
              0.2222222222222222,
              "#7201a8"
             ],
             [
              0.3333333333333333,
              "#9c179e"
             ],
             [
              0.4444444444444444,
              "#bd3786"
             ],
             [
              0.5555555555555556,
              "#d8576b"
             ],
             [
              0.6666666666666666,
              "#ed7953"
             ],
             [
              0.7777777777777778,
              "#fb9f3a"
             ],
             [
              0.8888888888888888,
              "#fdca26"
             ],
             [
              1,
              "#f0f921"
             ]
            ],
            "type": "surface"
           }
          ],
          "table": [
           {
            "cells": {
             "fill": {
              "color": "#EBF0F8"
             },
             "line": {
              "color": "white"
             }
            },
            "header": {
             "fill": {
              "color": "#C8D4E3"
             },
             "line": {
              "color": "white"
             }
            },
            "type": "table"
           }
          ]
         },
         "layout": {
          "annotationdefaults": {
           "arrowcolor": "#2a3f5f",
           "arrowhead": 0,
           "arrowwidth": 1
          },
          "coloraxis": {
           "colorbar": {
            "outlinewidth": 0,
            "ticks": ""
           }
          },
          "colorscale": {
           "diverging": [
            [
             0,
             "#8e0152"
            ],
            [
             0.1,
             "#c51b7d"
            ],
            [
             0.2,
             "#de77ae"
            ],
            [
             0.3,
             "#f1b6da"
            ],
            [
             0.4,
             "#fde0ef"
            ],
            [
             0.5,
             "#f7f7f7"
            ],
            [
             0.6,
             "#e6f5d0"
            ],
            [
             0.7,
             "#b8e186"
            ],
            [
             0.8,
             "#7fbc41"
            ],
            [
             0.9,
             "#4d9221"
            ],
            [
             1,
             "#276419"
            ]
           ],
           "sequential": [
            [
             0,
             "#0d0887"
            ],
            [
             0.1111111111111111,
             "#46039f"
            ],
            [
             0.2222222222222222,
             "#7201a8"
            ],
            [
             0.3333333333333333,
             "#9c179e"
            ],
            [
             0.4444444444444444,
             "#bd3786"
            ],
            [
             0.5555555555555556,
             "#d8576b"
            ],
            [
             0.6666666666666666,
             "#ed7953"
            ],
            [
             0.7777777777777778,
             "#fb9f3a"
            ],
            [
             0.8888888888888888,
             "#fdca26"
            ],
            [
             1,
             "#f0f921"
            ]
           ],
           "sequentialminus": [
            [
             0,
             "#0d0887"
            ],
            [
             0.1111111111111111,
             "#46039f"
            ],
            [
             0.2222222222222222,
             "#7201a8"
            ],
            [
             0.3333333333333333,
             "#9c179e"
            ],
            [
             0.4444444444444444,
             "#bd3786"
            ],
            [
             0.5555555555555556,
             "#d8576b"
            ],
            [
             0.6666666666666666,
             "#ed7953"
            ],
            [
             0.7777777777777778,
             "#fb9f3a"
            ],
            [
             0.8888888888888888,
             "#fdca26"
            ],
            [
             1,
             "#f0f921"
            ]
           ]
          },
          "colorway": [
           "#636efa",
           "#EF553B",
           "#00cc96",
           "#ab63fa",
           "#FFA15A",
           "#19d3f3",
           "#FF6692",
           "#B6E880",
           "#FF97FF",
           "#FECB52"
          ],
          "font": {
           "color": "#2a3f5f"
          },
          "geo": {
           "bgcolor": "white",
           "lakecolor": "white",
           "landcolor": "#E5ECF6",
           "showlakes": true,
           "showland": true,
           "subunitcolor": "white"
          },
          "hoverlabel": {
           "align": "left"
          },
          "hovermode": "closest",
          "mapbox": {
           "style": "light"
          },
          "paper_bgcolor": "white",
          "plot_bgcolor": "#E5ECF6",
          "polar": {
           "angularaxis": {
            "gridcolor": "white",
            "linecolor": "white",
            "ticks": ""
           },
           "bgcolor": "#E5ECF6",
           "radialaxis": {
            "gridcolor": "white",
            "linecolor": "white",
            "ticks": ""
           }
          },
          "scene": {
           "xaxis": {
            "backgroundcolor": "#E5ECF6",
            "gridcolor": "white",
            "gridwidth": 2,
            "linecolor": "white",
            "showbackground": true,
            "ticks": "",
            "zerolinecolor": "white"
           },
           "yaxis": {
            "backgroundcolor": "#E5ECF6",
            "gridcolor": "white",
            "gridwidth": 2,
            "linecolor": "white",
            "showbackground": true,
            "ticks": "",
            "zerolinecolor": "white"
           },
           "zaxis": {
            "backgroundcolor": "#E5ECF6",
            "gridcolor": "white",
            "gridwidth": 2,
            "linecolor": "white",
            "showbackground": true,
            "ticks": "",
            "zerolinecolor": "white"
           }
          },
          "shapedefaults": {
           "line": {
            "color": "#2a3f5f"
           }
          },
          "ternary": {
           "aaxis": {
            "gridcolor": "white",
            "linecolor": "white",
            "ticks": ""
           },
           "baxis": {
            "gridcolor": "white",
            "linecolor": "white",
            "ticks": ""
           },
           "bgcolor": "#E5ECF6",
           "caxis": {
            "gridcolor": "white",
            "linecolor": "white",
            "ticks": ""
           }
          },
          "title": {
           "x": 0.05
          },
          "xaxis": {
           "automargin": true,
           "gridcolor": "white",
           "linecolor": "white",
           "ticks": "",
           "title": {
            "standoff": 15
           },
           "zerolinecolor": "white",
           "zerolinewidth": 2
          },
          "yaxis": {
           "automargin": true,
           "gridcolor": "white",
           "linecolor": "white",
           "ticks": "",
           "title": {
            "standoff": 15
           },
           "zerolinecolor": "white",
           "zerolinewidth": 2
          }
         }
        },
        "title": {
         "font": {
          "color": "#4D5663"
         },
         "text": "Demographic of NYC High Schools, <br> All vs. Elite (Avg. SAT score > 1,800)"
        },
        "xaxis": {
         "gridcolor": "#E1E5ED",
         "showgrid": true,
         "tickfont": {
          "color": "#4D5663"
         },
         "title": {
          "font": {
           "color": "#4D5663"
          },
          "text": ""
         },
         "zerolinecolor": "#E1E5ED"
        },
        "yaxis": {
         "gridcolor": "#E1E5ED",
         "showgrid": true,
         "tickfont": {
          "color": "#4D5663"
         },
         "title": {
          "font": {
           "color": "#4D5663"
          },
          "text": "Share of all students in %"
         },
         "zerolinecolor": "#E1E5ED"
        }
       }
      },
      "text/html": [
       "<div>\n",
       "        \n",
       "        \n",
       "            <div id=\"d4ee7fcf-69d2-4337-a822-ac04d5c2a73a\" class=\"plotly-graph-div\" style=\"height:525px; width:100%;\"></div>\n",
       "            <script type=\"text/javascript\">\n",
       "                require([\"plotly\"], function(Plotly) {\n",
       "                    window.PLOTLYENV=window.PLOTLYENV || {};\n",
       "                    window.PLOTLYENV.BASE_URL='https://plot.ly';\n",
       "                    \n",
       "                if (document.getElementById(\"d4ee7fcf-69d2-4337-a822-ac04d5c2a73a\")) {\n",
       "                    Plotly.newPlot(\n",
       "                        'd4ee7fcf-69d2-4337-a822-ac04d5c2a73a',\n",
       "                        [{\"marker\": {\"color\": \"rgba(255, 153, 51, 0.6)\", \"line\": {\"color\": \"rgba(255, 153, 51, 1.0)\", \"width\": 1}}, \"name\": \"Asian\", \"orientation\": \"v\", \"text\": \"\", \"type\": \"bar\", \"x\": [\"All schools\", \"Elite schools\"], \"y\": [17, 58]}, {\"marker\": {\"color\": \"rgba(55, 128, 191, 0.6)\", \"line\": {\"color\": \"rgba(55, 128, 191, 1.0)\", \"width\": 1}}, \"name\": \"Black\", \"orientation\": \"v\", \"text\": \"\", \"type\": \"bar\", \"x\": [\"All schools\", \"Elite schools\"], \"y\": [30, 6]}, {\"marker\": {\"color\": \"rgba(50, 171, 96, 0.6)\", \"line\": {\"color\": \"rgba(50, 171, 96, 1.0)\", \"width\": 1}}, \"name\": \"Hispanic\", \"orientation\": \"v\", \"text\": \"\", \"type\": \"bar\", \"x\": [\"All schools\", \"Elite schools\"], \"y\": [38, 7]}, {\"marker\": {\"color\": \"rgba(128, 0, 128, 0.6)\", \"line\": {\"color\": \"rgba(128, 0, 128, 1.0)\", \"width\": 1}}, \"name\": \"White\", \"orientation\": \"v\", \"text\": \"\", \"type\": \"bar\", \"x\": [\"All schools\", \"Elite schools\"], \"y\": [13, 27]}],\n",
       "                        {\"barmode\": \"stack\", \"legend\": {\"bgcolor\": \"#F5F6F9\", \"font\": {\"color\": \"#4D5663\"}, \"traceorder\": \"normal\"}, \"paper_bgcolor\": \"#F5F6F9\", \"plot_bgcolor\": \"#F5F6F9\", \"template\": {\"data\": {\"bar\": [{\"error_x\": {\"color\": \"#2a3f5f\"}, \"error_y\": {\"color\": \"#2a3f5f\"}, \"marker\": {\"line\": {\"color\": \"#E5ECF6\", \"width\": 0.5}}, \"type\": \"bar\"}], \"barpolar\": [{\"marker\": {\"line\": {\"color\": \"#E5ECF6\", \"width\": 0.5}}, \"type\": \"barpolar\"}], \"carpet\": [{\"aaxis\": {\"endlinecolor\": \"#2a3f5f\", \"gridcolor\": \"white\", \"linecolor\": \"white\", \"minorgridcolor\": \"white\", \"startlinecolor\": \"#2a3f5f\"}, \"baxis\": {\"endlinecolor\": \"#2a3f5f\", \"gridcolor\": \"white\", \"linecolor\": \"white\", \"minorgridcolor\": \"white\", \"startlinecolor\": \"#2a3f5f\"}, \"type\": \"carpet\"}], \"choropleth\": [{\"colorbar\": {\"outlinewidth\": 0, \"ticks\": \"\"}, \"type\": \"choropleth\"}], \"contour\": [{\"colorbar\": {\"outlinewidth\": 0, \"ticks\": \"\"}, \"colorscale\": [[0.0, \"#0d0887\"], [0.1111111111111111, \"#46039f\"], [0.2222222222222222, \"#7201a8\"], [0.3333333333333333, \"#9c179e\"], [0.4444444444444444, \"#bd3786\"], [0.5555555555555556, \"#d8576b\"], [0.6666666666666666, \"#ed7953\"], [0.7777777777777778, \"#fb9f3a\"], [0.8888888888888888, \"#fdca26\"], [1.0, \"#f0f921\"]], \"type\": \"contour\"}], \"contourcarpet\": [{\"colorbar\": {\"outlinewidth\": 0, \"ticks\": \"\"}, \"type\": \"contourcarpet\"}], \"heatmap\": [{\"colorbar\": {\"outlinewidth\": 0, \"ticks\": \"\"}, \"colorscale\": [[0.0, \"#0d0887\"], [0.1111111111111111, \"#46039f\"], [0.2222222222222222, \"#7201a8\"], [0.3333333333333333, \"#9c179e\"], [0.4444444444444444, \"#bd3786\"], [0.5555555555555556, \"#d8576b\"], [0.6666666666666666, \"#ed7953\"], [0.7777777777777778, \"#fb9f3a\"], [0.8888888888888888, \"#fdca26\"], [1.0, \"#f0f921\"]], \"type\": \"heatmap\"}], \"heatmapgl\": [{\"colorbar\": {\"outlinewidth\": 0, \"ticks\": \"\"}, \"colorscale\": [[0.0, \"#0d0887\"], [0.1111111111111111, \"#46039f\"], [0.2222222222222222, \"#7201a8\"], [0.3333333333333333, \"#9c179e\"], [0.4444444444444444, \"#bd3786\"], [0.5555555555555556, \"#d8576b\"], [0.6666666666666666, \"#ed7953\"], [0.7777777777777778, \"#fb9f3a\"], [0.8888888888888888, \"#fdca26\"], [1.0, \"#f0f921\"]], \"type\": \"heatmapgl\"}], \"histogram\": [{\"marker\": {\"colorbar\": {\"outlinewidth\": 0, \"ticks\": \"\"}}, \"type\": \"histogram\"}], \"histogram2d\": [{\"colorbar\": {\"outlinewidth\": 0, \"ticks\": \"\"}, \"colorscale\": [[0.0, \"#0d0887\"], [0.1111111111111111, \"#46039f\"], [0.2222222222222222, \"#7201a8\"], [0.3333333333333333, \"#9c179e\"], [0.4444444444444444, \"#bd3786\"], [0.5555555555555556, \"#d8576b\"], [0.6666666666666666, \"#ed7953\"], [0.7777777777777778, \"#fb9f3a\"], [0.8888888888888888, \"#fdca26\"], [1.0, \"#f0f921\"]], \"type\": \"histogram2d\"}], \"histogram2dcontour\": [{\"colorbar\": {\"outlinewidth\": 0, \"ticks\": \"\"}, \"colorscale\": [[0.0, \"#0d0887\"], [0.1111111111111111, \"#46039f\"], [0.2222222222222222, \"#7201a8\"], [0.3333333333333333, \"#9c179e\"], [0.4444444444444444, \"#bd3786\"], [0.5555555555555556, \"#d8576b\"], [0.6666666666666666, \"#ed7953\"], [0.7777777777777778, \"#fb9f3a\"], [0.8888888888888888, \"#fdca26\"], [1.0, \"#f0f921\"]], \"type\": \"histogram2dcontour\"}], \"mesh3d\": [{\"colorbar\": {\"outlinewidth\": 0, \"ticks\": \"\"}, \"type\": \"mesh3d\"}], \"parcoords\": [{\"line\": {\"colorbar\": {\"outlinewidth\": 0, \"ticks\": \"\"}}, \"type\": \"parcoords\"}], \"pie\": [{\"automargin\": true, \"type\": \"pie\"}], \"scatter\": [{\"marker\": {\"colorbar\": {\"outlinewidth\": 0, \"ticks\": \"\"}}, \"type\": \"scatter\"}], \"scatter3d\": [{\"line\": {\"colorbar\": {\"outlinewidth\": 0, \"ticks\": \"\"}}, \"marker\": {\"colorbar\": {\"outlinewidth\": 0, \"ticks\": \"\"}}, \"type\": \"scatter3d\"}], \"scattercarpet\": [{\"marker\": {\"colorbar\": {\"outlinewidth\": 0, \"ticks\": \"\"}}, \"type\": \"scattercarpet\"}], \"scattergeo\": [{\"marker\": {\"colorbar\": {\"outlinewidth\": 0, \"ticks\": \"\"}}, \"type\": \"scattergeo\"}], \"scattergl\": [{\"marker\": {\"colorbar\": {\"outlinewidth\": 0, \"ticks\": \"\"}}, \"type\": \"scattergl\"}], \"scattermapbox\": [{\"marker\": {\"colorbar\": {\"outlinewidth\": 0, \"ticks\": \"\"}}, \"type\": \"scattermapbox\"}], \"scatterpolar\": [{\"marker\": {\"colorbar\": {\"outlinewidth\": 0, \"ticks\": \"\"}}, \"type\": \"scatterpolar\"}], \"scatterpolargl\": [{\"marker\": {\"colorbar\": {\"outlinewidth\": 0, \"ticks\": \"\"}}, \"type\": \"scatterpolargl\"}], \"scatterternary\": [{\"marker\": {\"colorbar\": {\"outlinewidth\": 0, \"ticks\": \"\"}}, \"type\": \"scatterternary\"}], \"surface\": [{\"colorbar\": {\"outlinewidth\": 0, \"ticks\": \"\"}, \"colorscale\": [[0.0, \"#0d0887\"], [0.1111111111111111, \"#46039f\"], [0.2222222222222222, \"#7201a8\"], [0.3333333333333333, \"#9c179e\"], [0.4444444444444444, \"#bd3786\"], [0.5555555555555556, \"#d8576b\"], [0.6666666666666666, \"#ed7953\"], [0.7777777777777778, \"#fb9f3a\"], [0.8888888888888888, \"#fdca26\"], [1.0, \"#f0f921\"]], \"type\": \"surface\"}], \"table\": [{\"cells\": {\"fill\": {\"color\": \"#EBF0F8\"}, \"line\": {\"color\": \"white\"}}, \"header\": {\"fill\": {\"color\": \"#C8D4E3\"}, \"line\": {\"color\": \"white\"}}, \"type\": \"table\"}]}, \"layout\": {\"annotationdefaults\": {\"arrowcolor\": \"#2a3f5f\", \"arrowhead\": 0, \"arrowwidth\": 1}, \"coloraxis\": {\"colorbar\": {\"outlinewidth\": 0, \"ticks\": \"\"}}, \"colorscale\": {\"diverging\": [[0, \"#8e0152\"], [0.1, \"#c51b7d\"], [0.2, \"#de77ae\"], [0.3, \"#f1b6da\"], [0.4, \"#fde0ef\"], [0.5, \"#f7f7f7\"], [0.6, \"#e6f5d0\"], [0.7, \"#b8e186\"], [0.8, \"#7fbc41\"], [0.9, \"#4d9221\"], [1, \"#276419\"]], \"sequential\": [[0.0, \"#0d0887\"], [0.1111111111111111, \"#46039f\"], [0.2222222222222222, \"#7201a8\"], [0.3333333333333333, \"#9c179e\"], [0.4444444444444444, \"#bd3786\"], [0.5555555555555556, \"#d8576b\"], [0.6666666666666666, \"#ed7953\"], [0.7777777777777778, \"#fb9f3a\"], [0.8888888888888888, \"#fdca26\"], [1.0, \"#f0f921\"]], \"sequentialminus\": [[0.0, \"#0d0887\"], [0.1111111111111111, \"#46039f\"], [0.2222222222222222, \"#7201a8\"], [0.3333333333333333, \"#9c179e\"], [0.4444444444444444, \"#bd3786\"], [0.5555555555555556, \"#d8576b\"], [0.6666666666666666, \"#ed7953\"], [0.7777777777777778, \"#fb9f3a\"], [0.8888888888888888, \"#fdca26\"], [1.0, \"#f0f921\"]]}, \"colorway\": [\"#636efa\", \"#EF553B\", \"#00cc96\", \"#ab63fa\", \"#FFA15A\", \"#19d3f3\", \"#FF6692\", \"#B6E880\", \"#FF97FF\", \"#FECB52\"], \"font\": {\"color\": \"#2a3f5f\"}, \"geo\": {\"bgcolor\": \"white\", \"lakecolor\": \"white\", \"landcolor\": \"#E5ECF6\", \"showlakes\": true, \"showland\": true, \"subunitcolor\": \"white\"}, \"hoverlabel\": {\"align\": \"left\"}, \"hovermode\": \"closest\", \"mapbox\": {\"style\": \"light\"}, \"paper_bgcolor\": \"white\", \"plot_bgcolor\": \"#E5ECF6\", \"polar\": {\"angularaxis\": {\"gridcolor\": \"white\", \"linecolor\": \"white\", \"ticks\": \"\"}, \"bgcolor\": \"#E5ECF6\", \"radialaxis\": {\"gridcolor\": \"white\", \"linecolor\": \"white\", \"ticks\": \"\"}}, \"scene\": {\"xaxis\": {\"backgroundcolor\": \"#E5ECF6\", \"gridcolor\": \"white\", \"gridwidth\": 2, \"linecolor\": \"white\", \"showbackground\": true, \"ticks\": \"\", \"zerolinecolor\": \"white\"}, \"yaxis\": {\"backgroundcolor\": \"#E5ECF6\", \"gridcolor\": \"white\", \"gridwidth\": 2, \"linecolor\": \"white\", \"showbackground\": true, \"ticks\": \"\", \"zerolinecolor\": \"white\"}, \"zaxis\": {\"backgroundcolor\": \"#E5ECF6\", \"gridcolor\": \"white\", \"gridwidth\": 2, \"linecolor\": \"white\", \"showbackground\": true, \"ticks\": \"\", \"zerolinecolor\": \"white\"}}, \"shapedefaults\": {\"line\": {\"color\": \"#2a3f5f\"}}, \"ternary\": {\"aaxis\": {\"gridcolor\": \"white\", \"linecolor\": \"white\", \"ticks\": \"\"}, \"baxis\": {\"gridcolor\": \"white\", \"linecolor\": \"white\", \"ticks\": \"\"}, \"bgcolor\": \"#E5ECF6\", \"caxis\": {\"gridcolor\": \"white\", \"linecolor\": \"white\", \"ticks\": \"\"}}, \"title\": {\"x\": 0.05}, \"xaxis\": {\"automargin\": true, \"gridcolor\": \"white\", \"linecolor\": \"white\", \"ticks\": \"\", \"title\": {\"standoff\": 15}, \"zerolinecolor\": \"white\", \"zerolinewidth\": 2}, \"yaxis\": {\"automargin\": true, \"gridcolor\": \"white\", \"linecolor\": \"white\", \"ticks\": \"\", \"title\": {\"standoff\": 15}, \"zerolinecolor\": \"white\", \"zerolinewidth\": 2}}}, \"title\": {\"font\": {\"color\": \"#4D5663\"}, \"text\": \"Demographic of NYC High Schools, <br> All vs. Elite (Avg. SAT score > 1,800)\"}, \"xaxis\": {\"gridcolor\": \"#E1E5ED\", \"showgrid\": true, \"tickfont\": {\"color\": \"#4D5663\"}, \"title\": {\"font\": {\"color\": \"#4D5663\"}, \"text\": \"\"}, \"zerolinecolor\": \"#E1E5ED\"}, \"yaxis\": {\"gridcolor\": \"#E1E5ED\", \"showgrid\": true, \"tickfont\": {\"color\": \"#4D5663\"}, \"title\": {\"font\": {\"color\": \"#4D5663\"}, \"text\": \"Share of all students in %\"}, \"zerolinecolor\": \"#E1E5ED\"}},\n",
       "                        {\"showLink\": true, \"linkText\": \"Export to plot.ly\", \"plotlyServerURL\": \"https://plot.ly\", \"responsive\": true}\n",
       "                    ).then(function(){\n",
       "                            \n",
       "var gd = document.getElementById('d4ee7fcf-69d2-4337-a822-ac04d5c2a73a');\n",
       "var x = new MutationObserver(function (mutations, observer) {{\n",
       "        var display = window.getComputedStyle(gd).display;\n",
       "        if (!display || display === 'none') {{\n",
       "            console.log([gd, 'removed!']);\n",
       "            Plotly.purge(gd);\n",
       "            observer.disconnect();\n",
       "        }}\n",
       "}});\n",
       "\n",
       "// Listen for the removal of the full notebook cells\n",
       "var notebookContainer = gd.closest('#notebook-container');\n",
       "if (notebookContainer) {{\n",
       "    x.observe(notebookContainer, {childList: true});\n",
       "}}\n",
       "\n",
       "// Listen for the clearing of the current output cell\n",
       "var outputEl = gd.closest('.output');\n",
       "if (outputEl) {{\n",
       "    x.observe(outputEl, {childList: true});\n",
       "}}\n",
       "\n",
       "                        })\n",
       "                };\n",
       "                });\n",
       "            </script>\n",
       "        </div>"
      ]
     },
     "metadata": {},
     "output_type": "display_data"
    }
   ],
   "source": [
    "\n",
    "#List of the racial makeups\n",
    "num_race = ['asian_num', 'black_num', 'hispanic_num', 'white_num']\n",
    "\n",
    "#Filter out schools with 'Elite' Sat Scores (> 1800)\n",
    "high_sat_scores = combined[\"sat_score\"] > 1800\n",
    "\n",
    "#Create a dateframe, aggregating the sum of each race, average SAT scores by race\n",
    "race_dist = pd.DataFrame(data=[combined.loc[:, num_race].sum()/combined.loc[:, num_race].sum().sum(),\n",
    "                               combined.loc[high_sat_scores , num_race].sum()/combined.loc[high_sat_scores , num_race].sum().sum()],\n",
    "                         index=[\"All schools\", \"Elite schools\"])*100\n",
    "\n",
    "#Create the appropriate columns\n",
    "race_dist.columns = [\"Asian\",\"Black\",\"Hispanic\", \"White\"]\n",
    "\n",
    "#Stacked bar to analyze demographic of students in these high average SAT scores \n",
    "race_dist.astype(int).iplot(kind=\"bar\", barmode=\"stack\", yTitle='Share of all students in %',\n",
    "                            title='Demographic of NYC High Schools, <br> All vs. Elite (Avg. SAT score > 1,800)')"
   ]
  },
  {
   "cell_type": "markdown",
   "metadata": {},
   "source": [
    "Blacks and hispanics are underrepresented in 'Elite Schools' whereas asians and whites are overrepresented. This could be attributed to certain groups having access to more resources."
   ]
  },
  {
   "cell_type": "markdown",
   "metadata": {},
   "source": [
    "Many of the schools above appear to be specialized science and technology schools that receive extra funding, and only admit students who pass an entrance exam. This doesn't explain the low hispanic_per, but it does explain why their students tend to do better on the SAT -- they are students from all over New York City who did well on a standardized test."
   ]
  },
  {
   "cell_type": "markdown",
   "metadata": {},
   "source": [
    "# Gender Differences in SAT Scores"
   ]
  },
  {
   "cell_type": "code",
   "execution_count": 18,
   "metadata": {},
   "outputs": [
    {
     "data": {
      "image/png": "[encoded data removed]",
      "text/plain": [
       "<Figure size 720x576 with 1 Axes>"
      ]
     },
     "metadata": {
      "needs_background": "light"
     },
     "output_type": "display_data"
    }
   ],
   "source": [
    "gender_fields = ['male_per', 'female_per']\n",
    "\n",
    "ax = combined.corr()['sat_score'][gender_fields].plot.bar(figsize = (10,8), title = 'Correlation of gender and SAT scores')\n",
    "ax.spines['top'].set_visible(False)\n",
    "ax.spines['right'].set_visible(False)\n",
    "\n",
    "for i in ax.patches:\n",
    "    ax.annotate(str(round(i.get_height(),2)),\n",
    "               (i.get_x()+0.23, max(i.get_height(),0)+ 0.0095), rotation=90)"
   ]
  },
  {
   "cell_type": "markdown",
   "metadata": {
    "collapsed": true
   },
   "source": [
    "In the plot above, we can see that females have a positive correlation with SAT scores, whereas males have a negative correlation. However, neither correlation is extremely strong."
   ]
  },
  {
   "cell_type": "code",
   "execution_count": 19,
   "metadata": {},
   "outputs": [
    {
     "data": {
      "application/vnd.plotly.v1+json": {
       "config": {
        "linkText": "Export to plot.ly",
        "plotlyServerURL": "https://plot.ly",
        "showLink": true
       },
       "data": [
        {
         "marker": {
          "color": "rgba(255, 153, 51, 1.0)",
          "line": {
           "width": 1.3
          },
          "opacity": 0.8,
          "size": 12,
          "symbol": "circle"
         },
         "mode": "markers",
         "name": "Manhattan",
         "text": [
          "HENRY STREET SCHOOL FOR INTERNATIONAL STUDIES",
          "UNIVERSITY NEIGHBORHOOD HIGH SCHOOL",
          "EAST SIDE COMMUNITY SCHOOL",
          "MARTA VALLE HIGH SCHOOL",
          "NEW EXPLORATIONS INTO SCIENCE, TECHNOLOGY AND MATH HIGH SCHOOL",
          "BARD HIGH SCHOOL EARLY COLLEGE",
          "47 THE AMERICAN SIGN LANGUAGE AND ENGLISH SECONDARY SCHOOL",
          "FOOD AND FINANCE HIGH SCHOOL",
          "ESSEX STREET ACADEMY",
          "HIGH SCHOOL OF HOSPITALITY MANAGEMENT",
          "PACE HIGH SCHOOL",
          "URBAN ASSEMBLY SCHOOL OF DESIGN AND CONSTRUCTION, THE",
          "FACING HISTORY SCHOOL, THE",
          "URBAN ASSEMBLY ACADEMY OF GOVERNMENT AND LAW, THE",
          "LOWER MANHATTAN ARTS ACADEMY",
          "URBAN ASSEMBLY SCHOOL OF BUSINESS FOR YOUNG WOMEN, THE",
          "GRAMERCY ARTS HIGH SCHOOL",
          "NYC ISCHOOL",
          "MANHATTAN BUSINESS ACADEMY",
          "BUSINESS OF SPORTS SCHOOL",
          "THE HIGH SCHOOL FOR LANGUAGE AND DIPLOMACY",
          "HIGH SCHOOL FOR ENVIRONMENTAL STUDIES",
          "PROFESSIONAL PERFORMING ARTS HIGH SCHOOL",
          "BARUCH COLLEGE CAMPUS HIGH SCHOOL",
          "N.Y.C. LAB SCHOOL FOR COLLABORATIVE STUDIES",
          "N.Y.C. MUSEUM SCHOOL",
          "ELEANOR ROOSEVELT HIGH SCHOOL",
          "MILLENNIUM HIGH SCHOOL",
          "LANDMARK HIGH SCHOOL",
          "HIGH SCHOOL FOR HEALTH PROFESSIONS AND HUMAN SERVICES",
          "LEADERSHIP AND PUBLIC SERVICE HIGH SCHOOL",
          "MANHATTAN ACADEMY FOR ARTS & LANGUAGE",
          "HUDSON HIGH SCHOOL OF LEARNING TECHNOLOGIES",
          "INTERNATIONAL HIGH SCHOOL AT UNION SQUARE",
          "MANHATTAN VILLAGE ACADEMY",
          "VANGUARD HIGH SCHOOL",
          "MANHATTAN INTERNATIONAL HIGH SCHOOL",
          "STUYVESANT HIGH SCHOOL",
          "HIGH SCHOOL OF ECONOMICS AND FINANCE",
          "UNITY CENTER FOR URBAN TECHNOLOGIES",
          "TALENT UNLIMITED HIGH SCHOOL",
          "MURRY BERGTRAUM HIGH SCHOOL FOR BUSINESS CAREERS",
          "JACQUELINE KENNEDY ONASSIS HIGH SCHOOL",
          "REPERTORY COMPANY HIGH SCHOOL FOR THEATRE ARTS",
          "MANHATTAN BRIDGES HIGH SCHOOL",
          "NEW DESIGN HIGH SCHOOL",
          "HIGH SCHOOL FOR DUAL LANGUAGE AND ASIAN STUDIES",
          "THE URBAN ASSEMBLY NEW YORK HARBOR SCHOOL",
          "RICHARD R. GREEN HIGH SCHOOL OF TEACHING",
          "THE HIGH SCHOOL OF FASHION INDUSTRIES",
          "HUMANITIES PREPARATORY ACADEMY",
          "CHELSEA CAREER AND TECHNICAL EDUCATION HIGH SCHOOL",
          "ART AND DESIGN HIGH SCHOOL",
          "LIFE SCIENCES SECONDARY SCHOOL",
          "HIGH SCHOOL FOR ARTS, IMAGINATION AND INQUIRY",
          "URBAN ASSEMBLY SCHOOL FOR MEDIA STUDIES, THE",
          "THE URBAN ASSEMBLY SCHOOL FOR GREEN CAREERS",
          "THE GLOBAL LEARNING COLLABORATIVE",
          "WADLEIGH SECONDARY SCHOOL FOR THE PERFORMING & VISUAL ARTS",
          "FRANK MCCOURT HIGH SCHOOL",
          "BEACON HIGH SCHOOL",
          "FIORELLO H. LAGUARDIA HIGH SCHOOL OF MUSIC & ART AND PERFORMING ARTS",
          "HIGH SCHOOL FOR LAW, ADVOCACY AND COMMUNITY JUSTICE",
          "HIGH SCHOOL OF ARTS AND TECHNOLOGY",
          "MANHATTAN / HUNTER SCIENCE HIGH SCHOOL",
          "FREDERICK DOUGLASS ACADEMY II SECONDARY SCHOOL",
          "COALITION SCHOOL FOR SOCIAL CHANGE",
          "MANHATTAN CENTER FOR SCIENCE AND MATHEMATICS",
          "PARK EAST HIGH SCHOOL",
          "CENTRAL PARK EAST HIGH SCHOOL",
          "YOUNG WOMEN'S LEADERSHIP SCHOOL",
          "YOUNG WOMEN'S LEADERSHIP SCHOOL",
          "HERITAGE SCHOOL, THE",
          "MOTT HALL HIGH SCHOOL",
          "COLUMBIA SECONDARY SCHOOL FOR MATH, SCIENCE, AND ENGINEERING",
          "ACADEMY FOR SOCIAL ACTION: A COLLEGE BOARD SCHOOL",
          "URBAN ASSEMBLY SCHOOL FOR THE PERFORMING ARTS",
          "FREDERICK DOUGLASS ACADEMY",
          "THURGOOD MARSHALL ACADEMY FOR LEARNING AND SOCIAL CHANGE",
          "HIGH SCHOOL FOR MATHEMATICS, SCIENCE AND ENGINEERING AT CITY COLLEGE",
          "CITY COLLEGE ACADEMY OF THE ARTS",
          "COMMUNITY HEALTH ACADEMY OF THE HEIGHTS",
          "WASHINGTON HEIGHTS EXPEDITIONARY LEARNING SCHOOL",
          "HIGH SCHOOL FOR EXCELLENCE AND INNOVATION",
          "HIGH SCHOOL FOR INTERNATIONAL BUSINESS AND FINANCE",
          "HIGH SCHOOL FOR MEDIA AND COMMUNICATIONS",
          "HIGH SCHOOL FOR LAW AND PUBLIC SERVICE",
          "HIGH SCHOOL FOR HEALTH CAREERS AND SCIENCES",
          "A. PHILIP RANDOLPH CAMPUS HIGH SCHOOL",
          "GREGORIO LUPERON HIGH SCHOOL FOR SCIENCE AND MATHEMATICS"
         ],
         "textfont": {
          "color": "#4D5663"
         },
         "type": "scatter",
         "x": [
          38.6,
          42.6,
          45.3,
          53.7,
          50.8,
          68.7,
          57.5,
          55,
          46.6,
          67.8,
          56.3,
          25.1,
          49.4,
          56.1,
          60.1,
          100,
          73.7,
          51.3,
          41,
          27.6,
          52,
          49.6,
          74.7,
          56,
          53,
          57.6,
          67.5,
          61.8,
          51.5,
          70.6,
          53.9,
          45.1,
          39.4,
          38.6,
          61.5,
          53.8,
          55.7,
          40.7,
          45.5,
          37.6,
          78.6,
          50.9,
          59.4,
          78.8,
          48.6,
          61.7,
          48.7,
          39.1,
          67.4,
          92.7,
          57.3,
          35,
          53.3,
          48.4,
          44.3,
          42.1,
          43.1,
          48.6,
          61.6,
          53.4,
          61,
          73.6,
          59.9,
          32.3,
          58.9,
          45.8,
          55.6,
          53.6,
          57.9,
          67.9,
          100,
          100,
          51.4,
          46.5,
          50.4,
          51.3,
          74.6,
          47.8,
          55.9,
          34.2,
          60.4,
          47.7,
          44.2,
          47.2,
          36.2,
          36.5,
          41.4,
          47.3,
          50.1,
          51.1
         ],
         "y": [
          1122,
          1172,
          1149,
          1207,
          1621,
          1856,
          1182,
          1194,
          1156,
          1111,
          1293,
          1269,
          1051,
          1148,
          1200,
          1127,
          1176,
          1435,
          1223.4388059701494,
          1223.4388059701494,
          1223.4388059701494,
          1419,
          1522,
          1577,
          1677,
          1419,
          1758,
          1614,
          1170,
          1306,
          1233,
          1223.4388059701494,
          1223.4388059701494,
          1223.4388059701494,
          1372,
          1199,
          1227,
          2096,
          1374,
          1070,
          1416,
          1240,
          1239,
          1253,
          1058,
          1168,
          1424,
          1212,
          1195,
          1257,
          1255,
          1207,
          1315,
          1236,
          1132,
          1144,
          1223.4388059701494,
          1223.4388059701494,
          1109,
          1223.4388059701494,
          1744,
          1707,
          1196,
          1277,
          1446,
          1096,
          1084,
          1430,
          1128,
          1221,
          1326,
          1326,
          1054,
          1210,
          1223.4388059701494,
          1062,
          1077,
          1374,
          1202,
          1847,
          1270,
          1105,
          1174,
          1223.4388059701494,
          1127,
          1098,
          1102,
          1224,
          1309,
          1014
         ]
        },
        {
         "marker": {
          "color": "rgba(55, 128, 191, 1.0)",
          "line": {
           "width": 1.3
          },
          "opacity": 0.8,
          "size": 12,
          "symbol": "circle"
         },
         "mode": "markers",
         "name": "Bronx",
         "text": [
          "SOUTH BRONX PREPARATORY: A COLLEGE BOARD SCHOOL",
          "INTERNATIONAL COMMUNITY HIGH SCHOOL",
          "COMMUNITY SCHOOL FOR SOCIAL JUSTICE",
          "MOTT HAVEN VILLAGE PREPARATORY HIGH SCHOOL",
          "UNIVERSITY HEIGHTS SECONDARY SCHOOL",
          "HOSTOSsLINCOLN ACADEMY OF SCIENCE",
          "FOREIGN LANGUAGE ACADEMY OF GLOBAL STUDIES",
          "BRONX LEADERSHIP ACADEMY II HIGH SCHOOL",
          "NEW EXPLORERS HIGH SCHOOL",
          "URBAN ASSEMBLY SCHOOL FOR CAREERS IN SPORTS",
          "BRONX ACADEMY OF LETTERS",
          "ALFRED E. SMITH CAREER AND TECHNICAL EDUCATION HIGH SCHOOL",
          "HEALTH OPPORTUNITIES HIGH SCHOOL",
          "BRONX STUDIO SCHOOL FOR WRITERS AND ARTISTS",
          "WOMEN'S ACADEMY OF EXCELLENCE",
          "RENAISSANCE HIGH SCHOOL FOR MUSICAL THEATER & TECHNOLOGY",
          "PABLO NERUDA ACADEMY FOR ARCHITECTURE AND WORLD STUDIES",
          "MILLENNIUM ART ACADEMY",
          "HOLCOMBE L. RUCKER SCHOOL OF COMMUNITY RESEARCH",
          "ANTONIA PANTOJA PREPARATORY ACADEMY, A COLLEGE BOARD SCHOOL",
          "HERBERT H. LEHMAN HIGH SCHOOL",
          "BRONX BRIDGES HIGH SCHOOL",
          "FELISA RINCON DE GAUTIER INSTITUTE FOR LAW AND PUBLIC POLICY, THE",
          "BANANA KELLY HIGH SCHOOL",
          "BRONX EXPEDITIONARY LEARNING HIGH SCHOOL",
          "EAGLE ACADEMY FOR YOUNG MEN",
          "URBAN ASSEMBLY SCHOOL FOR APPLIED MATH AND SCIENCE, THE",
          "EXIMIUS COLLEGE PREPARATORY ACADEMY: A COLLEGE BOARD SCHOOL",
          "MOTT HALL BRONX HIGH SCHOOL",
          "BRONX CENTER FOR SCIENCE AND MATHEMATICS",
          "VALIDUS PREPARATORY ACADEMY: AN EXPEDITIONARY LEARNING SCHOOL",
          "LEADERSHIP INSTITUTE",
          "MORRIS ACADEMY FOR COLLABORATIVE STUDIES",
          "BRONX EARLY COLLEGE ACADEMY FOR TEACHING & LEARNING",
          "DREAMYARD PREPARATORY SCHOOL",
          "ACADEMY FOR LANGUAGE AND TECHNOLOGY",
          "BRONX INTERNATIONAL HIGH SCHOOL",
          "SCHOOL FOR EXCELLENCE",
          "BRONX HIGH SCHOOL OF BUSINESS",
          "BRONX HIGH SCHOOL FOR MEDICAL SCIENCE",
          "BRONX SCHOOL FOR LAW, GOVERNMENT AND JUSTICE",
          "FREDERICK DOUGLASS ACADEMY III SECONDARY SCHOOL",
          "BRONX LEADERSHIP ACADEMY HIGH SCHOOL",
          "HIGH SCHOOL FOR VIOLIN AND DANCE",
          "RIVERDALE / KINGSBRIDGE ACADEMY (MIDDLE SCHOOL / HIGH SCHOOL 141)",
          "BRONX ENGINEERING AND TECHNOLOGY ACADEMY",
          "THEATRE ARTS PRODUCTION COMPANY SCHOOL",
          "THE MARIE CURIE SCHOOL FOR MEDICINE, NURSING, AND HEALTH PROFESSIONS",
          "WEST BRONX ACADEMY FOR THE FUTURE",
          "KINGSBRIDGE INTERNATIONAL HIGH SCHOOL",
          "BRONX SCHOOL OF LAW AND FINANCE",
          "INTERNATIONAL SCHOOL FOR LIBERAL ARTS",
          "INsTECH ACADEMY (M.S. / HIGH SCHOOL 368)",
          "KNOWLEDGE AND POWER PREPARATORY ACADEMY INTERNATIONAL HIGH SCHOOL (KAPPA)",
          "HIGH SCHOOL FOR TEACHING AND THE PROFESSIONS",
          "BELMONT PREPARATORY HIGH SCHOOL",
          "FORDHAM HIGH SCHOOL FOR THE ARTS",
          "FORDHAM LEADERSHIP ACADEMY FOR BUSINESS AND TECHNOLOGY",
          "BRONX HIGH SCHOOL FOR LAW AND COMMUNITY SERVICE",
          "DEWITT CLINTON HIGH SCHOOL",
          "CELIA CRUZ BRONX HIGH SCHOOL OF MUSIC, THE",
          "BRONX HIGH SCHOOL OF SCIENCE",
          "MARBLE HILL HIGH SCHOOL FOR INTERNATIONAL STUDIES",
          "BRONX THEATRE HIGH SCHOOL",
          "DISCOVERY HIGH SCHOOL",
          "HIGH SCHOOL OF AMERICAN STUDIES AT LEHMAN COLLEGE",
          "BRONX HEALTH SCIENCES HIGH SCHOOL",
          "BRONX HIGH SCHOOL FOR WRITING AND COMMUNICATION ARTS",
          "BRONX LAB SCHOOL",
          "ACADEMY FOR SCHOLARSHIP AND ENTREPRENEURSHIP: A COLLEGE BOARD SCHOOL",
          "HIGH SCHOOL OF COMPUTERS AND TECHNOLOGY",
          "COLLEGIATE INSTITUTE FOR MATH AND SCIENCE",
          "BRONX ACADEMY OF HEALTH CAREERS",
          "ASTOR COLLEGIATE ACADEMY",
          "BRONX HIGH SCHOOL FOR THE VISUAL ARTS",
          "HARRY S TRUMAN HIGH SCHOOL",
          "NEW WORLD HIGH SCHOOL",
          "THE BRONXWOOD PREPARATORY ACADEMY",
          "PELHAM PREPARATORY ACADEMY",
          "HIGH SCHOOL FOR CONTEMPORARY ARTS",
          "BRONX AEROSPACE HIGH SCHOOL",
          "METROPOLITAN HIGH SCHOOL, THE",
          "EXPLORATIONS ACADEMY",
          "BRONX LATIN",
          "EAST BRONX ACADEMY FOR THE FUTURE",
          "PEACE AND DIVERSITY ACADEMY",
          "PAN AMERICAN INTERNATIONAL HIGH SCHOOL AT MONROE",
          "THE CINEMA SCHOOL",
          "BRONX CAREER AND COLLEGE PREPARATORY HIGH SCHOOL",
          "HIGH SCHOOL OF WORLD CULTURES",
          "FANNIE LOU HAMER FREEDOM HIGH SCHOOL",
          "WINGS ACADEMY",
          "MONROE ACADEMY FOR VISUAL ARTS & DESIGN"
         ],
         "textfont": {
          "color": "#4D5663"
         },
         "type": "scatter",
         "x": [
          52.6,
          51.4,
          50.8,
          49.9,
          56.8,
          54.8,
          54.7,
          46,
          42.3,
          15.7,
          55.5,
          7.3,
          71.4,
          56,
          99.7,
          62,
          34,
          50.8,
          50.8,
          53,
          38.9,
          47.7,
          57,
          50.1,
          49.9,
          0,
          50.7,
          53.4,
          54,
          53.8,
          55.9,
          47.8,
          46.2,
          51.5,
          55.9,
          51.2,
          54.3,
          47.7,
          45.1,
          57.8,
          54.1,
          48.5,
          56.7,
          85.4,
          48.2,
          17.3,
          69.1,
          83.5,
          42.1,
          47.7,
          43.4,
          51,
          51.1,
          52.8,
          57.7,
          52.8,
          56.8,
          36.6,
          55.6,
          48.9,
          59.3,
          42.2,
          53.3,
          67.9,
          47.6,
          46.2,
          64.7,
          59.2,
          40.5,
          48,
          12.7,
          42.9,
          67.3,
          41.4,
          42,
          40,
          50,
          38.7,
          51.9,
          44.7,
          17.5,
          46,
          49.2,
          50.2,
          47,
          55,
          48.5,
          59.2,
          55.7,
          48,
          45.9,
          46.3,
          47.4
         ],
         "y": [
          1090,
          945,
          1077,
          1097,
          1201,
          1257,
          1186,
          1103,
          1084,
          1181,
          1201,
          1158,
          1095,
          1223.4388059701494,
          1171,
          1158,
          1038,
          1164,
          1084,
          1223.4388059701494,
          1241,
          1223.4388059701494,
          1099,
          1131,
          1049,
          1134,
          1290,
          1169,
          1092,
          1396,
          1075,
          1081,
          1148,
          1223.4388059701494,
          1138,
          951,
          965,
          1074,
          1083,
          1221,
          1224,
          1121,
          1166,
          1039,
          1333,
          1150,
          1190,
          1157,
          1158,
          962,
          1182,
          934,
          1181,
          1180,
          1106,
          1222,
          1077,
          1119,
          1082,
          1255,
          1270,
          1969,
          1263,
          1064,
          1115,
          1920,
          1133,
          1147,
          1135,
          1141,
          1111,
          1348,
          1135,
          1169,
          1268,
          1151,
          1048,
          1112,
          1288,
          1126,
          1163,
          1055,
          1122,
          1251,
          1102,
          1155,
          970,
          1223.4388059701494,
          1223.4388059701494,
          939,
          1029,
          1114,
          1038
         ]
        },
        {
         "marker": {
          "color": "rgba(50, 171, 96, 1.0)",
          "line": {
           "width": 1.3
          },
          "opacity": 0.8,
          "size": 12,
          "symbol": "circle"
         },
         "mode": "markers",
         "name": "Brooklyn",
         "text": [
          "DR. SUSAN S. MCKINNEY SECONDARY SCHOOL OF THE ARTS",
          "URBAN ASSEMBLY HIGH SCHOOL OF MUSIC AND ART",
          "BROOKLYN COMMUNITY HIGH SCHOOL OF COMMUNICATION, ARTS AND MEDIA",
          "SCIENCE SKILLS CENTER HIGH SCHOOL FOR SCIENCE, TECHNOLOGY AND THE CREATIVE ARTS",
          "BROOKLYN TECHNICAL HIGH SCHOOL",
          "BROOKLYN INTERNATIONAL HIGH SCHOOL",
          "THE URBAN ASSEMBLY SCHOOL FOR LAW AND JUSTICE",
          "ACORN COMMUNITY HIGH SCHOOL",
          "URBAN ASSEMBLY INSTITUTE OF MATH AND SCIENCE FOR YOUNG WOMEN",
          "BEDFORD ACADEMY HIGH SCHOOL",
          "GEORGE WESTINGHOUSE CAREER AND TECHNICAL EDUCATION HIGH SCHOOL",
          "BENJAMIN BANNEKER ACADEMY",
          "CITY POLYTECHNIC HIGH SCHOOL OF ENGINEERING, ARCHITECTURE, AND TECHNOLOGY",
          "JUAN MOREL CAMPOS SECONDARY SCHOOL",
          "FOUNDATIONS ACADEMY",
          "BROOKLYN LATIN SCHOOL, THE",
          "GREEN SCHOOL: AN ACADEMY FOR ENVIRONMENTAL CAREERS",
          "PROGRESS HIGH SCHOOL FOR PROFESSIONAL CAREERS",
          "SCHOOL FOR LEGAL STUDIES",
          "THE HIGH SCHOOL FOR ENTERPRISE, BUSINESS AND TECHNOLOGY",
          "BROOKLYN PREPARATORY HIGH SCHOOL",
          "WILLIAMSBURG HIGH SCHOOL FOR ARCHITECTURE AND DESIGN",
          "WILLIAMSBURG PREPARATORY SCHOOL",
          "LYONS COMMUNITY SCHOOL",
          "AUTOMOTIVE HIGH SCHOOL",
          "FRANCES PERKINS ACADEMY",
          "EL PUENTE ACADEMY FOR PEACE AND JUSTICE",
          "BROOKLYN SCHOOL FOR GLOBAL STUDIES",
          "BROOKLYN SECONDARY SCHOOL FOR COLLABORATIVE STUDIES",
          "SECONDARY SCHOOL FOR LAW",
          "SECONDARY SCHOOL FOR JOURNALISM",
          "PARK SLOPE COLLEGIATE",
          "SCHOOL FOR INTERNATIONAL STUDIES",
          "COBBLE HILL SCHOOL OF AMERICAN STUDIES",
          "BROOKLYN HIGH SCHOOL OF THE ARTS",
          "SUNSET PARK HIGH SCHOOL",
          "FREDERICK DOUGLASS ACADEMY IV SECONDARY SCHOOL",
          "BOYS AND GIRLS HIGH SCHOOL",
          "BROOKLYN HIGH SCHOOL FOR LAW AND TECHNOLOGY",
          "THE BROOKLYN ACADEMY OF GLOBAL FINANCE",
          "ACADEMY FOR COLLEGE PREPARATION AND CAREER EXPLORATION: A COLLEGE BOARD SCHOOL",
          "ACADEMY OF HOSPITALITY AND TOURISM",
          "INTERNATIONAL HIGH SCHOOL AT PROSPECT HEIGHTS",
          "THE HIGH SCHOOL FOR GLOBAL CITIZENSHIP",
          "SCHOOL FOR HUMAN RIGHTS, THE",
          "SCHOOL FOR DEMOCRACY AND LEADERSHIP",
          "HIGH SCHOOL FOR YOUTH AND COMMUNITY DEVELOPMENT AT ERASMUS",
          "HIGH SCHOOL FOR SERVICE & LEARNING AT ERASMUS",
          "SCIENCE, TECHNOLOGY AND RESEARCH EARLY COLLEGE HIGH SCHOOL AT ERASMUS",
          "HIGH SCHOOL FOR PUBLIC SERVICE: HEROES OF TOMORROW",
          "BROOKLYN ACADEMY OF SCIENCE AND THE ENVIRONMENT",
          "BROOKLYN SCHOOL FOR MUSIC & THEATRE",
          "MEDGAR EVERS COLLEGE PREPARATORY SCHOOL",
          "CLARA BARTON HIGH SCHOOL",
          "IT TAKES A VILLAGE ACADEMY",
          "BROOKLYN GENERATION SCHOOL",
          "BROOKLYN THEATRE ARTS HIGH SCHOOL",
          "KURT HAHN EXPEDITIONARY LEARNING SCHOOL",
          "VICTORY COLLEGIATE HIGH SCHOOL",
          "ARTS & MEDIA PREPARATORY ACADEMY",
          "HIGH SCHOOL FOR INNOVATION IN ADVERTISING AND MEDIA",
          "CULTURAL ACADEMY FOR THE ARTS AND SCIENCES",
          "HIGH SCHOOL FOR MEDICAL PROFESSIONS",
          "ACADEMY FOR CONSERVATION AND THE ENVIRONMENT",
          "URBAN ACTION ACADEMY",
          "EAST NEW YORK FAMILY ACADEMY",
          "FDNY HIGH SCHOOL FOR FIRE AND LIFE SAFETY",
          "HIGH SCHOOL FOR CIVIL RIGHTS",
          "PERFORMING ARTS AND TECHNOLOGY HIGH SCHOOL",
          "WORLD ACADEMY FOR TOTAL COMMUNITY HEALTH HIGH SCHOOL",
          "MULTICULTURAL HIGH SCHOOL",
          "TRANSIT TECH CAREER AND TECHNICAL EDUCATION HIGH SCHOOL",
          "ACADEMY OF INNOVATIVE TECHNOLOGY",
          "BROOKLYN LAB SCHOOL",
          "CYPRESS HILLS COLLEGIATE PREPARATORY SCHOOL",
          "W. H. MAXWELL CAREER AND TECHNICAL EDUCATION HIGH SCHOOL",
          "THE SCHOOL FOR CLASSICS: AN ACADEMY OF THINKERS, WRITERS AND PERFORMERS",
          "NEW UTRECHT HIGH SCHOOL",
          "HIGH SCHOOL OF TELECOMMUNICATION ARTS AND TECHNOLOGY",
          "FORT HAMILTON HIGH SCHOOL",
          "FRANKLIN DELANO ROOSEVELT HIGH SCHOOL",
          "THE URBAN ASSEMBLY SCHOOL FOR CRIMINAL JUSTICE",
          "INTERNATIONAL HIGH SCHOOL AT LAFAYETTE",
          "RACHEL CARSON HIGH SCHOOL FOR COASTAL STUDIES",
          "HIGH SCHOOL OF SPORTS MANAGEMENT",
          "ABRAHAM LINCOLN HIGH SCHOOL",
          "KINGSBOROUGH EARLY COLLEGE SCHOOL",
          "EDWARD R. MURROW HIGH SCHOOL",
          "JOHN DEWEY HIGH SCHOOL",
          "LIFE ACADEMY HIGH SCHOOL FOR FILM AND MUSIC",
          "EXPEDITIONARY LEARNING SCHOOL FOR COMMUNITY LEADERS",
          "WILLIAM E. GRADY CAREER AND TECHNICAL EDUCATION HIGH SCHOOL",
          "BROOKLYN STUDIO SECONDARY SCHOOL",
          "MIDWOOD HIGH SCHOOL",
          "JAMES MADISON HIGH SCHOOL",
          "LEON M. GOLDSTEIN HIGH SCHOOL FOR THE SCIENCES",
          "BROOKLYN COLLEGE ACADEMY",
          "BROOKLYN COLLEGIATE: A COLLEGE BOARD SCHOOL",
          "FREDERICK DOUGLASS ACADEMY VII HIGH SCHOOL",
          "TEACHERS PREPARATORY HIGH SCHOOL",
          "ACADEMY FOR ENVIRONMENTAL LEADERSHIP",
          "EBC HIGH SCHOOL FOR PUBLIC SERVICE–BUSHWICK",
          "BUSHWICK SCHOOL FOR SOCIAL JUSTICE",
          "ACADEMY OF URBAN PLANNING",
          "ALL CITY LEADERSHIP SECONDARY SCHOOL",
          "BUSHWICK LEADERS HIGH SCHOOL FOR ACADEMIC EXCELLENCE"
         ],
         "textfont": {
          "color": "#4D5663"
         },
         "type": "scatter",
         "x": [
          63,
          57.3,
          54.5,
          43.9,
          41.7,
          51.8,
          60.4,
          44.2,
          100,
          51,
          24.5,
          53.9,
          20.6,
          45.3,
          43.3,
          45.1,
          53.8,
          51.5,
          54.2,
          34.3,
          52.2,
          27.4,
          49,
          46.3,
          4.4,
          23.1,
          57.3,
          43.8,
          40.9,
          55.8,
          57.7,
          47.2,
          49.2,
          56.1,
          66.1,
          49.3,
          51.3,
          38.3,
          48.4,
          48.4,
          46.2,
          50.2,
          40.9,
          49.9,
          48.4,
          48,
          38.4,
          36.7,
          47,
          75.1,
          45.6,
          67.2,
          58.2,
          76.2,
          51,
          39,
          63.9,
          35.7,
          51.1,
          52.6,
          33.5,
          48.5,
          78.5,
          45.3,
          37.4,
          56.8,
          18.9,
          45.6,
          48.6,
          63.2,
          50.2,
          15.9,
          29.7,
          41.6,
          52.2,
          70.2,
          62.4,
          40.7,
          46.5,
          46.6,
          41.6,
          100,
          41.1,
          46.4,
          11.1,
          43.6,
          42.2,
          57.6,
          48.5,
          49,
          48.7,
          22,
          49.9,
          54.7,
          45.6,
          58.8,
          63.7,
          49.3,
          51.5,
          65.9,
          50,
          47.9,
          51.6,
          45.5,
          47.9,
          46.8
         ],
         "y": [
          1074,
          1080,
          1114,
          1211,
          1833,
          981,
          1206,
          1116,
          1223.4388059701494,
          1312,
          1189,
          1391,
          1353,
          1085,
          1223.4388059701494,
          1740,
          1189,
          1114,
          1204,
          1215,
          1090,
          1112,
          1187,
          1103,
          1093,
          1122,
          1035,
          1111,
          1179,
          1203,
          1169,
          1175,
          1212,
          1185,
          1258,
          1223.4388059701494,
          1068,
          1097,
          1092,
          1223.4388059701494,
          1139,
          1045,
          913,
          1176,
          1088,
          1153,
          1027,
          1105,
          1360,
          1273,
          1143,
          1151,
          1436,
          1251,
          963,
          1145,
          1118,
          1092,
          1143,
          1080,
          1183,
          1169,
          1159,
          1111,
          1135,
          1242,
          1023,
          1054,
          1149,
          1106,
          887,
          1193,
          1096,
          1108,
          1129,
          1102,
          1157,
          1272,
          1323,
          1306,
          1244,
          1223.4388059701494,
          1026,
          1237,
          1164,
          1226,
          1223.4388059701494,
          1431,
          1262,
          1124,
          1079,
          1184,
          1313,
          1473,
          1350,
          1627,
          1352,
          1185,
          1091,
          1196,
          1098,
          1154,
          1035,
          1060,
          1315,
          1055
         ]
        },
        {
         "marker": {
          "color": "rgba(128, 0, 128, 1.0)",
          "line": {
           "width": 1.3
          },
          "opacity": 0.8,
          "size": 12,
          "symbol": "circle"
         },
         "mode": "markers",
         "name": "Queens",
         "text": [
          "ACADEMY OF FINANCE AND ENTERPRISE",
          "HIGH SCHOOL OF APPLIED COMMUNICATION",
          "CIVIC LEADERSHIP ACADEMY",
          "PAN AMERICAN INTERNATIONAL HIGH SCHOOL",
          "BARD HIGH SCHOOL EARLY COLLEGE II",
          "NEWTOWN HIGH SCHOOL",
          "GROVER CLEVELAND HIGH SCHOOL",
          "MIDDLE COLLEGE HIGH SCHOOL AT LAGUARDIA COMMUNITY COLLEGE",
          "INTERNATIONAL HIGH SCHOOL AT LAGUARDIA COMMUNITY COLLEGE",
          "HIGH SCHOOL FOR ARTS AND BUSINESS",
          "ROBERT F. WAGNER, JR. SECONDARY SCHOOL FOR ARTS AND TECHNOLOGY",
          "QUEENS VOCATIONAL AND TECHNICAL HIGH SCHOOL",
          "AVIATION CAREER & TECHNICAL EDUCATION HIGH SCHOOL",
          "QUEENS SCHOOL OF INQUIRY, THE",
          "FLUSHING INTERNATIONAL HIGH SCHOOL",
          "EASTsWEST SCHOOL OF INTERNATIONAL STUDIES",
          "WORLD JOURNALISM PREPARATORY: A COLLEGE BOARD SCHOOL",
          "JOHN BOWNE HIGH SCHOOL",
          "FLUSHING HIGH SCHOOL",
          "TOWNSEND HARRIS HIGH SCHOOL",
          "ROBERT F. KENNEDY COMMUNITY HIGH SCHOOL",
          "BENJAMIN N. CARDOZO HIGH SCHOOL",
          "FRANCIS LEWIS HIGH SCHOOL",
          "MARTIN VAN BUREN HIGH SCHOOL",
          "BAYSIDE HIGH SCHOOL",
          "QUEENS HIGH SCHOOL OF TEACHING, LIBERAL ARTS AND THE SCIENCES",
          "FREDERICK DOUGLASS ACADEMY VI HIGH SCHOOL",
          "CHANNEL VIEW SCHOOL FOR RESEARCH",
          "QUEENS HIGH SCHOOL FOR INFORMATION, RESEARCH, AND TECHNOLOGY",
          "ROBERT H. GODDARD HIGH SCHOOL OF COMMUNICATION ARTS AND TECHNOLOGY",
          "ACADEMY OF MEDICAL TECHNOLOGY: A COLLEGE BOARD SCHOOL",
          "SCHOLARS' ACADEMY",
          "AUGUST MARTIN HIGH SCHOOL",
          "RICHMOND HILL HIGH SCHOOL",
          "JOHN ADAMS HIGH SCHOOL",
          "HIGH SCHOOL FOR CONSTRUCTION TRADES, ENGINEERING AND ARCHITECTURE",
          "YORK EARLY COLLEGE ACADEMY",
          "QUEENS COLLEGIATE: A COLLEGE BOARD SCHOOL",
          "HILLSIDE ARTS & LETTERS ACADEMY",
          "FOREST HILLS HIGH SCHOOL",
          "HILLCREST HIGH SCHOOL",
          "THOMAS A. EDISON CAREER AND TECHNICAL EDUCATION HIGH SCHOOL",
          "QUEENS GATEWAY TO HEALTH SCIENCES SECONDARY SCHOOL",
          "QUEENS METROPOLITAN HIGH SCHOOL",
          "QUEENS HIGH SCHOOL FOR THE SCIENCES AT YORK COLLEGE",
          "HIGH SCHOOL FOR LAW ENFORCEMENT AND PUBLIC SAFETY",
          "YOUNG WOMEN'S LEADERSHIP SCHOOL, QUEENS",
          "QUEENS PREPARATORY ACADEMY",
          "PATHWAYS COLLEGE PREPARATORY SCHOOL: A COLLEGE BOARD SCHOOL",
          "EXCELSIOR PREPARATORY HIGH SCHOOL",
          "GEORGE WASHINGTON CARVER HIGH SCHOOL FOR THE SCIENCES",
          "PREPARATORY ACADEMY FOR WRITERS: A COLLEGE BOARD SCHOOL",
          "CAMBRIA HEIGHTS ACADEMY",
          "MATHEMATICS, SCIENCE RESEARCH AND TECHNOLOGY MAGNET HIGH SCHOOL",
          "HUMANITIES & ARTS MAGNET HIGH SCHOOL",
          "YOUNG WOMEN'S LEADERSHIP SCHOOL, ASTORIA",
          "ACADEMY FOR CAREERS IN TELEVISION AND FILM",
          "WILLIAM CULLEN BRYANT HIGH SCHOOL",
          "LONG ISLAND CITY HIGH SCHOOL",
          "FRANK SINATRA SCHOOL OF THE ARTS HIGH SCHOOL",
          "INFORMATION TECHNOLOGY HIGH SCHOOL",
          "NEWCOMERS HIGH SCHOOL",
          "ACADEMY OF AMERICAN STUDIES",
          "BACCALAUREATE SCHOOL FOR GLOBAL EDUCATION"
         ],
         "textfont": {
          "color": "#4D5663"
         },
         "type": "scatter",
         "x": [
          50.7,
          56.2,
          55.5,
          52.2,
          60.7,
          42.5,
          45,
          47.1,
          54,
          56.9,
          53.4,
          39.7,
          14.7,
          53.3,
          42.7,
          45.9,
          57.8,
          50.8,
          44.2,
          71.1,
          46.2,
          52.6,
          50.8,
          45.7,
          50.6,
          54.2,
          47.4,
          48.9,
          45.5,
          51.9,
          56.2,
          56.1,
          44.8,
          47,
          45.5,
          32.7,
          48.9,
          50.1,
          53,
          51.9,
          53.9,
          34.9,
          61.9,
          50.4,
          43.5,
          47,
          100,
          44,
          46.7,
          43.1,
          52.7,
          56.9,
          44.9,
          39.6,
          57.2,
          100,
          46.8,
          46.3,
          48.7,
          70,
          28.2,
          46.8,
          55,
          55.2
         ],
         "y": [
          1280,
          1219,
          1240,
          951,
          1663,
          1203,
          1211,
          1177,
          1064,
          1174,
          1330,
          1270,
          1364,
          1396,
          1049,
          1271,
          1441,
          1243,
          1216,
          1910,
          1330,
          1514,
          1474,
          1172,
          1449,
          1279,
          1145,
          1252,
          1156,
          1265,
          1094,
          1532,
          1108,
          1154,
          1192,
          1345,
          1223.4388059701494,
          1265,
          1223.4388059701494,
          1407,
          1194,
          1372,
          1538,
          1223.4388059701494,
          1868,
          1196,
          1316,
          1099,
          1173,
          1202,
          1287,
          1100,
          1223.4388059701494,
          1220,
          1151,
          1223.4388059701494,
          1255,
          1275,
          1218,
          1494,
          1239,
          1127,
          1470,
          1636
         ]
        },
        {
         "marker": {
          "color": "rgba(219, 64, 82, 1.0)",
          "line": {
           "width": 1.3
          },
          "opacity": 0.8,
          "size": 12,
          "symbol": "circle"
         },
         "mode": "markers",
         "name": "Staten Island",
         "text": [
          "CSI HIGH SCHOOL FOR INTERNATIONAL STUDIES",
          "GAYNOR MCCOWN EXPEDITIONARY LEARNING SCHOOL",
          "THE MICHAEL J. PETRIDES SCHOOL",
          "NEW DORP HIGH SCHOOL",
          "PORT RICHMOND HIGH SCHOOL",
          "CURTIS HIGH SCHOOL",
          "TOTTENVILLE HIGH SCHOOL",
          "SUSAN E. WAGNER HIGH SCHOOL",
          "RALPH R. MCKEE CAREER AND TECHNICAL EDUCATION HIGH SCHOOL",
          "STATEN ISLAND TECHNICAL HIGH SCHOOL"
         ],
         "textfont": {
          "color": "#4D5663"
         },
         "type": "scatter",
         "x": [
          58.5,
          48,
          50.8,
          47.5,
          45.2,
          53.6,
          50.4,
          49.2,
          32.9,
          43
         ],
         "y": [
          1353,
          1195,
          1426,
          1277,
          1279,
          1301,
          1418,
          1388,
          1235,
          1953
         ]
        }
       ],
       "layout": {
        "legend": {
         "bgcolor": "#F5F6F9",
         "font": {
          "color": "#4D5663"
         }
        },
        "paper_bgcolor": "#F5F6F9",
        "plot_bgcolor": "#F5F6F9",
        "shapes": [
         {
          "line": {
           "color": "#000000",
           "dash": "dash",
           "width": 1
          },
          "type": "line",
          "x0": 0,
          "x1": 1,
          "xref": "paper",
          "y0": 1223.438805970149,
          "y1": 1223.438805970149,
          "yref": "y"
         },
         {
          "line": {
           "color": "#000000",
           "dash": "dash",
           "width": 1
          },
          "type": "line",
          "x0": 50.62066115702485,
          "x1": 50.62066115702485,
          "xref": "x",
          "y0": 0,
          "y1": 1,
          "yref": "paper"
         }
        ],
        "title": "Female students vs. SAT score by school <br> Dashed lines: Averages of each parameter",
        "titlefont": {
         "color": "#4D5663"
        },
        "xaxis": {
         "gridcolor": "#E1E5ED",
         "showgrid": true,
         "tickfont": {
          "color": "#4D5663"
         },
         "title": "Share females, %",
         "titlefont": {
          "color": "#4D5663"
         },
         "zerolinecolor": "#E1E5ED"
        },
        "yaxis": {
         "gridcolor": "#E1E5ED",
         "showgrid": true,
         "tickfont": {
          "color": "#4D5663"
         },
         "title": "Avg. SAT score",
         "titlefont": {
          "color": "#4D5663"
         },
         "zerolinecolor": "#E1E5ED"
        }
       }
      },
      "text/html": [
       "<div>\n",
       "        \n",
       "        \n",
       "            <div id=\"2dcb29a9-1c6d-4681-84ab-dcf2683ad4d0\" class=\"plotly-graph-div\" style=\"height:525px; width:100%;\"></div>\n",
       "            <script type=\"text/javascript\">\n",
       "                require([\"plotly\"], function(Plotly) {\n",
       "                    window.PLOTLYENV=window.PLOTLYENV || {};\n",
       "                    window.PLOTLYENV.BASE_URL='https://plot.ly';\n",
       "                    \n",
       "                if (document.getElementById(\"2dcb29a9-1c6d-4681-84ab-dcf2683ad4d0\")) {\n",
       "                    Plotly.newPlot(\n",
       "                        '2dcb29a9-1c6d-4681-84ab-dcf2683ad4d0',\n",
       "                        [{\"marker\": {\"color\": \"rgba(255, 153, 51, 1.0)\", \"line\": {\"width\": 1.3}, \"opacity\": 0.8, \"size\": 12, \"symbol\": \"circle\"}, \"mode\": \"markers\", \"name\": \"Manhattan\", \"text\": [\"HENRY STREET SCHOOL FOR INTERNATIONAL STUDIES\", \"UNIVERSITY NEIGHBORHOOD HIGH SCHOOL\", \"EAST SIDE COMMUNITY SCHOOL\", \"MARTA VALLE HIGH SCHOOL\", \"NEW EXPLORATIONS INTO SCIENCE, TECHNOLOGY AND MATH HIGH SCHOOL\", \"BARD HIGH SCHOOL EARLY COLLEGE\", \"47 THE AMERICAN SIGN LANGUAGE AND ENGLISH SECONDARY SCHOOL\", \"FOOD AND FINANCE HIGH SCHOOL\", \"ESSEX STREET ACADEMY\", \"HIGH SCHOOL OF HOSPITALITY MANAGEMENT\", \"PACE HIGH SCHOOL\", \"URBAN ASSEMBLY SCHOOL OF DESIGN AND CONSTRUCTION, THE\", \"FACING HISTORY SCHOOL, THE\", \"URBAN ASSEMBLY ACADEMY OF GOVERNMENT AND LAW, THE\", \"LOWER MANHATTAN ARTS ACADEMY\", \"URBAN ASSEMBLY SCHOOL OF BUSINESS FOR YOUNG WOMEN, THE\", \"GRAMERCY ARTS HIGH SCHOOL\", \"NYC ISCHOOL\", \"MANHATTAN BUSINESS ACADEMY\", \"BUSINESS OF SPORTS SCHOOL\", \"THE HIGH SCHOOL FOR LANGUAGE AND DIPLOMACY\", \"HIGH SCHOOL FOR ENVIRONMENTAL STUDIES\", \"PROFESSIONAL PERFORMING ARTS HIGH SCHOOL\", \"BARUCH COLLEGE CAMPUS HIGH SCHOOL\", \"N.Y.C. LAB SCHOOL FOR COLLABORATIVE STUDIES\", \"N.Y.C. MUSEUM SCHOOL\", \"ELEANOR ROOSEVELT HIGH SCHOOL\", \"MILLENNIUM HIGH SCHOOL\", \"LANDMARK HIGH SCHOOL\", \"HIGH SCHOOL FOR HEALTH PROFESSIONS AND HUMAN SERVICES\", \"LEADERSHIP AND PUBLIC SERVICE HIGH SCHOOL\", \"MANHATTAN ACADEMY FOR ARTS & LANGUAGE\", \"HUDSON HIGH SCHOOL OF LEARNING TECHNOLOGIES\", \"INTERNATIONAL HIGH SCHOOL AT UNION SQUARE\", \"MANHATTAN VILLAGE ACADEMY\", \"VANGUARD HIGH SCHOOL\", \"MANHATTAN INTERNATIONAL HIGH SCHOOL\", \"STUYVESANT HIGH SCHOOL\", \"HIGH SCHOOL OF ECONOMICS AND FINANCE\", \"UNITY CENTER FOR URBAN TECHNOLOGIES\", \"TALENT UNLIMITED HIGH SCHOOL\", \"MURRY BERGTRAUM HIGH SCHOOL FOR BUSINESS CAREERS\", \"JACQUELINE KENNEDY ONASSIS HIGH SCHOOL\", \"REPERTORY COMPANY HIGH SCHOOL FOR THEATRE ARTS\", \"MANHATTAN BRIDGES HIGH SCHOOL\", \"NEW DESIGN HIGH SCHOOL\", \"HIGH SCHOOL FOR DUAL LANGUAGE AND ASIAN STUDIES\", \"THE URBAN ASSEMBLY NEW YORK HARBOR SCHOOL\", \"RICHARD R. GREEN HIGH SCHOOL OF TEACHING\", \"THE HIGH SCHOOL OF FASHION INDUSTRIES\", \"HUMANITIES PREPARATORY ACADEMY\", \"CHELSEA CAREER AND TECHNICAL EDUCATION HIGH SCHOOL\", \"ART AND DESIGN HIGH SCHOOL\", \"LIFE SCIENCES SECONDARY SCHOOL\", \"HIGH SCHOOL FOR ARTS, IMAGINATION AND INQUIRY\", \"URBAN ASSEMBLY SCHOOL FOR MEDIA STUDIES, THE\", \"THE URBAN ASSEMBLY SCHOOL FOR GREEN CAREERS\", \"THE GLOBAL LEARNING COLLABORATIVE\", \"WADLEIGH SECONDARY SCHOOL FOR THE PERFORMING & VISUAL ARTS\", \"FRANK MCCOURT HIGH SCHOOL\", \"BEACON HIGH SCHOOL\", \"FIORELLO H. LAGUARDIA HIGH SCHOOL OF MUSIC & ART AND PERFORMING ARTS\", \"HIGH SCHOOL FOR LAW, ADVOCACY AND COMMUNITY JUSTICE\", \"HIGH SCHOOL OF ARTS AND TECHNOLOGY\", \"MANHATTAN / HUNTER SCIENCE HIGH SCHOOL\", \"FREDERICK DOUGLASS ACADEMY II SECONDARY SCHOOL\", \"COALITION SCHOOL FOR SOCIAL CHANGE\", \"MANHATTAN CENTER FOR SCIENCE AND MATHEMATICS\", \"PARK EAST HIGH SCHOOL\", \"CENTRAL PARK EAST HIGH SCHOOL\", \"YOUNG WOMEN'S LEADERSHIP SCHOOL\", \"YOUNG WOMEN'S LEADERSHIP SCHOOL\", \"HERITAGE SCHOOL, THE\", \"MOTT HALL HIGH SCHOOL\", \"COLUMBIA SECONDARY SCHOOL FOR MATH, SCIENCE, AND ENGINEERING\", \"ACADEMY FOR SOCIAL ACTION: A COLLEGE BOARD SCHOOL\", \"URBAN ASSEMBLY SCHOOL FOR THE PERFORMING ARTS\", \"FREDERICK DOUGLASS ACADEMY\", \"THURGOOD MARSHALL ACADEMY FOR LEARNING AND SOCIAL CHANGE\", \"HIGH SCHOOL FOR MATHEMATICS, SCIENCE AND ENGINEERING AT CITY COLLEGE\", \"CITY COLLEGE ACADEMY OF THE ARTS\", \"COMMUNITY HEALTH ACADEMY OF THE HEIGHTS\", \"WASHINGTON HEIGHTS EXPEDITIONARY LEARNING SCHOOL\", \"HIGH SCHOOL FOR EXCELLENCE AND INNOVATION\", \"HIGH SCHOOL FOR INTERNATIONAL BUSINESS AND FINANCE\", \"HIGH SCHOOL FOR MEDIA AND COMMUNICATIONS\", \"HIGH SCHOOL FOR LAW AND PUBLIC SERVICE\", \"HIGH SCHOOL FOR HEALTH CAREERS AND SCIENCES\", \"A. PHILIP RANDOLPH CAMPUS HIGH SCHOOL\", \"GREGORIO LUPERON HIGH SCHOOL FOR SCIENCE AND MATHEMATICS\"], \"textfont\": {\"color\": \"#4D5663\"}, \"type\": \"scatter\", \"x\": [38.6, 42.6, 45.3, 53.7, 50.8, 68.7, 57.5, 55.0, 46.6, 67.8, 56.3, 25.1, 49.4, 56.1, 60.1, 100.0, 73.7, 51.3, 41.0, 27.6, 52.0, 49.6, 74.7, 56.0, 53.0, 57.6, 67.5, 61.8, 51.5, 70.6, 53.9, 45.1, 39.4, 38.6, 61.5, 53.8, 55.7, 40.7, 45.5, 37.6, 78.6, 50.9, 59.4, 78.8, 48.6, 61.7, 48.7, 39.1, 67.4, 92.7, 57.3, 35.0, 53.3, 48.4, 44.3, 42.1, 43.1, 48.6, 61.6, 53.4, 61.0, 73.6, 59.9, 32.3, 58.9, 45.8, 55.6, 53.6, 57.9, 67.9, 100.0, 100.0, 51.4, 46.5, 50.4, 51.3, 74.6, 47.8, 55.9, 34.2, 60.4, 47.7, 44.2, 47.2, 36.2, 36.5, 41.4, 47.3, 50.1, 51.1], \"y\": [1122.0, 1172.0, 1149.0, 1207.0, 1621.0, 1856.0, 1182.0, 1194.0, 1156.0, 1111.0, 1293.0, 1269.0, 1051.0, 1148.0, 1200.0, 1127.0, 1176.0, 1435.0, 1223.4388059701494, 1223.4388059701494, 1223.4388059701494, 1419.0, 1522.0, 1577.0, 1677.0, 1419.0, 1758.0, 1614.0, 1170.0, 1306.0, 1233.0, 1223.4388059701494, 1223.4388059701494, 1223.4388059701494, 1372.0, 1199.0, 1227.0, 2096.0, 1374.0, 1070.0, 1416.0, 1240.0, 1239.0, 1253.0, 1058.0, 1168.0, 1424.0, 1212.0, 1195.0, 1257.0, 1255.0, 1207.0, 1315.0, 1236.0, 1132.0, 1144.0, 1223.4388059701494, 1223.4388059701494, 1109.0, 1223.4388059701494, 1744.0, 1707.0, 1196.0, 1277.0, 1446.0, 1096.0, 1084.0, 1430.0, 1128.0, 1221.0, 1326.0, 1326.0, 1054.0, 1210.0, 1223.4388059701494, 1062.0, 1077.0, 1374.0, 1202.0, 1847.0, 1270.0, 1105.0, 1174.0, 1223.4388059701494, 1127.0, 1098.0, 1102.0, 1224.0, 1309.0, 1014.0]}, {\"marker\": {\"color\": \"rgba(55, 128, 191, 1.0)\", \"line\": {\"width\": 1.3}, \"opacity\": 0.8, \"size\": 12, \"symbol\": \"circle\"}, \"mode\": \"markers\", \"name\": \"Bronx\", \"text\": [\"SOUTH BRONX PREPARATORY: A COLLEGE BOARD SCHOOL\", \"INTERNATIONAL COMMUNITY HIGH SCHOOL\", \"COMMUNITY SCHOOL FOR SOCIAL JUSTICE\", \"MOTT HAVEN VILLAGE PREPARATORY HIGH SCHOOL\", \"UNIVERSITY HEIGHTS SECONDARY SCHOOL\", \"HOSTOSsLINCOLN ACADEMY OF SCIENCE\", \"FOREIGN LANGUAGE ACADEMY OF GLOBAL STUDIES\", \"BRONX LEADERSHIP ACADEMY II HIGH SCHOOL\", \"NEW EXPLORERS HIGH SCHOOL\", \"URBAN ASSEMBLY SCHOOL FOR CAREERS IN SPORTS\", \"BRONX ACADEMY OF LETTERS\", \"ALFRED E. SMITH CAREER AND TECHNICAL EDUCATION HIGH SCHOOL\", \"HEALTH OPPORTUNITIES HIGH SCHOOL\", \"BRONX STUDIO SCHOOL FOR WRITERS AND ARTISTS\", \"WOMEN'S ACADEMY OF EXCELLENCE\", \"RENAISSANCE HIGH SCHOOL FOR MUSICAL THEATER & TECHNOLOGY\", \"PABLO NERUDA ACADEMY FOR ARCHITECTURE AND WORLD STUDIES\", \"MILLENNIUM ART ACADEMY\", \"HOLCOMBE L. RUCKER SCHOOL OF COMMUNITY RESEARCH\", \"ANTONIA PANTOJA PREPARATORY ACADEMY, A COLLEGE BOARD SCHOOL\", \"HERBERT H. LEHMAN HIGH SCHOOL\", \"BRONX BRIDGES HIGH SCHOOL\", \"FELISA RINCON DE GAUTIER INSTITUTE FOR LAW AND PUBLIC POLICY, THE\", \"BANANA KELLY HIGH SCHOOL\", \"BRONX EXPEDITIONARY LEARNING HIGH SCHOOL\", \"EAGLE ACADEMY FOR YOUNG MEN\", \"URBAN ASSEMBLY SCHOOL FOR APPLIED MATH AND SCIENCE, THE\", \"EXIMIUS COLLEGE PREPARATORY ACADEMY: A COLLEGE BOARD SCHOOL\", \"MOTT HALL BRONX HIGH SCHOOL\", \"BRONX CENTER FOR SCIENCE AND MATHEMATICS\", \"VALIDUS PREPARATORY ACADEMY: AN EXPEDITIONARY LEARNING SCHOOL\", \"LEADERSHIP INSTITUTE\", \"MORRIS ACADEMY FOR COLLABORATIVE STUDIES\", \"BRONX EARLY COLLEGE ACADEMY FOR TEACHING & LEARNING\", \"DREAMYARD PREPARATORY SCHOOL\", \"ACADEMY FOR LANGUAGE AND TECHNOLOGY\", \"BRONX INTERNATIONAL HIGH SCHOOL\", \"SCHOOL FOR EXCELLENCE\", \"BRONX HIGH SCHOOL OF BUSINESS\", \"BRONX HIGH SCHOOL FOR MEDICAL SCIENCE\", \"BRONX SCHOOL FOR LAW, GOVERNMENT AND JUSTICE\", \"FREDERICK DOUGLASS ACADEMY III SECONDARY SCHOOL\", \"BRONX LEADERSHIP ACADEMY HIGH SCHOOL\", \"HIGH SCHOOL FOR VIOLIN AND DANCE\", \"RIVERDALE / KINGSBRIDGE ACADEMY (MIDDLE SCHOOL / HIGH SCHOOL 141)\", \"BRONX ENGINEERING AND TECHNOLOGY ACADEMY\", \"THEATRE ARTS PRODUCTION COMPANY SCHOOL\", \"THE MARIE CURIE SCHOOL FOR MEDICINE, NURSING, AND HEALTH PROFESSIONS\", \"WEST BRONX ACADEMY FOR THE FUTURE\", \"KINGSBRIDGE INTERNATIONAL HIGH SCHOOL\", \"BRONX SCHOOL OF LAW AND FINANCE\", \"INTERNATIONAL SCHOOL FOR LIBERAL ARTS\", \"INsTECH ACADEMY (M.S. / HIGH SCHOOL 368)\", \"KNOWLEDGE AND POWER PREPARATORY ACADEMY INTERNATIONAL HIGH SCHOOL (KAPPA)\", \"HIGH SCHOOL FOR TEACHING AND THE PROFESSIONS\", \"BELMONT PREPARATORY HIGH SCHOOL\", \"FORDHAM HIGH SCHOOL FOR THE ARTS\", \"FORDHAM LEADERSHIP ACADEMY FOR BUSINESS AND TECHNOLOGY\", \"BRONX HIGH SCHOOL FOR LAW AND COMMUNITY SERVICE\", \"DEWITT CLINTON HIGH SCHOOL\", \"CELIA CRUZ BRONX HIGH SCHOOL OF MUSIC, THE\", \"BRONX HIGH SCHOOL OF SCIENCE\", \"MARBLE HILL HIGH SCHOOL FOR INTERNATIONAL STUDIES\", \"BRONX THEATRE HIGH SCHOOL\", \"DISCOVERY HIGH SCHOOL\", \"HIGH SCHOOL OF AMERICAN STUDIES AT LEHMAN COLLEGE\", \"BRONX HEALTH SCIENCES HIGH SCHOOL\", \"BRONX HIGH SCHOOL FOR WRITING AND COMMUNICATION ARTS\", \"BRONX LAB SCHOOL\", \"ACADEMY FOR SCHOLARSHIP AND ENTREPRENEURSHIP: A COLLEGE BOARD SCHOOL\", \"HIGH SCHOOL OF COMPUTERS AND TECHNOLOGY\", \"COLLEGIATE INSTITUTE FOR MATH AND SCIENCE\", \"BRONX ACADEMY OF HEALTH CAREERS\", \"ASTOR COLLEGIATE ACADEMY\", \"BRONX HIGH SCHOOL FOR THE VISUAL ARTS\", \"HARRY S TRUMAN HIGH SCHOOL\", \"NEW WORLD HIGH SCHOOL\", \"THE BRONXWOOD PREPARATORY ACADEMY\", \"PELHAM PREPARATORY ACADEMY\", \"HIGH SCHOOL FOR CONTEMPORARY ARTS\", \"BRONX AEROSPACE HIGH SCHOOL\", \"METROPOLITAN HIGH SCHOOL, THE\", \"EXPLORATIONS ACADEMY\", \"BRONX LATIN\", \"EAST BRONX ACADEMY FOR THE FUTURE\", \"PEACE AND DIVERSITY ACADEMY\", \"PAN AMERICAN INTERNATIONAL HIGH SCHOOL AT MONROE\", \"THE CINEMA SCHOOL\", \"BRONX CAREER AND COLLEGE PREPARATORY HIGH SCHOOL\", \"HIGH SCHOOL OF WORLD CULTURES\", \"FANNIE LOU HAMER FREEDOM HIGH SCHOOL\", \"WINGS ACADEMY\", \"MONROE ACADEMY FOR VISUAL ARTS & DESIGN\"], \"textfont\": {\"color\": \"#4D5663\"}, \"type\": \"scatter\", \"x\": [52.6, 51.4, 50.8, 49.9, 56.8, 54.8, 54.7, 46.0, 42.3, 15.7, 55.5, 7.3, 71.4, 56.0, 99.7, 62.0, 34.0, 50.8, 50.8, 53.0, 38.9, 47.7, 57.0, 50.1, 49.9, 0.0, 50.7, 53.4, 54.0, 53.8, 55.9, 47.8, 46.2, 51.5, 55.9, 51.2, 54.3, 47.7, 45.1, 57.8, 54.1, 48.5, 56.7, 85.4, 48.2, 17.3, 69.1, 83.5, 42.1, 47.7, 43.4, 51.0, 51.1, 52.8, 57.7, 52.8, 56.8, 36.6, 55.6, 48.9, 59.3, 42.2, 53.3, 67.9, 47.6, 46.2, 64.7, 59.2, 40.5, 48.0, 12.7, 42.9, 67.3, 41.4, 42.0, 40.0, 50.0, 38.7, 51.9, 44.7, 17.5, 46.0, 49.2, 50.2, 47.0, 55.0, 48.5, 59.2, 55.7, 48.0, 45.9, 46.3, 47.4], \"y\": [1090.0, 945.0, 1077.0, 1097.0, 1201.0, 1257.0, 1186.0, 1103.0, 1084.0, 1181.0, 1201.0, 1158.0, 1095.0, 1223.4388059701494, 1171.0, 1158.0, 1038.0, 1164.0, 1084.0, 1223.4388059701494, 1241.0, 1223.4388059701494, 1099.0, 1131.0, 1049.0, 1134.0, 1290.0, 1169.0, 1092.0, 1396.0, 1075.0, 1081.0, 1148.0, 1223.4388059701494, 1138.0, 951.0, 965.0, 1074.0, 1083.0, 1221.0, 1224.0, 1121.0, 1166.0, 1039.0, 1333.0, 1150.0, 1190.0, 1157.0, 1158.0, 962.0, 1182.0, 934.0, 1181.0, 1180.0, 1106.0, 1222.0, 1077.0, 1119.0, 1082.0, 1255.0, 1270.0, 1969.0, 1263.0, 1064.0, 1115.0, 1920.0, 1133.0, 1147.0, 1135.0, 1141.0, 1111.0, 1348.0, 1135.0, 1169.0, 1268.0, 1151.0, 1048.0, 1112.0, 1288.0, 1126.0, 1163.0, 1055.0, 1122.0, 1251.0, 1102.0, 1155.0, 970.0, 1223.4388059701494, 1223.4388059701494, 939.0, 1029.0, 1114.0, 1038.0]}, {\"marker\": {\"color\": \"rgba(50, 171, 96, 1.0)\", \"line\": {\"width\": 1.3}, \"opacity\": 0.8, \"size\": 12, \"symbol\": \"circle\"}, \"mode\": \"markers\", \"name\": \"Brooklyn\", \"text\": [\"DR. SUSAN S. MCKINNEY SECONDARY SCHOOL OF THE ARTS\", \"URBAN ASSEMBLY HIGH SCHOOL OF MUSIC AND ART\", \"BROOKLYN COMMUNITY HIGH SCHOOL OF COMMUNICATION, ARTS AND MEDIA\", \"SCIENCE SKILLS CENTER HIGH SCHOOL FOR SCIENCE, TECHNOLOGY AND THE CREATIVE ARTS\", \"BROOKLYN TECHNICAL HIGH SCHOOL\", \"BROOKLYN INTERNATIONAL HIGH SCHOOL\", \"THE URBAN ASSEMBLY SCHOOL FOR LAW AND JUSTICE\", \"ACORN COMMUNITY HIGH SCHOOL\", \"URBAN ASSEMBLY INSTITUTE OF MATH AND SCIENCE FOR YOUNG WOMEN\", \"BEDFORD ACADEMY HIGH SCHOOL\", \"GEORGE WESTINGHOUSE CAREER AND TECHNICAL EDUCATION HIGH SCHOOL\", \"BENJAMIN BANNEKER ACADEMY\", \"CITY POLYTECHNIC HIGH SCHOOL OF ENGINEERING, ARCHITECTURE, AND TECHNOLOGY\", \"JUAN MOREL CAMPOS SECONDARY SCHOOL\", \"FOUNDATIONS ACADEMY\", \"BROOKLYN LATIN SCHOOL, THE\", \"GREEN SCHOOL: AN ACADEMY FOR ENVIRONMENTAL CAREERS\", \"PROGRESS HIGH SCHOOL FOR PROFESSIONAL CAREERS\", \"SCHOOL FOR LEGAL STUDIES\", \"THE HIGH SCHOOL FOR ENTERPRISE, BUSINESS AND TECHNOLOGY\", \"BROOKLYN PREPARATORY HIGH SCHOOL\", \"WILLIAMSBURG HIGH SCHOOL FOR ARCHITECTURE AND DESIGN\", \"WILLIAMSBURG PREPARATORY SCHOOL\", \"LYONS COMMUNITY SCHOOL\", \"AUTOMOTIVE HIGH SCHOOL\", \"FRANCES PERKINS ACADEMY\", \"EL PUENTE ACADEMY FOR PEACE AND JUSTICE\", \"BROOKLYN SCHOOL FOR GLOBAL STUDIES\", \"BROOKLYN SECONDARY SCHOOL FOR COLLABORATIVE STUDIES\", \"SECONDARY SCHOOL FOR LAW\", \"SECONDARY SCHOOL FOR JOURNALISM\", \"PARK SLOPE COLLEGIATE\", \"SCHOOL FOR INTERNATIONAL STUDIES\", \"COBBLE HILL SCHOOL OF AMERICAN STUDIES\", \"BROOKLYN HIGH SCHOOL OF THE ARTS\", \"SUNSET PARK HIGH SCHOOL\", \"FREDERICK DOUGLASS ACADEMY IV SECONDARY SCHOOL\", \"BOYS AND GIRLS HIGH SCHOOL\", \"BROOKLYN HIGH SCHOOL FOR LAW AND TECHNOLOGY\", \"THE BROOKLYN ACADEMY OF GLOBAL FINANCE\", \"ACADEMY FOR COLLEGE PREPARATION AND CAREER EXPLORATION: A COLLEGE BOARD SCHOOL\", \"ACADEMY OF HOSPITALITY AND TOURISM\", \"INTERNATIONAL HIGH SCHOOL AT PROSPECT HEIGHTS\", \"THE HIGH SCHOOL FOR GLOBAL CITIZENSHIP\", \"SCHOOL FOR HUMAN RIGHTS, THE\", \"SCHOOL FOR DEMOCRACY AND LEADERSHIP\", \"HIGH SCHOOL FOR YOUTH AND COMMUNITY DEVELOPMENT AT ERASMUS\", \"HIGH SCHOOL FOR SERVICE & LEARNING AT ERASMUS\", \"SCIENCE, TECHNOLOGY AND RESEARCH EARLY COLLEGE HIGH SCHOOL AT ERASMUS\", \"HIGH SCHOOL FOR PUBLIC SERVICE: HEROES OF TOMORROW\", \"BROOKLYN ACADEMY OF SCIENCE AND THE ENVIRONMENT\", \"BROOKLYN SCHOOL FOR MUSIC & THEATRE\", \"MEDGAR EVERS COLLEGE PREPARATORY SCHOOL\", \"CLARA BARTON HIGH SCHOOL\", \"IT TAKES A VILLAGE ACADEMY\", \"BROOKLYN GENERATION SCHOOL\", \"BROOKLYN THEATRE ARTS HIGH SCHOOL\", \"KURT HAHN EXPEDITIONARY LEARNING SCHOOL\", \"VICTORY COLLEGIATE HIGH SCHOOL\", \"ARTS & MEDIA PREPARATORY ACADEMY\", \"HIGH SCHOOL FOR INNOVATION IN ADVERTISING AND MEDIA\", \"CULTURAL ACADEMY FOR THE ARTS AND SCIENCES\", \"HIGH SCHOOL FOR MEDICAL PROFESSIONS\", \"ACADEMY FOR CONSERVATION AND THE ENVIRONMENT\", \"URBAN ACTION ACADEMY\", \"EAST NEW YORK FAMILY ACADEMY\", \"FDNY HIGH SCHOOL FOR FIRE AND LIFE SAFETY\", \"HIGH SCHOOL FOR CIVIL RIGHTS\", \"PERFORMING ARTS AND TECHNOLOGY HIGH SCHOOL\", \"WORLD ACADEMY FOR TOTAL COMMUNITY HEALTH HIGH SCHOOL\", \"MULTICULTURAL HIGH SCHOOL\", \"TRANSIT TECH CAREER AND TECHNICAL EDUCATION HIGH SCHOOL\", \"ACADEMY OF INNOVATIVE TECHNOLOGY\", \"BROOKLYN LAB SCHOOL\", \"CYPRESS HILLS COLLEGIATE PREPARATORY SCHOOL\", \"W. H. MAXWELL CAREER AND TECHNICAL EDUCATION HIGH SCHOOL\", \"THE SCHOOL FOR CLASSICS: AN ACADEMY OF THINKERS, WRITERS AND PERFORMERS\", \"NEW UTRECHT HIGH SCHOOL\", \"HIGH SCHOOL OF TELECOMMUNICATION ARTS AND TECHNOLOGY\", \"FORT HAMILTON HIGH SCHOOL\", \"FRANKLIN DELANO ROOSEVELT HIGH SCHOOL\", \"THE URBAN ASSEMBLY SCHOOL FOR CRIMINAL JUSTICE\", \"INTERNATIONAL HIGH SCHOOL AT LAFAYETTE\", \"RACHEL CARSON HIGH SCHOOL FOR COASTAL STUDIES\", \"HIGH SCHOOL OF SPORTS MANAGEMENT\", \"ABRAHAM LINCOLN HIGH SCHOOL\", \"KINGSBOROUGH EARLY COLLEGE SCHOOL\", \"EDWARD R. MURROW HIGH SCHOOL\", \"JOHN DEWEY HIGH SCHOOL\", \"LIFE ACADEMY HIGH SCHOOL FOR FILM AND MUSIC\", \"EXPEDITIONARY LEARNING SCHOOL FOR COMMUNITY LEADERS\", \"WILLIAM E. GRADY CAREER AND TECHNICAL EDUCATION HIGH SCHOOL\", \"BROOKLYN STUDIO SECONDARY SCHOOL\", \"MIDWOOD HIGH SCHOOL\", \"JAMES MADISON HIGH SCHOOL\", \"LEON M. GOLDSTEIN HIGH SCHOOL FOR THE SCIENCES\", \"BROOKLYN COLLEGE ACADEMY\", \"BROOKLYN COLLEGIATE: A COLLEGE BOARD SCHOOL\", \"FREDERICK DOUGLASS ACADEMY VII HIGH SCHOOL\", \"TEACHERS PREPARATORY HIGH SCHOOL\", \"ACADEMY FOR ENVIRONMENTAL LEADERSHIP\", \"EBC HIGH SCHOOL FOR PUBLIC SERVICE\\u2013BUSHWICK\", \"BUSHWICK SCHOOL FOR SOCIAL JUSTICE\", \"ACADEMY OF URBAN PLANNING\", \"ALL CITY LEADERSHIP SECONDARY SCHOOL\", \"BUSHWICK LEADERS HIGH SCHOOL FOR ACADEMIC EXCELLENCE\"], \"textfont\": {\"color\": \"#4D5663\"}, \"type\": \"scatter\", \"x\": [63.0, 57.3, 54.5, 43.9, 41.7, 51.8, 60.4, 44.2, 100.0, 51.0, 24.5, 53.9, 20.6, 45.3, 43.3, 45.1, 53.8, 51.5, 54.2, 34.3, 52.2, 27.4, 49.0, 46.3, 4.4, 23.1, 57.3, 43.8, 40.9, 55.8, 57.7, 47.2, 49.2, 56.1, 66.1, 49.3, 51.3, 38.3, 48.4, 48.4, 46.2, 50.2, 40.9, 49.9, 48.4, 48.0, 38.4, 36.7, 47.0, 75.1, 45.6, 67.2, 58.2, 76.2, 51.0, 39.0, 63.9, 35.7, 51.1, 52.6, 33.5, 48.5, 78.5, 45.3, 37.4, 56.8, 18.9, 45.6, 48.6, 63.2, 50.2, 15.9, 29.7, 41.6, 52.2, 70.2, 62.4, 40.7, 46.5, 46.6, 41.6, 100.0, 41.1, 46.4, 11.1, 43.6, 42.2, 57.6, 48.5, 49.0, 48.7, 22.0, 49.9, 54.7, 45.6, 58.8, 63.7, 49.3, 51.5, 65.9, 50.0, 47.9, 51.6, 45.5, 47.9, 46.8], \"y\": [1074.0, 1080.0, 1114.0, 1211.0, 1833.0, 981.0, 1206.0, 1116.0, 1223.4388059701494, 1312.0, 1189.0, 1391.0, 1353.0, 1085.0, 1223.4388059701494, 1740.0, 1189.0, 1114.0, 1204.0, 1215.0, 1090.0, 1112.0, 1187.0, 1103.0, 1093.0, 1122.0, 1035.0, 1111.0, 1179.0, 1203.0, 1169.0, 1175.0, 1212.0, 1185.0, 1258.0, 1223.4388059701494, 1068.0, 1097.0, 1092.0, 1223.4388059701494, 1139.0, 1045.0, 913.0, 1176.0, 1088.0, 1153.0, 1027.0, 1105.0, 1360.0, 1273.0, 1143.0, 1151.0, 1436.0, 1251.0, 963.0, 1145.0, 1118.0, 1092.0, 1143.0, 1080.0, 1183.0, 1169.0, 1159.0, 1111.0, 1135.0, 1242.0, 1023.0, 1054.0, 1149.0, 1106.0, 887.0, 1193.0, 1096.0, 1108.0, 1129.0, 1102.0, 1157.0, 1272.0, 1323.0, 1306.0, 1244.0, 1223.4388059701494, 1026.0, 1237.0, 1164.0, 1226.0, 1223.4388059701494, 1431.0, 1262.0, 1124.0, 1079.0, 1184.0, 1313.0, 1473.0, 1350.0, 1627.0, 1352.0, 1185.0, 1091.0, 1196.0, 1098.0, 1154.0, 1035.0, 1060.0, 1315.0, 1055.0]}, {\"marker\": {\"color\": \"rgba(128, 0, 128, 1.0)\", \"line\": {\"width\": 1.3}, \"opacity\": 0.8, \"size\": 12, \"symbol\": \"circle\"}, \"mode\": \"markers\", \"name\": \"Queens\", \"text\": [\"ACADEMY OF FINANCE AND ENTERPRISE\", \"HIGH SCHOOL OF APPLIED COMMUNICATION\", \"CIVIC LEADERSHIP ACADEMY\", \"PAN AMERICAN INTERNATIONAL HIGH SCHOOL\", \"BARD HIGH SCHOOL EARLY COLLEGE II\", \"NEWTOWN HIGH SCHOOL\", \"GROVER CLEVELAND HIGH SCHOOL\", \"MIDDLE COLLEGE HIGH SCHOOL AT LAGUARDIA COMMUNITY COLLEGE\", \"INTERNATIONAL HIGH SCHOOL AT LAGUARDIA COMMUNITY COLLEGE\", \"HIGH SCHOOL FOR ARTS AND BUSINESS\", \"ROBERT F. WAGNER, JR. SECONDARY SCHOOL FOR ARTS AND TECHNOLOGY\", \"QUEENS VOCATIONAL AND TECHNICAL HIGH SCHOOL\", \"AVIATION CAREER & TECHNICAL EDUCATION HIGH SCHOOL\", \"QUEENS SCHOOL OF INQUIRY, THE\", \"FLUSHING INTERNATIONAL HIGH SCHOOL\", \"EASTsWEST SCHOOL OF INTERNATIONAL STUDIES\", \"WORLD JOURNALISM PREPARATORY: A COLLEGE BOARD SCHOOL\", \"JOHN BOWNE HIGH SCHOOL\", \"FLUSHING HIGH SCHOOL\", \"TOWNSEND HARRIS HIGH SCHOOL\", \"ROBERT F. KENNEDY COMMUNITY HIGH SCHOOL\", \"BENJAMIN N. CARDOZO HIGH SCHOOL\", \"FRANCIS LEWIS HIGH SCHOOL\", \"MARTIN VAN BUREN HIGH SCHOOL\", \"BAYSIDE HIGH SCHOOL\", \"QUEENS HIGH SCHOOL OF TEACHING, LIBERAL ARTS AND THE SCIENCES\", \"FREDERICK DOUGLASS ACADEMY VI HIGH SCHOOL\", \"CHANNEL VIEW SCHOOL FOR RESEARCH\", \"QUEENS HIGH SCHOOL FOR INFORMATION, RESEARCH, AND TECHNOLOGY\", \"ROBERT H. GODDARD HIGH SCHOOL OF COMMUNICATION ARTS AND TECHNOLOGY\", \"ACADEMY OF MEDICAL TECHNOLOGY: A COLLEGE BOARD SCHOOL\", \"SCHOLARS' ACADEMY\", \"AUGUST MARTIN HIGH SCHOOL\", \"RICHMOND HILL HIGH SCHOOL\", \"JOHN ADAMS HIGH SCHOOL\", \"HIGH SCHOOL FOR CONSTRUCTION TRADES, ENGINEERING AND ARCHITECTURE\", \"YORK EARLY COLLEGE ACADEMY\", \"QUEENS COLLEGIATE: A COLLEGE BOARD SCHOOL\", \"HILLSIDE ARTS & LETTERS ACADEMY\", \"FOREST HILLS HIGH SCHOOL\", \"HILLCREST HIGH SCHOOL\", \"THOMAS A. EDISON CAREER AND TECHNICAL EDUCATION HIGH SCHOOL\", \"QUEENS GATEWAY TO HEALTH SCIENCES SECONDARY SCHOOL\", \"QUEENS METROPOLITAN HIGH SCHOOL\", \"QUEENS HIGH SCHOOL FOR THE SCIENCES AT YORK COLLEGE\", \"HIGH SCHOOL FOR LAW ENFORCEMENT AND PUBLIC SAFETY\", \"YOUNG WOMEN'S LEADERSHIP SCHOOL, QUEENS\", \"QUEENS PREPARATORY ACADEMY\", \"PATHWAYS COLLEGE PREPARATORY SCHOOL: A COLLEGE BOARD SCHOOL\", \"EXCELSIOR PREPARATORY HIGH SCHOOL\", \"GEORGE WASHINGTON CARVER HIGH SCHOOL FOR THE SCIENCES\", \"PREPARATORY ACADEMY FOR WRITERS: A COLLEGE BOARD SCHOOL\", \"CAMBRIA HEIGHTS ACADEMY\", \"MATHEMATICS, SCIENCE RESEARCH AND TECHNOLOGY MAGNET HIGH SCHOOL\", \"HUMANITIES & ARTS MAGNET HIGH SCHOOL\", \"YOUNG WOMEN'S LEADERSHIP SCHOOL, ASTORIA\", \"ACADEMY FOR CAREERS IN TELEVISION AND FILM\", \"WILLIAM CULLEN BRYANT HIGH SCHOOL\", \"LONG ISLAND CITY HIGH SCHOOL\", \"FRANK SINATRA SCHOOL OF THE ARTS HIGH SCHOOL\", \"INFORMATION TECHNOLOGY HIGH SCHOOL\", \"NEWCOMERS HIGH SCHOOL\", \"ACADEMY OF AMERICAN STUDIES\", \"BACCALAUREATE SCHOOL FOR GLOBAL EDUCATION\"], \"textfont\": {\"color\": \"#4D5663\"}, \"type\": \"scatter\", \"x\": [50.7, 56.2, 55.5, 52.2, 60.7, 42.5, 45.0, 47.1, 54.0, 56.9, 53.4, 39.7, 14.7, 53.3, 42.7, 45.9, 57.8, 50.8, 44.2, 71.1, 46.2, 52.6, 50.8, 45.7, 50.6, 54.2, 47.4, 48.9, 45.5, 51.9, 56.2, 56.1, 44.8, 47.0, 45.5, 32.7, 48.9, 50.1, 53.0, 51.9, 53.9, 34.9, 61.9, 50.4, 43.5, 47.0, 100.0, 44.0, 46.7, 43.1, 52.7, 56.9, 44.9, 39.6, 57.2, 100.0, 46.8, 46.3, 48.7, 70.0, 28.2, 46.8, 55.0, 55.2], \"y\": [1280.0, 1219.0, 1240.0, 951.0, 1663.0, 1203.0, 1211.0, 1177.0, 1064.0, 1174.0, 1330.0, 1270.0, 1364.0, 1396.0, 1049.0, 1271.0, 1441.0, 1243.0, 1216.0, 1910.0, 1330.0, 1514.0, 1474.0, 1172.0, 1449.0, 1279.0, 1145.0, 1252.0, 1156.0, 1265.0, 1094.0, 1532.0, 1108.0, 1154.0, 1192.0, 1345.0, 1223.4388059701494, 1265.0, 1223.4388059701494, 1407.0, 1194.0, 1372.0, 1538.0, 1223.4388059701494, 1868.0, 1196.0, 1316.0, 1099.0, 1173.0, 1202.0, 1287.0, 1100.0, 1223.4388059701494, 1220.0, 1151.0, 1223.4388059701494, 1255.0, 1275.0, 1218.0, 1494.0, 1239.0, 1127.0, 1470.0, 1636.0]}, {\"marker\": {\"color\": \"rgba(219, 64, 82, 1.0)\", \"line\": {\"width\": 1.3}, \"opacity\": 0.8, \"size\": 12, \"symbol\": \"circle\"}, \"mode\": \"markers\", \"name\": \"Staten Island\", \"text\": [\"CSI HIGH SCHOOL FOR INTERNATIONAL STUDIES\", \"GAYNOR MCCOWN EXPEDITIONARY LEARNING SCHOOL\", \"THE MICHAEL J. PETRIDES SCHOOL\", \"NEW DORP HIGH SCHOOL\", \"PORT RICHMOND HIGH SCHOOL\", \"CURTIS HIGH SCHOOL\", \"TOTTENVILLE HIGH SCHOOL\", \"SUSAN E. WAGNER HIGH SCHOOL\", \"RALPH R. MCKEE CAREER AND TECHNICAL EDUCATION HIGH SCHOOL\", \"STATEN ISLAND TECHNICAL HIGH SCHOOL\"], \"textfont\": {\"color\": \"#4D5663\"}, \"type\": \"scatter\", \"x\": [58.5, 48.0, 50.8, 47.5, 45.2, 53.6, 50.4, 49.2, 32.9, 43.0], \"y\": [1353.0, 1195.0, 1426.0, 1277.0, 1279.0, 1301.0, 1418.0, 1388.0, 1235.0, 1953.0]}],\n",
       "                        {\"legend\": {\"bgcolor\": \"#F5F6F9\", \"font\": {\"color\": \"#4D5663\"}}, \"paper_bgcolor\": \"#F5F6F9\", \"plot_bgcolor\": \"#F5F6F9\", \"shapes\": [{\"line\": {\"color\": \"#000000\", \"dash\": \"dash\", \"width\": 1}, \"type\": \"line\", \"x0\": 0, \"x1\": 1, \"xref\": \"paper\", \"y0\": 1223.438805970149, \"y1\": 1223.438805970149, \"yref\": \"y\"}, {\"line\": {\"color\": \"#000000\", \"dash\": \"dash\", \"width\": 1}, \"type\": \"line\", \"x0\": 50.62066115702485, \"x1\": 50.62066115702485, \"xref\": \"x\", \"y0\": 0, \"y1\": 1, \"yref\": \"paper\"}], \"title\": \"Female students vs. SAT score by school <br> Dashed lines: Averages of each parameter\", \"titlefont\": {\"color\": \"#4D5663\"}, \"xaxis\": {\"gridcolor\": \"#E1E5ED\", \"showgrid\": true, \"tickfont\": {\"color\": \"#4D5663\"}, \"title\": \"Share females, %\", \"titlefont\": {\"color\": \"#4D5663\"}, \"zerolinecolor\": \"#E1E5ED\"}, \"yaxis\": {\"gridcolor\": \"#E1E5ED\", \"showgrid\": true, \"tickfont\": {\"color\": \"#4D5663\"}, \"title\": \"Avg. SAT score\", \"titlefont\": {\"color\": \"#4D5663\"}, \"zerolinecolor\": \"#E1E5ED\"}},\n",
       "                        {\"showLink\": true, \"linkText\": \"Export to plot.ly\", \"plotlyServerURL\": \"https://plot.ly\", \"responsive\": true}\n",
       "                    ).then(function(){\n",
       "                            \n",
       "var gd = document.getElementById('2dcb29a9-1c6d-4681-84ab-dcf2683ad4d0');\n",
       "var x = new MutationObserver(function (mutations, observer) {{\n",
       "        var display = window.getComputedStyle(gd).display;\n",
       "        if (!display || display === 'none') {{\n",
       "            console.log([gd, 'removed!']);\n",
       "            Plotly.purge(gd);\n",
       "            observer.disconnect();\n",
       "        }}\n",
       "}});\n",
       "\n",
       "// Listen for the removal of the full notebook cells\n",
       "var notebookContainer = gd.closest('#notebook-container');\n",
       "if (notebookContainer) {{\n",
       "    x.observe(notebookContainer, {childList: true});\n",
       "}}\n",
       "\n",
       "// Listen for the clearing of the current output cell\n",
       "var outputEl = gd.closest('.output');\n",
       "if (outputEl) {{\n",
       "    x.observe(outputEl, {childList: true});\n",
       "}}\n",
       "\n",
       "                        })\n",
       "                };\n",
       "                });\n",
       "            </script>\n",
       "        </div>"
      ]
     },
     "metadata": {},
     "output_type": "display_data"
    },
    {
     "name": "stdout",
     "output_type": "stream",
     "text": [
      "Recommendation: Click the legend to view by boroughs\n"
     ]
    }
   ],
   "source": [
    "combined.iplot(\n",
    "        x='female_per',\n",
    "        y='sat_score',\n",
    "        categories='boro',\n",
    "        text=\"SCHOOL NAME\",\n",
    "        vline= {\"x\":combined[\"female_per\"].mean(),\n",
    "                \"color\":\"#000000\",\n",
    "                \"dash\": \"dash\"\n",
    "               },\n",
    "        hline={\"y\":combined[\"sat_score\"].mean(),\n",
    "               \"color\":\"#000000\",\n",
    "               \"dash\": \"dash\"\n",
    "              },\n",
    "        xTitle='Share females, %',\n",
    "        yTitle='Avg. SAT score',\n",
    "        title='Female students vs. SAT score by school <br> Dashed lines: Averages of each parameter'\n",
    "    )\n",
    "print(\"Recommendation: Click the legend to view by boroughs\")\n"
   ]
  },
  {
   "cell_type": "code",
   "execution_count": 20,
   "metadata": {},
   "outputs": [
    {
     "data": {
      "text/plain": [
       "5                         BARD HIGH SCHOOL EARLY COLLEGE\n",
       "22              PROFESSIONAL PERFORMING ARTS HIGH SCHOOL\n",
       "26                         ELEANOR ROOSEVELT HIGH SCHOOL\n",
       "27                                MILLENNIUM HIGH SCHOOL\n",
       "40                          TALENT UNLIMITED HIGH SCHOOL\n",
       "60                                    BEACON HIGH SCHOOL\n",
       "61     FIORELLO H. LAGUARDIA HIGH SCHOOL OF MUSIC & A...\n",
       "287                    BARD HIGH SCHOOL EARLY COLLEGE II\n",
       "302                          TOWNSEND HARRIS HIGH SCHOOL\n",
       "325    QUEENS GATEWAY TO HEALTH SCIENCES SECONDARY SC...\n",
       "342         FRANK SINATRA SCHOOL OF THE ARTS HIGH SCHOOL\n",
       "Name: SCHOOL NAME, dtype: object"
      ]
     },
     "execution_count": 20,
     "metadata": {},
     "output_type": "execute_result"
    }
   ],
   "source": [
    "a = combined[(combined['female_per'] > 60) & (combined['sat_score'] > 1400)]['SCHOOL NAME']\n",
    "\n",
    "a"
   ]
  },
  {
   "cell_type": "markdown",
   "metadata": {},
   "source": [
    "1. These schools appears to be very selective liberal arts schools that have high academic standards.\n",
    "\n",
    "2. Only Manhattan and Queens high schools have > 60% female and scored above 1400. Females in the remaining boroughs may have limited access to good education. If we reduced female  % to 50 and kept > 1400 SAT Scores, it would only return 4 more schools in Brooklyn. \n",
    "\n",
    "3. More than 50% of schools in Brooklyn and Bronx fall under the average SAT score (~1200)."
   ]
  },
  {
   "cell_type": "code",
   "execution_count": 21,
   "metadata": {},
   "outputs": [
    {
     "data": {
      "application/vnd.plotly.v1+json": {
       "config": {
        "linkText": "Export to plot.ly",
        "plotlyServerURL": "https://plot.ly",
        "showLink": true
       },
       "data": [
        {
         "marker": {
          "color": "rgba(255, 153, 51, 1.0)",
          "line": {
           "width": 1.3
          },
          "opacity": 0.8,
          "size": 12,
          "symbol": "circle"
         },
         "mode": "markers",
         "name": "Manhattan",
         "text": [
          "HENRY STREET SCHOOL FOR INTERNATIONAL STUDIES",
          "UNIVERSITY NEIGHBORHOOD HIGH SCHOOL",
          "EAST SIDE COMMUNITY SCHOOL",
          "MARTA VALLE HIGH SCHOOL",
          "NEW EXPLORATIONS INTO SCIENCE, TECHNOLOGY AND MATH HIGH SCHOOL",
          "BARD HIGH SCHOOL EARLY COLLEGE",
          "47 THE AMERICAN SIGN LANGUAGE AND ENGLISH SECONDARY SCHOOL",
          "FOOD AND FINANCE HIGH SCHOOL",
          "ESSEX STREET ACADEMY",
          "HIGH SCHOOL OF HOSPITALITY MANAGEMENT",
          "PACE HIGH SCHOOL",
          "URBAN ASSEMBLY SCHOOL OF DESIGN AND CONSTRUCTION, THE",
          "FACING HISTORY SCHOOL, THE",
          "URBAN ASSEMBLY ACADEMY OF GOVERNMENT AND LAW, THE",
          "LOWER MANHATTAN ARTS ACADEMY",
          "URBAN ASSEMBLY SCHOOL OF BUSINESS FOR YOUNG WOMEN, THE",
          "GRAMERCY ARTS HIGH SCHOOL",
          "NYC ISCHOOL",
          "MANHATTAN BUSINESS ACADEMY",
          "BUSINESS OF SPORTS SCHOOL",
          "THE HIGH SCHOOL FOR LANGUAGE AND DIPLOMACY",
          "HIGH SCHOOL FOR ENVIRONMENTAL STUDIES",
          "PROFESSIONAL PERFORMING ARTS HIGH SCHOOL",
          "BARUCH COLLEGE CAMPUS HIGH SCHOOL",
          "N.Y.C. LAB SCHOOL FOR COLLABORATIVE STUDIES",
          "N.Y.C. MUSEUM SCHOOL",
          "ELEANOR ROOSEVELT HIGH SCHOOL",
          "MILLENNIUM HIGH SCHOOL",
          "LANDMARK HIGH SCHOOL",
          "HIGH SCHOOL FOR HEALTH PROFESSIONS AND HUMAN SERVICES",
          "LEADERSHIP AND PUBLIC SERVICE HIGH SCHOOL",
          "MANHATTAN ACADEMY FOR ARTS & LANGUAGE",
          "HUDSON HIGH SCHOOL OF LEARNING TECHNOLOGIES",
          "INTERNATIONAL HIGH SCHOOL AT UNION SQUARE",
          "MANHATTAN VILLAGE ACADEMY",
          "VANGUARD HIGH SCHOOL",
          "MANHATTAN INTERNATIONAL HIGH SCHOOL",
          "STUYVESANT HIGH SCHOOL",
          "HIGH SCHOOL OF ECONOMICS AND FINANCE",
          "UNITY CENTER FOR URBAN TECHNOLOGIES",
          "TALENT UNLIMITED HIGH SCHOOL",
          "MURRY BERGTRAUM HIGH SCHOOL FOR BUSINESS CAREERS",
          "JACQUELINE KENNEDY ONASSIS HIGH SCHOOL",
          "REPERTORY COMPANY HIGH SCHOOL FOR THEATRE ARTS",
          "MANHATTAN BRIDGES HIGH SCHOOL",
          "NEW DESIGN HIGH SCHOOL",
          "HIGH SCHOOL FOR DUAL LANGUAGE AND ASIAN STUDIES",
          "THE URBAN ASSEMBLY NEW YORK HARBOR SCHOOL",
          "RICHARD R. GREEN HIGH SCHOOL OF TEACHING",
          "THE HIGH SCHOOL OF FASHION INDUSTRIES",
          "HUMANITIES PREPARATORY ACADEMY",
          "CHELSEA CAREER AND TECHNICAL EDUCATION HIGH SCHOOL",
          "ART AND DESIGN HIGH SCHOOL",
          "LIFE SCIENCES SECONDARY SCHOOL",
          "HIGH SCHOOL FOR ARTS, IMAGINATION AND INQUIRY",
          "URBAN ASSEMBLY SCHOOL FOR MEDIA STUDIES, THE",
          "THE URBAN ASSEMBLY SCHOOL FOR GREEN CAREERS",
          "THE GLOBAL LEARNING COLLABORATIVE",
          "WADLEIGH SECONDARY SCHOOL FOR THE PERFORMING & VISUAL ARTS",
          "FRANK MCCOURT HIGH SCHOOL",
          "BEACON HIGH SCHOOL",
          "FIORELLO H. LAGUARDIA HIGH SCHOOL OF MUSIC & ART AND PERFORMING ARTS",
          "HIGH SCHOOL FOR LAW, ADVOCACY AND COMMUNITY JUSTICE",
          "HIGH SCHOOL OF ARTS AND TECHNOLOGY",
          "MANHATTAN / HUNTER SCIENCE HIGH SCHOOL",
          "FREDERICK DOUGLASS ACADEMY II SECONDARY SCHOOL",
          "COALITION SCHOOL FOR SOCIAL CHANGE",
          "MANHATTAN CENTER FOR SCIENCE AND MATHEMATICS",
          "PARK EAST HIGH SCHOOL",
          "CENTRAL PARK EAST HIGH SCHOOL",
          "YOUNG WOMEN'S LEADERSHIP SCHOOL",
          "YOUNG WOMEN'S LEADERSHIP SCHOOL",
          "HERITAGE SCHOOL, THE",
          "MOTT HALL HIGH SCHOOL",
          "COLUMBIA SECONDARY SCHOOL FOR MATH, SCIENCE, AND ENGINEERING",
          "ACADEMY FOR SOCIAL ACTION: A COLLEGE BOARD SCHOOL",
          "URBAN ASSEMBLY SCHOOL FOR THE PERFORMING ARTS",
          "FREDERICK DOUGLASS ACADEMY",
          "THURGOOD MARSHALL ACADEMY FOR LEARNING AND SOCIAL CHANGE",
          "HIGH SCHOOL FOR MATHEMATICS, SCIENCE AND ENGINEERING AT CITY COLLEGE",
          "CITY COLLEGE ACADEMY OF THE ARTS",
          "COMMUNITY HEALTH ACADEMY OF THE HEIGHTS",
          "WASHINGTON HEIGHTS EXPEDITIONARY LEARNING SCHOOL",
          "HIGH SCHOOL FOR EXCELLENCE AND INNOVATION",
          "HIGH SCHOOL FOR INTERNATIONAL BUSINESS AND FINANCE",
          "HIGH SCHOOL FOR MEDIA AND COMMUNICATIONS",
          "HIGH SCHOOL FOR LAW AND PUBLIC SERVICE",
          "HIGH SCHOOL FOR HEALTH CAREERS AND SCIENCES",
          "A. PHILIP RANDOLPH CAMPUS HIGH SCHOOL",
          "GREGORIO LUPERON HIGH SCHOOL FOR SCIENCE AND MATHEMATICS"
         ],
         "textfont": {
          "color": "#4D5663"
         },
         "type": "scatter",
         "x": [
          61.4,
          57.4,
          54.7,
          46.3,
          49.2,
          31.3,
          42.5,
          45,
          53.4,
          32.2,
          43.7,
          74.9,
          50.6,
          43.9,
          39.9,
          0,
          26.3,
          48.7,
          59,
          72.4,
          48,
          50.4,
          25.3,
          44,
          47,
          42.4,
          32.5,
          38.2,
          48.5,
          29.4,
          46.1,
          54.9,
          60.6,
          61.4,
          38.5,
          46.2,
          44.3,
          59.3,
          54.5,
          62.4,
          21.4,
          49.1,
          40.6,
          21.2,
          51.4,
          38.3,
          51.3,
          60.9,
          32.6,
          7.3,
          42.7,
          65,
          46.7,
          51.6,
          55.7,
          57.9,
          56.9,
          51.4,
          38.4,
          46.6,
          39,
          26.4,
          40.1,
          67.7,
          41.1,
          54.2,
          44.4,
          46.4,
          42.1,
          32.1,
          0,
          0,
          48.6,
          53.5,
          49.6,
          48.7,
          25.4,
          52.2,
          44.1,
          65.8,
          39.6,
          52.3,
          55.8,
          52.8,
          63.8,
          63.5,
          58.6,
          52.7,
          49.9,
          48.9
         ],
         "y": [
          1122,
          1172,
          1149,
          1207,
          1621,
          1856,
          1182,
          1194,
          1156,
          1111,
          1293,
          1269,
          1051,
          1148,
          1200,
          1127,
          1176,
          1435,
          1223.4388059701494,
          1223.4388059701494,
          1223.4388059701494,
          1419,
          1522,
          1577,
          1677,
          1419,
          1758,
          1614,
          1170,
          1306,
          1233,
          1223.4388059701494,
          1223.4388059701494,
          1223.4388059701494,
          1372,
          1199,
          1227,
          2096,
          1374,
          1070,
          1416,
          1240,
          1239,
          1253,
          1058,
          1168,
          1424,
          1212,
          1195,
          1257,
          1255,
          1207,
          1315,
          1236,
          1132,
          1144,
          1223.4388059701494,
          1223.4388059701494,
          1109,
          1223.4388059701494,
          1744,
          1707,
          1196,
          1277,
          1446,
          1096,
          1084,
          1430,
          1128,
          1221,
          1326,
          1326,
          1054,
          1210,
          1223.4388059701494,
          1062,
          1077,
          1374,
          1202,
          1847,
          1270,
          1105,
          1174,
          1223.4388059701494,
          1127,
          1098,
          1102,
          1224,
          1309,
          1014
         ]
        },
        {
         "marker": {
          "color": "rgba(55, 128, 191, 1.0)",
          "line": {
           "width": 1.3
          },
          "opacity": 0.8,
          "size": 12,
          "symbol": "circle"
         },
         "mode": "markers",
         "name": "Bronx",
         "text": [
          "SOUTH BRONX PREPARATORY: A COLLEGE BOARD SCHOOL",
          "INTERNATIONAL COMMUNITY HIGH SCHOOL",
          "COMMUNITY SCHOOL FOR SOCIAL JUSTICE",
          "MOTT HAVEN VILLAGE PREPARATORY HIGH SCHOOL",
          "UNIVERSITY HEIGHTS SECONDARY SCHOOL",
          "HOSTOSsLINCOLN ACADEMY OF SCIENCE",
          "FOREIGN LANGUAGE ACADEMY OF GLOBAL STUDIES",
          "BRONX LEADERSHIP ACADEMY II HIGH SCHOOL",
          "NEW EXPLORERS HIGH SCHOOL",
          "URBAN ASSEMBLY SCHOOL FOR CAREERS IN SPORTS",
          "BRONX ACADEMY OF LETTERS",
          "ALFRED E. SMITH CAREER AND TECHNICAL EDUCATION HIGH SCHOOL",
          "HEALTH OPPORTUNITIES HIGH SCHOOL",
          "BRONX STUDIO SCHOOL FOR WRITERS AND ARTISTS",
          "WOMEN'S ACADEMY OF EXCELLENCE",
          "RENAISSANCE HIGH SCHOOL FOR MUSICAL THEATER & TECHNOLOGY",
          "PABLO NERUDA ACADEMY FOR ARCHITECTURE AND WORLD STUDIES",
          "MILLENNIUM ART ACADEMY",
          "HOLCOMBE L. RUCKER SCHOOL OF COMMUNITY RESEARCH",
          "ANTONIA PANTOJA PREPARATORY ACADEMY, A COLLEGE BOARD SCHOOL",
          "HERBERT H. LEHMAN HIGH SCHOOL",
          "BRONX BRIDGES HIGH SCHOOL",
          "FELISA RINCON DE GAUTIER INSTITUTE FOR LAW AND PUBLIC POLICY, THE",
          "BANANA KELLY HIGH SCHOOL",
          "BRONX EXPEDITIONARY LEARNING HIGH SCHOOL",
          "EAGLE ACADEMY FOR YOUNG MEN",
          "URBAN ASSEMBLY SCHOOL FOR APPLIED MATH AND SCIENCE, THE",
          "EXIMIUS COLLEGE PREPARATORY ACADEMY: A COLLEGE BOARD SCHOOL",
          "MOTT HALL BRONX HIGH SCHOOL",
          "BRONX CENTER FOR SCIENCE AND MATHEMATICS",
          "VALIDUS PREPARATORY ACADEMY: AN EXPEDITIONARY LEARNING SCHOOL",
          "LEADERSHIP INSTITUTE",
          "MORRIS ACADEMY FOR COLLABORATIVE STUDIES",
          "BRONX EARLY COLLEGE ACADEMY FOR TEACHING & LEARNING",
          "DREAMYARD PREPARATORY SCHOOL",
          "ACADEMY FOR LANGUAGE AND TECHNOLOGY",
          "BRONX INTERNATIONAL HIGH SCHOOL",
          "SCHOOL FOR EXCELLENCE",
          "BRONX HIGH SCHOOL OF BUSINESS",
          "BRONX HIGH SCHOOL FOR MEDICAL SCIENCE",
          "BRONX SCHOOL FOR LAW, GOVERNMENT AND JUSTICE",
          "FREDERICK DOUGLASS ACADEMY III SECONDARY SCHOOL",
          "BRONX LEADERSHIP ACADEMY HIGH SCHOOL",
          "HIGH SCHOOL FOR VIOLIN AND DANCE",
          "RIVERDALE / KINGSBRIDGE ACADEMY (MIDDLE SCHOOL / HIGH SCHOOL 141)",
          "BRONX ENGINEERING AND TECHNOLOGY ACADEMY",
          "THEATRE ARTS PRODUCTION COMPANY SCHOOL",
          "THE MARIE CURIE SCHOOL FOR MEDICINE, NURSING, AND HEALTH PROFESSIONS",
          "WEST BRONX ACADEMY FOR THE FUTURE",
          "KINGSBRIDGE INTERNATIONAL HIGH SCHOOL",
          "BRONX SCHOOL OF LAW AND FINANCE",
          "INTERNATIONAL SCHOOL FOR LIBERAL ARTS",
          "INsTECH ACADEMY (M.S. / HIGH SCHOOL 368)",
          "KNOWLEDGE AND POWER PREPARATORY ACADEMY INTERNATIONAL HIGH SCHOOL (KAPPA)",
          "HIGH SCHOOL FOR TEACHING AND THE PROFESSIONS",
          "BELMONT PREPARATORY HIGH SCHOOL",
          "FORDHAM HIGH SCHOOL FOR THE ARTS",
          "FORDHAM LEADERSHIP ACADEMY FOR BUSINESS AND TECHNOLOGY",
          "BRONX HIGH SCHOOL FOR LAW AND COMMUNITY SERVICE",
          "DEWITT CLINTON HIGH SCHOOL",
          "CELIA CRUZ BRONX HIGH SCHOOL OF MUSIC, THE",
          "BRONX HIGH SCHOOL OF SCIENCE",
          "MARBLE HILL HIGH SCHOOL FOR INTERNATIONAL STUDIES",
          "BRONX THEATRE HIGH SCHOOL",
          "DISCOVERY HIGH SCHOOL",
          "HIGH SCHOOL OF AMERICAN STUDIES AT LEHMAN COLLEGE",
          "BRONX HEALTH SCIENCES HIGH SCHOOL",
          "BRONX HIGH SCHOOL FOR WRITING AND COMMUNICATION ARTS",
          "BRONX LAB SCHOOL",
          "ACADEMY FOR SCHOLARSHIP AND ENTREPRENEURSHIP: A COLLEGE BOARD SCHOOL",
          "HIGH SCHOOL OF COMPUTERS AND TECHNOLOGY",
          "COLLEGIATE INSTITUTE FOR MATH AND SCIENCE",
          "BRONX ACADEMY OF HEALTH CAREERS",
          "ASTOR COLLEGIATE ACADEMY",
          "BRONX HIGH SCHOOL FOR THE VISUAL ARTS",
          "HARRY S TRUMAN HIGH SCHOOL",
          "NEW WORLD HIGH SCHOOL",
          "THE BRONXWOOD PREPARATORY ACADEMY",
          "PELHAM PREPARATORY ACADEMY",
          "HIGH SCHOOL FOR CONTEMPORARY ARTS",
          "BRONX AEROSPACE HIGH SCHOOL",
          "METROPOLITAN HIGH SCHOOL, THE",
          "EXPLORATIONS ACADEMY",
          "BRONX LATIN",
          "EAST BRONX ACADEMY FOR THE FUTURE",
          "PEACE AND DIVERSITY ACADEMY",
          "PAN AMERICAN INTERNATIONAL HIGH SCHOOL AT MONROE",
          "THE CINEMA SCHOOL",
          "BRONX CAREER AND COLLEGE PREPARATORY HIGH SCHOOL",
          "HIGH SCHOOL OF WORLD CULTURES",
          "FANNIE LOU HAMER FREEDOM HIGH SCHOOL",
          "WINGS ACADEMY",
          "MONROE ACADEMY FOR VISUAL ARTS & DESIGN"
         ],
         "textfont": {
          "color": "#4D5663"
         },
         "type": "scatter",
         "x": [
          47.4,
          48.6,
          49.2,
          50.1,
          43.2,
          45.2,
          45.3,
          54,
          57.7,
          84.3,
          44.5,
          92.7,
          28.6,
          44,
          0.3,
          38,
          66,
          49.2,
          49.2,
          47,
          61.1,
          52.3,
          43,
          49.9,
          50.1,
          100,
          49.3,
          46.6,
          45.8,
          46.2,
          44.1,
          52.2,
          53.8,
          48.5,
          44.1,
          48.8,
          45.7,
          52.3,
          54.9,
          42.2,
          45.9,
          51.5,
          43.3,
          14.6,
          51.8,
          82.7,
          30.9,
          16.5,
          57.9,
          52.3,
          56.6,
          49,
          48.9,
          47.2,
          42.3,
          47.2,
          43.2,
          63.4,
          44.4,
          51.1,
          40.7,
          57.8,
          46.7,
          32.1,
          52.4,
          53.8,
          35.3,
          40.8,
          59.5,
          52,
          87.3,
          57.1,
          32.7,
          58.6,
          58,
          60,
          50,
          61.3,
          48.1,
          55.3,
          82.5,
          54,
          50.8,
          49.8,
          53,
          45,
          51.5,
          40.8,
          44.3,
          52,
          54.1,
          53.7,
          52.6
         ],
         "y": [
          1090,
          945,
          1077,
          1097,
          1201,
          1257,
          1186,
          1103,
          1084,
          1181,
          1201,
          1158,
          1095,
          1223.4388059701494,
          1171,
          1158,
          1038,
          1164,
          1084,
          1223.4388059701494,
          1241,
          1223.4388059701494,
          1099,
          1131,
          1049,
          1134,
          1290,
          1169,
          1092,
          1396,
          1075,
          1081,
          1148,
          1223.4388059701494,
          1138,
          951,
          965,
          1074,
          1083,
          1221,
          1224,
          1121,
          1166,
          1039,
          1333,
          1150,
          1190,
          1157,
          1158,
          962,
          1182,
          934,
          1181,
          1180,
          1106,
          1222,
          1077,
          1119,
          1082,
          1255,
          1270,
          1969,
          1263,
          1064,
          1115,
          1920,
          1133,
          1147,
          1135,
          1141,
          1111,
          1348,
          1135,
          1169,
          1268,
          1151,
          1048,
          1112,
          1288,
          1126,
          1163,
          1055,
          1122,
          1251,
          1102,
          1155,
          970,
          1223.4388059701494,
          1223.4388059701494,
          939,
          1029,
          1114,
          1038
         ]
        },
        {
         "marker": {
          "color": "rgba(50, 171, 96, 1.0)",
          "line": {
           "width": 1.3
          },
          "opacity": 0.8,
          "size": 12,
          "symbol": "circle"
         },
         "mode": "markers",
         "name": "Brooklyn",
         "text": [
          "DR. SUSAN S. MCKINNEY SECONDARY SCHOOL OF THE ARTS",
          "URBAN ASSEMBLY HIGH SCHOOL OF MUSIC AND ART",
          "BROOKLYN COMMUNITY HIGH SCHOOL OF COMMUNICATION, ARTS AND MEDIA",
          "SCIENCE SKILLS CENTER HIGH SCHOOL FOR SCIENCE, TECHNOLOGY AND THE CREATIVE ARTS",
          "BROOKLYN TECHNICAL HIGH SCHOOL",
          "BROOKLYN INTERNATIONAL HIGH SCHOOL",
          "THE URBAN ASSEMBLY SCHOOL FOR LAW AND JUSTICE",
          "ACORN COMMUNITY HIGH SCHOOL",
          "URBAN ASSEMBLY INSTITUTE OF MATH AND SCIENCE FOR YOUNG WOMEN",
          "BEDFORD ACADEMY HIGH SCHOOL",
          "GEORGE WESTINGHOUSE CAREER AND TECHNICAL EDUCATION HIGH SCHOOL",
          "BENJAMIN BANNEKER ACADEMY",
          "CITY POLYTECHNIC HIGH SCHOOL OF ENGINEERING, ARCHITECTURE, AND TECHNOLOGY",
          "JUAN MOREL CAMPOS SECONDARY SCHOOL",
          "FOUNDATIONS ACADEMY",
          "BROOKLYN LATIN SCHOOL, THE",
          "GREEN SCHOOL: AN ACADEMY FOR ENVIRONMENTAL CAREERS",
          "PROGRESS HIGH SCHOOL FOR PROFESSIONAL CAREERS",
          "SCHOOL FOR LEGAL STUDIES",
          "THE HIGH SCHOOL FOR ENTERPRISE, BUSINESS AND TECHNOLOGY",
          "BROOKLYN PREPARATORY HIGH SCHOOL",
          "WILLIAMSBURG HIGH SCHOOL FOR ARCHITECTURE AND DESIGN",
          "WILLIAMSBURG PREPARATORY SCHOOL",
          "LYONS COMMUNITY SCHOOL",
          "AUTOMOTIVE HIGH SCHOOL",
          "FRANCES PERKINS ACADEMY",
          "EL PUENTE ACADEMY FOR PEACE AND JUSTICE",
          "BROOKLYN SCHOOL FOR GLOBAL STUDIES",
          "BROOKLYN SECONDARY SCHOOL FOR COLLABORATIVE STUDIES",
          "SECONDARY SCHOOL FOR LAW",
          "SECONDARY SCHOOL FOR JOURNALISM",
          "PARK SLOPE COLLEGIATE",
          "SCHOOL FOR INTERNATIONAL STUDIES",
          "COBBLE HILL SCHOOL OF AMERICAN STUDIES",
          "BROOKLYN HIGH SCHOOL OF THE ARTS",
          "SUNSET PARK HIGH SCHOOL",
          "FREDERICK DOUGLASS ACADEMY IV SECONDARY SCHOOL",
          "BOYS AND GIRLS HIGH SCHOOL",
          "BROOKLYN HIGH SCHOOL FOR LAW AND TECHNOLOGY",
          "THE BROOKLYN ACADEMY OF GLOBAL FINANCE",
          "ACADEMY FOR COLLEGE PREPARATION AND CAREER EXPLORATION: A COLLEGE BOARD SCHOOL",
          "ACADEMY OF HOSPITALITY AND TOURISM",
          "INTERNATIONAL HIGH SCHOOL AT PROSPECT HEIGHTS",
          "THE HIGH SCHOOL FOR GLOBAL CITIZENSHIP",
          "SCHOOL FOR HUMAN RIGHTS, THE",
          "SCHOOL FOR DEMOCRACY AND LEADERSHIP",
          "HIGH SCHOOL FOR YOUTH AND COMMUNITY DEVELOPMENT AT ERASMUS",
          "HIGH SCHOOL FOR SERVICE & LEARNING AT ERASMUS",
          "SCIENCE, TECHNOLOGY AND RESEARCH EARLY COLLEGE HIGH SCHOOL AT ERASMUS",
          "HIGH SCHOOL FOR PUBLIC SERVICE: HEROES OF TOMORROW",
          "BROOKLYN ACADEMY OF SCIENCE AND THE ENVIRONMENT",
          "BROOKLYN SCHOOL FOR MUSIC & THEATRE",
          "MEDGAR EVERS COLLEGE PREPARATORY SCHOOL",
          "CLARA BARTON HIGH SCHOOL",
          "IT TAKES A VILLAGE ACADEMY",
          "BROOKLYN GENERATION SCHOOL",
          "BROOKLYN THEATRE ARTS HIGH SCHOOL",
          "KURT HAHN EXPEDITIONARY LEARNING SCHOOL",
          "VICTORY COLLEGIATE HIGH SCHOOL",
          "ARTS & MEDIA PREPARATORY ACADEMY",
          "HIGH SCHOOL FOR INNOVATION IN ADVERTISING AND MEDIA",
          "CULTURAL ACADEMY FOR THE ARTS AND SCIENCES",
          "HIGH SCHOOL FOR MEDICAL PROFESSIONS",
          "ACADEMY FOR CONSERVATION AND THE ENVIRONMENT",
          "URBAN ACTION ACADEMY",
          "EAST NEW YORK FAMILY ACADEMY",
          "FDNY HIGH SCHOOL FOR FIRE AND LIFE SAFETY",
          "HIGH SCHOOL FOR CIVIL RIGHTS",
          "PERFORMING ARTS AND TECHNOLOGY HIGH SCHOOL",
          "WORLD ACADEMY FOR TOTAL COMMUNITY HEALTH HIGH SCHOOL",
          "MULTICULTURAL HIGH SCHOOL",
          "TRANSIT TECH CAREER AND TECHNICAL EDUCATION HIGH SCHOOL",
          "ACADEMY OF INNOVATIVE TECHNOLOGY",
          "BROOKLYN LAB SCHOOL",
          "CYPRESS HILLS COLLEGIATE PREPARATORY SCHOOL",
          "W. H. MAXWELL CAREER AND TECHNICAL EDUCATION HIGH SCHOOL",
          "THE SCHOOL FOR CLASSICS: AN ACADEMY OF THINKERS, WRITERS AND PERFORMERS",
          "NEW UTRECHT HIGH SCHOOL",
          "HIGH SCHOOL OF TELECOMMUNICATION ARTS AND TECHNOLOGY",
          "FORT HAMILTON HIGH SCHOOL",
          "FRANKLIN DELANO ROOSEVELT HIGH SCHOOL",
          "THE URBAN ASSEMBLY SCHOOL FOR CRIMINAL JUSTICE",
          "INTERNATIONAL HIGH SCHOOL AT LAFAYETTE",
          "RACHEL CARSON HIGH SCHOOL FOR COASTAL STUDIES",
          "HIGH SCHOOL OF SPORTS MANAGEMENT",
          "ABRAHAM LINCOLN HIGH SCHOOL",
          "KINGSBOROUGH EARLY COLLEGE SCHOOL",
          "EDWARD R. MURROW HIGH SCHOOL",
          "JOHN DEWEY HIGH SCHOOL",
          "LIFE ACADEMY HIGH SCHOOL FOR FILM AND MUSIC",
          "EXPEDITIONARY LEARNING SCHOOL FOR COMMUNITY LEADERS",
          "WILLIAM E. GRADY CAREER AND TECHNICAL EDUCATION HIGH SCHOOL",
          "BROOKLYN STUDIO SECONDARY SCHOOL",
          "MIDWOOD HIGH SCHOOL",
          "JAMES MADISON HIGH SCHOOL",
          "LEON M. GOLDSTEIN HIGH SCHOOL FOR THE SCIENCES",
          "BROOKLYN COLLEGE ACADEMY",
          "BROOKLYN COLLEGIATE: A COLLEGE BOARD SCHOOL",
          "FREDERICK DOUGLASS ACADEMY VII HIGH SCHOOL",
          "TEACHERS PREPARATORY HIGH SCHOOL",
          "ACADEMY FOR ENVIRONMENTAL LEADERSHIP",
          "EBC HIGH SCHOOL FOR PUBLIC SERVICE–BUSHWICK",
          "BUSHWICK SCHOOL FOR SOCIAL JUSTICE",
          "ACADEMY OF URBAN PLANNING",
          "ALL CITY LEADERSHIP SECONDARY SCHOOL",
          "BUSHWICK LEADERS HIGH SCHOOL FOR ACADEMIC EXCELLENCE"
         ],
         "textfont": {
          "color": "#4D5663"
         },
         "type": "scatter",
         "x": [
          37,
          42.7,
          45.5,
          56.1,
          58.3,
          48.2,
          39.6,
          55.8,
          0,
          49,
          75.5,
          46.1,
          79.4,
          54.7,
          56.7,
          54.9,
          46.2,
          48.5,
          45.8,
          65.7,
          47.7,
          72.6,
          51,
          53.7,
          95.6,
          76.9,
          42.7,
          56.2,
          59.1,
          44.2,
          42.3,
          52.8,
          50.8,
          43.9,
          33.9,
          50.7,
          48.7,
          61.7,
          51.6,
          51.6,
          53.8,
          49.8,
          59.1,
          50.1,
          51.6,
          52,
          61.6,
          63.3,
          53,
          24.9,
          54.4,
          32.8,
          41.8,
          23.8,
          49,
          61,
          36.1,
          64.3,
          48.9,
          47.4,
          66.5,
          51.5,
          21.5,
          54.7,
          62.6,
          43.2,
          81.1,
          54.4,
          51.4,
          36.8,
          49.8,
          84.1,
          70.3,
          58.4,
          47.8,
          29.8,
          37.6,
          59.3,
          53.5,
          53.4,
          58.4,
          0,
          58.9,
          53.6,
          88.9,
          56.4,
          57.8,
          42.4,
          51.5,
          51,
          51.3,
          78,
          50.1,
          45.3,
          54.4,
          41.2,
          36.3,
          50.7,
          48.5,
          34.1,
          50,
          52.1,
          48.4,
          54.5,
          52.1,
          53.2
         ],
         "y": [
          1074,
          1080,
          1114,
          1211,
          1833,
          981,
          1206,
          1116,
          1223.4388059701494,
          1312,
          1189,
          1391,
          1353,
          1085,
          1223.4388059701494,
          1740,
          1189,
          1114,
          1204,
          1215,
          1090,
          1112,
          1187,
          1103,
          1093,
          1122,
          1035,
          1111,
          1179,
          1203,
          1169,
          1175,
          1212,
          1185,
          1258,
          1223.4388059701494,
          1068,
          1097,
          1092,
          1223.4388059701494,
          1139,
          1045,
          913,
          1176,
          1088,
          1153,
          1027,
          1105,
          1360,
          1273,
          1143,
          1151,
          1436,
          1251,
          963,
          1145,
          1118,
          1092,
          1143,
          1080,
          1183,
          1169,
          1159,
          1111,
          1135,
          1242,
          1023,
          1054,
          1149,
          1106,
          887,
          1193,
          1096,
          1108,
          1129,
          1102,
          1157,
          1272,
          1323,
          1306,
          1244,
          1223.4388059701494,
          1026,
          1237,
          1164,
          1226,
          1223.4388059701494,
          1431,
          1262,
          1124,
          1079,
          1184,
          1313,
          1473,
          1350,
          1627,
          1352,
          1185,
          1091,
          1196,
          1098,
          1154,
          1035,
          1060,
          1315,
          1055
         ]
        },
        {
         "marker": {
          "color": "rgba(128, 0, 128, 1.0)",
          "line": {
           "width": 1.3
          },
          "opacity": 0.8,
          "size": 12,
          "symbol": "circle"
         },
         "mode": "markers",
         "name": "Queens",
         "text": [
          "ACADEMY OF FINANCE AND ENTERPRISE",
          "HIGH SCHOOL OF APPLIED COMMUNICATION",
          "CIVIC LEADERSHIP ACADEMY",
          "PAN AMERICAN INTERNATIONAL HIGH SCHOOL",
          "BARD HIGH SCHOOL EARLY COLLEGE II",
          "NEWTOWN HIGH SCHOOL",
          "GROVER CLEVELAND HIGH SCHOOL",
          "MIDDLE COLLEGE HIGH SCHOOL AT LAGUARDIA COMMUNITY COLLEGE",
          "INTERNATIONAL HIGH SCHOOL AT LAGUARDIA COMMUNITY COLLEGE",
          "HIGH SCHOOL FOR ARTS AND BUSINESS",
          "ROBERT F. WAGNER, JR. SECONDARY SCHOOL FOR ARTS AND TECHNOLOGY",
          "QUEENS VOCATIONAL AND TECHNICAL HIGH SCHOOL",
          "AVIATION CAREER & TECHNICAL EDUCATION HIGH SCHOOL",
          "QUEENS SCHOOL OF INQUIRY, THE",
          "FLUSHING INTERNATIONAL HIGH SCHOOL",
          "EASTsWEST SCHOOL OF INTERNATIONAL STUDIES",
          "WORLD JOURNALISM PREPARATORY: A COLLEGE BOARD SCHOOL",
          "JOHN BOWNE HIGH SCHOOL",
          "FLUSHING HIGH SCHOOL",
          "TOWNSEND HARRIS HIGH SCHOOL",
          "ROBERT F. KENNEDY COMMUNITY HIGH SCHOOL",
          "BENJAMIN N. CARDOZO HIGH SCHOOL",
          "FRANCIS LEWIS HIGH SCHOOL",
          "MARTIN VAN BUREN HIGH SCHOOL",
          "BAYSIDE HIGH SCHOOL",
          "QUEENS HIGH SCHOOL OF TEACHING, LIBERAL ARTS AND THE SCIENCES",
          "FREDERICK DOUGLASS ACADEMY VI HIGH SCHOOL",
          "CHANNEL VIEW SCHOOL FOR RESEARCH",
          "QUEENS HIGH SCHOOL FOR INFORMATION, RESEARCH, AND TECHNOLOGY",
          "ROBERT H. GODDARD HIGH SCHOOL OF COMMUNICATION ARTS AND TECHNOLOGY",
          "ACADEMY OF MEDICAL TECHNOLOGY: A COLLEGE BOARD SCHOOL",
          "SCHOLARS' ACADEMY",
          "AUGUST MARTIN HIGH SCHOOL",
          "RICHMOND HILL HIGH SCHOOL",
          "JOHN ADAMS HIGH SCHOOL",
          "HIGH SCHOOL FOR CONSTRUCTION TRADES, ENGINEERING AND ARCHITECTURE",
          "YORK EARLY COLLEGE ACADEMY",
          "QUEENS COLLEGIATE: A COLLEGE BOARD SCHOOL",
          "HILLSIDE ARTS & LETTERS ACADEMY",
          "FOREST HILLS HIGH SCHOOL",
          "HILLCREST HIGH SCHOOL",
          "THOMAS A. EDISON CAREER AND TECHNICAL EDUCATION HIGH SCHOOL",
          "QUEENS GATEWAY TO HEALTH SCIENCES SECONDARY SCHOOL",
          "QUEENS METROPOLITAN HIGH SCHOOL",
          "QUEENS HIGH SCHOOL FOR THE SCIENCES AT YORK COLLEGE",
          "HIGH SCHOOL FOR LAW ENFORCEMENT AND PUBLIC SAFETY",
          "YOUNG WOMEN'S LEADERSHIP SCHOOL, QUEENS",
          "QUEENS PREPARATORY ACADEMY",
          "PATHWAYS COLLEGE PREPARATORY SCHOOL: A COLLEGE BOARD SCHOOL",
          "EXCELSIOR PREPARATORY HIGH SCHOOL",
          "GEORGE WASHINGTON CARVER HIGH SCHOOL FOR THE SCIENCES",
          "PREPARATORY ACADEMY FOR WRITERS: A COLLEGE BOARD SCHOOL",
          "CAMBRIA HEIGHTS ACADEMY",
          "MATHEMATICS, SCIENCE RESEARCH AND TECHNOLOGY MAGNET HIGH SCHOOL",
          "HUMANITIES & ARTS MAGNET HIGH SCHOOL",
          "YOUNG WOMEN'S LEADERSHIP SCHOOL, ASTORIA",
          "ACADEMY FOR CAREERS IN TELEVISION AND FILM",
          "WILLIAM CULLEN BRYANT HIGH SCHOOL",
          "LONG ISLAND CITY HIGH SCHOOL",
          "FRANK SINATRA SCHOOL OF THE ARTS HIGH SCHOOL",
          "INFORMATION TECHNOLOGY HIGH SCHOOL",
          "NEWCOMERS HIGH SCHOOL",
          "ACADEMY OF AMERICAN STUDIES",
          "BACCALAUREATE SCHOOL FOR GLOBAL EDUCATION"
         ],
         "textfont": {
          "color": "#4D5663"
         },
         "type": "scatter",
         "x": [
          49.3,
          43.8,
          44.5,
          47.8,
          39.3,
          57.5,
          55,
          52.9,
          46,
          43.1,
          46.6,
          60.3,
          85.3,
          46.7,
          57.3,
          54.1,
          42.2,
          49.2,
          55.8,
          28.9,
          53.8,
          47.4,
          49.2,
          54.3,
          49.4,
          45.8,
          52.6,
          51.1,
          54.5,
          48.1,
          43.8,
          43.9,
          55.2,
          53,
          54.5,
          67.3,
          51.1,
          49.9,
          47,
          48.1,
          46.1,
          65.1,
          38.1,
          49.6,
          56.5,
          53,
          0,
          56,
          53.3,
          56.9,
          47.3,
          43.1,
          55.1,
          60.4,
          42.8,
          0,
          53.2,
          53.7,
          51.3,
          30,
          71.8,
          53.2,
          45,
          44.8
         ],
         "y": [
          1280,
          1219,
          1240,
          951,
          1663,
          1203,
          1211,
          1177,
          1064,
          1174,
          1330,
          1270,
          1364,
          1396,
          1049,
          1271,
          1441,
          1243,
          1216,
          1910,
          1330,
          1514,
          1474,
          1172,
          1449,
          1279,
          1145,
          1252,
          1156,
          1265,
          1094,
          1532,
          1108,
          1154,
          1192,
          1345,
          1223.4388059701494,
          1265,
          1223.4388059701494,
          1407,
          1194,
          1372,
          1538,
          1223.4388059701494,
          1868,
          1196,
          1316,
          1099,
          1173,
          1202,
          1287,
          1100,
          1223.4388059701494,
          1220,
          1151,
          1223.4388059701494,
          1255,
          1275,
          1218,
          1494,
          1239,
          1127,
          1470,
          1636
         ]
        },
        {
         "marker": {
          "color": "rgba(219, 64, 82, 1.0)",
          "line": {
           "width": 1.3
          },
          "opacity": 0.8,
          "size": 12,
          "symbol": "circle"
         },
         "mode": "markers",
         "name": "Staten Island",
         "text": [
          "CSI HIGH SCHOOL FOR INTERNATIONAL STUDIES",
          "GAYNOR MCCOWN EXPEDITIONARY LEARNING SCHOOL",
          "THE MICHAEL J. PETRIDES SCHOOL",
          "NEW DORP HIGH SCHOOL",
          "PORT RICHMOND HIGH SCHOOL",
          "CURTIS HIGH SCHOOL",
          "TOTTENVILLE HIGH SCHOOL",
          "SUSAN E. WAGNER HIGH SCHOOL",
          "RALPH R. MCKEE CAREER AND TECHNICAL EDUCATION HIGH SCHOOL",
          "STATEN ISLAND TECHNICAL HIGH SCHOOL"
         ],
         "textfont": {
          "color": "#4D5663"
         },
         "type": "scatter",
         "x": [
          41.5,
          52,
          49.2,
          52.5,
          54.8,
          46.4,
          49.6,
          50.8,
          67.1,
          57
         ],
         "y": [
          1353,
          1195,
          1426,
          1277,
          1279,
          1301,
          1418,
          1388,
          1235,
          1953
         ]
        }
       ],
       "layout": {
        "legend": {
         "bgcolor": "#F5F6F9",
         "font": {
          "color": "#4D5663"
         }
        },
        "paper_bgcolor": "#F5F6F9",
        "plot_bgcolor": "#F5F6F9",
        "shapes": [
         {
          "line": {
           "color": "#000000",
           "dash": "dash",
           "width": 1
          },
          "type": "line",
          "x0": 0,
          "x1": 1,
          "xref": "paper",
          "y0": 1223.438805970149,
          "y1": 1223.438805970149,
          "yref": "y"
         },
         {
          "line": {
           "color": "#000000",
           "dash": "dash",
           "width": 1
          },
          "type": "line",
          "x0": 49.37851239669419,
          "x1": 49.37851239669419,
          "xref": "x",
          "y0": 0,
          "y1": 1,
          "yref": "paper"
         }
        ],
        "title": "Male students vs. SAT score by school <br> Dashed lines: Averages of each parameter",
        "titlefont": {
         "color": "#4D5663"
        },
        "xaxis": {
         "gridcolor": "#E1E5ED",
         "showgrid": true,
         "tickfont": {
          "color": "#4D5663"
         },
         "title": "Share males, %",
         "titlefont": {
          "color": "#4D5663"
         },
         "zerolinecolor": "#E1E5ED"
        },
        "yaxis": {
         "gridcolor": "#E1E5ED",
         "showgrid": true,
         "tickfont": {
          "color": "#4D5663"
         },
         "title": "Avg. SAT score",
         "titlefont": {
          "color": "#4D5663"
         },
         "zerolinecolor": "#E1E5ED"
        }
       }
      },
      "text/html": [
       "<div>\n",
       "        \n",
       "        \n",
       "            <div id=\"f8b5214b-625f-42ed-b1e8-5c75a535831d\" class=\"plotly-graph-div\" style=\"height:525px; width:100%;\"></div>\n",
       "            <script type=\"text/javascript\">\n",
       "                require([\"plotly\"], function(Plotly) {\n",
       "                    window.PLOTLYENV=window.PLOTLYENV || {};\n",
       "                    window.PLOTLYENV.BASE_URL='https://plot.ly';\n",
       "                    \n",
       "                if (document.getElementById(\"f8b5214b-625f-42ed-b1e8-5c75a535831d\")) {\n",
       "                    Plotly.newPlot(\n",
       "                        'f8b5214b-625f-42ed-b1e8-5c75a535831d',\n",
       "                        [{\"marker\": {\"color\": \"rgba(255, 153, 51, 1.0)\", \"line\": {\"width\": 1.3}, \"opacity\": 0.8, \"size\": 12, \"symbol\": \"circle\"}, \"mode\": \"markers\", \"name\": \"Manhattan\", \"text\": [\"HENRY STREET SCHOOL FOR INTERNATIONAL STUDIES\", \"UNIVERSITY NEIGHBORHOOD HIGH SCHOOL\", \"EAST SIDE COMMUNITY SCHOOL\", \"MARTA VALLE HIGH SCHOOL\", \"NEW EXPLORATIONS INTO SCIENCE, TECHNOLOGY AND MATH HIGH SCHOOL\", \"BARD HIGH SCHOOL EARLY COLLEGE\", \"47 THE AMERICAN SIGN LANGUAGE AND ENGLISH SECONDARY SCHOOL\", \"FOOD AND FINANCE HIGH SCHOOL\", \"ESSEX STREET ACADEMY\", \"HIGH SCHOOL OF HOSPITALITY MANAGEMENT\", \"PACE HIGH SCHOOL\", \"URBAN ASSEMBLY SCHOOL OF DESIGN AND CONSTRUCTION, THE\", \"FACING HISTORY SCHOOL, THE\", \"URBAN ASSEMBLY ACADEMY OF GOVERNMENT AND LAW, THE\", \"LOWER MANHATTAN ARTS ACADEMY\", \"URBAN ASSEMBLY SCHOOL OF BUSINESS FOR YOUNG WOMEN, THE\", \"GRAMERCY ARTS HIGH SCHOOL\", \"NYC ISCHOOL\", \"MANHATTAN BUSINESS ACADEMY\", \"BUSINESS OF SPORTS SCHOOL\", \"THE HIGH SCHOOL FOR LANGUAGE AND DIPLOMACY\", \"HIGH SCHOOL FOR ENVIRONMENTAL STUDIES\", \"PROFESSIONAL PERFORMING ARTS HIGH SCHOOL\", \"BARUCH COLLEGE CAMPUS HIGH SCHOOL\", \"N.Y.C. LAB SCHOOL FOR COLLABORATIVE STUDIES\", \"N.Y.C. MUSEUM SCHOOL\", \"ELEANOR ROOSEVELT HIGH SCHOOL\", \"MILLENNIUM HIGH SCHOOL\", \"LANDMARK HIGH SCHOOL\", \"HIGH SCHOOL FOR HEALTH PROFESSIONS AND HUMAN SERVICES\", \"LEADERSHIP AND PUBLIC SERVICE HIGH SCHOOL\", \"MANHATTAN ACADEMY FOR ARTS & LANGUAGE\", \"HUDSON HIGH SCHOOL OF LEARNING TECHNOLOGIES\", \"INTERNATIONAL HIGH SCHOOL AT UNION SQUARE\", \"MANHATTAN VILLAGE ACADEMY\", \"VANGUARD HIGH SCHOOL\", \"MANHATTAN INTERNATIONAL HIGH SCHOOL\", \"STUYVESANT HIGH SCHOOL\", \"HIGH SCHOOL OF ECONOMICS AND FINANCE\", \"UNITY CENTER FOR URBAN TECHNOLOGIES\", \"TALENT UNLIMITED HIGH SCHOOL\", \"MURRY BERGTRAUM HIGH SCHOOL FOR BUSINESS CAREERS\", \"JACQUELINE KENNEDY ONASSIS HIGH SCHOOL\", \"REPERTORY COMPANY HIGH SCHOOL FOR THEATRE ARTS\", \"MANHATTAN BRIDGES HIGH SCHOOL\", \"NEW DESIGN HIGH SCHOOL\", \"HIGH SCHOOL FOR DUAL LANGUAGE AND ASIAN STUDIES\", \"THE URBAN ASSEMBLY NEW YORK HARBOR SCHOOL\", \"RICHARD R. GREEN HIGH SCHOOL OF TEACHING\", \"THE HIGH SCHOOL OF FASHION INDUSTRIES\", \"HUMANITIES PREPARATORY ACADEMY\", \"CHELSEA CAREER AND TECHNICAL EDUCATION HIGH SCHOOL\", \"ART AND DESIGN HIGH SCHOOL\", \"LIFE SCIENCES SECONDARY SCHOOL\", \"HIGH SCHOOL FOR ARTS, IMAGINATION AND INQUIRY\", \"URBAN ASSEMBLY SCHOOL FOR MEDIA STUDIES, THE\", \"THE URBAN ASSEMBLY SCHOOL FOR GREEN CAREERS\", \"THE GLOBAL LEARNING COLLABORATIVE\", \"WADLEIGH SECONDARY SCHOOL FOR THE PERFORMING & VISUAL ARTS\", \"FRANK MCCOURT HIGH SCHOOL\", \"BEACON HIGH SCHOOL\", \"FIORELLO H. LAGUARDIA HIGH SCHOOL OF MUSIC & ART AND PERFORMING ARTS\", \"HIGH SCHOOL FOR LAW, ADVOCACY AND COMMUNITY JUSTICE\", \"HIGH SCHOOL OF ARTS AND TECHNOLOGY\", \"MANHATTAN / HUNTER SCIENCE HIGH SCHOOL\", \"FREDERICK DOUGLASS ACADEMY II SECONDARY SCHOOL\", \"COALITION SCHOOL FOR SOCIAL CHANGE\", \"MANHATTAN CENTER FOR SCIENCE AND MATHEMATICS\", \"PARK EAST HIGH SCHOOL\", \"CENTRAL PARK EAST HIGH SCHOOL\", \"YOUNG WOMEN'S LEADERSHIP SCHOOL\", \"YOUNG WOMEN'S LEADERSHIP SCHOOL\", \"HERITAGE SCHOOL, THE\", \"MOTT HALL HIGH SCHOOL\", \"COLUMBIA SECONDARY SCHOOL FOR MATH, SCIENCE, AND ENGINEERING\", \"ACADEMY FOR SOCIAL ACTION: A COLLEGE BOARD SCHOOL\", \"URBAN ASSEMBLY SCHOOL FOR THE PERFORMING ARTS\", \"FREDERICK DOUGLASS ACADEMY\", \"THURGOOD MARSHALL ACADEMY FOR LEARNING AND SOCIAL CHANGE\", \"HIGH SCHOOL FOR MATHEMATICS, SCIENCE AND ENGINEERING AT CITY COLLEGE\", \"CITY COLLEGE ACADEMY OF THE ARTS\", \"COMMUNITY HEALTH ACADEMY OF THE HEIGHTS\", \"WASHINGTON HEIGHTS EXPEDITIONARY LEARNING SCHOOL\", \"HIGH SCHOOL FOR EXCELLENCE AND INNOVATION\", \"HIGH SCHOOL FOR INTERNATIONAL BUSINESS AND FINANCE\", \"HIGH SCHOOL FOR MEDIA AND COMMUNICATIONS\", \"HIGH SCHOOL FOR LAW AND PUBLIC SERVICE\", \"HIGH SCHOOL FOR HEALTH CAREERS AND SCIENCES\", \"A. PHILIP RANDOLPH CAMPUS HIGH SCHOOL\", \"GREGORIO LUPERON HIGH SCHOOL FOR SCIENCE AND MATHEMATICS\"], \"textfont\": {\"color\": \"#4D5663\"}, \"type\": \"scatter\", \"x\": [61.4, 57.4, 54.7, 46.3, 49.2, 31.3, 42.5, 45.0, 53.4, 32.2, 43.7, 74.9, 50.6, 43.9, 39.9, 0.0, 26.3, 48.7, 59.0, 72.4, 48.0, 50.4, 25.3, 44.0, 47.0, 42.4, 32.5, 38.2, 48.5, 29.4, 46.1, 54.9, 60.6, 61.4, 38.5, 46.2, 44.3, 59.3, 54.5, 62.4, 21.4, 49.1, 40.6, 21.2, 51.4, 38.3, 51.3, 60.9, 32.6, 7.3, 42.7, 65.0, 46.7, 51.6, 55.7, 57.9, 56.9, 51.4, 38.4, 46.6, 39.0, 26.4, 40.1, 67.7, 41.1, 54.2, 44.4, 46.4, 42.1, 32.1, 0.0, 0.0, 48.6, 53.5, 49.6, 48.7, 25.4, 52.2, 44.1, 65.8, 39.6, 52.3, 55.8, 52.8, 63.8, 63.5, 58.6, 52.7, 49.9, 48.9], \"y\": [1122.0, 1172.0, 1149.0, 1207.0, 1621.0, 1856.0, 1182.0, 1194.0, 1156.0, 1111.0, 1293.0, 1269.0, 1051.0, 1148.0, 1200.0, 1127.0, 1176.0, 1435.0, 1223.4388059701494, 1223.4388059701494, 1223.4388059701494, 1419.0, 1522.0, 1577.0, 1677.0, 1419.0, 1758.0, 1614.0, 1170.0, 1306.0, 1233.0, 1223.4388059701494, 1223.4388059701494, 1223.4388059701494, 1372.0, 1199.0, 1227.0, 2096.0, 1374.0, 1070.0, 1416.0, 1240.0, 1239.0, 1253.0, 1058.0, 1168.0, 1424.0, 1212.0, 1195.0, 1257.0, 1255.0, 1207.0, 1315.0, 1236.0, 1132.0, 1144.0, 1223.4388059701494, 1223.4388059701494, 1109.0, 1223.4388059701494, 1744.0, 1707.0, 1196.0, 1277.0, 1446.0, 1096.0, 1084.0, 1430.0, 1128.0, 1221.0, 1326.0, 1326.0, 1054.0, 1210.0, 1223.4388059701494, 1062.0, 1077.0, 1374.0, 1202.0, 1847.0, 1270.0, 1105.0, 1174.0, 1223.4388059701494, 1127.0, 1098.0, 1102.0, 1224.0, 1309.0, 1014.0]}, {\"marker\": {\"color\": \"rgba(55, 128, 191, 1.0)\", \"line\": {\"width\": 1.3}, \"opacity\": 0.8, \"size\": 12, \"symbol\": \"circle\"}, \"mode\": \"markers\", \"name\": \"Bronx\", \"text\": [\"SOUTH BRONX PREPARATORY: A COLLEGE BOARD SCHOOL\", \"INTERNATIONAL COMMUNITY HIGH SCHOOL\", \"COMMUNITY SCHOOL FOR SOCIAL JUSTICE\", \"MOTT HAVEN VILLAGE PREPARATORY HIGH SCHOOL\", \"UNIVERSITY HEIGHTS SECONDARY SCHOOL\", \"HOSTOSsLINCOLN ACADEMY OF SCIENCE\", \"FOREIGN LANGUAGE ACADEMY OF GLOBAL STUDIES\", \"BRONX LEADERSHIP ACADEMY II HIGH SCHOOL\", \"NEW EXPLORERS HIGH SCHOOL\", \"URBAN ASSEMBLY SCHOOL FOR CAREERS IN SPORTS\", \"BRONX ACADEMY OF LETTERS\", \"ALFRED E. SMITH CAREER AND TECHNICAL EDUCATION HIGH SCHOOL\", \"HEALTH OPPORTUNITIES HIGH SCHOOL\", \"BRONX STUDIO SCHOOL FOR WRITERS AND ARTISTS\", \"WOMEN'S ACADEMY OF EXCELLENCE\", \"RENAISSANCE HIGH SCHOOL FOR MUSICAL THEATER & TECHNOLOGY\", \"PABLO NERUDA ACADEMY FOR ARCHITECTURE AND WORLD STUDIES\", \"MILLENNIUM ART ACADEMY\", \"HOLCOMBE L. RUCKER SCHOOL OF COMMUNITY RESEARCH\", \"ANTONIA PANTOJA PREPARATORY ACADEMY, A COLLEGE BOARD SCHOOL\", \"HERBERT H. LEHMAN HIGH SCHOOL\", \"BRONX BRIDGES HIGH SCHOOL\", \"FELISA RINCON DE GAUTIER INSTITUTE FOR LAW AND PUBLIC POLICY, THE\", \"BANANA KELLY HIGH SCHOOL\", \"BRONX EXPEDITIONARY LEARNING HIGH SCHOOL\", \"EAGLE ACADEMY FOR YOUNG MEN\", \"URBAN ASSEMBLY SCHOOL FOR APPLIED MATH AND SCIENCE, THE\", \"EXIMIUS COLLEGE PREPARATORY ACADEMY: A COLLEGE BOARD SCHOOL\", \"MOTT HALL BRONX HIGH SCHOOL\", \"BRONX CENTER FOR SCIENCE AND MATHEMATICS\", \"VALIDUS PREPARATORY ACADEMY: AN EXPEDITIONARY LEARNING SCHOOL\", \"LEADERSHIP INSTITUTE\", \"MORRIS ACADEMY FOR COLLABORATIVE STUDIES\", \"BRONX EARLY COLLEGE ACADEMY FOR TEACHING & LEARNING\", \"DREAMYARD PREPARATORY SCHOOL\", \"ACADEMY FOR LANGUAGE AND TECHNOLOGY\", \"BRONX INTERNATIONAL HIGH SCHOOL\", \"SCHOOL FOR EXCELLENCE\", \"BRONX HIGH SCHOOL OF BUSINESS\", \"BRONX HIGH SCHOOL FOR MEDICAL SCIENCE\", \"BRONX SCHOOL FOR LAW, GOVERNMENT AND JUSTICE\", \"FREDERICK DOUGLASS ACADEMY III SECONDARY SCHOOL\", \"BRONX LEADERSHIP ACADEMY HIGH SCHOOL\", \"HIGH SCHOOL FOR VIOLIN AND DANCE\", \"RIVERDALE / KINGSBRIDGE ACADEMY (MIDDLE SCHOOL / HIGH SCHOOL 141)\", \"BRONX ENGINEERING AND TECHNOLOGY ACADEMY\", \"THEATRE ARTS PRODUCTION COMPANY SCHOOL\", \"THE MARIE CURIE SCHOOL FOR MEDICINE, NURSING, AND HEALTH PROFESSIONS\", \"WEST BRONX ACADEMY FOR THE FUTURE\", \"KINGSBRIDGE INTERNATIONAL HIGH SCHOOL\", \"BRONX SCHOOL OF LAW AND FINANCE\", \"INTERNATIONAL SCHOOL FOR LIBERAL ARTS\", \"INsTECH ACADEMY (M.S. / HIGH SCHOOL 368)\", \"KNOWLEDGE AND POWER PREPARATORY ACADEMY INTERNATIONAL HIGH SCHOOL (KAPPA)\", \"HIGH SCHOOL FOR TEACHING AND THE PROFESSIONS\", \"BELMONT PREPARATORY HIGH SCHOOL\", \"FORDHAM HIGH SCHOOL FOR THE ARTS\", \"FORDHAM LEADERSHIP ACADEMY FOR BUSINESS AND TECHNOLOGY\", \"BRONX HIGH SCHOOL FOR LAW AND COMMUNITY SERVICE\", \"DEWITT CLINTON HIGH SCHOOL\", \"CELIA CRUZ BRONX HIGH SCHOOL OF MUSIC, THE\", \"BRONX HIGH SCHOOL OF SCIENCE\", \"MARBLE HILL HIGH SCHOOL FOR INTERNATIONAL STUDIES\", \"BRONX THEATRE HIGH SCHOOL\", \"DISCOVERY HIGH SCHOOL\", \"HIGH SCHOOL OF AMERICAN STUDIES AT LEHMAN COLLEGE\", \"BRONX HEALTH SCIENCES HIGH SCHOOL\", \"BRONX HIGH SCHOOL FOR WRITING AND COMMUNICATION ARTS\", \"BRONX LAB SCHOOL\", \"ACADEMY FOR SCHOLARSHIP AND ENTREPRENEURSHIP: A COLLEGE BOARD SCHOOL\", \"HIGH SCHOOL OF COMPUTERS AND TECHNOLOGY\", \"COLLEGIATE INSTITUTE FOR MATH AND SCIENCE\", \"BRONX ACADEMY OF HEALTH CAREERS\", \"ASTOR COLLEGIATE ACADEMY\", \"BRONX HIGH SCHOOL FOR THE VISUAL ARTS\", \"HARRY S TRUMAN HIGH SCHOOL\", \"NEW WORLD HIGH SCHOOL\", \"THE BRONXWOOD PREPARATORY ACADEMY\", \"PELHAM PREPARATORY ACADEMY\", \"HIGH SCHOOL FOR CONTEMPORARY ARTS\", \"BRONX AEROSPACE HIGH SCHOOL\", \"METROPOLITAN HIGH SCHOOL, THE\", \"EXPLORATIONS ACADEMY\", \"BRONX LATIN\", \"EAST BRONX ACADEMY FOR THE FUTURE\", \"PEACE AND DIVERSITY ACADEMY\", \"PAN AMERICAN INTERNATIONAL HIGH SCHOOL AT MONROE\", \"THE CINEMA SCHOOL\", \"BRONX CAREER AND COLLEGE PREPARATORY HIGH SCHOOL\", \"HIGH SCHOOL OF WORLD CULTURES\", \"FANNIE LOU HAMER FREEDOM HIGH SCHOOL\", \"WINGS ACADEMY\", \"MONROE ACADEMY FOR VISUAL ARTS & DESIGN\"], \"textfont\": {\"color\": \"#4D5663\"}, \"type\": \"scatter\", \"x\": [47.4, 48.6, 49.2, 50.1, 43.2, 45.2, 45.3, 54.0, 57.7, 84.3, 44.5, 92.7, 28.6, 44.0, 0.3, 38.0, 66.0, 49.2, 49.2, 47.0, 61.1, 52.3, 43.0, 49.9, 50.1, 100.0, 49.3, 46.6, 45.8, 46.2, 44.1, 52.2, 53.8, 48.5, 44.1, 48.8, 45.7, 52.3, 54.9, 42.2, 45.9, 51.5, 43.3, 14.6, 51.8, 82.7, 30.9, 16.5, 57.9, 52.3, 56.6, 49.0, 48.9, 47.2, 42.3, 47.2, 43.2, 63.4, 44.4, 51.1, 40.7, 57.8, 46.7, 32.1, 52.4, 53.8, 35.3, 40.8, 59.5, 52.0, 87.3, 57.1, 32.7, 58.6, 58.0, 60.0, 50.0, 61.3, 48.1, 55.3, 82.5, 54.0, 50.8, 49.8, 53.0, 45.0, 51.5, 40.8, 44.3, 52.0, 54.1, 53.7, 52.6], \"y\": [1090.0, 945.0, 1077.0, 1097.0, 1201.0, 1257.0, 1186.0, 1103.0, 1084.0, 1181.0, 1201.0, 1158.0, 1095.0, 1223.4388059701494, 1171.0, 1158.0, 1038.0, 1164.0, 1084.0, 1223.4388059701494, 1241.0, 1223.4388059701494, 1099.0, 1131.0, 1049.0, 1134.0, 1290.0, 1169.0, 1092.0, 1396.0, 1075.0, 1081.0, 1148.0, 1223.4388059701494, 1138.0, 951.0, 965.0, 1074.0, 1083.0, 1221.0, 1224.0, 1121.0, 1166.0, 1039.0, 1333.0, 1150.0, 1190.0, 1157.0, 1158.0, 962.0, 1182.0, 934.0, 1181.0, 1180.0, 1106.0, 1222.0, 1077.0, 1119.0, 1082.0, 1255.0, 1270.0, 1969.0, 1263.0, 1064.0, 1115.0, 1920.0, 1133.0, 1147.0, 1135.0, 1141.0, 1111.0, 1348.0, 1135.0, 1169.0, 1268.0, 1151.0, 1048.0, 1112.0, 1288.0, 1126.0, 1163.0, 1055.0, 1122.0, 1251.0, 1102.0, 1155.0, 970.0, 1223.4388059701494, 1223.4388059701494, 939.0, 1029.0, 1114.0, 1038.0]}, {\"marker\": {\"color\": \"rgba(50, 171, 96, 1.0)\", \"line\": {\"width\": 1.3}, \"opacity\": 0.8, \"size\": 12, \"symbol\": \"circle\"}, \"mode\": \"markers\", \"name\": \"Brooklyn\", \"text\": [\"DR. SUSAN S. MCKINNEY SECONDARY SCHOOL OF THE ARTS\", \"URBAN ASSEMBLY HIGH SCHOOL OF MUSIC AND ART\", \"BROOKLYN COMMUNITY HIGH SCHOOL OF COMMUNICATION, ARTS AND MEDIA\", \"SCIENCE SKILLS CENTER HIGH SCHOOL FOR SCIENCE, TECHNOLOGY AND THE CREATIVE ARTS\", \"BROOKLYN TECHNICAL HIGH SCHOOL\", \"BROOKLYN INTERNATIONAL HIGH SCHOOL\", \"THE URBAN ASSEMBLY SCHOOL FOR LAW AND JUSTICE\", \"ACORN COMMUNITY HIGH SCHOOL\", \"URBAN ASSEMBLY INSTITUTE OF MATH AND SCIENCE FOR YOUNG WOMEN\", \"BEDFORD ACADEMY HIGH SCHOOL\", \"GEORGE WESTINGHOUSE CAREER AND TECHNICAL EDUCATION HIGH SCHOOL\", \"BENJAMIN BANNEKER ACADEMY\", \"CITY POLYTECHNIC HIGH SCHOOL OF ENGINEERING, ARCHITECTURE, AND TECHNOLOGY\", \"JUAN MOREL CAMPOS SECONDARY SCHOOL\", \"FOUNDATIONS ACADEMY\", \"BROOKLYN LATIN SCHOOL, THE\", \"GREEN SCHOOL: AN ACADEMY FOR ENVIRONMENTAL CAREERS\", \"PROGRESS HIGH SCHOOL FOR PROFESSIONAL CAREERS\", \"SCHOOL FOR LEGAL STUDIES\", \"THE HIGH SCHOOL FOR ENTERPRISE, BUSINESS AND TECHNOLOGY\", \"BROOKLYN PREPARATORY HIGH SCHOOL\", \"WILLIAMSBURG HIGH SCHOOL FOR ARCHITECTURE AND DESIGN\", \"WILLIAMSBURG PREPARATORY SCHOOL\", \"LYONS COMMUNITY SCHOOL\", \"AUTOMOTIVE HIGH SCHOOL\", \"FRANCES PERKINS ACADEMY\", \"EL PUENTE ACADEMY FOR PEACE AND JUSTICE\", \"BROOKLYN SCHOOL FOR GLOBAL STUDIES\", \"BROOKLYN SECONDARY SCHOOL FOR COLLABORATIVE STUDIES\", \"SECONDARY SCHOOL FOR LAW\", \"SECONDARY SCHOOL FOR JOURNALISM\", \"PARK SLOPE COLLEGIATE\", \"SCHOOL FOR INTERNATIONAL STUDIES\", \"COBBLE HILL SCHOOL OF AMERICAN STUDIES\", \"BROOKLYN HIGH SCHOOL OF THE ARTS\", \"SUNSET PARK HIGH SCHOOL\", \"FREDERICK DOUGLASS ACADEMY IV SECONDARY SCHOOL\", \"BOYS AND GIRLS HIGH SCHOOL\", \"BROOKLYN HIGH SCHOOL FOR LAW AND TECHNOLOGY\", \"THE BROOKLYN ACADEMY OF GLOBAL FINANCE\", \"ACADEMY FOR COLLEGE PREPARATION AND CAREER EXPLORATION: A COLLEGE BOARD SCHOOL\", \"ACADEMY OF HOSPITALITY AND TOURISM\", \"INTERNATIONAL HIGH SCHOOL AT PROSPECT HEIGHTS\", \"THE HIGH SCHOOL FOR GLOBAL CITIZENSHIP\", \"SCHOOL FOR HUMAN RIGHTS, THE\", \"SCHOOL FOR DEMOCRACY AND LEADERSHIP\", \"HIGH SCHOOL FOR YOUTH AND COMMUNITY DEVELOPMENT AT ERASMUS\", \"HIGH SCHOOL FOR SERVICE & LEARNING AT ERASMUS\", \"SCIENCE, TECHNOLOGY AND RESEARCH EARLY COLLEGE HIGH SCHOOL AT ERASMUS\", \"HIGH SCHOOL FOR PUBLIC SERVICE: HEROES OF TOMORROW\", \"BROOKLYN ACADEMY OF SCIENCE AND THE ENVIRONMENT\", \"BROOKLYN SCHOOL FOR MUSIC & THEATRE\", \"MEDGAR EVERS COLLEGE PREPARATORY SCHOOL\", \"CLARA BARTON HIGH SCHOOL\", \"IT TAKES A VILLAGE ACADEMY\", \"BROOKLYN GENERATION SCHOOL\", \"BROOKLYN THEATRE ARTS HIGH SCHOOL\", \"KURT HAHN EXPEDITIONARY LEARNING SCHOOL\", \"VICTORY COLLEGIATE HIGH SCHOOL\", \"ARTS & MEDIA PREPARATORY ACADEMY\", \"HIGH SCHOOL FOR INNOVATION IN ADVERTISING AND MEDIA\", \"CULTURAL ACADEMY FOR THE ARTS AND SCIENCES\", \"HIGH SCHOOL FOR MEDICAL PROFESSIONS\", \"ACADEMY FOR CONSERVATION AND THE ENVIRONMENT\", \"URBAN ACTION ACADEMY\", \"EAST NEW YORK FAMILY ACADEMY\", \"FDNY HIGH SCHOOL FOR FIRE AND LIFE SAFETY\", \"HIGH SCHOOL FOR CIVIL RIGHTS\", \"PERFORMING ARTS AND TECHNOLOGY HIGH SCHOOL\", \"WORLD ACADEMY FOR TOTAL COMMUNITY HEALTH HIGH SCHOOL\", \"MULTICULTURAL HIGH SCHOOL\", \"TRANSIT TECH CAREER AND TECHNICAL EDUCATION HIGH SCHOOL\", \"ACADEMY OF INNOVATIVE TECHNOLOGY\", \"BROOKLYN LAB SCHOOL\", \"CYPRESS HILLS COLLEGIATE PREPARATORY SCHOOL\", \"W. H. MAXWELL CAREER AND TECHNICAL EDUCATION HIGH SCHOOL\", \"THE SCHOOL FOR CLASSICS: AN ACADEMY OF THINKERS, WRITERS AND PERFORMERS\", \"NEW UTRECHT HIGH SCHOOL\", \"HIGH SCHOOL OF TELECOMMUNICATION ARTS AND TECHNOLOGY\", \"FORT HAMILTON HIGH SCHOOL\", \"FRANKLIN DELANO ROOSEVELT HIGH SCHOOL\", \"THE URBAN ASSEMBLY SCHOOL FOR CRIMINAL JUSTICE\", \"INTERNATIONAL HIGH SCHOOL AT LAFAYETTE\", \"RACHEL CARSON HIGH SCHOOL FOR COASTAL STUDIES\", \"HIGH SCHOOL OF SPORTS MANAGEMENT\", \"ABRAHAM LINCOLN HIGH SCHOOL\", \"KINGSBOROUGH EARLY COLLEGE SCHOOL\", \"EDWARD R. MURROW HIGH SCHOOL\", \"JOHN DEWEY HIGH SCHOOL\", \"LIFE ACADEMY HIGH SCHOOL FOR FILM AND MUSIC\", \"EXPEDITIONARY LEARNING SCHOOL FOR COMMUNITY LEADERS\", \"WILLIAM E. GRADY CAREER AND TECHNICAL EDUCATION HIGH SCHOOL\", \"BROOKLYN STUDIO SECONDARY SCHOOL\", \"MIDWOOD HIGH SCHOOL\", \"JAMES MADISON HIGH SCHOOL\", \"LEON M. GOLDSTEIN HIGH SCHOOL FOR THE SCIENCES\", \"BROOKLYN COLLEGE ACADEMY\", \"BROOKLYN COLLEGIATE: A COLLEGE BOARD SCHOOL\", \"FREDERICK DOUGLASS ACADEMY VII HIGH SCHOOL\", \"TEACHERS PREPARATORY HIGH SCHOOL\", \"ACADEMY FOR ENVIRONMENTAL LEADERSHIP\", \"EBC HIGH SCHOOL FOR PUBLIC SERVICE\\u2013BUSHWICK\", \"BUSHWICK SCHOOL FOR SOCIAL JUSTICE\", \"ACADEMY OF URBAN PLANNING\", \"ALL CITY LEADERSHIP SECONDARY SCHOOL\", \"BUSHWICK LEADERS HIGH SCHOOL FOR ACADEMIC EXCELLENCE\"], \"textfont\": {\"color\": \"#4D5663\"}, \"type\": \"scatter\", \"x\": [37.0, 42.7, 45.5, 56.1, 58.3, 48.2, 39.6, 55.8, 0.0, 49.0, 75.5, 46.1, 79.4, 54.7, 56.7, 54.9, 46.2, 48.5, 45.8, 65.7, 47.7, 72.6, 51.0, 53.7, 95.6, 76.9, 42.7, 56.2, 59.1, 44.2, 42.3, 52.8, 50.8, 43.9, 33.9, 50.7, 48.7, 61.7, 51.6, 51.6, 53.8, 49.8, 59.1, 50.1, 51.6, 52.0, 61.6, 63.3, 53.0, 24.9, 54.4, 32.8, 41.8, 23.8, 49.0, 61.0, 36.1, 64.3, 48.9, 47.4, 66.5, 51.5, 21.5, 54.7, 62.6, 43.2, 81.1, 54.4, 51.4, 36.8, 49.8, 84.1, 70.3, 58.4, 47.8, 29.8, 37.6, 59.3, 53.5, 53.4, 58.4, 0.0, 58.9, 53.6, 88.9, 56.4, 57.8, 42.4, 51.5, 51.0, 51.3, 78.0, 50.1, 45.3, 54.4, 41.2, 36.3, 50.7, 48.5, 34.1, 50.0, 52.1, 48.4, 54.5, 52.1, 53.2], \"y\": [1074.0, 1080.0, 1114.0, 1211.0, 1833.0, 981.0, 1206.0, 1116.0, 1223.4388059701494, 1312.0, 1189.0, 1391.0, 1353.0, 1085.0, 1223.4388059701494, 1740.0, 1189.0, 1114.0, 1204.0, 1215.0, 1090.0, 1112.0, 1187.0, 1103.0, 1093.0, 1122.0, 1035.0, 1111.0, 1179.0, 1203.0, 1169.0, 1175.0, 1212.0, 1185.0, 1258.0, 1223.4388059701494, 1068.0, 1097.0, 1092.0, 1223.4388059701494, 1139.0, 1045.0, 913.0, 1176.0, 1088.0, 1153.0, 1027.0, 1105.0, 1360.0, 1273.0, 1143.0, 1151.0, 1436.0, 1251.0, 963.0, 1145.0, 1118.0, 1092.0, 1143.0, 1080.0, 1183.0, 1169.0, 1159.0, 1111.0, 1135.0, 1242.0, 1023.0, 1054.0, 1149.0, 1106.0, 887.0, 1193.0, 1096.0, 1108.0, 1129.0, 1102.0, 1157.0, 1272.0, 1323.0, 1306.0, 1244.0, 1223.4388059701494, 1026.0, 1237.0, 1164.0, 1226.0, 1223.4388059701494, 1431.0, 1262.0, 1124.0, 1079.0, 1184.0, 1313.0, 1473.0, 1350.0, 1627.0, 1352.0, 1185.0, 1091.0, 1196.0, 1098.0, 1154.0, 1035.0, 1060.0, 1315.0, 1055.0]}, {\"marker\": {\"color\": \"rgba(128, 0, 128, 1.0)\", \"line\": {\"width\": 1.3}, \"opacity\": 0.8, \"size\": 12, \"symbol\": \"circle\"}, \"mode\": \"markers\", \"name\": \"Queens\", \"text\": [\"ACADEMY OF FINANCE AND ENTERPRISE\", \"HIGH SCHOOL OF APPLIED COMMUNICATION\", \"CIVIC LEADERSHIP ACADEMY\", \"PAN AMERICAN INTERNATIONAL HIGH SCHOOL\", \"BARD HIGH SCHOOL EARLY COLLEGE II\", \"NEWTOWN HIGH SCHOOL\", \"GROVER CLEVELAND HIGH SCHOOL\", \"MIDDLE COLLEGE HIGH SCHOOL AT LAGUARDIA COMMUNITY COLLEGE\", \"INTERNATIONAL HIGH SCHOOL AT LAGUARDIA COMMUNITY COLLEGE\", \"HIGH SCHOOL FOR ARTS AND BUSINESS\", \"ROBERT F. WAGNER, JR. SECONDARY SCHOOL FOR ARTS AND TECHNOLOGY\", \"QUEENS VOCATIONAL AND TECHNICAL HIGH SCHOOL\", \"AVIATION CAREER & TECHNICAL EDUCATION HIGH SCHOOL\", \"QUEENS SCHOOL OF INQUIRY, THE\", \"FLUSHING INTERNATIONAL HIGH SCHOOL\", \"EASTsWEST SCHOOL OF INTERNATIONAL STUDIES\", \"WORLD JOURNALISM PREPARATORY: A COLLEGE BOARD SCHOOL\", \"JOHN BOWNE HIGH SCHOOL\", \"FLUSHING HIGH SCHOOL\", \"TOWNSEND HARRIS HIGH SCHOOL\", \"ROBERT F. KENNEDY COMMUNITY HIGH SCHOOL\", \"BENJAMIN N. CARDOZO HIGH SCHOOL\", \"FRANCIS LEWIS HIGH SCHOOL\", \"MARTIN VAN BUREN HIGH SCHOOL\", \"BAYSIDE HIGH SCHOOL\", \"QUEENS HIGH SCHOOL OF TEACHING, LIBERAL ARTS AND THE SCIENCES\", \"FREDERICK DOUGLASS ACADEMY VI HIGH SCHOOL\", \"CHANNEL VIEW SCHOOL FOR RESEARCH\", \"QUEENS HIGH SCHOOL FOR INFORMATION, RESEARCH, AND TECHNOLOGY\", \"ROBERT H. GODDARD HIGH SCHOOL OF COMMUNICATION ARTS AND TECHNOLOGY\", \"ACADEMY OF MEDICAL TECHNOLOGY: A COLLEGE BOARD SCHOOL\", \"SCHOLARS' ACADEMY\", \"AUGUST MARTIN HIGH SCHOOL\", \"RICHMOND HILL HIGH SCHOOL\", \"JOHN ADAMS HIGH SCHOOL\", \"HIGH SCHOOL FOR CONSTRUCTION TRADES, ENGINEERING AND ARCHITECTURE\", \"YORK EARLY COLLEGE ACADEMY\", \"QUEENS COLLEGIATE: A COLLEGE BOARD SCHOOL\", \"HILLSIDE ARTS & LETTERS ACADEMY\", \"FOREST HILLS HIGH SCHOOL\", \"HILLCREST HIGH SCHOOL\", \"THOMAS A. EDISON CAREER AND TECHNICAL EDUCATION HIGH SCHOOL\", \"QUEENS GATEWAY TO HEALTH SCIENCES SECONDARY SCHOOL\", \"QUEENS METROPOLITAN HIGH SCHOOL\", \"QUEENS HIGH SCHOOL FOR THE SCIENCES AT YORK COLLEGE\", \"HIGH SCHOOL FOR LAW ENFORCEMENT AND PUBLIC SAFETY\", \"YOUNG WOMEN'S LEADERSHIP SCHOOL, QUEENS\", \"QUEENS PREPARATORY ACADEMY\", \"PATHWAYS COLLEGE PREPARATORY SCHOOL: A COLLEGE BOARD SCHOOL\", \"EXCELSIOR PREPARATORY HIGH SCHOOL\", \"GEORGE WASHINGTON CARVER HIGH SCHOOL FOR THE SCIENCES\", \"PREPARATORY ACADEMY FOR WRITERS: A COLLEGE BOARD SCHOOL\", \"CAMBRIA HEIGHTS ACADEMY\", \"MATHEMATICS, SCIENCE RESEARCH AND TECHNOLOGY MAGNET HIGH SCHOOL\", \"HUMANITIES & ARTS MAGNET HIGH SCHOOL\", \"YOUNG WOMEN'S LEADERSHIP SCHOOL, ASTORIA\", \"ACADEMY FOR CAREERS IN TELEVISION AND FILM\", \"WILLIAM CULLEN BRYANT HIGH SCHOOL\", \"LONG ISLAND CITY HIGH SCHOOL\", \"FRANK SINATRA SCHOOL OF THE ARTS HIGH SCHOOL\", \"INFORMATION TECHNOLOGY HIGH SCHOOL\", \"NEWCOMERS HIGH SCHOOL\", \"ACADEMY OF AMERICAN STUDIES\", \"BACCALAUREATE SCHOOL FOR GLOBAL EDUCATION\"], \"textfont\": {\"color\": \"#4D5663\"}, \"type\": \"scatter\", \"x\": [49.3, 43.8, 44.5, 47.8, 39.3, 57.5, 55.0, 52.9, 46.0, 43.1, 46.6, 60.3, 85.3, 46.7, 57.3, 54.1, 42.2, 49.2, 55.8, 28.9, 53.8, 47.4, 49.2, 54.3, 49.4, 45.8, 52.6, 51.1, 54.5, 48.1, 43.8, 43.9, 55.2, 53.0, 54.5, 67.3, 51.1, 49.9, 47.0, 48.1, 46.1, 65.1, 38.1, 49.6, 56.5, 53.0, 0.0, 56.0, 53.3, 56.9, 47.3, 43.1, 55.1, 60.4, 42.8, 0.0, 53.2, 53.7, 51.3, 30.0, 71.8, 53.2, 45.0, 44.8], \"y\": [1280.0, 1219.0, 1240.0, 951.0, 1663.0, 1203.0, 1211.0, 1177.0, 1064.0, 1174.0, 1330.0, 1270.0, 1364.0, 1396.0, 1049.0, 1271.0, 1441.0, 1243.0, 1216.0, 1910.0, 1330.0, 1514.0, 1474.0, 1172.0, 1449.0, 1279.0, 1145.0, 1252.0, 1156.0, 1265.0, 1094.0, 1532.0, 1108.0, 1154.0, 1192.0, 1345.0, 1223.4388059701494, 1265.0, 1223.4388059701494, 1407.0, 1194.0, 1372.0, 1538.0, 1223.4388059701494, 1868.0, 1196.0, 1316.0, 1099.0, 1173.0, 1202.0, 1287.0, 1100.0, 1223.4388059701494, 1220.0, 1151.0, 1223.4388059701494, 1255.0, 1275.0, 1218.0, 1494.0, 1239.0, 1127.0, 1470.0, 1636.0]}, {\"marker\": {\"color\": \"rgba(219, 64, 82, 1.0)\", \"line\": {\"width\": 1.3}, \"opacity\": 0.8, \"size\": 12, \"symbol\": \"circle\"}, \"mode\": \"markers\", \"name\": \"Staten Island\", \"text\": [\"CSI HIGH SCHOOL FOR INTERNATIONAL STUDIES\", \"GAYNOR MCCOWN EXPEDITIONARY LEARNING SCHOOL\", \"THE MICHAEL J. PETRIDES SCHOOL\", \"NEW DORP HIGH SCHOOL\", \"PORT RICHMOND HIGH SCHOOL\", \"CURTIS HIGH SCHOOL\", \"TOTTENVILLE HIGH SCHOOL\", \"SUSAN E. WAGNER HIGH SCHOOL\", \"RALPH R. MCKEE CAREER AND TECHNICAL EDUCATION HIGH SCHOOL\", \"STATEN ISLAND TECHNICAL HIGH SCHOOL\"], \"textfont\": {\"color\": \"#4D5663\"}, \"type\": \"scatter\", \"x\": [41.5, 52.0, 49.2, 52.5, 54.8, 46.4, 49.6, 50.8, 67.1, 57.0], \"y\": [1353.0, 1195.0, 1426.0, 1277.0, 1279.0, 1301.0, 1418.0, 1388.0, 1235.0, 1953.0]}],\n",
       "                        {\"legend\": {\"bgcolor\": \"#F5F6F9\", \"font\": {\"color\": \"#4D5663\"}}, \"paper_bgcolor\": \"#F5F6F9\", \"plot_bgcolor\": \"#F5F6F9\", \"shapes\": [{\"line\": {\"color\": \"#000000\", \"dash\": \"dash\", \"width\": 1}, \"type\": \"line\", \"x0\": 0, \"x1\": 1, \"xref\": \"paper\", \"y0\": 1223.438805970149, \"y1\": 1223.438805970149, \"yref\": \"y\"}, {\"line\": {\"color\": \"#000000\", \"dash\": \"dash\", \"width\": 1}, \"type\": \"line\", \"x0\": 49.37851239669419, \"x1\": 49.37851239669419, \"xref\": \"x\", \"y0\": 0, \"y1\": 1, \"yref\": \"paper\"}], \"title\": \"Male students vs. SAT score by school <br> Dashed lines: Averages of each parameter\", \"titlefont\": {\"color\": \"#4D5663\"}, \"xaxis\": {\"gridcolor\": \"#E1E5ED\", \"showgrid\": true, \"tickfont\": {\"color\": \"#4D5663\"}, \"title\": \"Share males, %\", \"titlefont\": {\"color\": \"#4D5663\"}, \"zerolinecolor\": \"#E1E5ED\"}, \"yaxis\": {\"gridcolor\": \"#E1E5ED\", \"showgrid\": true, \"tickfont\": {\"color\": \"#4D5663\"}, \"title\": \"Avg. SAT score\", \"titlefont\": {\"color\": \"#4D5663\"}, \"zerolinecolor\": \"#E1E5ED\"}},\n",
       "                        {\"showLink\": true, \"linkText\": \"Export to plot.ly\", \"plotlyServerURL\": \"https://plot.ly\", \"responsive\": true}\n",
       "                    ).then(function(){\n",
       "                            \n",
       "var gd = document.getElementById('f8b5214b-625f-42ed-b1e8-5c75a535831d');\n",
       "var x = new MutationObserver(function (mutations, observer) {{\n",
       "        var display = window.getComputedStyle(gd).display;\n",
       "        if (!display || display === 'none') {{\n",
       "            console.log([gd, 'removed!']);\n",
       "            Plotly.purge(gd);\n",
       "            observer.disconnect();\n",
       "        }}\n",
       "}});\n",
       "\n",
       "// Listen for the removal of the full notebook cells\n",
       "var notebookContainer = gd.closest('#notebook-container');\n",
       "if (notebookContainer) {{\n",
       "    x.observe(notebookContainer, {childList: true});\n",
       "}}\n",
       "\n",
       "// Listen for the clearing of the current output cell\n",
       "var outputEl = gd.closest('.output');\n",
       "if (outputEl) {{\n",
       "    x.observe(outputEl, {childList: true});\n",
       "}}\n",
       "\n",
       "                        })\n",
       "                };\n",
       "                });\n",
       "            </script>\n",
       "        </div>"
      ]
     },
     "metadata": {},
     "output_type": "display_data"
    },
    {
     "name": "stdout",
     "output_type": "stream",
     "text": [
      "Recommendation: Click the legend to view by boroughs\n"
     ]
    }
   ],
   "source": [
    "combined.iplot(\n",
    "        x='male_per',\n",
    "        y='sat_score',\n",
    "        categories='boro',\n",
    "        text=\"SCHOOL NAME\",\n",
    "        vline= {\"x\":combined[\"male_per\"].mean(),\n",
    "                \"color\":\"#000000\",\n",
    "                \"dash\": \"dash\"\n",
    "               },\n",
    "        hline={\"y\":combined[\"sat_score\"].mean(),\n",
    "               \"color\":\"#000000\",\n",
    "               \"dash\": \"dash\"\n",
    "              },\n",
    "        xTitle='Share males, %',\n",
    "        yTitle='Avg. SAT score',\n",
    "        title='Male students vs. SAT score by school <br> Dashed lines: Averages of each parameter'\n",
    "    )\n",
    "print(\"Recommendation: Click the legend to view by boroughs\")\n"
   ]
  },
  {
   "cell_type": "code",
   "execution_count": 22,
   "metadata": {},
   "outputs": [
    {
     "data": {
      "text/plain": [
       "79    HIGH SCHOOL FOR MATHEMATICS, SCIENCE AND ENGIN...\n",
       "Name: SCHOOL NAME, dtype: object"
      ]
     },
     "execution_count": 22,
     "metadata": {},
     "output_type": "execute_result"
    }
   ],
   "source": [
    "a = combined[(combined['male_per'] > 60) & (combined['sat_score'] > 1400)]['SCHOOL NAME']\n",
    "a"
   ]
  },
  {
   "cell_type": "markdown",
   "metadata": {},
   "source": [
    "1. There was only one high school in all of the boroughs that had > 60% males and scored above 1400: High School for Mathematics, Science, and Engineering at City College in Manhattan.\n",
    "\n",
    "2. Similar to the female vs avg. SAT score plot, more than 50% of schools in Bronx and Brooklyn fall below the average SAT (~1200)."
   ]
  },
  {
   "cell_type": "markdown",
   "metadata": {},
   "source": [
    "# AP Exam Scores and SAT Score "
   ]
  },
  {
   "cell_type": "code",
   "execution_count": 23,
   "metadata": {},
   "outputs": [],
   "source": [
    "combined['ap_per'] = (combined['AP Test Takers ']/combined['total_enrollment'])*100\n"
   ]
  },
  {
   "cell_type": "code",
   "execution_count": 24,
   "metadata": {},
   "outputs": [
    {
     "data": {
      "application/vnd.plotly.v1+json": {
       "config": {
        "linkText": "Export to plot.ly",
        "plotlyServerURL": "https://plot.ly",
        "showLink": true
       },
       "data": [
        {
         "marker": {
          "color": "rgba(255, 153, 51, 1.0)",
          "line": {
           "width": 1.3
          },
          "opacity": 0.8,
          "size": 12,
          "symbol": "circle"
         },
         "mode": "markers",
         "name": "Manhattan",
         "text": [
          "HENRY STREET SCHOOL FOR INTERNATIONAL STUDIES",
          "UNIVERSITY NEIGHBORHOOD HIGH SCHOOL",
          "EAST SIDE COMMUNITY SCHOOL",
          "MARTA VALLE HIGH SCHOOL",
          "NEW EXPLORATIONS INTO SCIENCE, TECHNOLOGY AND MATH HIGH SCHOOL",
          "BARD HIGH SCHOOL EARLY COLLEGE",
          "47 THE AMERICAN SIGN LANGUAGE AND ENGLISH SECONDARY SCHOOL",
          "FOOD AND FINANCE HIGH SCHOOL",
          "ESSEX STREET ACADEMY",
          "HIGH SCHOOL OF HOSPITALITY MANAGEMENT",
          "PACE HIGH SCHOOL",
          "URBAN ASSEMBLY SCHOOL OF DESIGN AND CONSTRUCTION, THE",
          "FACING HISTORY SCHOOL, THE",
          "URBAN ASSEMBLY ACADEMY OF GOVERNMENT AND LAW, THE",
          "LOWER MANHATTAN ARTS ACADEMY",
          "URBAN ASSEMBLY SCHOOL OF BUSINESS FOR YOUNG WOMEN, THE",
          "GRAMERCY ARTS HIGH SCHOOL",
          "NYC ISCHOOL",
          "MANHATTAN BUSINESS ACADEMY",
          "BUSINESS OF SPORTS SCHOOL",
          "THE HIGH SCHOOL FOR LANGUAGE AND DIPLOMACY",
          "HIGH SCHOOL FOR ENVIRONMENTAL STUDIES",
          "PROFESSIONAL PERFORMING ARTS HIGH SCHOOL",
          "BARUCH COLLEGE CAMPUS HIGH SCHOOL",
          "N.Y.C. LAB SCHOOL FOR COLLABORATIVE STUDIES",
          "N.Y.C. MUSEUM SCHOOL",
          "ELEANOR ROOSEVELT HIGH SCHOOL",
          "MILLENNIUM HIGH SCHOOL",
          "LANDMARK HIGH SCHOOL",
          "HIGH SCHOOL FOR HEALTH PROFESSIONS AND HUMAN SERVICES",
          "LEADERSHIP AND PUBLIC SERVICE HIGH SCHOOL",
          "MANHATTAN ACADEMY FOR ARTS & LANGUAGE",
          "HUDSON HIGH SCHOOL OF LEARNING TECHNOLOGIES",
          "INTERNATIONAL HIGH SCHOOL AT UNION SQUARE",
          "MANHATTAN VILLAGE ACADEMY",
          "VANGUARD HIGH SCHOOL",
          "MANHATTAN INTERNATIONAL HIGH SCHOOL",
          "STUYVESANT HIGH SCHOOL",
          "HIGH SCHOOL OF ECONOMICS AND FINANCE",
          "UNITY CENTER FOR URBAN TECHNOLOGIES",
          "TALENT UNLIMITED HIGH SCHOOL",
          "MURRY BERGTRAUM HIGH SCHOOL FOR BUSINESS CAREERS",
          "JACQUELINE KENNEDY ONASSIS HIGH SCHOOL",
          "REPERTORY COMPANY HIGH SCHOOL FOR THEATRE ARTS",
          "MANHATTAN BRIDGES HIGH SCHOOL",
          "NEW DESIGN HIGH SCHOOL",
          "HIGH SCHOOL FOR DUAL LANGUAGE AND ASIAN STUDIES",
          "THE URBAN ASSEMBLY NEW YORK HARBOR SCHOOL",
          "RICHARD R. GREEN HIGH SCHOOL OF TEACHING",
          "THE HIGH SCHOOL OF FASHION INDUSTRIES",
          "HUMANITIES PREPARATORY ACADEMY",
          "CHELSEA CAREER AND TECHNICAL EDUCATION HIGH SCHOOL",
          "ART AND DESIGN HIGH SCHOOL",
          "LIFE SCIENCES SECONDARY SCHOOL",
          "HIGH SCHOOL FOR ARTS, IMAGINATION AND INQUIRY",
          "URBAN ASSEMBLY SCHOOL FOR MEDIA STUDIES, THE",
          "THE URBAN ASSEMBLY SCHOOL FOR GREEN CAREERS",
          "THE GLOBAL LEARNING COLLABORATIVE",
          "WADLEIGH SECONDARY SCHOOL FOR THE PERFORMING & VISUAL ARTS",
          "FRANK MCCOURT HIGH SCHOOL",
          "BEACON HIGH SCHOOL",
          "FIORELLO H. LAGUARDIA HIGH SCHOOL OF MUSIC & ART AND PERFORMING ARTS",
          "HIGH SCHOOL FOR LAW, ADVOCACY AND COMMUNITY JUSTICE",
          "HIGH SCHOOL OF ARTS AND TECHNOLOGY",
          "MANHATTAN / HUNTER SCIENCE HIGH SCHOOL",
          "FREDERICK DOUGLASS ACADEMY II SECONDARY SCHOOL",
          "COALITION SCHOOL FOR SOCIAL CHANGE",
          "MANHATTAN CENTER FOR SCIENCE AND MATHEMATICS",
          "PARK EAST HIGH SCHOOL",
          "CENTRAL PARK EAST HIGH SCHOOL",
          "YOUNG WOMEN'S LEADERSHIP SCHOOL",
          "YOUNG WOMEN'S LEADERSHIP SCHOOL",
          "HERITAGE SCHOOL, THE",
          "MOTT HALL HIGH SCHOOL",
          "COLUMBIA SECONDARY SCHOOL FOR MATH, SCIENCE, AND ENGINEERING",
          "ACADEMY FOR SOCIAL ACTION: A COLLEGE BOARD SCHOOL",
          "URBAN ASSEMBLY SCHOOL FOR THE PERFORMING ARTS",
          "FREDERICK DOUGLASS ACADEMY",
          "THURGOOD MARSHALL ACADEMY FOR LEARNING AND SOCIAL CHANGE",
          "HIGH SCHOOL FOR MATHEMATICS, SCIENCE AND ENGINEERING AT CITY COLLEGE",
          "CITY COLLEGE ACADEMY OF THE ARTS",
          "COMMUNITY HEALTH ACADEMY OF THE HEIGHTS",
          "WASHINGTON HEIGHTS EXPEDITIONARY LEARNING SCHOOL",
          "HIGH SCHOOL FOR EXCELLENCE AND INNOVATION",
          "HIGH SCHOOL FOR INTERNATIONAL BUSINESS AND FINANCE",
          "HIGH SCHOOL FOR MEDIA AND COMMUNICATIONS",
          "HIGH SCHOOL FOR LAW AND PUBLIC SERVICE",
          "HIGH SCHOOL FOR HEALTH CAREERS AND SCIENCES",
          "A. PHILIP RANDOLPH CAMPUS HIGH SCHOOL",
          "GREGORIO LUPERON HIGH SCHOOL FOR SCIENCE AND MATHEMATICS"
         ],
         "textfont": {
          "color": "#4D5663"
         },
         "type": "scatter",
         "x": [
          30.575555960627053,
          9.898477157360407,
          3.177257525083612,
          35.157723747642,
          15.809051456912584,
          20.912292731579605,
          74.15450928381964,
          29.798809735299344,
          37.61773940345369,
          30.79447402239765,
          5.072463768115942,
          22.96983758700696,
          9.312638580931264,
          8.012820512820513,
          38.40144230769231,
          34.13461538461539,
          26.066433566433567,
          29.798809735299344,
          38.86411028730306,
          42.44369939271255,
          52.88067465321564,
          15.27977044476327,
          3.9840637450199203,
          18.055555555555554,
          19.689119170984455,
          29.593772053634442,
          30.57199211045365,
          13.738019169329075,
          30.6481819842865,
          11.538461538461538,
          11.532125205930807,
          73.73076923076923,
          57.09240980258679,
          73.3118444055944,
          9.79020979020979,
          29.06055093555094,
          3.6923076923076925,
          45.799211404306945,
          12.484548825710753,
          54.442551119766314,
          6.109979633401222,
          5.692233478051134,
          11.049723756906078,
          59.460297766749385,
          12.384473197781885,
          30.50327332242226,
          17.280453257790366,
          1.627906976744186,
          10.98360655737705,
          4.377736085053159,
          67.20252403846155,
          11.158798283261802,
          6.25,
          6.97350069735007,
          30.868145012881858,
          35.25378310214376,
          45.59323185648274,
          36.04157713794586,
          12.5968992248062,
          58.917281348788194,
          14.285714285714285,
          26.525911708253357,
          23.850063984075078,
          6.301824212271974,
          28.483188996434034,
          2.663438256658596,
          5.157593123209169,
          19.87878787878788,
          36.97101608992727,
          28.995246326707004,
          9.131403118040089,
          28.736936782593798,
          43.887362637362635,
          2.5821596244131455,
          27.221275559883157,
          4,
          34.499691484985604,
          10.475578406169666,
          6.379310344827586,
          28.078817733990146,
          22.018574428983985,
          24.813239644970416,
          21.43336314847943,
          72.4881158167675,
          17.142857142857142,
          6.468531468531468,
          20.31700288184438,
          4.712812960235641,
          12.840466926070038,
          18.64406779661017
         ],
         "y": [
          1122,
          1172,
          1149,
          1207,
          1621,
          1856,
          1182,
          1194,
          1156,
          1111,
          1293,
          1269,
          1051,
          1148,
          1200,
          1127,
          1176,
          1435,
          1223.4388059701494,
          1223.4388059701494,
          1223.4388059701494,
          1419,
          1522,
          1577,
          1677,
          1419,
          1758,
          1614,
          1170,
          1306,
          1233,
          1223.4388059701494,
          1223.4388059701494,
          1223.4388059701494,
          1372,
          1199,
          1227,
          2096,
          1374,
          1070,
          1416,
          1240,
          1239,
          1253,
          1058,
          1168,
          1424,
          1212,
          1195,
          1257,
          1255,
          1207,
          1315,
          1236,
          1132,
          1144,
          1223.4388059701494,
          1223.4388059701494,
          1109,
          1223.4388059701494,
          1744,
          1707,
          1196,
          1277,
          1446,
          1096,
          1084,
          1430,
          1128,
          1221,
          1326,
          1326,
          1054,
          1210,
          1223.4388059701494,
          1062,
          1077,
          1374,
          1202,
          1847,
          1270,
          1105,
          1174,
          1223.4388059701494,
          1127,
          1098,
          1102,
          1224,
          1309,
          1014
         ]
        },
        {
         "marker": {
          "color": "rgba(55, 128, 191, 1.0)",
          "line": {
           "width": 1.3
          },
          "opacity": 0.8,
          "size": 12,
          "symbol": "circle"
         },
         "mode": "markers",
         "name": "Bronx",
         "text": [
          "SOUTH BRONX PREPARATORY: A COLLEGE BOARD SCHOOL",
          "INTERNATIONAL COMMUNITY HIGH SCHOOL",
          "COMMUNITY SCHOOL FOR SOCIAL JUSTICE",
          "MOTT HAVEN VILLAGE PREPARATORY HIGH SCHOOL",
          "UNIVERSITY HEIGHTS SECONDARY SCHOOL",
          "HOSTOSsLINCOLN ACADEMY OF SCIENCE",
          "FOREIGN LANGUAGE ACADEMY OF GLOBAL STUDIES",
          "BRONX LEADERSHIP ACADEMY II HIGH SCHOOL",
          "NEW EXPLORERS HIGH SCHOOL",
          "URBAN ASSEMBLY SCHOOL FOR CAREERS IN SPORTS",
          "BRONX ACADEMY OF LETTERS",
          "ALFRED E. SMITH CAREER AND TECHNICAL EDUCATION HIGH SCHOOL",
          "HEALTH OPPORTUNITIES HIGH SCHOOL",
          "BRONX STUDIO SCHOOL FOR WRITERS AND ARTISTS",
          "WOMEN'S ACADEMY OF EXCELLENCE",
          "RENAISSANCE HIGH SCHOOL FOR MUSICAL THEATER & TECHNOLOGY",
          "PABLO NERUDA ACADEMY FOR ARCHITECTURE AND WORLD STUDIES",
          "MILLENNIUM ART ACADEMY",
          "HOLCOMBE L. RUCKER SCHOOL OF COMMUNITY RESEARCH",
          "ANTONIA PANTOJA PREPARATORY ACADEMY, A COLLEGE BOARD SCHOOL",
          "HERBERT H. LEHMAN HIGH SCHOOL",
          "BRONX BRIDGES HIGH SCHOOL",
          "FELISA RINCON DE GAUTIER INSTITUTE FOR LAW AND PUBLIC POLICY, THE",
          "BANANA KELLY HIGH SCHOOL",
          "BRONX EXPEDITIONARY LEARNING HIGH SCHOOL",
          "EAGLE ACADEMY FOR YOUNG MEN",
          "URBAN ASSEMBLY SCHOOL FOR APPLIED MATH AND SCIENCE, THE",
          "EXIMIUS COLLEGE PREPARATORY ACADEMY: A COLLEGE BOARD SCHOOL",
          "MOTT HALL BRONX HIGH SCHOOL",
          "BRONX CENTER FOR SCIENCE AND MATHEMATICS",
          "VALIDUS PREPARATORY ACADEMY: AN EXPEDITIONARY LEARNING SCHOOL",
          "LEADERSHIP INSTITUTE",
          "MORRIS ACADEMY FOR COLLABORATIVE STUDIES",
          "BRONX EARLY COLLEGE ACADEMY FOR TEACHING & LEARNING",
          "DREAMYARD PREPARATORY SCHOOL",
          "ACADEMY FOR LANGUAGE AND TECHNOLOGY",
          "BRONX INTERNATIONAL HIGH SCHOOL",
          "SCHOOL FOR EXCELLENCE",
          "BRONX HIGH SCHOOL OF BUSINESS",
          "BRONX HIGH SCHOOL FOR MEDICAL SCIENCE",
          "BRONX SCHOOL FOR LAW, GOVERNMENT AND JUSTICE",
          "FREDERICK DOUGLASS ACADEMY III SECONDARY SCHOOL",
          "BRONX LEADERSHIP ACADEMY HIGH SCHOOL",
          "HIGH SCHOOL FOR VIOLIN AND DANCE",
          "RIVERDALE / KINGSBRIDGE ACADEMY (MIDDLE SCHOOL / HIGH SCHOOL 141)",
          "BRONX ENGINEERING AND TECHNOLOGY ACADEMY",
          "THEATRE ARTS PRODUCTION COMPANY SCHOOL",
          "THE MARIE CURIE SCHOOL FOR MEDICINE, NURSING, AND HEALTH PROFESSIONS",
          "WEST BRONX ACADEMY FOR THE FUTURE",
          "KINGSBRIDGE INTERNATIONAL HIGH SCHOOL",
          "BRONX SCHOOL OF LAW AND FINANCE",
          "INTERNATIONAL SCHOOL FOR LIBERAL ARTS",
          "INsTECH ACADEMY (M.S. / HIGH SCHOOL 368)",
          "KNOWLEDGE AND POWER PREPARATORY ACADEMY INTERNATIONAL HIGH SCHOOL (KAPPA)",
          "HIGH SCHOOL FOR TEACHING AND THE PROFESSIONS",
          "BELMONT PREPARATORY HIGH SCHOOL",
          "FORDHAM HIGH SCHOOL FOR THE ARTS",
          "FORDHAM LEADERSHIP ACADEMY FOR BUSINESS AND TECHNOLOGY",
          "BRONX HIGH SCHOOL FOR LAW AND COMMUNITY SERVICE",
          "DEWITT CLINTON HIGH SCHOOL",
          "CELIA CRUZ BRONX HIGH SCHOOL OF MUSIC, THE",
          "BRONX HIGH SCHOOL OF SCIENCE",
          "MARBLE HILL HIGH SCHOOL FOR INTERNATIONAL STUDIES",
          "BRONX THEATRE HIGH SCHOOL",
          "DISCOVERY HIGH SCHOOL",
          "HIGH SCHOOL OF AMERICAN STUDIES AT LEHMAN COLLEGE",
          "BRONX HEALTH SCIENCES HIGH SCHOOL",
          "BRONX HIGH SCHOOL FOR WRITING AND COMMUNICATION ARTS",
          "BRONX LAB SCHOOL",
          "ACADEMY FOR SCHOLARSHIP AND ENTREPRENEURSHIP: A COLLEGE BOARD SCHOOL",
          "HIGH SCHOOL OF COMPUTERS AND TECHNOLOGY",
          "COLLEGIATE INSTITUTE FOR MATH AND SCIENCE",
          "BRONX ACADEMY OF HEALTH CAREERS",
          "ASTOR COLLEGIATE ACADEMY",
          "BRONX HIGH SCHOOL FOR THE VISUAL ARTS",
          "HARRY S TRUMAN HIGH SCHOOL",
          "NEW WORLD HIGH SCHOOL",
          "THE BRONXWOOD PREPARATORY ACADEMY",
          "PELHAM PREPARATORY ACADEMY",
          "HIGH SCHOOL FOR CONTEMPORARY ARTS",
          "BRONX AEROSPACE HIGH SCHOOL",
          "METROPOLITAN HIGH SCHOOL, THE",
          "EXPLORATIONS ACADEMY",
          "BRONX LATIN",
          "EAST BRONX ACADEMY FOR THE FUTURE",
          "PEACE AND DIVERSITY ACADEMY",
          "PAN AMERICAN INTERNATIONAL HIGH SCHOOL AT MONROE",
          "THE CINEMA SCHOOL",
          "BRONX CAREER AND COLLEGE PREPARATORY HIGH SCHOOL",
          "HIGH SCHOOL OF WORLD CULTURES",
          "FANNIE LOU HAMER FREEDOM HIGH SCHOOL",
          "WINGS ACADEMY",
          "MONROE ACADEMY FOR VISUAL ARTS & DESIGN"
         ],
         "textfont": {
          "color": "#4D5663"
         },
         "type": "scatter",
         "x": [
          10.128617363344052,
          32.83176746917205,
          40.44791415481071,
          35.545136681500324,
          27.748138957816376,
          11.895910780669144,
          4.180064308681672,
          5.9760956175298805,
          4.699738903394255,
          27.050072568940497,
          9.54954954954955,
          1.4905149051490514,
          10.391822827938672,
          25.805769230769233,
          5.540897097625329,
          4.690831556503198,
          35.9411827726591,
          7.056451612903227,
          6.006006006006006,
          29.867788461538463,
          11.967715001391594,
          83.24441687344914,
          35.545136681500324,
          28.60950025584172,
          36.346153846153854,
          5.818181818181818,
          2.6402640264026402,
          25.280898876404496,
          36.448826597131685,
          13.963963963963963,
          1.9178082191780823,
          7.391304347826087,
          28.673076923076923,
          26.172179747230455,
          4.297994269340974,
          5.952380952380952,
          32.01708341286505,
          33.427162216022325,
          6.483790523690773,
          28.357988165680474,
          5.897771952817824,
          4.887218045112782,
          5.673758865248227,
          39.94701119314122,
          9.947643979057592,
          24.0990990990991,
          3.2442748091603053,
          2.7777777777777777,
          3.930817610062893,
          6.438631790744467,
          4.976303317535545,
          9.075907590759076,
          3.5523978685612785,
          39.82371794871795,
          13.107822410147993,
          7.616707616707617,
          33.34078711985689,
          9.312638580931264,
          10.185185185185185,
          8.800192353931234,
          7.328605200945626,
          39.495519415864585,
          18.201754385964914,
          7.640449438202247,
          24.39108622946052,
          51.45888594164456,
          34.22515813099368,
          6.6350710900473935,
          26.769470156399617,
          3.9603960396039604,
          23.45979020979021,
          14.548802946593002,
          26.714046822742475,
          7.228915662650602,
          5.383022774327122,
          5.80936266215454,
          2.9850746268656714,
          31.01654955621302,
          9.072978303747535,
          26.937128633370804,
          31.01654955621302,
          7.374631268436578,
          35.64332766680833,
          30.868145012881858,
          5.169628432956381,
          3.463203463203463,
          31.780503978779844,
          57.86046912728528,
          52.88067465321564,
          34.967166979362105,
          27.050072568940497,
          3.717472118959108,
          27.68859359524596
         ],
         "y": [
          1090,
          945,
          1077,
          1097,
          1201,
          1257,
          1186,
          1103,
          1084,
          1181,
          1201,
          1158,
          1095,
          1223.4388059701494,
          1171,
          1158,
          1038,
          1164,
          1084,
          1223.4388059701494,
          1241,
          1223.4388059701494,
          1099,
          1131,
          1049,
          1134,
          1290,
          1169,
          1092,
          1396,
          1075,
          1081,
          1148,
          1223.4388059701494,
          1138,
          951,
          965,
          1074,
          1083,
          1221,
          1224,
          1121,
          1166,
          1039,
          1333,
          1150,
          1190,
          1157,
          1158,
          962,
          1182,
          934,
          1181,
          1180,
          1106,
          1222,
          1077,
          1119,
          1082,
          1255,
          1270,
          1969,
          1263,
          1064,
          1115,
          1920,
          1133,
          1147,
          1135,
          1141,
          1111,
          1348,
          1135,
          1169,
          1268,
          1151,
          1048,
          1112,
          1288,
          1126,
          1163,
          1055,
          1122,
          1251,
          1102,
          1155,
          970,
          1223.4388059701494,
          1223.4388059701494,
          939,
          1029,
          1114,
          1038
         ]
        },
        {
         "marker": {
          "color": "rgba(50, 171, 96, 1.0)",
          "line": {
           "width": 1.3
          },
          "opacity": 0.8,
          "size": 12,
          "symbol": "circle"
         },
         "mode": "markers",
         "name": "Brooklyn",
         "text": [
          "DR. SUSAN S. MCKINNEY SECONDARY SCHOOL OF THE ARTS",
          "URBAN ASSEMBLY HIGH SCHOOL OF MUSIC AND ART",
          "BROOKLYN COMMUNITY HIGH SCHOOL OF COMMUNICATION, ARTS AND MEDIA",
          "SCIENCE SKILLS CENTER HIGH SCHOOL FOR SCIENCE, TECHNOLOGY AND THE CREATIVE ARTS",
          "BROOKLYN TECHNICAL HIGH SCHOOL",
          "BROOKLYN INTERNATIONAL HIGH SCHOOL",
          "THE URBAN ASSEMBLY SCHOOL FOR LAW AND JUSTICE",
          "ACORN COMMUNITY HIGH SCHOOL",
          "URBAN ASSEMBLY INSTITUTE OF MATH AND SCIENCE FOR YOUNG WOMEN",
          "BEDFORD ACADEMY HIGH SCHOOL",
          "GEORGE WESTINGHOUSE CAREER AND TECHNICAL EDUCATION HIGH SCHOOL",
          "BENJAMIN BANNEKER ACADEMY",
          "CITY POLYTECHNIC HIGH SCHOOL OF ENGINEERING, ARCHITECTURE, AND TECHNOLOGY",
          "JUAN MOREL CAMPOS SECONDARY SCHOOL",
          "FOUNDATIONS ACADEMY",
          "BROOKLYN LATIN SCHOOL, THE",
          "GREEN SCHOOL: AN ACADEMY FOR ENVIRONMENTAL CAREERS",
          "PROGRESS HIGH SCHOOL FOR PROFESSIONAL CAREERS",
          "SCHOOL FOR LEGAL STUDIES",
          "THE HIGH SCHOOL FOR ENTERPRISE, BUSINESS AND TECHNOLOGY",
          "BROOKLYN PREPARATORY HIGH SCHOOL",
          "WILLIAMSBURG HIGH SCHOOL FOR ARCHITECTURE AND DESIGN",
          "WILLIAMSBURG PREPARATORY SCHOOL",
          "LYONS COMMUNITY SCHOOL",
          "AUTOMOTIVE HIGH SCHOOL",
          "FRANCES PERKINS ACADEMY",
          "EL PUENTE ACADEMY FOR PEACE AND JUSTICE",
          "BROOKLYN SCHOOL FOR GLOBAL STUDIES",
          "BROOKLYN SECONDARY SCHOOL FOR COLLABORATIVE STUDIES",
          "SECONDARY SCHOOL FOR LAW",
          "SECONDARY SCHOOL FOR JOURNALISM",
          "PARK SLOPE COLLEGIATE",
          "SCHOOL FOR INTERNATIONAL STUDIES",
          "COBBLE HILL SCHOOL OF AMERICAN STUDIES",
          "BROOKLYN HIGH SCHOOL OF THE ARTS",
          "SUNSET PARK HIGH SCHOOL",
          "FREDERICK DOUGLASS ACADEMY IV SECONDARY SCHOOL",
          "BOYS AND GIRLS HIGH SCHOOL",
          "BROOKLYN HIGH SCHOOL FOR LAW AND TECHNOLOGY",
          "THE BROOKLYN ACADEMY OF GLOBAL FINANCE",
          "ACADEMY FOR COLLEGE PREPARATION AND CAREER EXPLORATION: A COLLEGE BOARD SCHOOL",
          "ACADEMY OF HOSPITALITY AND TOURISM",
          "INTERNATIONAL HIGH SCHOOL AT PROSPECT HEIGHTS",
          "THE HIGH SCHOOL FOR GLOBAL CITIZENSHIP",
          "SCHOOL FOR HUMAN RIGHTS, THE",
          "SCHOOL FOR DEMOCRACY AND LEADERSHIP",
          "HIGH SCHOOL FOR YOUTH AND COMMUNITY DEVELOPMENT AT ERASMUS",
          "HIGH SCHOOL FOR SERVICE & LEARNING AT ERASMUS",
          "SCIENCE, TECHNOLOGY AND RESEARCH EARLY COLLEGE HIGH SCHOOL AT ERASMUS",
          "HIGH SCHOOL FOR PUBLIC SERVICE: HEROES OF TOMORROW",
          "BROOKLYN ACADEMY OF SCIENCE AND THE ENVIRONMENT",
          "BROOKLYN SCHOOL FOR MUSIC & THEATRE",
          "MEDGAR EVERS COLLEGE PREPARATORY SCHOOL",
          "CLARA BARTON HIGH SCHOOL",
          "IT TAKES A VILLAGE ACADEMY",
          "BROOKLYN GENERATION SCHOOL",
          "BROOKLYN THEATRE ARTS HIGH SCHOOL",
          "KURT HAHN EXPEDITIONARY LEARNING SCHOOL",
          "VICTORY COLLEGIATE HIGH SCHOOL",
          "ARTS & MEDIA PREPARATORY ACADEMY",
          "HIGH SCHOOL FOR INNOVATION IN ADVERTISING AND MEDIA",
          "CULTURAL ACADEMY FOR THE ARTS AND SCIENCES",
          "HIGH SCHOOL FOR MEDICAL PROFESSIONS",
          "ACADEMY FOR CONSERVATION AND THE ENVIRONMENT",
          "URBAN ACTION ACADEMY",
          "EAST NEW YORK FAMILY ACADEMY",
          "FDNY HIGH SCHOOL FOR FIRE AND LIFE SAFETY",
          "HIGH SCHOOL FOR CIVIL RIGHTS",
          "PERFORMING ARTS AND TECHNOLOGY HIGH SCHOOL",
          "WORLD ACADEMY FOR TOTAL COMMUNITY HEALTH HIGH SCHOOL",
          "MULTICULTURAL HIGH SCHOOL",
          "TRANSIT TECH CAREER AND TECHNICAL EDUCATION HIGH SCHOOL",
          "ACADEMY OF INNOVATIVE TECHNOLOGY",
          "BROOKLYN LAB SCHOOL",
          "CYPRESS HILLS COLLEGIATE PREPARATORY SCHOOL",
          "W. H. MAXWELL CAREER AND TECHNICAL EDUCATION HIGH SCHOOL",
          "THE SCHOOL FOR CLASSICS: AN ACADEMY OF THINKERS, WRITERS AND PERFORMERS",
          "NEW UTRECHT HIGH SCHOOL",
          "HIGH SCHOOL OF TELECOMMUNICATION ARTS AND TECHNOLOGY",
          "FORT HAMILTON HIGH SCHOOL",
          "FRANKLIN DELANO ROOSEVELT HIGH SCHOOL",
          "THE URBAN ASSEMBLY SCHOOL FOR CRIMINAL JUSTICE",
          "INTERNATIONAL HIGH SCHOOL AT LAFAYETTE",
          "RACHEL CARSON HIGH SCHOOL FOR COASTAL STUDIES",
          "HIGH SCHOOL OF SPORTS MANAGEMENT",
          "ABRAHAM LINCOLN HIGH SCHOOL",
          "KINGSBOROUGH EARLY COLLEGE SCHOOL",
          "EDWARD R. MURROW HIGH SCHOOL",
          "JOHN DEWEY HIGH SCHOOL",
          "LIFE ACADEMY HIGH SCHOOL FOR FILM AND MUSIC",
          "EXPEDITIONARY LEARNING SCHOOL FOR COMMUNITY LEADERS",
          "WILLIAM E. GRADY CAREER AND TECHNICAL EDUCATION HIGH SCHOOL",
          "BROOKLYN STUDIO SECONDARY SCHOOL",
          "MIDWOOD HIGH SCHOOL",
          "JAMES MADISON HIGH SCHOOL",
          "LEON M. GOLDSTEIN HIGH SCHOOL FOR THE SCIENCES",
          "BROOKLYN COLLEGE ACADEMY",
          "BROOKLYN COLLEGIATE: A COLLEGE BOARD SCHOOL",
          "FREDERICK DOUGLASS ACADEMY VII HIGH SCHOOL",
          "TEACHERS PREPARATORY HIGH SCHOOL",
          "ACADEMY FOR ENVIRONMENTAL LEADERSHIP",
          "EBC HIGH SCHOOL FOR PUBLIC SERVICE–BUSHWICK",
          "BUSHWICK SCHOOL FOR SOCIAL JUSTICE",
          "ACADEMY OF URBAN PLANNING",
          "ALL CITY LEADERSHIP SECONDARY SCHOOL",
          "BUSHWICK LEADERS HIGH SCHOOL FOR ACADEMIC EXCELLENCE"
         ],
         "textfont": {
          "color": "#4D5663"
         },
         "type": "scatter",
         "x": [
          3.837471783295711,
          29.937087274674283,
          4.545454545454546,
          10.058027079303674,
          39.70367591897975,
          35.157723747642,
          6.888888888888889,
          8.755129958960328,
          27.511481056257175,
          11.716621253405995,
          3.7756202804746493,
          14.748603351955309,
          38.51607347876005,
          1.8497109826589597,
          29.78723404255319,
          27.570266272189354,
          32.91552197802198,
          4.681647940074907,
          3.1620553359683794,
          9.631147540983607,
          7.000000000000001,
          6,
          5.37261698440208,
          24.483652021602687,
          17.846313437599743,
          74.58314806580702,
          59.187544107268884,
          36.448826597131685,
          18.645787016451756,
          27.278825825337456,
          6.547619047619048,
          32.748438110113234,
          6.172839506172839,
          3.770739064856712,
          19.03080326752893,
          13.059599813142325,
          29.39153670930437,
          1.3488657265481299,
          12.098765432098766,
          81.15021770682148,
          11.327433628318584,
          40.44791415481071,
          32.176769614425474,
          5.830903790087463,
          33.427162216022325,
          31.780503978779844,
          5.454545454545454,
          30.575555960627053,
          24.76561346522959,
          25.41966426858513,
          10.40339702760085,
          8.980582524271846,
          24.637681159420293,
          8.395522388059701,
          33.77718485702779,
          38.9815245177783,
          33.77718485702779,
          43.887362637362635,
          39.701183431952664,
          44.03714885796797,
          41.62220843672457,
          43.153460252122464,
          28.0497491638796,
          47.09081976417743,
          42.30453972257251,
          29.798809735299344,
          33.86583888552393,
          2.9925187032418954,
          28.483188996434034,
          5.7894736842105265,
          10.83743842364532,
          10.478359908883828,
          31.937833206397563,
          32.50096880449526,
          4.805491990846682,
          7.796610169491526,
          41.488374969082365,
          5.311355311355311,
          19.609375,
          8.350877192982455,
          7.335907335907336,
          34.499691484985604,
          37.61773940345369,
          7.0686070686070686,
          2.7027027027027026,
          5.1252408477842,
          27.33661994784876,
          9.870711089010442,
          10.70110701107011,
          51.40591480232914,
          57.09240980258679,
          13.496741229481815,
          4.4520547945205475,
          19.390942217595004,
          10.500650195058519,
          35.90998043052838,
          20.480769230769234,
          2.586206896551724,
          10.684931506849315,
          5.830388692579505,
          35.64332766680833,
          7.755775577557755,
          29.730148883374692,
          19.09547738693467,
          2.6615969581749046,
          7.35930735930736
         ],
         "y": [
          1074,
          1080,
          1114,
          1211,
          1833,
          981,
          1206,
          1116,
          1223.4388059701494,
          1312,
          1189,
          1391,
          1353,
          1085,
          1223.4388059701494,
          1740,
          1189,
          1114,
          1204,
          1215,
          1090,
          1112,
          1187,
          1103,
          1093,
          1122,
          1035,
          1111,
          1179,
          1203,
          1169,
          1175,
          1212,
          1185,
          1258,
          1223.4388059701494,
          1068,
          1097,
          1092,
          1223.4388059701494,
          1139,
          1045,
          913,
          1176,
          1088,
          1153,
          1027,
          1105,
          1360,
          1273,
          1143,
          1151,
          1436,
          1251,
          963,
          1145,
          1118,
          1092,
          1143,
          1080,
          1183,
          1169,
          1159,
          1111,
          1135,
          1242,
          1023,
          1054,
          1149,
          1106,
          887,
          1193,
          1096,
          1108,
          1129,
          1102,
          1157,
          1272,
          1323,
          1306,
          1244,
          1223.4388059701494,
          1026,
          1237,
          1164,
          1226,
          1223.4388059701494,
          1431,
          1262,
          1124,
          1079,
          1184,
          1313,
          1473,
          1350,
          1627,
          1352,
          1185,
          1091,
          1196,
          1098,
          1154,
          1035,
          1060,
          1315,
          1055
         ]
        },
        {
         "marker": {
          "color": "rgba(128, 0, 128, 1.0)",
          "line": {
           "width": 1.3
          },
          "opacity": 0.8,
          "size": 12,
          "symbol": "circle"
         },
         "mode": "markers",
         "name": "Queens",
         "text": [
          "ACADEMY OF FINANCE AND ENTERPRISE",
          "HIGH SCHOOL OF APPLIED COMMUNICATION",
          "CIVIC LEADERSHIP ACADEMY",
          "PAN AMERICAN INTERNATIONAL HIGH SCHOOL",
          "BARD HIGH SCHOOL EARLY COLLEGE II",
          "NEWTOWN HIGH SCHOOL",
          "GROVER CLEVELAND HIGH SCHOOL",
          "MIDDLE COLLEGE HIGH SCHOOL AT LAGUARDIA COMMUNITY COLLEGE",
          "INTERNATIONAL HIGH SCHOOL AT LAGUARDIA COMMUNITY COLLEGE",
          "HIGH SCHOOL FOR ARTS AND BUSINESS",
          "ROBERT F. WAGNER, JR. SECONDARY SCHOOL FOR ARTS AND TECHNOLOGY",
          "QUEENS VOCATIONAL AND TECHNICAL HIGH SCHOOL",
          "AVIATION CAREER & TECHNICAL EDUCATION HIGH SCHOOL",
          "QUEENS SCHOOL OF INQUIRY, THE",
          "FLUSHING INTERNATIONAL HIGH SCHOOL",
          "EASTsWEST SCHOOL OF INTERNATIONAL STUDIES",
          "WORLD JOURNALISM PREPARATORY: A COLLEGE BOARD SCHOOL",
          "JOHN BOWNE HIGH SCHOOL",
          "FLUSHING HIGH SCHOOL",
          "TOWNSEND HARRIS HIGH SCHOOL",
          "ROBERT F. KENNEDY COMMUNITY HIGH SCHOOL",
          "BENJAMIN N. CARDOZO HIGH SCHOOL",
          "FRANCIS LEWIS HIGH SCHOOL",
          "MARTIN VAN BUREN HIGH SCHOOL",
          "BAYSIDE HIGH SCHOOL",
          "QUEENS HIGH SCHOOL OF TEACHING, LIBERAL ARTS AND THE SCIENCES",
          "FREDERICK DOUGLASS ACADEMY VI HIGH SCHOOL",
          "CHANNEL VIEW SCHOOL FOR RESEARCH",
          "QUEENS HIGH SCHOOL FOR INFORMATION, RESEARCH, AND TECHNOLOGY",
          "ROBERT H. GODDARD HIGH SCHOOL OF COMMUNICATION ARTS AND TECHNOLOGY",
          "ACADEMY OF MEDICAL TECHNOLOGY: A COLLEGE BOARD SCHOOL",
          "SCHOLARS' ACADEMY",
          "AUGUST MARTIN HIGH SCHOOL",
          "RICHMOND HILL HIGH SCHOOL",
          "JOHN ADAMS HIGH SCHOOL",
          "HIGH SCHOOL FOR CONSTRUCTION TRADES, ENGINEERING AND ARCHITECTURE",
          "YORK EARLY COLLEGE ACADEMY",
          "QUEENS COLLEGIATE: A COLLEGE BOARD SCHOOL",
          "HILLSIDE ARTS & LETTERS ACADEMY",
          "FOREST HILLS HIGH SCHOOL",
          "HILLCREST HIGH SCHOOL",
          "THOMAS A. EDISON CAREER AND TECHNICAL EDUCATION HIGH SCHOOL",
          "QUEENS GATEWAY TO HEALTH SCIENCES SECONDARY SCHOOL",
          "QUEENS METROPOLITAN HIGH SCHOOL",
          "QUEENS HIGH SCHOOL FOR THE SCIENCES AT YORK COLLEGE",
          "HIGH SCHOOL FOR LAW ENFORCEMENT AND PUBLIC SAFETY",
          "YOUNG WOMEN'S LEADERSHIP SCHOOL, QUEENS",
          "QUEENS PREPARATORY ACADEMY",
          "PATHWAYS COLLEGE PREPARATORY SCHOOL: A COLLEGE BOARD SCHOOL",
          "EXCELSIOR PREPARATORY HIGH SCHOOL",
          "GEORGE WASHINGTON CARVER HIGH SCHOOL FOR THE SCIENCES",
          "PREPARATORY ACADEMY FOR WRITERS: A COLLEGE BOARD SCHOOL",
          "CAMBRIA HEIGHTS ACADEMY",
          "MATHEMATICS, SCIENCE RESEARCH AND TECHNOLOGY MAGNET HIGH SCHOOL",
          "HUMANITIES & ARTS MAGNET HIGH SCHOOL",
          "YOUNG WOMEN'S LEADERSHIP SCHOOL, ASTORIA",
          "ACADEMY FOR CAREERS IN TELEVISION AND FILM",
          "WILLIAM CULLEN BRYANT HIGH SCHOOL",
          "LONG ISLAND CITY HIGH SCHOOL",
          "FRANK SINATRA SCHOOL OF THE ARTS HIGH SCHOOL",
          "INFORMATION TECHNOLOGY HIGH SCHOOL",
          "NEWCOMERS HIGH SCHOOL",
          "ACADEMY OF AMERICAN STUDIES",
          "BACCALAUREATE SCHOOL FOR GLOBAL EDUCATION"
         ],
         "textfont": {
          "color": "#4D5663"
         },
         "type": "scatter",
         "x": [
          22.61904761904762,
          11.855670103092782,
          28.736936782593798,
          35.25378310214376,
          20.448311593319517,
          6.765163297045102,
          9.666505558240695,
          25.961538461538463,
          26.172179747230455,
          23.91304347826087,
          21.46902598233713,
          1.9736842105263157,
          5.906406179009541,
          21.981064080723367,
          30.575555960627053,
          20.94624125874126,
          10.92436974789916,
          4.808743169398907,
          10.407966591712174,
          53.771929824561404,
          10.679611650485436,
          17.280163599182004,
          16.78709055876686,
          2.9707112970711296,
          14.510278113663846,
          10.788365063030616,
          28.995246326707004,
          6.761006289308176,
          41.62220843672457,
          22.32332978440245,
          24.483652021602687,
          5.178907721280603,
          1.84645286686103,
          5.493230174081238,
          4.134672179562906,
          9.848484848484848,
          26.386267107126006,
          24.39108622946052,
          64.51442307692308,
          19.118414188836724,
          7.7666774089590715,
          8.126110124333925,
          11.36653895274585,
          19.461364427427778,
          51.43540669856459,
          3.544776119402985,
          1.1764705882352942,
          3.4013605442176873,
          5.225225225225225,
          29.126150373328702,
          2.9535864978902953,
          8.456659619450317,
          87.77472527472527,
          5.339805825242718,
          26.825123940508554,
          26.066433566433567,
          30.79447402239765,
          8.251273344651953,
          11.990549320732427,
          14.285714285714285,
          5.561613958560523,
          12.768240343347639,
          14.346590909090908,
          29.324737762237763
         ],
         "y": [
          1280,
          1219,
          1240,
          951,
          1663,
          1203,
          1211,
          1177,
          1064,
          1174,
          1330,
          1270,
          1364,
          1396,
          1049,
          1271,
          1441,
          1243,
          1216,
          1910,
          1330,
          1514,
          1474,
          1172,
          1449,
          1279,
          1145,
          1252,
          1156,
          1265,
          1094,
          1532,
          1108,
          1154,
          1192,
          1345,
          1223.4388059701494,
          1265,
          1223.4388059701494,
          1407,
          1194,
          1372,
          1538,
          1223.4388059701494,
          1868,
          1196,
          1316,
          1099,
          1173,
          1202,
          1287,
          1100,
          1223.4388059701494,
          1220,
          1151,
          1223.4388059701494,
          1255,
          1275,
          1218,
          1494,
          1239,
          1127,
          1470,
          1636
         ]
        },
        {
         "marker": {
          "color": "rgba(219, 64, 82, 1.0)",
          "line": {
           "width": 1.3
          },
          "opacity": 0.8,
          "size": 12,
          "symbol": "circle"
         },
         "mode": "markers",
         "name": "Staten Island",
         "text": [
          "CSI HIGH SCHOOL FOR INTERNATIONAL STUDIES",
          "GAYNOR MCCOWN EXPEDITIONARY LEARNING SCHOOL",
          "THE MICHAEL J. PETRIDES SCHOOL",
          "NEW DORP HIGH SCHOOL",
          "PORT RICHMOND HIGH SCHOOL",
          "CURTIS HIGH SCHOOL",
          "TOTTENVILLE HIGH SCHOOL",
          "SUSAN E. WAGNER HIGH SCHOOL",
          "RALPH R. MCKEE CAREER AND TECHNICAL EDUCATION HIGH SCHOOL",
          "STATEN ISLAND TECHNICAL HIGH SCHOOL"
         ],
         "textfont": {
          "color": "#4D5663"
         },
         "type": "scatter",
         "x": [
          24.25354251012146,
          31.624717194570138,
          12.385321100917432,
          3.611738148984198,
          9.019060901906089,
          9.678683385579937,
          10.219354838709679,
          8.603145235892692,
          19.115384615384617,
          47.82608695652174
         ],
         "y": [
          1353,
          1195,
          1426,
          1277,
          1279,
          1301,
          1418,
          1388,
          1235,
          1953
         ]
        }
       ],
       "layout": {
        "legend": {
         "bgcolor": "#F5F6F9",
         "font": {
          "color": "#4D5663"
         }
        },
        "paper_bgcolor": "#F5F6F9",
        "plot_bgcolor": "#F5F6F9",
        "shapes": [
         {
          "line": {
           "color": "#000000",
           "dash": "dash",
           "width": 1
          },
          "type": "line",
          "x0": 0,
          "x1": 1,
          "xref": "paper",
          "y0": 1223.438805970149,
          "y1": 1223.438805970149,
          "yref": "y"
         },
         {
          "line": {
           "color": "#000000",
           "dash": "dash",
           "width": 1
          },
          "type": "line",
          "x0": 21.050294828886546,
          "x1": 21.050294828886546,
          "xref": "x",
          "y0": 0,
          "y1": 1,
          "yref": "paper"
         }
        ],
        "title": "Advanced Placement (AP) Takers, % vs. SAT score by school <br> Dashed lines: Averages of each parameter",
        "titlefont": {
         "color": "#4D5663"
        },
        "xaxis": {
         "gridcolor": "#E1E5ED",
         "showgrid": true,
         "tickfont": {
          "color": "#4D5663"
         },
         "title": "AP Takers, %",
         "titlefont": {
          "color": "#4D5663"
         },
         "zerolinecolor": "#E1E5ED"
        },
        "yaxis": {
         "gridcolor": "#E1E5ED",
         "showgrid": true,
         "tickfont": {
          "color": "#4D5663"
         },
         "title": "Avg. SAT score",
         "titlefont": {
          "color": "#4D5663"
         },
         "zerolinecolor": "#E1E5ED"
        }
       }
      },
      "text/html": [
       "<div>\n",
       "        \n",
       "        \n",
       "            <div id=\"1feeeb8b-8206-454d-b71b-1624f2b9968a\" class=\"plotly-graph-div\" style=\"height:525px; width:100%;\"></div>\n",
       "            <script type=\"text/javascript\">\n",
       "                require([\"plotly\"], function(Plotly) {\n",
       "                    window.PLOTLYENV=window.PLOTLYENV || {};\n",
       "                    window.PLOTLYENV.BASE_URL='https://plot.ly';\n",
       "                    \n",
       "                if (document.getElementById(\"1feeeb8b-8206-454d-b71b-1624f2b9968a\")) {\n",
       "                    Plotly.newPlot(\n",
       "                        '1feeeb8b-8206-454d-b71b-1624f2b9968a',\n",
       "                        [{\"marker\": {\"color\": \"rgba(255, 153, 51, 1.0)\", \"line\": {\"width\": 1.3}, \"opacity\": 0.8, \"size\": 12, \"symbol\": \"circle\"}, \"mode\": \"markers\", \"name\": \"Manhattan\", \"text\": [\"HENRY STREET SCHOOL FOR INTERNATIONAL STUDIES\", \"UNIVERSITY NEIGHBORHOOD HIGH SCHOOL\", \"EAST SIDE COMMUNITY SCHOOL\", \"MARTA VALLE HIGH SCHOOL\", \"NEW EXPLORATIONS INTO SCIENCE, TECHNOLOGY AND MATH HIGH SCHOOL\", \"BARD HIGH SCHOOL EARLY COLLEGE\", \"47 THE AMERICAN SIGN LANGUAGE AND ENGLISH SECONDARY SCHOOL\", \"FOOD AND FINANCE HIGH SCHOOL\", \"ESSEX STREET ACADEMY\", \"HIGH SCHOOL OF HOSPITALITY MANAGEMENT\", \"PACE HIGH SCHOOL\", \"URBAN ASSEMBLY SCHOOL OF DESIGN AND CONSTRUCTION, THE\", \"FACING HISTORY SCHOOL, THE\", \"URBAN ASSEMBLY ACADEMY OF GOVERNMENT AND LAW, THE\", \"LOWER MANHATTAN ARTS ACADEMY\", \"URBAN ASSEMBLY SCHOOL OF BUSINESS FOR YOUNG WOMEN, THE\", \"GRAMERCY ARTS HIGH SCHOOL\", \"NYC ISCHOOL\", \"MANHATTAN BUSINESS ACADEMY\", \"BUSINESS OF SPORTS SCHOOL\", \"THE HIGH SCHOOL FOR LANGUAGE AND DIPLOMACY\", \"HIGH SCHOOL FOR ENVIRONMENTAL STUDIES\", \"PROFESSIONAL PERFORMING ARTS HIGH SCHOOL\", \"BARUCH COLLEGE CAMPUS HIGH SCHOOL\", \"N.Y.C. LAB SCHOOL FOR COLLABORATIVE STUDIES\", \"N.Y.C. MUSEUM SCHOOL\", \"ELEANOR ROOSEVELT HIGH SCHOOL\", \"MILLENNIUM HIGH SCHOOL\", \"LANDMARK HIGH SCHOOL\", \"HIGH SCHOOL FOR HEALTH PROFESSIONS AND HUMAN SERVICES\", \"LEADERSHIP AND PUBLIC SERVICE HIGH SCHOOL\", \"MANHATTAN ACADEMY FOR ARTS & LANGUAGE\", \"HUDSON HIGH SCHOOL OF LEARNING TECHNOLOGIES\", \"INTERNATIONAL HIGH SCHOOL AT UNION SQUARE\", \"MANHATTAN VILLAGE ACADEMY\", \"VANGUARD HIGH SCHOOL\", \"MANHATTAN INTERNATIONAL HIGH SCHOOL\", \"STUYVESANT HIGH SCHOOL\", \"HIGH SCHOOL OF ECONOMICS AND FINANCE\", \"UNITY CENTER FOR URBAN TECHNOLOGIES\", \"TALENT UNLIMITED HIGH SCHOOL\", \"MURRY BERGTRAUM HIGH SCHOOL FOR BUSINESS CAREERS\", \"JACQUELINE KENNEDY ONASSIS HIGH SCHOOL\", \"REPERTORY COMPANY HIGH SCHOOL FOR THEATRE ARTS\", \"MANHATTAN BRIDGES HIGH SCHOOL\", \"NEW DESIGN HIGH SCHOOL\", \"HIGH SCHOOL FOR DUAL LANGUAGE AND ASIAN STUDIES\", \"THE URBAN ASSEMBLY NEW YORK HARBOR SCHOOL\", \"RICHARD R. GREEN HIGH SCHOOL OF TEACHING\", \"THE HIGH SCHOOL OF FASHION INDUSTRIES\", \"HUMANITIES PREPARATORY ACADEMY\", \"CHELSEA CAREER AND TECHNICAL EDUCATION HIGH SCHOOL\", \"ART AND DESIGN HIGH SCHOOL\", \"LIFE SCIENCES SECONDARY SCHOOL\", \"HIGH SCHOOL FOR ARTS, IMAGINATION AND INQUIRY\", \"URBAN ASSEMBLY SCHOOL FOR MEDIA STUDIES, THE\", \"THE URBAN ASSEMBLY SCHOOL FOR GREEN CAREERS\", \"THE GLOBAL LEARNING COLLABORATIVE\", \"WADLEIGH SECONDARY SCHOOL FOR THE PERFORMING & VISUAL ARTS\", \"FRANK MCCOURT HIGH SCHOOL\", \"BEACON HIGH SCHOOL\", \"FIORELLO H. LAGUARDIA HIGH SCHOOL OF MUSIC & ART AND PERFORMING ARTS\", \"HIGH SCHOOL FOR LAW, ADVOCACY AND COMMUNITY JUSTICE\", \"HIGH SCHOOL OF ARTS AND TECHNOLOGY\", \"MANHATTAN / HUNTER SCIENCE HIGH SCHOOL\", \"FREDERICK DOUGLASS ACADEMY II SECONDARY SCHOOL\", \"COALITION SCHOOL FOR SOCIAL CHANGE\", \"MANHATTAN CENTER FOR SCIENCE AND MATHEMATICS\", \"PARK EAST HIGH SCHOOL\", \"CENTRAL PARK EAST HIGH SCHOOL\", \"YOUNG WOMEN'S LEADERSHIP SCHOOL\", \"YOUNG WOMEN'S LEADERSHIP SCHOOL\", \"HERITAGE SCHOOL, THE\", \"MOTT HALL HIGH SCHOOL\", \"COLUMBIA SECONDARY SCHOOL FOR MATH, SCIENCE, AND ENGINEERING\", \"ACADEMY FOR SOCIAL ACTION: A COLLEGE BOARD SCHOOL\", \"URBAN ASSEMBLY SCHOOL FOR THE PERFORMING ARTS\", \"FREDERICK DOUGLASS ACADEMY\", \"THURGOOD MARSHALL ACADEMY FOR LEARNING AND SOCIAL CHANGE\", \"HIGH SCHOOL FOR MATHEMATICS, SCIENCE AND ENGINEERING AT CITY COLLEGE\", \"CITY COLLEGE ACADEMY OF THE ARTS\", \"COMMUNITY HEALTH ACADEMY OF THE HEIGHTS\", \"WASHINGTON HEIGHTS EXPEDITIONARY LEARNING SCHOOL\", \"HIGH SCHOOL FOR EXCELLENCE AND INNOVATION\", \"HIGH SCHOOL FOR INTERNATIONAL BUSINESS AND FINANCE\", \"HIGH SCHOOL FOR MEDIA AND COMMUNICATIONS\", \"HIGH SCHOOL FOR LAW AND PUBLIC SERVICE\", \"HIGH SCHOOL FOR HEALTH CAREERS AND SCIENCES\", \"A. PHILIP RANDOLPH CAMPUS HIGH SCHOOL\", \"GREGORIO LUPERON HIGH SCHOOL FOR SCIENCE AND MATHEMATICS\"], \"textfont\": {\"color\": \"#4D5663\"}, \"type\": \"scatter\", \"x\": [30.575555960627053, 9.898477157360407, 3.177257525083612, 35.157723747642, 15.809051456912584, 20.912292731579605, 74.15450928381964, 29.798809735299344, 37.61773940345369, 30.79447402239765, 5.072463768115942, 22.96983758700696, 9.312638580931264, 8.012820512820513, 38.40144230769231, 34.13461538461539, 26.066433566433567, 29.798809735299344, 38.86411028730306, 42.44369939271255, 52.88067465321564, 15.27977044476327, 3.9840637450199203, 18.055555555555554, 19.689119170984455, 29.593772053634442, 30.57199211045365, 13.738019169329075, 30.6481819842865, 11.538461538461538, 11.532125205930807, 73.73076923076923, 57.09240980258679, 73.3118444055944, 9.79020979020979, 29.06055093555094, 3.6923076923076925, 45.799211404306945, 12.484548825710753, 54.442551119766314, 6.109979633401222, 5.692233478051134, 11.049723756906078, 59.460297766749385, 12.384473197781885, 30.50327332242226, 17.280453257790366, 1.627906976744186, 10.98360655737705, 4.377736085053159, 67.20252403846155, 11.158798283261802, 6.25, 6.97350069735007, 30.868145012881858, 35.25378310214376, 45.59323185648274, 36.04157713794586, 12.5968992248062, 58.917281348788194, 14.285714285714285, 26.525911708253357, 23.850063984075078, 6.301824212271974, 28.483188996434034, 2.663438256658596, 5.157593123209169, 19.87878787878788, 36.97101608992727, 28.995246326707004, 9.131403118040089, 28.736936782593798, 43.887362637362635, 2.5821596244131455, 27.221275559883157, 4.0, 34.499691484985604, 10.475578406169666, 6.379310344827586, 28.078817733990146, 22.018574428983985, 24.813239644970416, 21.43336314847943, 72.4881158167675, 17.142857142857142, 6.468531468531468, 20.31700288184438, 4.712812960235641, 12.840466926070038, 18.64406779661017], \"y\": [1122.0, 1172.0, 1149.0, 1207.0, 1621.0, 1856.0, 1182.0, 1194.0, 1156.0, 1111.0, 1293.0, 1269.0, 1051.0, 1148.0, 1200.0, 1127.0, 1176.0, 1435.0, 1223.4388059701494, 1223.4388059701494, 1223.4388059701494, 1419.0, 1522.0, 1577.0, 1677.0, 1419.0, 1758.0, 1614.0, 1170.0, 1306.0, 1233.0, 1223.4388059701494, 1223.4388059701494, 1223.4388059701494, 1372.0, 1199.0, 1227.0, 2096.0, 1374.0, 1070.0, 1416.0, 1240.0, 1239.0, 1253.0, 1058.0, 1168.0, 1424.0, 1212.0, 1195.0, 1257.0, 1255.0, 1207.0, 1315.0, 1236.0, 1132.0, 1144.0, 1223.4388059701494, 1223.4388059701494, 1109.0, 1223.4388059701494, 1744.0, 1707.0, 1196.0, 1277.0, 1446.0, 1096.0, 1084.0, 1430.0, 1128.0, 1221.0, 1326.0, 1326.0, 1054.0, 1210.0, 1223.4388059701494, 1062.0, 1077.0, 1374.0, 1202.0, 1847.0, 1270.0, 1105.0, 1174.0, 1223.4388059701494, 1127.0, 1098.0, 1102.0, 1224.0, 1309.0, 1014.0]}, {\"marker\": {\"color\": \"rgba(55, 128, 191, 1.0)\", \"line\": {\"width\": 1.3}, \"opacity\": 0.8, \"size\": 12, \"symbol\": \"circle\"}, \"mode\": \"markers\", \"name\": \"Bronx\", \"text\": [\"SOUTH BRONX PREPARATORY: A COLLEGE BOARD SCHOOL\", \"INTERNATIONAL COMMUNITY HIGH SCHOOL\", \"COMMUNITY SCHOOL FOR SOCIAL JUSTICE\", \"MOTT HAVEN VILLAGE PREPARATORY HIGH SCHOOL\", \"UNIVERSITY HEIGHTS SECONDARY SCHOOL\", \"HOSTOSsLINCOLN ACADEMY OF SCIENCE\", \"FOREIGN LANGUAGE ACADEMY OF GLOBAL STUDIES\", \"BRONX LEADERSHIP ACADEMY II HIGH SCHOOL\", \"NEW EXPLORERS HIGH SCHOOL\", \"URBAN ASSEMBLY SCHOOL FOR CAREERS IN SPORTS\", \"BRONX ACADEMY OF LETTERS\", \"ALFRED E. SMITH CAREER AND TECHNICAL EDUCATION HIGH SCHOOL\", \"HEALTH OPPORTUNITIES HIGH SCHOOL\", \"BRONX STUDIO SCHOOL FOR WRITERS AND ARTISTS\", \"WOMEN'S ACADEMY OF EXCELLENCE\", \"RENAISSANCE HIGH SCHOOL FOR MUSICAL THEATER & TECHNOLOGY\", \"PABLO NERUDA ACADEMY FOR ARCHITECTURE AND WORLD STUDIES\", \"MILLENNIUM ART ACADEMY\", \"HOLCOMBE L. RUCKER SCHOOL OF COMMUNITY RESEARCH\", \"ANTONIA PANTOJA PREPARATORY ACADEMY, A COLLEGE BOARD SCHOOL\", \"HERBERT H. LEHMAN HIGH SCHOOL\", \"BRONX BRIDGES HIGH SCHOOL\", \"FELISA RINCON DE GAUTIER INSTITUTE FOR LAW AND PUBLIC POLICY, THE\", \"BANANA KELLY HIGH SCHOOL\", \"BRONX EXPEDITIONARY LEARNING HIGH SCHOOL\", \"EAGLE ACADEMY FOR YOUNG MEN\", \"URBAN ASSEMBLY SCHOOL FOR APPLIED MATH AND SCIENCE, THE\", \"EXIMIUS COLLEGE PREPARATORY ACADEMY: A COLLEGE BOARD SCHOOL\", \"MOTT HALL BRONX HIGH SCHOOL\", \"BRONX CENTER FOR SCIENCE AND MATHEMATICS\", \"VALIDUS PREPARATORY ACADEMY: AN EXPEDITIONARY LEARNING SCHOOL\", \"LEADERSHIP INSTITUTE\", \"MORRIS ACADEMY FOR COLLABORATIVE STUDIES\", \"BRONX EARLY COLLEGE ACADEMY FOR TEACHING & LEARNING\", \"DREAMYARD PREPARATORY SCHOOL\", \"ACADEMY FOR LANGUAGE AND TECHNOLOGY\", \"BRONX INTERNATIONAL HIGH SCHOOL\", \"SCHOOL FOR EXCELLENCE\", \"BRONX HIGH SCHOOL OF BUSINESS\", \"BRONX HIGH SCHOOL FOR MEDICAL SCIENCE\", \"BRONX SCHOOL FOR LAW, GOVERNMENT AND JUSTICE\", \"FREDERICK DOUGLASS ACADEMY III SECONDARY SCHOOL\", \"BRONX LEADERSHIP ACADEMY HIGH SCHOOL\", \"HIGH SCHOOL FOR VIOLIN AND DANCE\", \"RIVERDALE / KINGSBRIDGE ACADEMY (MIDDLE SCHOOL / HIGH SCHOOL 141)\", \"BRONX ENGINEERING AND TECHNOLOGY ACADEMY\", \"THEATRE ARTS PRODUCTION COMPANY SCHOOL\", \"THE MARIE CURIE SCHOOL FOR MEDICINE, NURSING, AND HEALTH PROFESSIONS\", \"WEST BRONX ACADEMY FOR THE FUTURE\", \"KINGSBRIDGE INTERNATIONAL HIGH SCHOOL\", \"BRONX SCHOOL OF LAW AND FINANCE\", \"INTERNATIONAL SCHOOL FOR LIBERAL ARTS\", \"INsTECH ACADEMY (M.S. / HIGH SCHOOL 368)\", \"KNOWLEDGE AND POWER PREPARATORY ACADEMY INTERNATIONAL HIGH SCHOOL (KAPPA)\", \"HIGH SCHOOL FOR TEACHING AND THE PROFESSIONS\", \"BELMONT PREPARATORY HIGH SCHOOL\", \"FORDHAM HIGH SCHOOL FOR THE ARTS\", \"FORDHAM LEADERSHIP ACADEMY FOR BUSINESS AND TECHNOLOGY\", \"BRONX HIGH SCHOOL FOR LAW AND COMMUNITY SERVICE\", \"DEWITT CLINTON HIGH SCHOOL\", \"CELIA CRUZ BRONX HIGH SCHOOL OF MUSIC, THE\", \"BRONX HIGH SCHOOL OF SCIENCE\", \"MARBLE HILL HIGH SCHOOL FOR INTERNATIONAL STUDIES\", \"BRONX THEATRE HIGH SCHOOL\", \"DISCOVERY HIGH SCHOOL\", \"HIGH SCHOOL OF AMERICAN STUDIES AT LEHMAN COLLEGE\", \"BRONX HEALTH SCIENCES HIGH SCHOOL\", \"BRONX HIGH SCHOOL FOR WRITING AND COMMUNICATION ARTS\", \"BRONX LAB SCHOOL\", \"ACADEMY FOR SCHOLARSHIP AND ENTREPRENEURSHIP: A COLLEGE BOARD SCHOOL\", \"HIGH SCHOOL OF COMPUTERS AND TECHNOLOGY\", \"COLLEGIATE INSTITUTE FOR MATH AND SCIENCE\", \"BRONX ACADEMY OF HEALTH CAREERS\", \"ASTOR COLLEGIATE ACADEMY\", \"BRONX HIGH SCHOOL FOR THE VISUAL ARTS\", \"HARRY S TRUMAN HIGH SCHOOL\", \"NEW WORLD HIGH SCHOOL\", \"THE BRONXWOOD PREPARATORY ACADEMY\", \"PELHAM PREPARATORY ACADEMY\", \"HIGH SCHOOL FOR CONTEMPORARY ARTS\", \"BRONX AEROSPACE HIGH SCHOOL\", \"METROPOLITAN HIGH SCHOOL, THE\", \"EXPLORATIONS ACADEMY\", \"BRONX LATIN\", \"EAST BRONX ACADEMY FOR THE FUTURE\", \"PEACE AND DIVERSITY ACADEMY\", \"PAN AMERICAN INTERNATIONAL HIGH SCHOOL AT MONROE\", \"THE CINEMA SCHOOL\", \"BRONX CAREER AND COLLEGE PREPARATORY HIGH SCHOOL\", \"HIGH SCHOOL OF WORLD CULTURES\", \"FANNIE LOU HAMER FREEDOM HIGH SCHOOL\", \"WINGS ACADEMY\", \"MONROE ACADEMY FOR VISUAL ARTS & DESIGN\"], \"textfont\": {\"color\": \"#4D5663\"}, \"type\": \"scatter\", \"x\": [10.128617363344052, 32.83176746917205, 40.44791415481071, 35.545136681500324, 27.748138957816376, 11.895910780669144, 4.180064308681672, 5.9760956175298805, 4.699738903394255, 27.050072568940497, 9.54954954954955, 1.4905149051490514, 10.391822827938672, 25.805769230769233, 5.540897097625329, 4.690831556503198, 35.9411827726591, 7.056451612903227, 6.006006006006006, 29.867788461538463, 11.967715001391594, 83.24441687344914, 35.545136681500324, 28.60950025584172, 36.346153846153854, 5.818181818181818, 2.6402640264026402, 25.280898876404496, 36.448826597131685, 13.963963963963963, 1.9178082191780823, 7.391304347826087, 28.673076923076923, 26.172179747230455, 4.297994269340974, 5.952380952380952, 32.01708341286505, 33.427162216022325, 6.483790523690773, 28.357988165680474, 5.897771952817824, 4.887218045112782, 5.673758865248227, 39.94701119314122, 9.947643979057592, 24.0990990990991, 3.2442748091603053, 2.7777777777777777, 3.930817610062893, 6.438631790744467, 4.976303317535545, 9.075907590759076, 3.5523978685612785, 39.82371794871795, 13.107822410147993, 7.616707616707617, 33.34078711985689, 9.312638580931264, 10.185185185185185, 8.800192353931234, 7.328605200945626, 39.495519415864585, 18.201754385964914, 7.640449438202247, 24.39108622946052, 51.45888594164456, 34.22515813099368, 6.6350710900473935, 26.769470156399617, 3.9603960396039604, 23.45979020979021, 14.548802946593002, 26.714046822742475, 7.228915662650602, 5.383022774327122, 5.80936266215454, 2.9850746268656714, 31.01654955621302, 9.072978303747535, 26.937128633370804, 31.01654955621302, 7.374631268436578, 35.64332766680833, 30.868145012881858, 5.169628432956381, 3.463203463203463, 31.780503978779844, 57.86046912728528, 52.88067465321564, 34.967166979362105, 27.050072568940497, 3.717472118959108, 27.68859359524596], \"y\": [1090.0, 945.0, 1077.0, 1097.0, 1201.0, 1257.0, 1186.0, 1103.0, 1084.0, 1181.0, 1201.0, 1158.0, 1095.0, 1223.4388059701494, 1171.0, 1158.0, 1038.0, 1164.0, 1084.0, 1223.4388059701494, 1241.0, 1223.4388059701494, 1099.0, 1131.0, 1049.0, 1134.0, 1290.0, 1169.0, 1092.0, 1396.0, 1075.0, 1081.0, 1148.0, 1223.4388059701494, 1138.0, 951.0, 965.0, 1074.0, 1083.0, 1221.0, 1224.0, 1121.0, 1166.0, 1039.0, 1333.0, 1150.0, 1190.0, 1157.0, 1158.0, 962.0, 1182.0, 934.0, 1181.0, 1180.0, 1106.0, 1222.0, 1077.0, 1119.0, 1082.0, 1255.0, 1270.0, 1969.0, 1263.0, 1064.0, 1115.0, 1920.0, 1133.0, 1147.0, 1135.0, 1141.0, 1111.0, 1348.0, 1135.0, 1169.0, 1268.0, 1151.0, 1048.0, 1112.0, 1288.0, 1126.0, 1163.0, 1055.0, 1122.0, 1251.0, 1102.0, 1155.0, 970.0, 1223.4388059701494, 1223.4388059701494, 939.0, 1029.0, 1114.0, 1038.0]}, {\"marker\": {\"color\": \"rgba(50, 171, 96, 1.0)\", \"line\": {\"width\": 1.3}, \"opacity\": 0.8, \"size\": 12, \"symbol\": \"circle\"}, \"mode\": \"markers\", \"name\": \"Brooklyn\", \"text\": [\"DR. SUSAN S. MCKINNEY SECONDARY SCHOOL OF THE ARTS\", \"URBAN ASSEMBLY HIGH SCHOOL OF MUSIC AND ART\", \"BROOKLYN COMMUNITY HIGH SCHOOL OF COMMUNICATION, ARTS AND MEDIA\", \"SCIENCE SKILLS CENTER HIGH SCHOOL FOR SCIENCE, TECHNOLOGY AND THE CREATIVE ARTS\", \"BROOKLYN TECHNICAL HIGH SCHOOL\", \"BROOKLYN INTERNATIONAL HIGH SCHOOL\", \"THE URBAN ASSEMBLY SCHOOL FOR LAW AND JUSTICE\", \"ACORN COMMUNITY HIGH SCHOOL\", \"URBAN ASSEMBLY INSTITUTE OF MATH AND SCIENCE FOR YOUNG WOMEN\", \"BEDFORD ACADEMY HIGH SCHOOL\", \"GEORGE WESTINGHOUSE CAREER AND TECHNICAL EDUCATION HIGH SCHOOL\", \"BENJAMIN BANNEKER ACADEMY\", \"CITY POLYTECHNIC HIGH SCHOOL OF ENGINEERING, ARCHITECTURE, AND TECHNOLOGY\", \"JUAN MOREL CAMPOS SECONDARY SCHOOL\", \"FOUNDATIONS ACADEMY\", \"BROOKLYN LATIN SCHOOL, THE\", \"GREEN SCHOOL: AN ACADEMY FOR ENVIRONMENTAL CAREERS\", \"PROGRESS HIGH SCHOOL FOR PROFESSIONAL CAREERS\", \"SCHOOL FOR LEGAL STUDIES\", \"THE HIGH SCHOOL FOR ENTERPRISE, BUSINESS AND TECHNOLOGY\", \"BROOKLYN PREPARATORY HIGH SCHOOL\", \"WILLIAMSBURG HIGH SCHOOL FOR ARCHITECTURE AND DESIGN\", \"WILLIAMSBURG PREPARATORY SCHOOL\", \"LYONS COMMUNITY SCHOOL\", \"AUTOMOTIVE HIGH SCHOOL\", \"FRANCES PERKINS ACADEMY\", \"EL PUENTE ACADEMY FOR PEACE AND JUSTICE\", \"BROOKLYN SCHOOL FOR GLOBAL STUDIES\", \"BROOKLYN SECONDARY SCHOOL FOR COLLABORATIVE STUDIES\", \"SECONDARY SCHOOL FOR LAW\", \"SECONDARY SCHOOL FOR JOURNALISM\", \"PARK SLOPE COLLEGIATE\", \"SCHOOL FOR INTERNATIONAL STUDIES\", \"COBBLE HILL SCHOOL OF AMERICAN STUDIES\", \"BROOKLYN HIGH SCHOOL OF THE ARTS\", \"SUNSET PARK HIGH SCHOOL\", \"FREDERICK DOUGLASS ACADEMY IV SECONDARY SCHOOL\", \"BOYS AND GIRLS HIGH SCHOOL\", \"BROOKLYN HIGH SCHOOL FOR LAW AND TECHNOLOGY\", \"THE BROOKLYN ACADEMY OF GLOBAL FINANCE\", \"ACADEMY FOR COLLEGE PREPARATION AND CAREER EXPLORATION: A COLLEGE BOARD SCHOOL\", \"ACADEMY OF HOSPITALITY AND TOURISM\", \"INTERNATIONAL HIGH SCHOOL AT PROSPECT HEIGHTS\", \"THE HIGH SCHOOL FOR GLOBAL CITIZENSHIP\", \"SCHOOL FOR HUMAN RIGHTS, THE\", \"SCHOOL FOR DEMOCRACY AND LEADERSHIP\", \"HIGH SCHOOL FOR YOUTH AND COMMUNITY DEVELOPMENT AT ERASMUS\", \"HIGH SCHOOL FOR SERVICE & LEARNING AT ERASMUS\", \"SCIENCE, TECHNOLOGY AND RESEARCH EARLY COLLEGE HIGH SCHOOL AT ERASMUS\", \"HIGH SCHOOL FOR PUBLIC SERVICE: HEROES OF TOMORROW\", \"BROOKLYN ACADEMY OF SCIENCE AND THE ENVIRONMENT\", \"BROOKLYN SCHOOL FOR MUSIC & THEATRE\", \"MEDGAR EVERS COLLEGE PREPARATORY SCHOOL\", \"CLARA BARTON HIGH SCHOOL\", \"IT TAKES A VILLAGE ACADEMY\", \"BROOKLYN GENERATION SCHOOL\", \"BROOKLYN THEATRE ARTS HIGH SCHOOL\", \"KURT HAHN EXPEDITIONARY LEARNING SCHOOL\", \"VICTORY COLLEGIATE HIGH SCHOOL\", \"ARTS & MEDIA PREPARATORY ACADEMY\", \"HIGH SCHOOL FOR INNOVATION IN ADVERTISING AND MEDIA\", \"CULTURAL ACADEMY FOR THE ARTS AND SCIENCES\", \"HIGH SCHOOL FOR MEDICAL PROFESSIONS\", \"ACADEMY FOR CONSERVATION AND THE ENVIRONMENT\", \"URBAN ACTION ACADEMY\", \"EAST NEW YORK FAMILY ACADEMY\", \"FDNY HIGH SCHOOL FOR FIRE AND LIFE SAFETY\", \"HIGH SCHOOL FOR CIVIL RIGHTS\", \"PERFORMING ARTS AND TECHNOLOGY HIGH SCHOOL\", \"WORLD ACADEMY FOR TOTAL COMMUNITY HEALTH HIGH SCHOOL\", \"MULTICULTURAL HIGH SCHOOL\", \"TRANSIT TECH CAREER AND TECHNICAL EDUCATION HIGH SCHOOL\", \"ACADEMY OF INNOVATIVE TECHNOLOGY\", \"BROOKLYN LAB SCHOOL\", \"CYPRESS HILLS COLLEGIATE PREPARATORY SCHOOL\", \"W. H. MAXWELL CAREER AND TECHNICAL EDUCATION HIGH SCHOOL\", \"THE SCHOOL FOR CLASSICS: AN ACADEMY OF THINKERS, WRITERS AND PERFORMERS\", \"NEW UTRECHT HIGH SCHOOL\", \"HIGH SCHOOL OF TELECOMMUNICATION ARTS AND TECHNOLOGY\", \"FORT HAMILTON HIGH SCHOOL\", \"FRANKLIN DELANO ROOSEVELT HIGH SCHOOL\", \"THE URBAN ASSEMBLY SCHOOL FOR CRIMINAL JUSTICE\", \"INTERNATIONAL HIGH SCHOOL AT LAFAYETTE\", \"RACHEL CARSON HIGH SCHOOL FOR COASTAL STUDIES\", \"HIGH SCHOOL OF SPORTS MANAGEMENT\", \"ABRAHAM LINCOLN HIGH SCHOOL\", \"KINGSBOROUGH EARLY COLLEGE SCHOOL\", \"EDWARD R. MURROW HIGH SCHOOL\", \"JOHN DEWEY HIGH SCHOOL\", \"LIFE ACADEMY HIGH SCHOOL FOR FILM AND MUSIC\", \"EXPEDITIONARY LEARNING SCHOOL FOR COMMUNITY LEADERS\", \"WILLIAM E. GRADY CAREER AND TECHNICAL EDUCATION HIGH SCHOOL\", \"BROOKLYN STUDIO SECONDARY SCHOOL\", \"MIDWOOD HIGH SCHOOL\", \"JAMES MADISON HIGH SCHOOL\", \"LEON M. GOLDSTEIN HIGH SCHOOL FOR THE SCIENCES\", \"BROOKLYN COLLEGE ACADEMY\", \"BROOKLYN COLLEGIATE: A COLLEGE BOARD SCHOOL\", \"FREDERICK DOUGLASS ACADEMY VII HIGH SCHOOL\", \"TEACHERS PREPARATORY HIGH SCHOOL\", \"ACADEMY FOR ENVIRONMENTAL LEADERSHIP\", \"EBC HIGH SCHOOL FOR PUBLIC SERVICE\\u2013BUSHWICK\", \"BUSHWICK SCHOOL FOR SOCIAL JUSTICE\", \"ACADEMY OF URBAN PLANNING\", \"ALL CITY LEADERSHIP SECONDARY SCHOOL\", \"BUSHWICK LEADERS HIGH SCHOOL FOR ACADEMIC EXCELLENCE\"], \"textfont\": {\"color\": \"#4D5663\"}, \"type\": \"scatter\", \"x\": [3.837471783295711, 29.937087274674283, 4.545454545454546, 10.058027079303674, 39.70367591897975, 35.157723747642, 6.888888888888889, 8.755129958960328, 27.511481056257175, 11.716621253405995, 3.7756202804746493, 14.748603351955309, 38.51607347876005, 1.8497109826589597, 29.78723404255319, 27.570266272189354, 32.91552197802198, 4.681647940074907, 3.1620553359683794, 9.631147540983607, 7.000000000000001, 6.0, 5.37261698440208, 24.483652021602687, 17.846313437599743, 74.58314806580702, 59.187544107268884, 36.448826597131685, 18.645787016451756, 27.278825825337456, 6.547619047619048, 32.748438110113234, 6.172839506172839, 3.770739064856712, 19.03080326752893, 13.059599813142325, 29.39153670930437, 1.3488657265481299, 12.098765432098766, 81.15021770682148, 11.327433628318584, 40.44791415481071, 32.176769614425474, 5.830903790087463, 33.427162216022325, 31.780503978779844, 5.454545454545454, 30.575555960627053, 24.76561346522959, 25.41966426858513, 10.40339702760085, 8.980582524271846, 24.637681159420293, 8.395522388059701, 33.77718485702779, 38.9815245177783, 33.77718485702779, 43.887362637362635, 39.701183431952664, 44.03714885796797, 41.62220843672457, 43.153460252122464, 28.0497491638796, 47.09081976417743, 42.30453972257251, 29.798809735299344, 33.86583888552393, 2.9925187032418954, 28.483188996434034, 5.7894736842105265, 10.83743842364532, 10.478359908883828, 31.937833206397563, 32.50096880449526, 4.805491990846682, 7.796610169491526, 41.488374969082365, 5.311355311355311, 19.609375, 8.350877192982455, 7.335907335907336, 34.499691484985604, 37.61773940345369, 7.0686070686070686, 2.7027027027027026, 5.1252408477842, 27.33661994784876, 9.870711089010442, 10.70110701107011, 51.40591480232914, 57.09240980258679, 13.496741229481815, 4.4520547945205475, 19.390942217595004, 10.500650195058519, 35.90998043052838, 20.480769230769234, 2.586206896551724, 10.684931506849315, 5.830388692579505, 35.64332766680833, 7.755775577557755, 29.730148883374692, 19.09547738693467, 2.6615969581749046, 7.35930735930736], \"y\": [1074.0, 1080.0, 1114.0, 1211.0, 1833.0, 981.0, 1206.0, 1116.0, 1223.4388059701494, 1312.0, 1189.0, 1391.0, 1353.0, 1085.0, 1223.4388059701494, 1740.0, 1189.0, 1114.0, 1204.0, 1215.0, 1090.0, 1112.0, 1187.0, 1103.0, 1093.0, 1122.0, 1035.0, 1111.0, 1179.0, 1203.0, 1169.0, 1175.0, 1212.0, 1185.0, 1258.0, 1223.4388059701494, 1068.0, 1097.0, 1092.0, 1223.4388059701494, 1139.0, 1045.0, 913.0, 1176.0, 1088.0, 1153.0, 1027.0, 1105.0, 1360.0, 1273.0, 1143.0, 1151.0, 1436.0, 1251.0, 963.0, 1145.0, 1118.0, 1092.0, 1143.0, 1080.0, 1183.0, 1169.0, 1159.0, 1111.0, 1135.0, 1242.0, 1023.0, 1054.0, 1149.0, 1106.0, 887.0, 1193.0, 1096.0, 1108.0, 1129.0, 1102.0, 1157.0, 1272.0, 1323.0, 1306.0, 1244.0, 1223.4388059701494, 1026.0, 1237.0, 1164.0, 1226.0, 1223.4388059701494, 1431.0, 1262.0, 1124.0, 1079.0, 1184.0, 1313.0, 1473.0, 1350.0, 1627.0, 1352.0, 1185.0, 1091.0, 1196.0, 1098.0, 1154.0, 1035.0, 1060.0, 1315.0, 1055.0]}, {\"marker\": {\"color\": \"rgba(128, 0, 128, 1.0)\", \"line\": {\"width\": 1.3}, \"opacity\": 0.8, \"size\": 12, \"symbol\": \"circle\"}, \"mode\": \"markers\", \"name\": \"Queens\", \"text\": [\"ACADEMY OF FINANCE AND ENTERPRISE\", \"HIGH SCHOOL OF APPLIED COMMUNICATION\", \"CIVIC LEADERSHIP ACADEMY\", \"PAN AMERICAN INTERNATIONAL HIGH SCHOOL\", \"BARD HIGH SCHOOL EARLY COLLEGE II\", \"NEWTOWN HIGH SCHOOL\", \"GROVER CLEVELAND HIGH SCHOOL\", \"MIDDLE COLLEGE HIGH SCHOOL AT LAGUARDIA COMMUNITY COLLEGE\", \"INTERNATIONAL HIGH SCHOOL AT LAGUARDIA COMMUNITY COLLEGE\", \"HIGH SCHOOL FOR ARTS AND BUSINESS\", \"ROBERT F. WAGNER, JR. SECONDARY SCHOOL FOR ARTS AND TECHNOLOGY\", \"QUEENS VOCATIONAL AND TECHNICAL HIGH SCHOOL\", \"AVIATION CAREER & TECHNICAL EDUCATION HIGH SCHOOL\", \"QUEENS SCHOOL OF INQUIRY, THE\", \"FLUSHING INTERNATIONAL HIGH SCHOOL\", \"EASTsWEST SCHOOL OF INTERNATIONAL STUDIES\", \"WORLD JOURNALISM PREPARATORY: A COLLEGE BOARD SCHOOL\", \"JOHN BOWNE HIGH SCHOOL\", \"FLUSHING HIGH SCHOOL\", \"TOWNSEND HARRIS HIGH SCHOOL\", \"ROBERT F. KENNEDY COMMUNITY HIGH SCHOOL\", \"BENJAMIN N. CARDOZO HIGH SCHOOL\", \"FRANCIS LEWIS HIGH SCHOOL\", \"MARTIN VAN BUREN HIGH SCHOOL\", \"BAYSIDE HIGH SCHOOL\", \"QUEENS HIGH SCHOOL OF TEACHING, LIBERAL ARTS AND THE SCIENCES\", \"FREDERICK DOUGLASS ACADEMY VI HIGH SCHOOL\", \"CHANNEL VIEW SCHOOL FOR RESEARCH\", \"QUEENS HIGH SCHOOL FOR INFORMATION, RESEARCH, AND TECHNOLOGY\", \"ROBERT H. GODDARD HIGH SCHOOL OF COMMUNICATION ARTS AND TECHNOLOGY\", \"ACADEMY OF MEDICAL TECHNOLOGY: A COLLEGE BOARD SCHOOL\", \"SCHOLARS' ACADEMY\", \"AUGUST MARTIN HIGH SCHOOL\", \"RICHMOND HILL HIGH SCHOOL\", \"JOHN ADAMS HIGH SCHOOL\", \"HIGH SCHOOL FOR CONSTRUCTION TRADES, ENGINEERING AND ARCHITECTURE\", \"YORK EARLY COLLEGE ACADEMY\", \"QUEENS COLLEGIATE: A COLLEGE BOARD SCHOOL\", \"HILLSIDE ARTS & LETTERS ACADEMY\", \"FOREST HILLS HIGH SCHOOL\", \"HILLCREST HIGH SCHOOL\", \"THOMAS A. EDISON CAREER AND TECHNICAL EDUCATION HIGH SCHOOL\", \"QUEENS GATEWAY TO HEALTH SCIENCES SECONDARY SCHOOL\", \"QUEENS METROPOLITAN HIGH SCHOOL\", \"QUEENS HIGH SCHOOL FOR THE SCIENCES AT YORK COLLEGE\", \"HIGH SCHOOL FOR LAW ENFORCEMENT AND PUBLIC SAFETY\", \"YOUNG WOMEN'S LEADERSHIP SCHOOL, QUEENS\", \"QUEENS PREPARATORY ACADEMY\", \"PATHWAYS COLLEGE PREPARATORY SCHOOL: A COLLEGE BOARD SCHOOL\", \"EXCELSIOR PREPARATORY HIGH SCHOOL\", \"GEORGE WASHINGTON CARVER HIGH SCHOOL FOR THE SCIENCES\", \"PREPARATORY ACADEMY FOR WRITERS: A COLLEGE BOARD SCHOOL\", \"CAMBRIA HEIGHTS ACADEMY\", \"MATHEMATICS, SCIENCE RESEARCH AND TECHNOLOGY MAGNET HIGH SCHOOL\", \"HUMANITIES & ARTS MAGNET HIGH SCHOOL\", \"YOUNG WOMEN'S LEADERSHIP SCHOOL, ASTORIA\", \"ACADEMY FOR CAREERS IN TELEVISION AND FILM\", \"WILLIAM CULLEN BRYANT HIGH SCHOOL\", \"LONG ISLAND CITY HIGH SCHOOL\", \"FRANK SINATRA SCHOOL OF THE ARTS HIGH SCHOOL\", \"INFORMATION TECHNOLOGY HIGH SCHOOL\", \"NEWCOMERS HIGH SCHOOL\", \"ACADEMY OF AMERICAN STUDIES\", \"BACCALAUREATE SCHOOL FOR GLOBAL EDUCATION\"], \"textfont\": {\"color\": \"#4D5663\"}, \"type\": \"scatter\", \"x\": [22.61904761904762, 11.855670103092782, 28.736936782593798, 35.25378310214376, 20.448311593319517, 6.765163297045102, 9.666505558240695, 25.961538461538463, 26.172179747230455, 23.91304347826087, 21.46902598233713, 1.9736842105263157, 5.906406179009541, 21.981064080723367, 30.575555960627053, 20.94624125874126, 10.92436974789916, 4.808743169398907, 10.407966591712174, 53.771929824561404, 10.679611650485436, 17.280163599182004, 16.78709055876686, 2.9707112970711296, 14.510278113663846, 10.788365063030616, 28.995246326707004, 6.761006289308176, 41.62220843672457, 22.32332978440245, 24.483652021602687, 5.178907721280603, 1.84645286686103, 5.493230174081238, 4.134672179562906, 9.848484848484848, 26.386267107126006, 24.39108622946052, 64.51442307692308, 19.118414188836724, 7.7666774089590715, 8.126110124333925, 11.36653895274585, 19.461364427427778, 51.43540669856459, 3.544776119402985, 1.1764705882352942, 3.4013605442176873, 5.225225225225225, 29.126150373328702, 2.9535864978902953, 8.456659619450317, 87.77472527472527, 5.339805825242718, 26.825123940508554, 26.066433566433567, 30.79447402239765, 8.251273344651953, 11.990549320732427, 14.285714285714285, 5.561613958560523, 12.768240343347639, 14.346590909090908, 29.324737762237763], \"y\": [1280.0, 1219.0, 1240.0, 951.0, 1663.0, 1203.0, 1211.0, 1177.0, 1064.0, 1174.0, 1330.0, 1270.0, 1364.0, 1396.0, 1049.0, 1271.0, 1441.0, 1243.0, 1216.0, 1910.0, 1330.0, 1514.0, 1474.0, 1172.0, 1449.0, 1279.0, 1145.0, 1252.0, 1156.0, 1265.0, 1094.0, 1532.0, 1108.0, 1154.0, 1192.0, 1345.0, 1223.4388059701494, 1265.0, 1223.4388059701494, 1407.0, 1194.0, 1372.0, 1538.0, 1223.4388059701494, 1868.0, 1196.0, 1316.0, 1099.0, 1173.0, 1202.0, 1287.0, 1100.0, 1223.4388059701494, 1220.0, 1151.0, 1223.4388059701494, 1255.0, 1275.0, 1218.0, 1494.0, 1239.0, 1127.0, 1470.0, 1636.0]}, {\"marker\": {\"color\": \"rgba(219, 64, 82, 1.0)\", \"line\": {\"width\": 1.3}, \"opacity\": 0.8, \"size\": 12, \"symbol\": \"circle\"}, \"mode\": \"markers\", \"name\": \"Staten Island\", \"text\": [\"CSI HIGH SCHOOL FOR INTERNATIONAL STUDIES\", \"GAYNOR MCCOWN EXPEDITIONARY LEARNING SCHOOL\", \"THE MICHAEL J. PETRIDES SCHOOL\", \"NEW DORP HIGH SCHOOL\", \"PORT RICHMOND HIGH SCHOOL\", \"CURTIS HIGH SCHOOL\", \"TOTTENVILLE HIGH SCHOOL\", \"SUSAN E. WAGNER HIGH SCHOOL\", \"RALPH R. MCKEE CAREER AND TECHNICAL EDUCATION HIGH SCHOOL\", \"STATEN ISLAND TECHNICAL HIGH SCHOOL\"], \"textfont\": {\"color\": \"#4D5663\"}, \"type\": \"scatter\", \"x\": [24.25354251012146, 31.624717194570138, 12.385321100917432, 3.611738148984198, 9.019060901906089, 9.678683385579937, 10.219354838709679, 8.603145235892692, 19.115384615384617, 47.82608695652174], \"y\": [1353.0, 1195.0, 1426.0, 1277.0, 1279.0, 1301.0, 1418.0, 1388.0, 1235.0, 1953.0]}],\n",
       "                        {\"legend\": {\"bgcolor\": \"#F5F6F9\", \"font\": {\"color\": \"#4D5663\"}}, \"paper_bgcolor\": \"#F5F6F9\", \"plot_bgcolor\": \"#F5F6F9\", \"shapes\": [{\"line\": {\"color\": \"#000000\", \"dash\": \"dash\", \"width\": 1}, \"type\": \"line\", \"x0\": 0, \"x1\": 1, \"xref\": \"paper\", \"y0\": 1223.438805970149, \"y1\": 1223.438805970149, \"yref\": \"y\"}, {\"line\": {\"color\": \"#000000\", \"dash\": \"dash\", \"width\": 1}, \"type\": \"line\", \"x0\": 21.050294828886546, \"x1\": 21.050294828886546, \"xref\": \"x\", \"y0\": 0, \"y1\": 1, \"yref\": \"paper\"}], \"title\": \"Advanced Placement (AP) Takers, % vs. SAT score by school <br> Dashed lines: Averages of each parameter\", \"titlefont\": {\"color\": \"#4D5663\"}, \"xaxis\": {\"gridcolor\": \"#E1E5ED\", \"showgrid\": true, \"tickfont\": {\"color\": \"#4D5663\"}, \"title\": \"AP Takers, %\", \"titlefont\": {\"color\": \"#4D5663\"}, \"zerolinecolor\": \"#E1E5ED\"}, \"yaxis\": {\"gridcolor\": \"#E1E5ED\", \"showgrid\": true, \"tickfont\": {\"color\": \"#4D5663\"}, \"title\": \"Avg. SAT score\", \"titlefont\": {\"color\": \"#4D5663\"}, \"zerolinecolor\": \"#E1E5ED\"}},\n",
       "                        {\"showLink\": true, \"linkText\": \"Export to plot.ly\", \"plotlyServerURL\": \"https://plot.ly\", \"responsive\": true}\n",
       "                    ).then(function(){\n",
       "                            \n",
       "var gd = document.getElementById('1feeeb8b-8206-454d-b71b-1624f2b9968a');\n",
       "var x = new MutationObserver(function (mutations, observer) {{\n",
       "        var display = window.getComputedStyle(gd).display;\n",
       "        if (!display || display === 'none') {{\n",
       "            console.log([gd, 'removed!']);\n",
       "            Plotly.purge(gd);\n",
       "            observer.disconnect();\n",
       "        }}\n",
       "}});\n",
       "\n",
       "// Listen for the removal of the full notebook cells\n",
       "var notebookContainer = gd.closest('#notebook-container');\n",
       "if (notebookContainer) {{\n",
       "    x.observe(notebookContainer, {childList: true});\n",
       "}}\n",
       "\n",
       "// Listen for the clearing of the current output cell\n",
       "var outputEl = gd.closest('.output');\n",
       "if (outputEl) {{\n",
       "    x.observe(outputEl, {childList: true});\n",
       "}}\n",
       "\n",
       "                        })\n",
       "                };\n",
       "                });\n",
       "            </script>\n",
       "        </div>"
      ]
     },
     "metadata": {},
     "output_type": "display_data"
    },
    {
     "name": "stdout",
     "output_type": "stream",
     "text": [
      "Recommendation: Click the legend to view by boroughs\n"
     ]
    }
   ],
   "source": [
    "combined.iplot(\n",
    "        x='ap_per',\n",
    "        y='sat_score',\n",
    "        categories='boro',\n",
    "        text=\"SCHOOL NAME\",\n",
    "        vline= {\"x\":combined['ap_per'].mean(),\n",
    "                \"color\":\"#000000\",\n",
    "                \"dash\": \"dash\"\n",
    "               },\n",
    "        hline={\"y\":combined['sat_score'].mean(),\n",
    "               \"color\":\"#000000\",\n",
    "               \"dash\": \"dash\"\n",
    "              },\n",
    "        xTitle='AP Takers, %',\n",
    "        yTitle='Avg. SAT score',\n",
    "        title='Advanced Placement (AP) Takers, % vs. SAT score by school <br> Dashed lines: Averages of each parameter'\n",
    "    )\n",
    "print(\"Recommendation: Click the legend to view by boroughs\")"
   ]
  },
  {
   "cell_type": "markdown",
   "metadata": {},
   "source": [
    "Advanced Placement (AP) is a program in the United States and Canada created by the College Board which offers college-level curricula and examinations to high school students. American colleges and universities may grant placement and course credit to students who obtain high scores on the examinations. \n",
    "\n",
    "\n",
    "1. With SAT above 1400, there is a linear correlation between the AP Takers % and SAT scores. Upon more research, the school had high enrollments standards. Thus, students with higher academia would benefit more from these AP classes than other school. \n",
    "\n",
    "\n",
    "2. It's suprising to see schools with high shares of AP takers exhibited near or equal the average SAT score. This draws another questions to why these schools exhibit such poor SAT scores given the high share of AP takers. We can use the Z-Score to determine which factors attribute more. The Z-Score represents, for a given value x of your numerical variable distribution, “how many standard deviations” it is from your variable mean. If Z-Score is positive, then your x value is above the mean. On the other hand, if your Z-Score is negative, then your x value is below that mean.\n",
    "\n",
    "Otherwise, a high share of AP takers does not indicate a strong SAT score. "
   ]
  },
  {
   "cell_type": "code",
   "execution_count": 25,
   "metadata": {},
   "outputs": [
    {
     "data": {
      "text/plain": [
       "<matplotlib.axes._subplots.AxesSubplot at 0x26fc1013e10>"
      ]
     },
     "execution_count": 25,
     "metadata": {},
     "output_type": "execute_result"
    },
    {
     "data": {
      "image/png": "[encoded data removed]",
      "text/plain": [
       "<Figure size 432x288 with 1 Axes>"
      ]
     },
     "metadata": {
      "needs_background": "light"
     },
     "output_type": "display_data"
    }
   ],
   "source": [
    "class_size = ['AVERAGE CLASS SIZE', 'SIZE OF SMALLEST CLASS', 'SIZE OF LARGEST CLASS']\n",
    "combined.corr()['sat_score'][class_size].plot.bar()"
   ]
  },
  {
   "cell_type": "code",
   "execution_count": 26,
   "metadata": {},
   "outputs": [
    {
     "data": {
      "application/vnd.plotly.v1+json": {
       "config": {
        "linkText": "Export to plot.ly",
        "plotlyServerURL": "https://plot.ly",
        "showLink": true
       },
       "data": [
        {
         "marker": {
          "color": "rgba(255, 153, 51, 0.6)",
          "line": {
           "color": "rgba(255, 153, 51, 1.0)",
           "width": 1
          }
         },
         "name": "High AP, low SAT",
         "orientation": "v",
         "text": "",
         "type": "bar",
         "x": [
          "Art History",
          "Biology",
          "Calculus AB",
          "Calculus BC",
          "Chemistry",
          "Chinese Language and Culture",
          "Comparative Government and Politics",
          "Computer Science A",
          "English Language and Composition",
          "English Literature and Composition",
          "Environmental Science",
          "European History",
          "French Language and Culture",
          "German Language and Culture",
          "Human Geography",
          "Italian Language and Culture",
          "Japanese Language and Culture",
          "Macroeconomics",
          "Microeconomics",
          "Music Theory",
          "Physics B",
          "Physics C: Electricity and Magnetism",
          "Physics C: Mechanics",
          "Psychology",
          "Spanish Language and Culture",
          "Spanish Literature and Culture",
          "Statistics",
          "Studio Art: 2-D Design",
          "Studio Art: 3-D Design",
          "Studio Art: Drawing",
          "United States Government and Politics",
          "United States History",
          "World History"
         ],
         "y": [
          1.2,
          6.800000000000001,
          11.200000000000001,
          0.4,
          3.2,
          0.4,
          0.8,
          0.8,
          10,
          16.400000000000002,
          3.2,
          0.4,
          0.8,
          "",
          0.4,
          "",
          "",
          0.4,
          0.8,
          0.4,
          0.8,
          0.4,
          "",
          2.8000000000000003,
          6,
          3.2,
          2.4,
          "",
          "",
          1.6,
          6,
          14.799999999999999,
          4.3999999999999995
         ]
        },
        {
         "marker": {
          "color": "rgba(55, 128, 191, 0.6)",
          "line": {
           "color": "rgba(55, 128, 191, 1.0)",
           "width": 1
          }
         },
         "name": "High AP, high SAT",
         "orientation": "v",
         "text": "",
         "type": "bar",
         "x": [
          "Art History",
          "Biology",
          "Calculus AB",
          "Calculus BC",
          "Chemistry",
          "Chinese Language and Culture",
          "Comparative Government and Politics",
          "Computer Science A",
          "English Language and Composition",
          "English Literature and Composition",
          "Environmental Science",
          "European History",
          "French Language and Culture",
          "German Language and Culture",
          "Human Geography",
          "Italian Language and Culture",
          "Japanese Language and Culture",
          "Macroeconomics",
          "Microeconomics",
          "Music Theory",
          "Physics B",
          "Physics C: Electricity and Magnetism",
          "Physics C: Mechanics",
          "Psychology",
          "Spanish Language and Culture",
          "Spanish Literature and Culture",
          "Statistics",
          "Studio Art: 2-D Design",
          "Studio Art: 3-D Design",
          "Studio Art: Drawing",
          "United States Government and Politics",
          "United States History",
          "World History"
         ],
         "y": [
          1.7045454545454544,
          5.113636363636364,
          5.113636363636364,
          4.545454545454546,
          4.545454545454546,
          1.7045454545454544,
          3.4090909090909087,
          2.272727272727273,
          3.4090909090909087,
          6.25,
          2.272727272727273,
          2.840909090909091,
          2.272727272727273,
          0.5681818181818182,
          1.7045454545454544,
          2.272727272727273,
          1.7045454545454544,
          2.840909090909091,
          2.272727272727273,
          2.272727272727273,
          2.840909090909091,
          2.272727272727273,
          2.272727272727273,
          2.840909090909091,
          3.4090909090909087,
          2.272727272727273,
          4.545454545454546,
          2.272727272727273,
          2.272727272727273,
          1.7045454545454544,
          3.977272727272727,
          5.681818181818182,
          4.545454545454546
         ]
        }
       ],
       "layout": {
        "height": 600,
        "hovermode": "x",
        "template": {
         "data": {
          "bar": [
           {
            "error_x": {
             "color": "#2a3f5f"
            },
            "error_y": {
             "color": "#2a3f5f"
            },
            "marker": {
             "line": {
              "color": "#E5ECF6",
              "width": 0.5
             }
            },
            "type": "bar"
           }
          ],
          "barpolar": [
           {
            "marker": {
             "line": {
              "color": "#E5ECF6",
              "width": 0.5
             }
            },
            "type": "barpolar"
           }
          ],
          "carpet": [
           {
            "aaxis": {
             "endlinecolor": "#2a3f5f",
             "gridcolor": "white",
             "linecolor": "white",
             "minorgridcolor": "white",
             "startlinecolor": "#2a3f5f"
            },
            "baxis": {
             "endlinecolor": "#2a3f5f",
             "gridcolor": "white",
             "linecolor": "white",
             "minorgridcolor": "white",
             "startlinecolor": "#2a3f5f"
            },
            "type": "carpet"
           }
          ],
          "choropleth": [
           {
            "colorbar": {
             "outlinewidth": 0,
             "ticks": ""
            },
            "type": "choropleth"
           }
          ],
          "contour": [
           {
            "colorbar": {
             "outlinewidth": 0,
             "ticks": ""
            },
            "colorscale": [
             [
              0,
              "#0d0887"
             ],
             [
              0.1111111111111111,
              "#46039f"
             ],
             [
              0.2222222222222222,
              "#7201a8"
             ],
             [
              0.3333333333333333,
              "#9c179e"
             ],
             [
              0.4444444444444444,
              "#bd3786"
             ],
             [
              0.5555555555555556,
              "#d8576b"
             ],
             [
              0.6666666666666666,
              "#ed7953"
             ],
             [
              0.7777777777777778,
              "#fb9f3a"
             ],
             [
              0.8888888888888888,
              "#fdca26"
             ],
             [
              1,
              "#f0f921"
             ]
            ],
            "type": "contour"
           }
          ],
          "contourcarpet": [
           {
            "colorbar": {
             "outlinewidth": 0,
             "ticks": ""
            },
            "type": "contourcarpet"
           }
          ],
          "heatmap": [
           {
            "colorbar": {
             "outlinewidth": 0,
             "ticks": ""
            },
            "colorscale": [
             [
              0,
              "#0d0887"
             ],
             [
              0.1111111111111111,
              "#46039f"
             ],
             [
              0.2222222222222222,
              "#7201a8"
             ],
             [
              0.3333333333333333,
              "#9c179e"
             ],
             [
              0.4444444444444444,
              "#bd3786"
             ],
             [
              0.5555555555555556,
              "#d8576b"
             ],
             [
              0.6666666666666666,
              "#ed7953"
             ],
             [
              0.7777777777777778,
              "#fb9f3a"
             ],
             [
              0.8888888888888888,
              "#fdca26"
             ],
             [
              1,
              "#f0f921"
             ]
            ],
            "type": "heatmap"
           }
          ],
          "heatmapgl": [
           {
            "colorbar": {
             "outlinewidth": 0,
             "ticks": ""
            },
            "colorscale": [
             [
              0,
              "#0d0887"
             ],
             [
              0.1111111111111111,
              "#46039f"
             ],
             [
              0.2222222222222222,
              "#7201a8"
             ],
             [
              0.3333333333333333,
              "#9c179e"
             ],
             [
              0.4444444444444444,
              "#bd3786"
             ],
             [
              0.5555555555555556,
              "#d8576b"
             ],
             [
              0.6666666666666666,
              "#ed7953"
             ],
             [
              0.7777777777777778,
              "#fb9f3a"
             ],
             [
              0.8888888888888888,
              "#fdca26"
             ],
             [
              1,
              "#f0f921"
             ]
            ],
            "type": "heatmapgl"
           }
          ],
          "histogram": [
           {
            "marker": {
             "colorbar": {
              "outlinewidth": 0,
              "ticks": ""
             }
            },
            "type": "histogram"
           }
          ],
          "histogram2d": [
           {
            "colorbar": {
             "outlinewidth": 0,
             "ticks": ""
            },
            "colorscale": [
             [
              0,
              "#0d0887"
             ],
             [
              0.1111111111111111,
              "#46039f"
             ],
             [
              0.2222222222222222,
              "#7201a8"
             ],
             [
              0.3333333333333333,
              "#9c179e"
             ],
             [
              0.4444444444444444,
              "#bd3786"
             ],
             [
              0.5555555555555556,
              "#d8576b"
             ],
             [
              0.6666666666666666,
              "#ed7953"
             ],
             [
              0.7777777777777778,
              "#fb9f3a"
             ],
             [
              0.8888888888888888,
              "#fdca26"
             ],
             [
              1,
              "#f0f921"
             ]
            ],
            "type": "histogram2d"
           }
          ],
          "histogram2dcontour": [
           {
            "colorbar": {
             "outlinewidth": 0,
             "ticks": ""
            },
            "colorscale": [
             [
              0,
              "#0d0887"
             ],
             [
              0.1111111111111111,
              "#46039f"
             ],
             [
              0.2222222222222222,
              "#7201a8"
             ],
             [
              0.3333333333333333,
              "#9c179e"
             ],
             [
              0.4444444444444444,
              "#bd3786"
             ],
             [
              0.5555555555555556,
              "#d8576b"
             ],
             [
              0.6666666666666666,
              "#ed7953"
             ],
             [
              0.7777777777777778,
              "#fb9f3a"
             ],
             [
              0.8888888888888888,
              "#fdca26"
             ],
             [
              1,
              "#f0f921"
             ]
            ],
            "type": "histogram2dcontour"
           }
          ],
          "mesh3d": [
           {
            "colorbar": {
             "outlinewidth": 0,
             "ticks": ""
            },
            "type": "mesh3d"
           }
          ],
          "parcoords": [
           {
            "line": {
             "colorbar": {
              "outlinewidth": 0,
              "ticks": ""
             }
            },
            "type": "parcoords"
           }
          ],
          "pie": [
           {
            "automargin": true,
            "type": "pie"
           }
          ],
          "scatter": [
           {
            "marker": {
             "colorbar": {
              "outlinewidth": 0,
              "ticks": ""
             }
            },
            "type": "scatter"
           }
          ],
          "scatter3d": [
           {
            "line": {
             "colorbar": {
              "outlinewidth": 0,
              "ticks": ""
             }
            },
            "marker": {
             "colorbar": {
              "outlinewidth": 0,
              "ticks": ""
             }
            },
            "type": "scatter3d"
           }
          ],
          "scattercarpet": [
           {
            "marker": {
             "colorbar": {
              "outlinewidth": 0,
              "ticks": ""
             }
            },
            "type": "scattercarpet"
           }
          ],
          "scattergeo": [
           {
            "marker": {
             "colorbar": {
              "outlinewidth": 0,
              "ticks": ""
             }
            },
            "type": "scattergeo"
           }
          ],
          "scattergl": [
           {
            "marker": {
             "colorbar": {
              "outlinewidth": 0,
              "ticks": ""
             }
            },
            "type": "scattergl"
           }
          ],
          "scattermapbox": [
           {
            "marker": {
             "colorbar": {
              "outlinewidth": 0,
              "ticks": ""
             }
            },
            "type": "scattermapbox"
           }
          ],
          "scatterpolar": [
           {
            "marker": {
             "colorbar": {
              "outlinewidth": 0,
              "ticks": ""
             }
            },
            "type": "scatterpolar"
           }
          ],
          "scatterpolargl": [
           {
            "marker": {
             "colorbar": {
              "outlinewidth": 0,
              "ticks": ""
             }
            },
            "type": "scatterpolargl"
           }
          ],
          "scatterternary": [
           {
            "marker": {
             "colorbar": {
              "outlinewidth": 0,
              "ticks": ""
             }
            },
            "type": "scatterternary"
           }
          ],
          "surface": [
           {
            "colorbar": {
             "outlinewidth": 0,
             "ticks": ""
            },
            "colorscale": [
             [
              0,
              "#0d0887"
             ],
             [
              0.1111111111111111,
              "#46039f"
             ],
             [
              0.2222222222222222,
              "#7201a8"
             ],
             [
              0.3333333333333333,
              "#9c179e"
             ],
             [
              0.4444444444444444,
              "#bd3786"
             ],
             [
              0.5555555555555556,
              "#d8576b"
             ],
             [
              0.6666666666666666,
              "#ed7953"
             ],
             [
              0.7777777777777778,
              "#fb9f3a"
             ],
             [
              0.8888888888888888,
              "#fdca26"
             ],
             [
              1,
              "#f0f921"
             ]
            ],
            "type": "surface"
           }
          ],
          "table": [
           {
            "cells": {
             "fill": {
              "color": "#EBF0F8"
             },
             "line": {
              "color": "white"
             }
            },
            "header": {
             "fill": {
              "color": "#C8D4E3"
             },
             "line": {
              "color": "white"
             }
            },
            "type": "table"
           }
          ]
         },
         "layout": {
          "annotationdefaults": {
           "arrowcolor": "#2a3f5f",
           "arrowhead": 0,
           "arrowwidth": 1
          },
          "coloraxis": {
           "colorbar": {
            "outlinewidth": 0,
            "ticks": ""
           }
          },
          "colorscale": {
           "diverging": [
            [
             0,
             "#8e0152"
            ],
            [
             0.1,
             "#c51b7d"
            ],
            [
             0.2,
             "#de77ae"
            ],
            [
             0.3,
             "#f1b6da"
            ],
            [
             0.4,
             "#fde0ef"
            ],
            [
             0.5,
             "#f7f7f7"
            ],
            [
             0.6,
             "#e6f5d0"
            ],
            [
             0.7,
             "#b8e186"
            ],
            [
             0.8,
             "#7fbc41"
            ],
            [
             0.9,
             "#4d9221"
            ],
            [
             1,
             "#276419"
            ]
           ],
           "sequential": [
            [
             0,
             "#0d0887"
            ],
            [
             0.1111111111111111,
             "#46039f"
            ],
            [
             0.2222222222222222,
             "#7201a8"
            ],
            [
             0.3333333333333333,
             "#9c179e"
            ],
            [
             0.4444444444444444,
             "#bd3786"
            ],
            [
             0.5555555555555556,
             "#d8576b"
            ],
            [
             0.6666666666666666,
             "#ed7953"
            ],
            [
             0.7777777777777778,
             "#fb9f3a"
            ],
            [
             0.8888888888888888,
             "#fdca26"
            ],
            [
             1,
             "#f0f921"
            ]
           ],
           "sequentialminus": [
            [
             0,
             "#0d0887"
            ],
            [
             0.1111111111111111,
             "#46039f"
            ],
            [
             0.2222222222222222,
             "#7201a8"
            ],
            [
             0.3333333333333333,
             "#9c179e"
            ],
            [
             0.4444444444444444,
             "#bd3786"
            ],
            [
             0.5555555555555556,
             "#d8576b"
            ],
            [
             0.6666666666666666,
             "#ed7953"
            ],
            [
             0.7777777777777778,
             "#fb9f3a"
            ],
            [
             0.8888888888888888,
             "#fdca26"
            ],
            [
             1,
             "#f0f921"
            ]
           ]
          },
          "colorway": [
           "#636efa",
           "#EF553B",
           "#00cc96",
           "#ab63fa",
           "#FFA15A",
           "#19d3f3",
           "#FF6692",
           "#B6E880",
           "#FF97FF",
           "#FECB52"
          ],
          "font": {
           "color": "#2a3f5f"
          },
          "geo": {
           "bgcolor": "white",
           "lakecolor": "white",
           "landcolor": "#E5ECF6",
           "showlakes": true,
           "showland": true,
           "subunitcolor": "white"
          },
          "hoverlabel": {
           "align": "left"
          },
          "hovermode": "closest",
          "mapbox": {
           "style": "light"
          },
          "paper_bgcolor": "white",
          "plot_bgcolor": "#E5ECF6",
          "polar": {
           "angularaxis": {
            "gridcolor": "white",
            "linecolor": "white",
            "ticks": ""
           },
           "bgcolor": "#E5ECF6",
           "radialaxis": {
            "gridcolor": "white",
            "linecolor": "white",
            "ticks": ""
           }
          },
          "scene": {
           "xaxis": {
            "backgroundcolor": "#E5ECF6",
            "gridcolor": "white",
            "gridwidth": 2,
            "linecolor": "white",
            "showbackground": true,
            "ticks": "",
            "zerolinecolor": "white"
           },
           "yaxis": {
            "backgroundcolor": "#E5ECF6",
            "gridcolor": "white",
            "gridwidth": 2,
            "linecolor": "white",
            "showbackground": true,
            "ticks": "",
            "zerolinecolor": "white"
           },
           "zaxis": {
            "backgroundcolor": "#E5ECF6",
            "gridcolor": "white",
            "gridwidth": 2,
            "linecolor": "white",
            "showbackground": true,
            "ticks": "",
            "zerolinecolor": "white"
           }
          },
          "shapedefaults": {
           "line": {
            "color": "#2a3f5f"
           }
          },
          "ternary": {
           "aaxis": {
            "gridcolor": "white",
            "linecolor": "white",
            "ticks": ""
           },
           "baxis": {
            "gridcolor": "white",
            "linecolor": "white",
            "ticks": ""
           },
           "bgcolor": "#E5ECF6",
           "caxis": {
            "gridcolor": "white",
            "linecolor": "white",
            "ticks": ""
           }
          },
          "title": {
           "x": 0.05
          },
          "xaxis": {
           "automargin": true,
           "gridcolor": "white",
           "linecolor": "white",
           "ticks": "",
           "title": {
            "standoff": 15
           },
           "zerolinecolor": "white",
           "zerolinewidth": 2
          },
          "yaxis": {
           "automargin": true,
           "gridcolor": "white",
           "linecolor": "white",
           "ticks": "",
           "title": {
            "standoff": 15
           },
           "zerolinecolor": "white",
           "zerolinewidth": 2
          }
         }
        },
        "title": {
         "text": "AP Subject Matters, normalized count in %"
        },
        "width": 1000,
        "xaxis": {
         "automargin": true
        }
       }
      },
      "text/html": [
       "<div>\n",
       "        \n",
       "        \n",
       "            <div id=\"67a3a528-3312-4cbf-aaaa-1db879c5bbed\" class=\"plotly-graph-div\" style=\"height:600px; width:1000px;\"></div>\n",
       "            <script type=\"text/javascript\">\n",
       "                require([\"plotly\"], function(Plotly) {\n",
       "                    window.PLOTLYENV=window.PLOTLYENV || {};\n",
       "                    window.PLOTLYENV.BASE_URL='https://plot.ly';\n",
       "                    \n",
       "                if (document.getElementById(\"67a3a528-3312-4cbf-aaaa-1db879c5bbed\")) {\n",
       "                    Plotly.newPlot(\n",
       "                        '67a3a528-3312-4cbf-aaaa-1db879c5bbed',\n",
       "                        [{\"marker\": {\"color\": \"rgba(255, 153, 51, 0.6)\", \"line\": {\"color\": \"rgba(255, 153, 51, 1.0)\", \"width\": 1}}, \"name\": \"High AP, low SAT\", \"orientation\": \"v\", \"text\": \"\", \"type\": \"bar\", \"x\": [\"Art History\", \"Biology\", \"Calculus AB\", \"Calculus BC\", \"Chemistry\", \"Chinese Language and Culture\", \"Comparative Government and Politics\", \"Computer Science A\", \"English Language and Composition\", \"English Literature and Composition\", \"Environmental Science\", \"European History\", \"French Language and Culture\", \"German Language and Culture\", \"Human Geography\", \"Italian Language and Culture\", \"Japanese Language and Culture\", \"Macroeconomics\", \"Microeconomics\", \"Music Theory\", \"Physics B\", \"Physics C: Electricity and Magnetism\", \"Physics C: Mechanics\", \"Psychology\", \"Spanish Language and Culture\", \"Spanish Literature and Culture\", \"Statistics\", \"Studio Art: 2-D Design\", \"Studio Art: 3-D Design\", \"Studio Art: Drawing\", \"United States Government and Politics\", \"United States History\", \"World History\"], \"y\": [1.2, 6.800000000000001, 11.200000000000001, 0.4, 3.2, 0.4, 0.8, 0.8, 10.0, 16.400000000000002, 3.2, 0.4, 0.8, \"\", 0.4, \"\", \"\", 0.4, 0.8, 0.4, 0.8, 0.4, \"\", 2.8000000000000003, 6.0, 3.2, 2.4, \"\", \"\", 1.6, 6.0, 14.799999999999999, 4.3999999999999995]}, {\"marker\": {\"color\": \"rgba(55, 128, 191, 0.6)\", \"line\": {\"color\": \"rgba(55, 128, 191, 1.0)\", \"width\": 1}}, \"name\": \"High AP, high SAT\", \"orientation\": \"v\", \"text\": \"\", \"type\": \"bar\", \"x\": [\"Art History\", \"Biology\", \"Calculus AB\", \"Calculus BC\", \"Chemistry\", \"Chinese Language and Culture\", \"Comparative Government and Politics\", \"Computer Science A\", \"English Language and Composition\", \"English Literature and Composition\", \"Environmental Science\", \"European History\", \"French Language and Culture\", \"German Language and Culture\", \"Human Geography\", \"Italian Language and Culture\", \"Japanese Language and Culture\", \"Macroeconomics\", \"Microeconomics\", \"Music Theory\", \"Physics B\", \"Physics C: Electricity and Magnetism\", \"Physics C: Mechanics\", \"Psychology\", \"Spanish Language and Culture\", \"Spanish Literature and Culture\", \"Statistics\", \"Studio Art: 2-D Design\", \"Studio Art: 3-D Design\", \"Studio Art: Drawing\", \"United States Government and Politics\", \"United States History\", \"World History\"], \"y\": [1.7045454545454544, 5.113636363636364, 5.113636363636364, 4.545454545454546, 4.545454545454546, 1.7045454545454544, 3.4090909090909087, 2.272727272727273, 3.4090909090909087, 6.25, 2.272727272727273, 2.840909090909091, 2.272727272727273, 0.5681818181818182, 1.7045454545454544, 2.272727272727273, 1.7045454545454544, 2.840909090909091, 2.272727272727273, 2.272727272727273, 2.840909090909091, 2.272727272727273, 2.272727272727273, 2.840909090909091, 3.4090909090909087, 2.272727272727273, 4.545454545454546, 2.272727272727273, 2.272727272727273, 1.7045454545454544, 3.977272727272727, 5.681818181818182, 4.545454545454546]}],\n",
       "                        {\"height\": 600, \"hovermode\": \"x\", \"template\": {\"data\": {\"bar\": [{\"error_x\": {\"color\": \"#2a3f5f\"}, \"error_y\": {\"color\": \"#2a3f5f\"}, \"marker\": {\"line\": {\"color\": \"#E5ECF6\", \"width\": 0.5}}, \"type\": \"bar\"}], \"barpolar\": [{\"marker\": {\"line\": {\"color\": \"#E5ECF6\", \"width\": 0.5}}, \"type\": \"barpolar\"}], \"carpet\": [{\"aaxis\": {\"endlinecolor\": \"#2a3f5f\", \"gridcolor\": \"white\", \"linecolor\": \"white\", \"minorgridcolor\": \"white\", \"startlinecolor\": \"#2a3f5f\"}, \"baxis\": {\"endlinecolor\": \"#2a3f5f\", \"gridcolor\": \"white\", \"linecolor\": \"white\", \"minorgridcolor\": \"white\", \"startlinecolor\": \"#2a3f5f\"}, \"type\": \"carpet\"}], \"choropleth\": [{\"colorbar\": {\"outlinewidth\": 0, \"ticks\": \"\"}, \"type\": \"choropleth\"}], \"contour\": [{\"colorbar\": {\"outlinewidth\": 0, \"ticks\": \"\"}, \"colorscale\": [[0.0, \"#0d0887\"], [0.1111111111111111, \"#46039f\"], [0.2222222222222222, \"#7201a8\"], [0.3333333333333333, \"#9c179e\"], [0.4444444444444444, \"#bd3786\"], [0.5555555555555556, \"#d8576b\"], [0.6666666666666666, \"#ed7953\"], [0.7777777777777778, \"#fb9f3a\"], [0.8888888888888888, \"#fdca26\"], [1.0, \"#f0f921\"]], \"type\": \"contour\"}], \"contourcarpet\": [{\"colorbar\": {\"outlinewidth\": 0, \"ticks\": \"\"}, \"type\": \"contourcarpet\"}], \"heatmap\": [{\"colorbar\": {\"outlinewidth\": 0, \"ticks\": \"\"}, \"colorscale\": [[0.0, \"#0d0887\"], [0.1111111111111111, \"#46039f\"], [0.2222222222222222, \"#7201a8\"], [0.3333333333333333, \"#9c179e\"], [0.4444444444444444, \"#bd3786\"], [0.5555555555555556, \"#d8576b\"], [0.6666666666666666, \"#ed7953\"], [0.7777777777777778, \"#fb9f3a\"], [0.8888888888888888, \"#fdca26\"], [1.0, \"#f0f921\"]], \"type\": \"heatmap\"}], \"heatmapgl\": [{\"colorbar\": {\"outlinewidth\": 0, \"ticks\": \"\"}, \"colorscale\": [[0.0, \"#0d0887\"], [0.1111111111111111, \"#46039f\"], [0.2222222222222222, \"#7201a8\"], [0.3333333333333333, \"#9c179e\"], [0.4444444444444444, \"#bd3786\"], [0.5555555555555556, \"#d8576b\"], [0.6666666666666666, \"#ed7953\"], [0.7777777777777778, \"#fb9f3a\"], [0.8888888888888888, \"#fdca26\"], [1.0, \"#f0f921\"]], \"type\": \"heatmapgl\"}], \"histogram\": [{\"marker\": {\"colorbar\": {\"outlinewidth\": 0, \"ticks\": \"\"}}, \"type\": \"histogram\"}], \"histogram2d\": [{\"colorbar\": {\"outlinewidth\": 0, \"ticks\": \"\"}, \"colorscale\": [[0.0, \"#0d0887\"], [0.1111111111111111, \"#46039f\"], [0.2222222222222222, \"#7201a8\"], [0.3333333333333333, \"#9c179e\"], [0.4444444444444444, \"#bd3786\"], [0.5555555555555556, \"#d8576b\"], [0.6666666666666666, \"#ed7953\"], [0.7777777777777778, \"#fb9f3a\"], [0.8888888888888888, \"#fdca26\"], [1.0, \"#f0f921\"]], \"type\": \"histogram2d\"}], \"histogram2dcontour\": [{\"colorbar\": {\"outlinewidth\": 0, \"ticks\": \"\"}, \"colorscale\": [[0.0, \"#0d0887\"], [0.1111111111111111, \"#46039f\"], [0.2222222222222222, \"#7201a8\"], [0.3333333333333333, \"#9c179e\"], [0.4444444444444444, \"#bd3786\"], [0.5555555555555556, \"#d8576b\"], [0.6666666666666666, \"#ed7953\"], [0.7777777777777778, \"#fb9f3a\"], [0.8888888888888888, \"#fdca26\"], [1.0, \"#f0f921\"]], \"type\": \"histogram2dcontour\"}], \"mesh3d\": [{\"colorbar\": {\"outlinewidth\": 0, \"ticks\": \"\"}, \"type\": \"mesh3d\"}], \"parcoords\": [{\"line\": {\"colorbar\": {\"outlinewidth\": 0, \"ticks\": \"\"}}, \"type\": \"parcoords\"}], \"pie\": [{\"automargin\": true, \"type\": \"pie\"}], \"scatter\": [{\"marker\": {\"colorbar\": {\"outlinewidth\": 0, \"ticks\": \"\"}}, \"type\": \"scatter\"}], \"scatter3d\": [{\"line\": {\"colorbar\": {\"outlinewidth\": 0, \"ticks\": \"\"}}, \"marker\": {\"colorbar\": {\"outlinewidth\": 0, \"ticks\": \"\"}}, \"type\": \"scatter3d\"}], \"scattercarpet\": [{\"marker\": {\"colorbar\": {\"outlinewidth\": 0, \"ticks\": \"\"}}, \"type\": \"scattercarpet\"}], \"scattergeo\": [{\"marker\": {\"colorbar\": {\"outlinewidth\": 0, \"ticks\": \"\"}}, \"type\": \"scattergeo\"}], \"scattergl\": [{\"marker\": {\"colorbar\": {\"outlinewidth\": 0, \"ticks\": \"\"}}, \"type\": \"scattergl\"}], \"scattermapbox\": [{\"marker\": {\"colorbar\": {\"outlinewidth\": 0, \"ticks\": \"\"}}, \"type\": \"scattermapbox\"}], \"scatterpolar\": [{\"marker\": {\"colorbar\": {\"outlinewidth\": 0, \"ticks\": \"\"}}, \"type\": \"scatterpolar\"}], \"scatterpolargl\": [{\"marker\": {\"colorbar\": {\"outlinewidth\": 0, \"ticks\": \"\"}}, \"type\": \"scatterpolargl\"}], \"scatterternary\": [{\"marker\": {\"colorbar\": {\"outlinewidth\": 0, \"ticks\": \"\"}}, \"type\": \"scatterternary\"}], \"surface\": [{\"colorbar\": {\"outlinewidth\": 0, \"ticks\": \"\"}, \"colorscale\": [[0.0, \"#0d0887\"], [0.1111111111111111, \"#46039f\"], [0.2222222222222222, \"#7201a8\"], [0.3333333333333333, \"#9c179e\"], [0.4444444444444444, \"#bd3786\"], [0.5555555555555556, \"#d8576b\"], [0.6666666666666666, \"#ed7953\"], [0.7777777777777778, \"#fb9f3a\"], [0.8888888888888888, \"#fdca26\"], [1.0, \"#f0f921\"]], \"type\": \"surface\"}], \"table\": [{\"cells\": {\"fill\": {\"color\": \"#EBF0F8\"}, \"line\": {\"color\": \"white\"}}, \"header\": {\"fill\": {\"color\": \"#C8D4E3\"}, \"line\": {\"color\": \"white\"}}, \"type\": \"table\"}]}, \"layout\": {\"annotationdefaults\": {\"arrowcolor\": \"#2a3f5f\", \"arrowhead\": 0, \"arrowwidth\": 1}, \"coloraxis\": {\"colorbar\": {\"outlinewidth\": 0, \"ticks\": \"\"}}, \"colorscale\": {\"diverging\": [[0, \"#8e0152\"], [0.1, \"#c51b7d\"], [0.2, \"#de77ae\"], [0.3, \"#f1b6da\"], [0.4, \"#fde0ef\"], [0.5, \"#f7f7f7\"], [0.6, \"#e6f5d0\"], [0.7, \"#b8e186\"], [0.8, \"#7fbc41\"], [0.9, \"#4d9221\"], [1, \"#276419\"]], \"sequential\": [[0.0, \"#0d0887\"], [0.1111111111111111, \"#46039f\"], [0.2222222222222222, \"#7201a8\"], [0.3333333333333333, \"#9c179e\"], [0.4444444444444444, \"#bd3786\"], [0.5555555555555556, \"#d8576b\"], [0.6666666666666666, \"#ed7953\"], [0.7777777777777778, \"#fb9f3a\"], [0.8888888888888888, \"#fdca26\"], [1.0, \"#f0f921\"]], \"sequentialminus\": [[0.0, \"#0d0887\"], [0.1111111111111111, \"#46039f\"], [0.2222222222222222, \"#7201a8\"], [0.3333333333333333, \"#9c179e\"], [0.4444444444444444, \"#bd3786\"], [0.5555555555555556, \"#d8576b\"], [0.6666666666666666, \"#ed7953\"], [0.7777777777777778, \"#fb9f3a\"], [0.8888888888888888, \"#fdca26\"], [1.0, \"#f0f921\"]]}, \"colorway\": [\"#636efa\", \"#EF553B\", \"#00cc96\", \"#ab63fa\", \"#FFA15A\", \"#19d3f3\", \"#FF6692\", \"#B6E880\", \"#FF97FF\", \"#FECB52\"], \"font\": {\"color\": \"#2a3f5f\"}, \"geo\": {\"bgcolor\": \"white\", \"lakecolor\": \"white\", \"landcolor\": \"#E5ECF6\", \"showlakes\": true, \"showland\": true, \"subunitcolor\": \"white\"}, \"hoverlabel\": {\"align\": \"left\"}, \"hovermode\": \"closest\", \"mapbox\": {\"style\": \"light\"}, \"paper_bgcolor\": \"white\", \"plot_bgcolor\": \"#E5ECF6\", \"polar\": {\"angularaxis\": {\"gridcolor\": \"white\", \"linecolor\": \"white\", \"ticks\": \"\"}, \"bgcolor\": \"#E5ECF6\", \"radialaxis\": {\"gridcolor\": \"white\", \"linecolor\": \"white\", \"ticks\": \"\"}}, \"scene\": {\"xaxis\": {\"backgroundcolor\": \"#E5ECF6\", \"gridcolor\": \"white\", \"gridwidth\": 2, \"linecolor\": \"white\", \"showbackground\": true, \"ticks\": \"\", \"zerolinecolor\": \"white\"}, \"yaxis\": {\"backgroundcolor\": \"#E5ECF6\", \"gridcolor\": \"white\", \"gridwidth\": 2, \"linecolor\": \"white\", \"showbackground\": true, \"ticks\": \"\", \"zerolinecolor\": \"white\"}, \"zaxis\": {\"backgroundcolor\": \"#E5ECF6\", \"gridcolor\": \"white\", \"gridwidth\": 2, \"linecolor\": \"white\", \"showbackground\": true, \"ticks\": \"\", \"zerolinecolor\": \"white\"}}, \"shapedefaults\": {\"line\": {\"color\": \"#2a3f5f\"}}, \"ternary\": {\"aaxis\": {\"gridcolor\": \"white\", \"linecolor\": \"white\", \"ticks\": \"\"}, \"baxis\": {\"gridcolor\": \"white\", \"linecolor\": \"white\", \"ticks\": \"\"}, \"bgcolor\": \"#E5ECF6\", \"caxis\": {\"gridcolor\": \"white\", \"linecolor\": \"white\", \"ticks\": \"\"}}, \"title\": {\"x\": 0.05}, \"xaxis\": {\"automargin\": true, \"gridcolor\": \"white\", \"linecolor\": \"white\", \"ticks\": \"\", \"title\": {\"standoff\": 15}, \"zerolinecolor\": \"white\", \"zerolinewidth\": 2}, \"yaxis\": {\"automargin\": true, \"gridcolor\": \"white\", \"linecolor\": \"white\", \"ticks\": \"\", \"title\": {\"standoff\": 15}, \"zerolinecolor\": \"white\", \"zerolinewidth\": 2}}}, \"title\": {\"text\": \"AP Subject Matters, normalized count in %\"}, \"width\": 1000, \"xaxis\": {\"automargin\": true}},\n",
       "                        {\"showLink\": true, \"linkText\": \"Export to plot.ly\", \"plotlyServerURL\": \"https://plot.ly\", \"responsive\": true}\n",
       "                    ).then(function(){\n",
       "                            \n",
       "var gd = document.getElementById('67a3a528-3312-4cbf-aaaa-1db879c5bbed');\n",
       "var x = new MutationObserver(function (mutations, observer) {{\n",
       "        var display = window.getComputedStyle(gd).display;\n",
       "        if (!display || display === 'none') {{\n",
       "            console.log([gd, 'removed!']);\n",
       "            Plotly.purge(gd);\n",
       "            observer.disconnect();\n",
       "        }}\n",
       "}});\n",
       "\n",
       "// Listen for the removal of the full notebook cells\n",
       "var notebookContainer = gd.closest('#notebook-container');\n",
       "if (notebookContainer) {{\n",
       "    x.observe(notebookContainer, {childList: true});\n",
       "}}\n",
       "\n",
       "// Listen for the clearing of the current output cell\n",
       "var outputEl = gd.closest('.output');\n",
       "if (outputEl) {{\n",
       "    x.observe(outputEl, {childList: true});\n",
       "}}\n",
       "\n",
       "                        })\n",
       "                };\n",
       "                });\n",
       "            </script>\n",
       "        </div>"
      ]
     },
     "metadata": {},
     "output_type": "display_data"
    }
   ],
   "source": [
    "# first select schools for comparison, 25-50% of AP Takers and below the average:\n",
    "high_ap_low_sat = combined[(combined[\"ap_per\"]>25)&\n",
    "                            (combined[\"ap_per\"]<50) &\n",
    "                            (combined[\"sat_score\"] < 1300)]\n",
    "\n",
    "high_ap_high_sat = combined[(combined[\"ap_per\"]>25)&\n",
    "                            (combined[\"ap_per\"]<50)&\n",
    "                            (combined[\"sat_score\"]>1300)]\n",
    "\n",
    "\n",
    "# define loop trough subsets and extract relative distribution of ap_courses\n",
    "subsets = {\"High AP, low SAT\": high_ap_low_sat,\n",
    "           \"High AP, high SAT\": high_ap_high_sat}\n",
    "subsets_ap_courses = pd.DataFrame()\n",
    "\n",
    "#Loop to split the course strings and reshaped the dataframe to a longer format\n",
    "for k, v in subsets.items():\n",
    "    ap_courses = v[\"advancedplacement_courses\"].str.split(\",\",expand=True)\n",
    "    ap_courses_melted = ap_courses.melt()[\"value\"].str.strip().value_counts(normalize=True).sort_values()\n",
    "    ap_courses_melted.name = k\n",
    "    subsets_ap_courses = pd.concat([subsets_ap_courses, ap_courses_melted], axis=1, sort=True)\n",
    "\n",
    "# Plot bar graph of offered AP courses \n",
    "ax = (subsets_ap_courses*100).iplot(kind=\"bar\", \n",
    "                            #figsize=(10,7), \n",
    "                            layout = dict(title=\"AP Subject Matters, normalized count in %\",\n",
    "                                          xaxis=dict(automargin=True), hovermode=\"x\", height=600, width=1000))"
   ]
  },
  {
   "cell_type": "markdown",
   "metadata": {},
   "source": [
    "Schools with high share of AP takers and low SATs offer a limited selection of courses. They mainly focus on history and literature; surprisingly English literature and composition is highly enrolled. "
   ]
  },
  {
   "cell_type": "markdown",
   "metadata": {},
   "source": [
    "# NYC Housing Data "
   ]
  },
  {
   "cell_type": "markdown",
   "metadata": {},
   "source": [
    "Read-in property sales data from 'NYC Open Data'-server following API documentation found on: https://dev.socrata.com/foundry/data.cityofnewyork.us/5ebm-myj7"
   ]
  },
  {
   "cell_type": "code",
   "execution_count": 27,
   "metadata": {},
   "outputs": [
    {
     "name": "stderr",
     "output_type": "stream",
     "text": [
      "WARNING:root:Requests made without an app_token will be subject to strict throttling limits.\n"
     ]
    },
    {
     "data": {
      "text/html": [
       "<div>\n",
       "<style scoped>\n",
       "    .dataframe tbody tr th:only-of-type {\n",
       "        vertical-align: middle;\n",
       "    }\n",
       "\n",
       "    .dataframe tbody tr th {\n",
       "        vertical-align: top;\n",
       "    }\n",
       "\n",
       "    .dataframe thead th {\n",
       "        text-align: right;\n",
       "    }\n",
       "</style>\n",
       "<table border=\"1\" class=\"dataframe\">\n",
       "  <thead>\n",
       "    <tr style=\"text-align: right;\">\n",
       "      <th></th>\n",
       "      <th>average_sale_price</th>\n",
       "      <th>borough</th>\n",
       "      <th>highest_sale_price</th>\n",
       "      <th>lowest_sale_price</th>\n",
       "      <th>median_sale_price</th>\n",
       "      <th>neighborhood</th>\n",
       "      <th>number_of_sales</th>\n",
       "      <th>type_of_home</th>\n",
       "      <th>year</th>\n",
       "    </tr>\n",
       "  </thead>\n",
       "  <tbody>\n",
       "    <tr>\n",
       "      <th>0</th>\n",
       "      <td>593362</td>\n",
       "      <td>MANHATTAN</td>\n",
       "      <td>593362.00</td>\n",
       "      <td>593362</td>\n",
       "      <td>593362</td>\n",
       "      <td>ALPHABET CITY</td>\n",
       "      <td>1</td>\n",
       "      <td>01 ONE FAMILY HOMES</td>\n",
       "      <td>2010</td>\n",
       "    </tr>\n",
       "    <tr>\n",
       "      <th>1</th>\n",
       "      <td>1320000</td>\n",
       "      <td>MANHATTAN</td>\n",
       "      <td>1320000.00</td>\n",
       "      <td>1320000</td>\n",
       "      <td>1320000</td>\n",
       "      <td>ALPHABET CITY</td>\n",
       "      <td>1</td>\n",
       "      <td>02 TWO FAMILY HOMES</td>\n",
       "      <td>2010</td>\n",
       "    </tr>\n",
       "    <tr>\n",
       "      <th>2</th>\n",
       "      <td>900000</td>\n",
       "      <td>MANHATTAN</td>\n",
       "      <td>900000.00</td>\n",
       "      <td>900000</td>\n",
       "      <td>900000</td>\n",
       "      <td>ALPHABET CITY</td>\n",
       "      <td>1</td>\n",
       "      <td>03 THREE FAMILY HOMES</td>\n",
       "      <td>2010</td>\n",
       "    </tr>\n",
       "    <tr>\n",
       "      <th>3</th>\n",
       "      <td>2875000</td>\n",
       "      <td>MANHATTAN</td>\n",
       "      <td>5250000.00</td>\n",
       "      <td>500000</td>\n",
       "      <td>2875000</td>\n",
       "      <td>CHELSEA</td>\n",
       "      <td>2</td>\n",
       "      <td>01 ONE FAMILY HOMES</td>\n",
       "      <td>2010</td>\n",
       "    </tr>\n",
       "    <tr>\n",
       "      <th>4</th>\n",
       "      <td>2603107</td>\n",
       "      <td>MANHATTAN</td>\n",
       "      <td>3900000.00</td>\n",
       "      <td>1306213</td>\n",
       "      <td>2603107</td>\n",
       "      <td>CHELSEA</td>\n",
       "      <td>2</td>\n",
       "      <td>02 TWO FAMILY HOMES</td>\n",
       "      <td>2010</td>\n",
       "    </tr>\n",
       "  </tbody>\n",
       "</table>\n",
       "</div>"
      ],
      "text/plain": [
       "  average_sale_price    borough highest_sale_price lowest_sale_price  \\\n",
       "0             593362  MANHATTAN          593362.00            593362   \n",
       "1            1320000  MANHATTAN         1320000.00           1320000   \n",
       "2             900000  MANHATTAN          900000.00            900000   \n",
       "3            2875000  MANHATTAN         5250000.00            500000   \n",
       "4            2603107  MANHATTAN         3900000.00           1306213   \n",
       "\n",
       "  median_sale_price   neighborhood number_of_sales           type_of_home  \\\n",
       "0            593362  ALPHABET CITY               1    01 ONE FAMILY HOMES   \n",
       "1           1320000  ALPHABET CITY               1    02 TWO FAMILY HOMES   \n",
       "2            900000  ALPHABET CITY               1  03 THREE FAMILY HOMES   \n",
       "3           2875000        CHELSEA               2    01 ONE FAMILY HOMES   \n",
       "4           2603107        CHELSEA               2    02 TWO FAMILY HOMES   \n",
       "\n",
       "   year  \n",
       "0  2010  \n",
       "1  2010  \n",
       "2  2010  \n",
       "3  2010  \n",
       "4  2010  "
      ]
     },
     "execution_count": 27,
     "metadata": {},
     "output_type": "execute_result"
    }
   ],
   "source": [
    "from sodapy import Socrata\n",
    "\n",
    "housing_data = Socrata(\"data.cityofnewyork.us\", None)\n",
    "df = pd.DataFrame.from_records(housing_data.get(\"5ebm-myj7\", limit=6000))\n",
    "\n",
    "df.head()"
   ]
  },
  {
   "cell_type": "code",
   "execution_count": 28,
   "metadata": {},
   "outputs": [
    {
     "data": {
      "text/plain": [
       "average_sale_price    0\n",
       "borough               0\n",
       "highest_sale_price    0\n",
       "lowest_sale_price     0\n",
       "median_sale_price     0\n",
       "neighborhood          1\n",
       "number_of_sales       0\n",
       "type_of_home          0\n",
       "year                  0\n",
       "dtype: int64"
      ]
     },
     "execution_count": 28,
     "metadata": {},
     "output_type": "execute_result"
    }
   ],
   "source": [
    "df.isnull().sum()"
   ]
  },
  {
   "cell_type": "code",
   "execution_count": 29,
   "metadata": {},
   "outputs": [
    {
     "data": {
      "text/html": [
       "<div>\n",
       "<style scoped>\n",
       "    .dataframe tbody tr th:only-of-type {\n",
       "        vertical-align: middle;\n",
       "    }\n",
       "\n",
       "    .dataframe tbody tr th {\n",
       "        vertical-align: top;\n",
       "    }\n",
       "\n",
       "    .dataframe thead th {\n",
       "        text-align: right;\n",
       "    }\n",
       "</style>\n",
       "<table border=\"1\" class=\"dataframe\">\n",
       "  <thead>\n",
       "    <tr style=\"text-align: right;\">\n",
       "      <th></th>\n",
       "      <th>average_sale_price</th>\n",
       "      <th>borough</th>\n",
       "      <th>highest_sale_price</th>\n",
       "      <th>lowest_sale_price</th>\n",
       "      <th>median_sale_price</th>\n",
       "      <th>neighborhood</th>\n",
       "      <th>number_of_sales</th>\n",
       "      <th>type_of_home</th>\n",
       "      <th>year</th>\n",
       "    </tr>\n",
       "  </thead>\n",
       "  <tbody>\n",
       "    <tr>\n",
       "      <th>count</th>\n",
       "      <td>5979</td>\n",
       "      <td>5979</td>\n",
       "      <td>5979</td>\n",
       "      <td>5979</td>\n",
       "      <td>5979</td>\n",
       "      <td>5978</td>\n",
       "      <td>5979</td>\n",
       "      <td>5979</td>\n",
       "      <td>5979</td>\n",
       "    </tr>\n",
       "    <tr>\n",
       "      <th>unique</th>\n",
       "      <td>5625</td>\n",
       "      <td>5</td>\n",
       "      <td>2246</td>\n",
       "      <td>1588</td>\n",
       "      <td>2426</td>\n",
       "      <td>249</td>\n",
       "      <td>277</td>\n",
       "      <td>9</td>\n",
       "      <td>10</td>\n",
       "    </tr>\n",
       "    <tr>\n",
       "      <th>top</th>\n",
       "      <td>700000</td>\n",
       "      <td>BROOKLYN</td>\n",
       "      <td>1200000.00</td>\n",
       "      <td>200000</td>\n",
       "      <td>450000</td>\n",
       "      <td>SUNNYSIDE</td>\n",
       "      <td>1</td>\n",
       "      <td>01 ONE FAMILY HOMES</td>\n",
       "      <td>2013</td>\n",
       "    </tr>\n",
       "    <tr>\n",
       "      <th>freq</th>\n",
       "      <td>10</td>\n",
       "      <td>1673</td>\n",
       "      <td>53</td>\n",
       "      <td>712</td>\n",
       "      <td>58</td>\n",
       "      <td>57</td>\n",
       "      <td>546</td>\n",
       "      <td>1958</td>\n",
       "      <td>611</td>\n",
       "    </tr>\n",
       "  </tbody>\n",
       "</table>\n",
       "</div>"
      ],
      "text/plain": [
       "       average_sale_price   borough highest_sale_price lowest_sale_price  \\\n",
       "count                5979      5979               5979              5979   \n",
       "unique               5625         5               2246              1588   \n",
       "top                700000  BROOKLYN         1200000.00            200000   \n",
       "freq                   10      1673                 53               712   \n",
       "\n",
       "       median_sale_price neighborhood number_of_sales         type_of_home  \\\n",
       "count               5979         5978            5979                 5979   \n",
       "unique              2426          249             277                    9   \n",
       "top               450000    SUNNYSIDE               1  01 ONE FAMILY HOMES   \n",
       "freq                  58           57             546                 1958   \n",
       "\n",
       "        year  \n",
       "count   5979  \n",
       "unique    10  \n",
       "top     2013  \n",
       "freq     611  "
      ]
     },
     "execution_count": 29,
     "metadata": {},
     "output_type": "execute_result"
    }
   ],
   "source": [
    "df.describe()"
   ]
  },
  {
   "cell_type": "code",
   "execution_count": 30,
   "metadata": {},
   "outputs": [
    {
     "data": {
      "text/plain": [
       "average_sale_price    object\n",
       "borough               object\n",
       "highest_sale_price    object\n",
       "lowest_sale_price     object\n",
       "median_sale_price     object\n",
       "neighborhood          object\n",
       "number_of_sales       object\n",
       "type_of_home          object\n",
       "year                  object\n",
       "dtype: object"
      ]
     },
     "execution_count": 30,
     "metadata": {},
     "output_type": "execute_result"
    }
   ],
   "source": [
    "df.dtypes"
   ]
  },
  {
   "cell_type": "code",
   "execution_count": 31,
   "metadata": {},
   "outputs": [],
   "source": [
    "#Need to change data types to numeric for analysis \n",
    "\n",
    "num_cols = df.loc[:,[\"number_of_sales\", \"year\"]].columns.to_list()\n",
    "\n",
    "for col in num_cols:\n",
    "    df[col] = pd.to_numeric(df[col], errors = 'coerce')\n",
    "    \n"
   ]
  },
  {
   "cell_type": "code",
   "execution_count": 32,
   "metadata": {},
   "outputs": [
    {
     "data": {
      "text/plain": [
       "average_sale_price    object\n",
       "borough               object\n",
       "highest_sale_price    object\n",
       "lowest_sale_price     object\n",
       "median_sale_price     object\n",
       "neighborhood          object\n",
       "number_of_sales        int64\n",
       "type_of_home          object\n",
       "year                   int64\n",
       "dtype: object"
      ]
     },
     "execution_count": 32,
     "metadata": {},
     "output_type": "execute_result"
    }
   ],
   "source": [
    "#Check to confirm cols are the correct datatypes\n",
    "df.dtypes"
   ]
  },
  {
   "cell_type": "code",
   "execution_count": 33,
   "metadata": {},
   "outputs": [
    {
     "data": {
      "text/plain": [
       "01 ONE FAMILY HOMES          1958\n",
       "02 TWO FAMILY HOMES          1927\n",
       "03 THREE FAMILY HOMES        1439\n",
       "01 ONE FAMILY DWELLINGS       221\n",
       "02 TWO FAMILY DWELLINGS       215\n",
       "03 THREE FAMILY DWELLINGS     162\n",
       "01  ONE FAMILY HOMES           23\n",
       "02  TWO FAMILY HOMES           18\n",
       "03  THREE FAMILY HOMES         16\n",
       "Name: type_of_home, dtype: int64"
      ]
     },
     "execution_count": 33,
     "metadata": {},
     "output_type": "execute_result"
    }
   ],
   "source": [
    "#Upon looking at te=ge home type, there are several iterations of 1,2, and 3 family homes. Let's write a function to consolidate in three types only.\n",
    "df['type_of_home'].value_counts()"
   ]
  },
  {
   "cell_type": "code",
   "execution_count": 34,
   "metadata": {},
   "outputs": [],
   "source": [
    "def home_type(h):\n",
    "    if \"01\" in h:\n",
    "        return \"One Family House\"\n",
    "    elif \"02\" in h:\n",
    "        return \"Two Family House\"\n",
    "    elif \"03\" in h:\n",
    "        return \"Three Family House\"\n",
    "    else:\n",
    "        \"Error occurred\"\n",
    "df['type_of_home'] = df['type_of_home'].apply(home_type)\n",
    "\n"
   ]
  },
  {
   "cell_type": "code",
   "execution_count": 35,
   "metadata": {},
   "outputs": [],
   "source": [
    "#Vrtify that we consolidated into only three categories. \n",
    "home_types = df['type_of_home'].value_counts()"
   ]
  },
  {
   "cell_type": "code",
   "execution_count": 39,
   "metadata": {},
   "outputs": [
    {
     "data": {
      "text/html": [
       "<div>\n",
       "<style scoped>\n",
       "    .dataframe tbody tr th:only-of-type {\n",
       "        vertical-align: middle;\n",
       "    }\n",
       "\n",
       "    .dataframe tbody tr th {\n",
       "        vertical-align: top;\n",
       "    }\n",
       "\n",
       "    .dataframe thead th {\n",
       "        text-align: right;\n",
       "    }\n",
       "</style>\n",
       "<table border=\"1\" class=\"dataframe\">\n",
       "  <thead>\n",
       "    <tr style=\"text-align: right;\">\n",
       "      <th></th>\n",
       "      <th>average_sale_price</th>\n",
       "      <th>number_of_sales</th>\n",
       "      <th>year</th>\n",
       "    </tr>\n",
       "  </thead>\n",
       "  <tbody>\n",
       "    <tr>\n",
       "      <th>count</th>\n",
       "      <td>5.979000e+03</td>\n",
       "      <td>5979.000000</td>\n",
       "      <td>5979.000000</td>\n",
       "    </tr>\n",
       "    <tr>\n",
       "      <th>mean</th>\n",
       "      <td>1.207115e+06</td>\n",
       "      <td>35.560462</td>\n",
       "      <td>2014.520990</td>\n",
       "    </tr>\n",
       "    <tr>\n",
       "      <th>std</th>\n",
       "      <td>1.989597e+06</td>\n",
       "      <td>50.761453</td>\n",
       "      <td>2.860365</td>\n",
       "    </tr>\n",
       "    <tr>\n",
       "      <th>min</th>\n",
       "      <td>1.675000e+05</td>\n",
       "      <td>1.000000</td>\n",
       "      <td>2010.000000</td>\n",
       "    </tr>\n",
       "    <tr>\n",
       "      <th>25%</th>\n",
       "      <td>4.535140e+05</td>\n",
       "      <td>5.000000</td>\n",
       "      <td>2012.000000</td>\n",
       "    </tr>\n",
       "    <tr>\n",
       "      <th>50%</th>\n",
       "      <td>6.240080e+05</td>\n",
       "      <td>16.000000</td>\n",
       "      <td>2015.000000</td>\n",
       "    </tr>\n",
       "    <tr>\n",
       "      <th>75%</th>\n",
       "      <td>9.626070e+05</td>\n",
       "      <td>46.000000</td>\n",
       "      <td>2017.000000</td>\n",
       "    </tr>\n",
       "    <tr>\n",
       "      <th>max</th>\n",
       "      <td>2.689300e+07</td>\n",
       "      <td>519.000000</td>\n",
       "      <td>2019.000000</td>\n",
       "    </tr>\n",
       "  </tbody>\n",
       "</table>\n",
       "</div>"
      ],
      "text/plain": [
       "       average_sale_price  number_of_sales         year\n",
       "count        5.979000e+03      5979.000000  5979.000000\n",
       "mean         1.207115e+06        35.560462  2014.520990\n",
       "std          1.989597e+06        50.761453     2.860365\n",
       "min          1.675000e+05         1.000000  2010.000000\n",
       "25%          4.535140e+05         5.000000  2012.000000\n",
       "50%          6.240080e+05        16.000000  2015.000000\n",
       "75%          9.626070e+05        46.000000  2017.000000\n",
       "max          2.689300e+07       519.000000  2019.000000"
      ]
     },
     "execution_count": 39,
     "metadata": {},
     "output_type": "execute_result"
    }
   ],
   "source": [
    "df.describe()"
   ]
  },
  {
   "cell_type": "code",
   "execution_count": 37,
   "metadata": {},
   "outputs": [
    {
     "data": {
      "text/plain": [
       "Text(0.5, 0, 'Borough')"
      ]
     },
     "execution_count": 37,
     "metadata": {},
     "output_type": "execute_result"
    },
    {
     "data": {
      "image/png": "[encoded data removed]",
      "text/plain": [
       "<Figure size 720x432 with 1 Axes>"
      ]
     },
     "metadata": {
      "needs_background": "light"
     },
     "output_type": "display_data"
    }
   ],
   "source": [
    "#Changed object to int for analysis \n",
    "df['average_sale_price'] = df['average_sale_price'].astype(int)\n",
    "\n",
    "avg_price_borough = df.pivot_table(columns='type_of_home', index='borough', values=\"average_sale_price\", aggfunc= np.mean)\n",
    "ax = avg_price_borough.plot(kind='bar', title=\"Average sales of home type by borough\", figsize=(10,6))\n",
    "\n",
    "ax.set_title('Average sales of home type by borough',fontsize= 18) # title of plot\n",
    "\n",
    "ax.set_xticklabels(labels = [\"Bronx\", \"Brooklyn\", \"Manhattan\", \"Queens\", \"Staten Island\"],rotation=45, fontsize=12) # Adjusted tick labels \n",
    "ax.set_ylabel(\"Average Sales Price ($)\", fontsize=10)\n",
    "ax.set_xlabel(\"Borough\", fontsize=10)"
   ]
  },
  {
   "cell_type": "code",
   "execution_count": 38,
   "metadata": {},
   "outputs": [
    {
     "data": {
      "image/png": "[encoded data removed]",
      "text/plain": [
       "<Figure size 720x432 with 1 Axes>"
      ]
     },
     "metadata": {
      "needs_background": "light"
     },
     "output_type": "display_data"
    }
   ],
   "source": [
    "# Used pivot_table to create multi index so we want to access the number of sales per year of each house hold type \n",
    "\n",
    "pivot = df.pivot_table(columns='type_of_home', index='year', values=\"number_of_sales\", aggfunc= sum)\n",
    "\n",
    "#Used Seaborn library for visualizations \n",
    "\n",
    "ax = pivot.plot(kind='bar', title=\"Number of sales per year by home type\", figsize=(10,6))\n",
    "ax.set_xticklabels(labels = [\"2010\", \"2011\",\"2012\",\"2013\",\"2014\",\"2015\",\"2016\",\"2017\",\"2018\",\"2019\",],rotation=45, fontsize=12) # Adjusted tick labels \n",
    "\n",
    "#Edit the spines for better visibility \n",
    "ax.spines['right'].set_visible(False)\n",
    "ax.spines['top'].set_visible(False)\n",
    "#Move the legend off the graph for better visuals\n",
    "plt.legend(bbox_to_anchor=(1,1))\n",
    "plt.show()"
   ]
  },
  {
   "cell_type": "markdown",
   "metadata": {},
   "source": [
    "To no surprise, 1 family homes are the most common types of property sold. "
   ]
  },
  {
   "cell_type": "code",
   "execution_count": 60,
   "metadata": {},
   "outputs": [
    {
     "data": {
      "text/html": [
       "<div>\n",
       "<style scoped>\n",
       "    .dataframe tbody tr th:only-of-type {\n",
       "        vertical-align: middle;\n",
       "    }\n",
       "\n",
       "    .dataframe tbody tr th {\n",
       "        vertical-align: top;\n",
       "    }\n",
       "\n",
       "    .dataframe thead th {\n",
       "        text-align: right;\n",
       "    }\n",
       "</style>\n",
       "<table border=\"1\" class=\"dataframe\">\n",
       "  <thead>\n",
       "    <tr style=\"text-align: right;\">\n",
       "      <th></th>\n",
       "      <th>neighborhood</th>\n",
       "      <th>avg_sale_price</th>\n",
       "      <th>sales_per_year</th>\n",
       "      <th>_merge</th>\n",
       "    </tr>\n",
       "  </thead>\n",
       "  <tbody>\n",
       "    <tr>\n",
       "      <th>0</th>\n",
       "      <td>AIRPORT LA GUARDIA</td>\n",
       "      <td>6.674923e+05</td>\n",
       "      <td>2.8</td>\n",
       "      <td>both</td>\n",
       "    </tr>\n",
       "    <tr>\n",
       "      <th>1</th>\n",
       "      <td>ALPHABET CITY</td>\n",
       "      <td>3.580997e+06</td>\n",
       "      <td>1.4</td>\n",
       "      <td>both</td>\n",
       "    </tr>\n",
       "    <tr>\n",
       "      <th>2</th>\n",
       "      <td>ANNADALE</td>\n",
       "      <td>6.818096e+05</td>\n",
       "      <td>99.4</td>\n",
       "      <td>both</td>\n",
       "    </tr>\n",
       "    <tr>\n",
       "      <th>3</th>\n",
       "      <td>ARDEN HEIGHTS</td>\n",
       "      <td>4.553873e+05</td>\n",
       "      <td>171.4</td>\n",
       "      <td>both</td>\n",
       "    </tr>\n",
       "    <tr>\n",
       "      <th>4</th>\n",
       "      <td>ARROCHAR</td>\n",
       "      <td>4.997203e+05</td>\n",
       "      <td>17.4</td>\n",
       "      <td>both</td>\n",
       "    </tr>\n",
       "  </tbody>\n",
       "</table>\n",
       "</div>"
      ],
      "text/plain": [
       "         neighborhood  avg_sale_price  sales_per_year _merge\n",
       "0  AIRPORT LA GUARDIA    6.674923e+05             2.8   both\n",
       "1       ALPHABET CITY    3.580997e+06             1.4   both\n",
       "2            ANNADALE    6.818096e+05            99.4   both\n",
       "3       ARDEN HEIGHTS    4.553873e+05           171.4   both\n",
       "4            ARROCHAR    4.997203e+05            17.4   both"
      ]
     },
     "execution_count": 60,
     "metadata": {},
     "output_type": "execute_result"
    }
   ],
   "source": [
    "# calculate average price per neighborhood\n",
    "ofh_price = df.groupby([\"neighborhood\"]).mean().reset_index().drop(columns=[\"year\",\"number_of_sales\"])\n",
    "ofh_price.rename(inplace=True, columns={\"average_sale_price\":\"avg_sale_price\"})\n",
    "\n",
    "\n",
    "# calculate average number of sales per year per neighborhood\n",
    "\n",
    "ofh_num_sales = df.groupby([\"neighborhood\"]).sum().reset_index().drop(columns=[\"year\",\"average_sale_price\"])\n",
    "ofh_num_sales[\"sales_per_year\"] = ofh_num_sales[\"number_of_sales\"]/len(df[\"year\"].unique())\n",
    "ofh_num_sales.drop(inplace=True,columns=\"number_of_sales\")\n",
    "\n",
    "# Merge the two Series \n",
    "ofh = pd.merge(left=ofh_price, right=ofh_num_sales, on=\"neighborhood\", indicator=True)\n",
    "ofh.head()"
   ]
  },
  {
   "cell_type": "code",
   "execution_count": 63,
   "metadata": {},
   "outputs": [
    {
     "data": {
      "application/vnd.plotly.v1+json": {
       "config": {
        "plotlyServerURL": "https://plot.ly"
       },
       "data": [
        {
         "histfunc": "count",
         "histnorm": "",
         "marker": {
          "color": "rgba(255, 153, 51, 1.0)",
          "line": {
           "color": "#4D5663",
           "width": 1.3
          }
         },
         "name": "avg_sale_price",
         "nbinsx": 50,
         "opacity": 0.8,
         "orientation": "v",
         "type": "histogram",
         "x": [
          667492.3076923077,
          3580997.25,
          681809.5909090909,
          455387.3333333333,
          499720.2916666667,
          515582.8181818182,
          459263.13333333336,
          911716.5,
          906280.7666666667,
          391304.3,
          996188.3,
          434014.3,
          901565.9,
          493715.7,
          889224.2333333333,
          932612.64,
          760132.0714285715,
          560234.4827586206,
          431973.7037037037,
          934353.1666666666,
          675993.6,
          7399950,
          2499897.8666666667,
          1019572.4666666667,
          486969.5,
          676394.6666666666,
          596013.5666666667,
          414227.2105263158,
          425416.6666666667,
          435063.63333333336,
          5081597.586206896,
          2493584.375,
          476507.2,
          459499.8333333333,
          700004.6,
          701870.3,
          408174.05,
          479393.1666666667,
          2496060.1666666665,
          434830.63333333336,
          489107.39130434784,
          6102886.76,
          4602500,
          495725.95652173914,
          1141659.75,
          3735023.25,
          1837769.3,
          545516.619047619,
          401142.85714285716,
          3271053.9,
          1688972.1785714286,
          727234.9,
          343790.6,
          308875.6,
          510328.4482758621,
          719867.6333333333,
          551869.9,
          421560.03571428574,
          879386.9,
          472926.86666666664,
          576671.1785714285,
          717874.3846153846,
          391348.9166666667,
          956234.4,
          2104337.75,
          4410169.6875,
          1717812.5,
          954341.3,
          628731.5333333333,
          437182.93333333335,
          413358.2,
          5038927.588235294,
          811177.4,
          531714.1428571428,
          784206.8333333334,
          715323.5666666667,
          1950000,
          1131654.105263158,
          919090.4,
          515822.6666666667,
          1060126.8,
          526078.6666666666,
          12000000,
          513845.8275862069,
          628780.4333333333,
          1050000,
          920041.2666666667,
          813357.2,
          448843.3076923077,
          984114.4137931034,
          2053956.5172413792,
          312513,
          819106.8181818182,
          447190.90476190473,
          650770,
          652928.4,
          1462281.2666666666,
          6185499.625,
          564473.7826086957,
          583847.1428571428,
          815854.3666666667,
          533321.1153846154,
          507968.45,
          1341882.6,
          11014578.409090908,
          8631251.733333332,
          515986.4761904762,
          411590.6,
          1884442.9666666666,
          1656557.0740740742,
          1724461.1379310344,
          1073782,
          466768.86666666664,
          637622.2083333334,
          489210.63333333336,
          815971,
          714265.2608695652,
          609265.9666666667,
          664329.5238095238,
          434571.1818181818,
          709331.5,
          725048,
          613558.3333333334,
          404156.15,
          896350.6,
          669373.4137931034,
          6100000,
          956322.7931034482,
          759401.9,
          466862.4666666667,
          551534.8333333334,
          4623750,
          443896.57692307694,
          9418680,
          932165.1481481482,
          451190.82608695654,
          1068991.3,
          3483500,
          859246.1666666666,
          1323479.76,
          2924188.2,
          541169.2272727273,
          639757.2,
          359496.18518518517,
          666965.2333333333,
          451391.4827586207,
          717767.2,
          489907.3076923077,
          6173865.826086956,
          8800000,
          945973.3,
          838871.1818181818,
          476855.9666666667,
          431749.6,
          468411.3103448276,
          484289.7586206897,
          4118775.227272727,
          911986.9583333334,
          946506.8333333334,
          379925.8333333333,
          700000,
          551470,
          397997.5652173913,
          589258.9523809524,
          553802.25,
          964416.5,
          558068.05,
          551073.0952380953,
          608423.1333333333,
          1122108.7666666666,
          1327224.5666666667,
          535427.6,
          516498.06666666665,
          2750328,
          1618722.8,
          442032.43333333335,
          531242.1538461539,
          495192.3333333333,
          524109.3333333333,
          789275.5714285715,
          357260.1,
          355126.68,
          654705.1904761905,
          1992401.6896551724,
          510171.7,
          823333.3333333334,
          1269056.9642857143,
          879674.9,
          521808.6666666667,
          626396.3157894737,
          885266.3636363636,
          694401.1666666666,
          847388.9666666667,
          512506.8,
          467289.8214285714,
          468148.06666666665,
          579372.8,
          562649.1363636364,
          805000,
          851045.3157894737,
          497916.93333333335,
          616964.2857142857,
          725900.4333333333,
          579185.0952380953,
          428133.63333333336,
          7600380.142857143,
          412874.9666666667,
          513236.1724137931,
          427827.63333333336,
          470144.36666666664,
          4884366.166666667,
          428627.06666666665,
          465930.5,
          422703.8620689655,
          381293.6206896552,
          443317.09523809527,
          669690.4,
          706096.2631578947,
          984350,
          490314.8333333333,
          1422288,
          437966.96153846156,
          621705.4782608695,
          466781.6666666667,
          11533358,
          10680226.2,
          8118564.413793104,
          9105823.32,
          6512550.310344827,
          5923818.75,
          419212.36666666664,
          1148398.44,
          835995,
          409564.5,
          476942,
          518522,
          902592.3666666667,
          419587.86666666664,
          1032008.5769230769,
          1399257.1666666667,
          2248991.206896552,
          1714281.5833333333,
          523914.125,
          1365106.8666666667,
          515363.76666666666,
          498169.8275862069,
          564217.95,
          772087.2333333333,
          750441.7586206896
         ]
        }
       ],
       "layout": {
        "barmode": "overlay",
        "legend": {
         "bgcolor": "#F5F6F9",
         "font": {
          "color": "#4D5663"
         }
        },
        "paper_bgcolor": "#F5F6F9",
        "plot_bgcolor": "#F5F6F9",
        "template": {
         "data": {
          "bar": [
           {
            "error_x": {
             "color": "#2a3f5f"
            },
            "error_y": {
             "color": "#2a3f5f"
            },
            "marker": {
             "line": {
              "color": "#E5ECF6",
              "width": 0.5
             }
            },
            "type": "bar"
           }
          ],
          "barpolar": [
           {
            "marker": {
             "line": {
              "color": "#E5ECF6",
              "width": 0.5
             }
            },
            "type": "barpolar"
           }
          ],
          "carpet": [
           {
            "aaxis": {
             "endlinecolor": "#2a3f5f",
             "gridcolor": "white",
             "linecolor": "white",
             "minorgridcolor": "white",
             "startlinecolor": "#2a3f5f"
            },
            "baxis": {
             "endlinecolor": "#2a3f5f",
             "gridcolor": "white",
             "linecolor": "white",
             "minorgridcolor": "white",
             "startlinecolor": "#2a3f5f"
            },
            "type": "carpet"
           }
          ],
          "choropleth": [
           {
            "colorbar": {
             "outlinewidth": 0,
             "ticks": ""
            },
            "type": "choropleth"
           }
          ],
          "contour": [
           {
            "colorbar": {
             "outlinewidth": 0,
             "ticks": ""
            },
            "colorscale": [
             [
              0,
              "#0d0887"
             ],
             [
              0.1111111111111111,
              "#46039f"
             ],
             [
              0.2222222222222222,
              "#7201a8"
             ],
             [
              0.3333333333333333,
              "#9c179e"
             ],
             [
              0.4444444444444444,
              "#bd3786"
             ],
             [
              0.5555555555555556,
              "#d8576b"
             ],
             [
              0.6666666666666666,
              "#ed7953"
             ],
             [
              0.7777777777777778,
              "#fb9f3a"
             ],
             [
              0.8888888888888888,
              "#fdca26"
             ],
             [
              1,
              "#f0f921"
             ]
            ],
            "type": "contour"
           }
          ],
          "contourcarpet": [
           {
            "colorbar": {
             "outlinewidth": 0,
             "ticks": ""
            },
            "type": "contourcarpet"
           }
          ],
          "heatmap": [
           {
            "colorbar": {
             "outlinewidth": 0,
             "ticks": ""
            },
            "colorscale": [
             [
              0,
              "#0d0887"
             ],
             [
              0.1111111111111111,
              "#46039f"
             ],
             [
              0.2222222222222222,
              "#7201a8"
             ],
             [
              0.3333333333333333,
              "#9c179e"
             ],
             [
              0.4444444444444444,
              "#bd3786"
             ],
             [
              0.5555555555555556,
              "#d8576b"
             ],
             [
              0.6666666666666666,
              "#ed7953"
             ],
             [
              0.7777777777777778,
              "#fb9f3a"
             ],
             [
              0.8888888888888888,
              "#fdca26"
             ],
             [
              1,
              "#f0f921"
             ]
            ],
            "type": "heatmap"
           }
          ],
          "heatmapgl": [
           {
            "colorbar": {
             "outlinewidth": 0,
             "ticks": ""
            },
            "colorscale": [
             [
              0,
              "#0d0887"
             ],
             [
              0.1111111111111111,
              "#46039f"
             ],
             [
              0.2222222222222222,
              "#7201a8"
             ],
             [
              0.3333333333333333,
              "#9c179e"
             ],
             [
              0.4444444444444444,
              "#bd3786"
             ],
             [
              0.5555555555555556,
              "#d8576b"
             ],
             [
              0.6666666666666666,
              "#ed7953"
             ],
             [
              0.7777777777777778,
              "#fb9f3a"
             ],
             [
              0.8888888888888888,
              "#fdca26"
             ],
             [
              1,
              "#f0f921"
             ]
            ],
            "type": "heatmapgl"
           }
          ],
          "histogram": [
           {
            "marker": {
             "colorbar": {
              "outlinewidth": 0,
              "ticks": ""
             }
            },
            "type": "histogram"
           }
          ],
          "histogram2d": [
           {
            "colorbar": {
             "outlinewidth": 0,
             "ticks": ""
            },
            "colorscale": [
             [
              0,
              "#0d0887"
             ],
             [
              0.1111111111111111,
              "#46039f"
             ],
             [
              0.2222222222222222,
              "#7201a8"
             ],
             [
              0.3333333333333333,
              "#9c179e"
             ],
             [
              0.4444444444444444,
              "#bd3786"
             ],
             [
              0.5555555555555556,
              "#d8576b"
             ],
             [
              0.6666666666666666,
              "#ed7953"
             ],
             [
              0.7777777777777778,
              "#fb9f3a"
             ],
             [
              0.8888888888888888,
              "#fdca26"
             ],
             [
              1,
              "#f0f921"
             ]
            ],
            "type": "histogram2d"
           }
          ],
          "histogram2dcontour": [
           {
            "colorbar": {
             "outlinewidth": 0,
             "ticks": ""
            },
            "colorscale": [
             [
              0,
              "#0d0887"
             ],
             [
              0.1111111111111111,
              "#46039f"
             ],
             [
              0.2222222222222222,
              "#7201a8"
             ],
             [
              0.3333333333333333,
              "#9c179e"
             ],
             [
              0.4444444444444444,
              "#bd3786"
             ],
             [
              0.5555555555555556,
              "#d8576b"
             ],
             [
              0.6666666666666666,
              "#ed7953"
             ],
             [
              0.7777777777777778,
              "#fb9f3a"
             ],
             [
              0.8888888888888888,
              "#fdca26"
             ],
             [
              1,
              "#f0f921"
             ]
            ],
            "type": "histogram2dcontour"
           }
          ],
          "mesh3d": [
           {
            "colorbar": {
             "outlinewidth": 0,
             "ticks": ""
            },
            "type": "mesh3d"
           }
          ],
          "parcoords": [
           {
            "line": {
             "colorbar": {
              "outlinewidth": 0,
              "ticks": ""
             }
            },
            "type": "parcoords"
           }
          ],
          "pie": [
           {
            "automargin": true,
            "type": "pie"
           }
          ],
          "scatter": [
           {
            "marker": {
             "colorbar": {
              "outlinewidth": 0,
              "ticks": ""
             }
            },
            "type": "scatter"
           }
          ],
          "scatter3d": [
           {
            "line": {
             "colorbar": {
              "outlinewidth": 0,
              "ticks": ""
             }
            },
            "marker": {
             "colorbar": {
              "outlinewidth": 0,
              "ticks": ""
             }
            },
            "type": "scatter3d"
           }
          ],
          "scattercarpet": [
           {
            "marker": {
             "colorbar": {
              "outlinewidth": 0,
              "ticks": ""
             }
            },
            "type": "scattercarpet"
           }
          ],
          "scattergeo": [
           {
            "marker": {
             "colorbar": {
              "outlinewidth": 0,
              "ticks": ""
             }
            },
            "type": "scattergeo"
           }
          ],
          "scattergl": [
           {
            "marker": {
             "colorbar": {
              "outlinewidth": 0,
              "ticks": ""
             }
            },
            "type": "scattergl"
           }
          ],
          "scattermapbox": [
           {
            "marker": {
             "colorbar": {
              "outlinewidth": 0,
              "ticks": ""
             }
            },
            "type": "scattermapbox"
           }
          ],
          "scatterpolar": [
           {
            "marker": {
             "colorbar": {
              "outlinewidth": 0,
              "ticks": ""
             }
            },
            "type": "scatterpolar"
           }
          ],
          "scatterpolargl": [
           {
            "marker": {
             "colorbar": {
              "outlinewidth": 0,
              "ticks": ""
             }
            },
            "type": "scatterpolargl"
           }
          ],
          "scatterternary": [
           {
            "marker": {
             "colorbar": {
              "outlinewidth": 0,
              "ticks": ""
             }
            },
            "type": "scatterternary"
           }
          ],
          "surface": [
           {
            "colorbar": {
             "outlinewidth": 0,
             "ticks": ""
            },
            "colorscale": [
             [
              0,
              "#0d0887"
             ],
             [
              0.1111111111111111,
              "#46039f"
             ],
             [
              0.2222222222222222,
              "#7201a8"
             ],
             [
              0.3333333333333333,
              "#9c179e"
             ],
             [
              0.4444444444444444,
              "#bd3786"
             ],
             [
              0.5555555555555556,
              "#d8576b"
             ],
             [
              0.6666666666666666,
              "#ed7953"
             ],
             [
              0.7777777777777778,
              "#fb9f3a"
             ],
             [
              0.8888888888888888,
              "#fdca26"
             ],
             [
              1,
              "#f0f921"
             ]
            ],
            "type": "surface"
           }
          ],
          "table": [
           {
            "cells": {
             "fill": {
              "color": "#EBF0F8"
             },
             "line": {
              "color": "white"
             }
            },
            "header": {
             "fill": {
              "color": "#C8D4E3"
             },
             "line": {
              "color": "white"
             }
            },
            "type": "table"
           }
          ]
         },
         "layout": {
          "annotationdefaults": {
           "arrowcolor": "#2a3f5f",
           "arrowhead": 0,
           "arrowwidth": 1
          },
          "coloraxis": {
           "colorbar": {
            "outlinewidth": 0,
            "ticks": ""
           }
          },
          "colorscale": {
           "diverging": [
            [
             0,
             "#8e0152"
            ],
            [
             0.1,
             "#c51b7d"
            ],
            [
             0.2,
             "#de77ae"
            ],
            [
             0.3,
             "#f1b6da"
            ],
            [
             0.4,
             "#fde0ef"
            ],
            [
             0.5,
             "#f7f7f7"
            ],
            [
             0.6,
             "#e6f5d0"
            ],
            [
             0.7,
             "#b8e186"
            ],
            [
             0.8,
             "#7fbc41"
            ],
            [
             0.9,
             "#4d9221"
            ],
            [
             1,
             "#276419"
            ]
           ],
           "sequential": [
            [
             0,
             "#0d0887"
            ],
            [
             0.1111111111111111,
             "#46039f"
            ],
            [
             0.2222222222222222,
             "#7201a8"
            ],
            [
             0.3333333333333333,
             "#9c179e"
            ],
            [
             0.4444444444444444,
             "#bd3786"
            ],
            [
             0.5555555555555556,
             "#d8576b"
            ],
            [
             0.6666666666666666,
             "#ed7953"
            ],
            [
             0.7777777777777778,
             "#fb9f3a"
            ],
            [
             0.8888888888888888,
             "#fdca26"
            ],
            [
             1,
             "#f0f921"
            ]
           ],
           "sequentialminus": [
            [
             0,
             "#0d0887"
            ],
            [
             0.1111111111111111,
             "#46039f"
            ],
            [
             0.2222222222222222,
             "#7201a8"
            ],
            [
             0.3333333333333333,
             "#9c179e"
            ],
            [
             0.4444444444444444,
             "#bd3786"
            ],
            [
             0.5555555555555556,
             "#d8576b"
            ],
            [
             0.6666666666666666,
             "#ed7953"
            ],
            [
             0.7777777777777778,
             "#fb9f3a"
            ],
            [
             0.8888888888888888,
             "#fdca26"
            ],
            [
             1,
             "#f0f921"
            ]
           ]
          },
          "colorway": [
           "#636efa",
           "#EF553B",
           "#00cc96",
           "#ab63fa",
           "#FFA15A",
           "#19d3f3",
           "#FF6692",
           "#B6E880",
           "#FF97FF",
           "#FECB52"
          ],
          "font": {
           "color": "#2a3f5f"
          },
          "geo": {
           "bgcolor": "white",
           "lakecolor": "white",
           "landcolor": "#E5ECF6",
           "showlakes": true,
           "showland": true,
           "subunitcolor": "white"
          },
          "hoverlabel": {
           "align": "left"
          },
          "hovermode": "closest",
          "mapbox": {
           "style": "light"
          },
          "paper_bgcolor": "white",
          "plot_bgcolor": "#E5ECF6",
          "polar": {
           "angularaxis": {
            "gridcolor": "white",
            "linecolor": "white",
            "ticks": ""
           },
           "bgcolor": "#E5ECF6",
           "radialaxis": {
            "gridcolor": "white",
            "linecolor": "white",
            "ticks": ""
           }
          },
          "scene": {
           "xaxis": {
            "backgroundcolor": "#E5ECF6",
            "gridcolor": "white",
            "gridwidth": 2,
            "linecolor": "white",
            "showbackground": true,
            "ticks": "",
            "zerolinecolor": "white"
           },
           "yaxis": {
            "backgroundcolor": "#E5ECF6",
            "gridcolor": "white",
            "gridwidth": 2,
            "linecolor": "white",
            "showbackground": true,
            "ticks": "",
            "zerolinecolor": "white"
           },
           "zaxis": {
            "backgroundcolor": "#E5ECF6",
            "gridcolor": "white",
            "gridwidth": 2,
            "linecolor": "white",
            "showbackground": true,
            "ticks": "",
            "zerolinecolor": "white"
           }
          },
          "shapedefaults": {
           "line": {
            "color": "#2a3f5f"
           }
          },
          "ternary": {
           "aaxis": {
            "gridcolor": "white",
            "linecolor": "white",
            "ticks": ""
           },
           "baxis": {
            "gridcolor": "white",
            "linecolor": "white",
            "ticks": ""
           },
           "bgcolor": "#E5ECF6",
           "caxis": {
            "gridcolor": "white",
            "linecolor": "white",
            "ticks": ""
           }
          },
          "title": {
           "x": 0.05
          },
          "xaxis": {
           "automargin": true,
           "gridcolor": "white",
           "linecolor": "white",
           "ticks": "",
           "title": {
            "standoff": 15
           },
           "zerolinecolor": "white",
           "zerolinewidth": 2
          },
          "yaxis": {
           "automargin": true,
           "gridcolor": "white",
           "linecolor": "white",
           "ticks": "",
           "title": {
            "standoff": 15
           },
           "zerolinecolor": "white",
           "zerolinewidth": 2
          }
         }
        },
        "title": {
         "font": {
          "color": "#4D5663"
         },
         "text": "Count of the average price of one family house"
        },
        "xaxis": {
         "gridcolor": "#E1E5ED",
         "showgrid": true,
         "tickfont": {
          "color": "#4D5663"
         },
         "title": {
          "font": {
           "color": "#4D5663"
          },
          "text": "Average price, USD"
         },
         "zerolinecolor": "#E1E5ED"
        },
        "yaxis": {
         "gridcolor": "#E1E5ED",
         "showgrid": true,
         "tickfont": {
          "color": "#4D5663"
         },
         "title": {
          "font": {
           "color": "#4D5663"
          },
          "text": "Count"
         },
         "zerolinecolor": "#E1E5ED"
        }
       }
      },
      "text/html": [
       "<div>\n",
       "        \n",
       "        \n",
       "            <div id=\"df96cfa3-ca4d-40e6-b146-4a4da37cabdb\" class=\"plotly-graph-div\" style=\"height:525px; width:100%;\"></div>\n",
       "            <script type=\"text/javascript\">\n",
       "                require([\"plotly\"], function(Plotly) {\n",
       "                    window.PLOTLYENV=window.PLOTLYENV || {};\n",
       "                    \n",
       "                if (document.getElementById(\"df96cfa3-ca4d-40e6-b146-4a4da37cabdb\")) {\n",
       "                    Plotly.newPlot(\n",
       "                        'df96cfa3-ca4d-40e6-b146-4a4da37cabdb',\n",
       "                        [{\"histfunc\": \"count\", \"histnorm\": \"\", \"marker\": {\"color\": \"rgba(255, 153, 51, 1.0)\", \"line\": {\"color\": \"#4D5663\", \"width\": 1.3}}, \"name\": \"avg_sale_price\", \"nbinsx\": 50, \"opacity\": 0.8, \"orientation\": \"v\", \"type\": \"histogram\", \"x\": [667492.3076923077, 3580997.25, 681809.5909090909, 455387.3333333333, 499720.2916666667, 515582.8181818182, 459263.13333333336, 911716.5, 906280.7666666667, 391304.3, 996188.3, 434014.3, 901565.9, 493715.7, 889224.2333333333, 932612.64, 760132.0714285715, 560234.4827586206, 431973.7037037037, 934353.1666666666, 675993.6, 7399950.0, 2499897.8666666667, 1019572.4666666667, 486969.5, 676394.6666666666, 596013.5666666667, 414227.2105263158, 425416.6666666667, 435063.63333333336, 5081597.586206896, 2493584.375, 476507.2, 459499.8333333333, 700004.6, 701870.3, 408174.05, 479393.1666666667, 2496060.1666666665, 434830.63333333336, 489107.39130434784, 6102886.76, 4602500.0, 495725.95652173914, 1141659.75, 3735023.25, 1837769.3, 545516.619047619, 401142.85714285716, 3271053.9, 1688972.1785714286, 727234.9, 343790.6, 308875.6, 510328.4482758621, 719867.6333333333, 551869.9, 421560.03571428574, 879386.9, 472926.86666666664, 576671.1785714285, 717874.3846153846, 391348.9166666667, 956234.4, 2104337.75, 4410169.6875, 1717812.5, 954341.3, 628731.5333333333, 437182.93333333335, 413358.2, 5038927.588235294, 811177.4, 531714.1428571428, 784206.8333333334, 715323.5666666667, 1950000.0, 1131654.105263158, 919090.4, 515822.6666666667, 1060126.8, 526078.6666666666, 12000000.0, 513845.8275862069, 628780.4333333333, 1050000.0, 920041.2666666667, 813357.2, 448843.3076923077, 984114.4137931034, 2053956.5172413792, 312513.0, 819106.8181818182, 447190.90476190473, 650770.0, 652928.4, 1462281.2666666666, 6185499.625, 564473.7826086957, 583847.1428571428, 815854.3666666667, 533321.1153846154, 507968.45, 1341882.6, 11014578.409090908, 8631251.733333332, 515986.4761904762, 411590.6, 1884442.9666666666, 1656557.0740740742, 1724461.1379310344, 1073782.0, 466768.86666666664, 637622.2083333334, 489210.63333333336, 815971.0, 714265.2608695652, 609265.9666666667, 664329.5238095238, 434571.1818181818, 709331.5, 725048.0, 613558.3333333334, 404156.15, 896350.6, 669373.4137931034, 6100000.0, 956322.7931034482, 759401.9, 466862.4666666667, 551534.8333333334, 4623750.0, 443896.57692307694, 9418680.0, 932165.1481481482, 451190.82608695654, 1068991.3, 3483500.0, 859246.1666666666, 1323479.76, 2924188.2, 541169.2272727273, 639757.2, 359496.18518518517, 666965.2333333333, 451391.4827586207, 717767.2, 489907.3076923077, 6173865.826086956, 8800000.0, 945973.3, 838871.1818181818, 476855.9666666667, 431749.6, 468411.3103448276, 484289.7586206897, 4118775.227272727, 911986.9583333334, 946506.8333333334, 379925.8333333333, 700000.0, 551470.0, 397997.5652173913, 589258.9523809524, 553802.25, 964416.5, 558068.05, 551073.0952380953, 608423.1333333333, 1122108.7666666666, 1327224.5666666667, 535427.6, 516498.06666666665, 2750328.0, 1618722.8, 442032.43333333335, 531242.1538461539, 495192.3333333333, 524109.3333333333, 789275.5714285715, 357260.1, 355126.68, 654705.1904761905, 1992401.6896551724, 510171.7, 823333.3333333334, 1269056.9642857143, 879674.9, 521808.6666666667, 626396.3157894737, 885266.3636363636, 694401.1666666666, 847388.9666666667, 512506.8, 467289.8214285714, 468148.06666666665, 579372.8, 562649.1363636364, 805000.0, 851045.3157894737, 497916.93333333335, 616964.2857142857, 725900.4333333333, 579185.0952380953, 428133.63333333336, 7600380.142857143, 412874.9666666667, 513236.1724137931, 427827.63333333336, 470144.36666666664, 4884366.166666667, 428627.06666666665, 465930.5, 422703.8620689655, 381293.6206896552, 443317.09523809527, 669690.4, 706096.2631578947, 984350.0, 490314.8333333333, 1422288.0, 437966.96153846156, 621705.4782608695, 466781.6666666667, 11533358.0, 10680226.2, 8118564.413793104, 9105823.32, 6512550.310344827, 5923818.75, 419212.36666666664, 1148398.44, 835995.0, 409564.5, 476942.0, 518522.0, 902592.3666666667, 419587.86666666664, 1032008.5769230769, 1399257.1666666667, 2248991.206896552, 1714281.5833333333, 523914.125, 1365106.8666666667, 515363.76666666666, 498169.8275862069, 564217.95, 772087.2333333333, 750441.7586206896]}],\n",
       "                        {\"barmode\": \"overlay\", \"legend\": {\"bgcolor\": \"#F5F6F9\", \"font\": {\"color\": \"#4D5663\"}}, \"paper_bgcolor\": \"#F5F6F9\", \"plot_bgcolor\": \"#F5F6F9\", \"template\": {\"data\": {\"bar\": [{\"error_x\": {\"color\": \"#2a3f5f\"}, \"error_y\": {\"color\": \"#2a3f5f\"}, \"marker\": {\"line\": {\"color\": \"#E5ECF6\", \"width\": 0.5}}, \"type\": \"bar\"}], \"barpolar\": [{\"marker\": {\"line\": {\"color\": \"#E5ECF6\", \"width\": 0.5}}, \"type\": \"barpolar\"}], \"carpet\": [{\"aaxis\": {\"endlinecolor\": \"#2a3f5f\", \"gridcolor\": \"white\", \"linecolor\": \"white\", \"minorgridcolor\": \"white\", \"startlinecolor\": \"#2a3f5f\"}, \"baxis\": {\"endlinecolor\": \"#2a3f5f\", \"gridcolor\": \"white\", \"linecolor\": \"white\", \"minorgridcolor\": \"white\", \"startlinecolor\": \"#2a3f5f\"}, \"type\": \"carpet\"}], \"choropleth\": [{\"colorbar\": {\"outlinewidth\": 0, \"ticks\": \"\"}, \"type\": \"choropleth\"}], \"contour\": [{\"colorbar\": {\"outlinewidth\": 0, \"ticks\": \"\"}, \"colorscale\": [[0.0, \"#0d0887\"], [0.1111111111111111, \"#46039f\"], [0.2222222222222222, \"#7201a8\"], [0.3333333333333333, \"#9c179e\"], [0.4444444444444444, \"#bd3786\"], [0.5555555555555556, \"#d8576b\"], [0.6666666666666666, \"#ed7953\"], [0.7777777777777778, \"#fb9f3a\"], [0.8888888888888888, \"#fdca26\"], [1.0, \"#f0f921\"]], \"type\": \"contour\"}], \"contourcarpet\": [{\"colorbar\": {\"outlinewidth\": 0, \"ticks\": \"\"}, \"type\": \"contourcarpet\"}], \"heatmap\": [{\"colorbar\": {\"outlinewidth\": 0, \"ticks\": \"\"}, \"colorscale\": [[0.0, \"#0d0887\"], [0.1111111111111111, \"#46039f\"], [0.2222222222222222, \"#7201a8\"], [0.3333333333333333, \"#9c179e\"], [0.4444444444444444, \"#bd3786\"], [0.5555555555555556, \"#d8576b\"], [0.6666666666666666, \"#ed7953\"], [0.7777777777777778, \"#fb9f3a\"], [0.8888888888888888, \"#fdca26\"], [1.0, \"#f0f921\"]], \"type\": \"heatmap\"}], \"heatmapgl\": [{\"colorbar\": {\"outlinewidth\": 0, \"ticks\": \"\"}, \"colorscale\": [[0.0, \"#0d0887\"], [0.1111111111111111, \"#46039f\"], [0.2222222222222222, \"#7201a8\"], [0.3333333333333333, \"#9c179e\"], [0.4444444444444444, \"#bd3786\"], [0.5555555555555556, \"#d8576b\"], [0.6666666666666666, \"#ed7953\"], [0.7777777777777778, \"#fb9f3a\"], [0.8888888888888888, \"#fdca26\"], [1.0, \"#f0f921\"]], \"type\": \"heatmapgl\"}], \"histogram\": [{\"marker\": {\"colorbar\": {\"outlinewidth\": 0, \"ticks\": \"\"}}, \"type\": \"histogram\"}], \"histogram2d\": [{\"colorbar\": {\"outlinewidth\": 0, \"ticks\": \"\"}, \"colorscale\": [[0.0, \"#0d0887\"], [0.1111111111111111, \"#46039f\"], [0.2222222222222222, \"#7201a8\"], [0.3333333333333333, \"#9c179e\"], [0.4444444444444444, \"#bd3786\"], [0.5555555555555556, \"#d8576b\"], [0.6666666666666666, \"#ed7953\"], [0.7777777777777778, \"#fb9f3a\"], [0.8888888888888888, \"#fdca26\"], [1.0, \"#f0f921\"]], \"type\": \"histogram2d\"}], \"histogram2dcontour\": [{\"colorbar\": {\"outlinewidth\": 0, \"ticks\": \"\"}, \"colorscale\": [[0.0, \"#0d0887\"], [0.1111111111111111, \"#46039f\"], [0.2222222222222222, \"#7201a8\"], [0.3333333333333333, \"#9c179e\"], [0.4444444444444444, \"#bd3786\"], [0.5555555555555556, \"#d8576b\"], [0.6666666666666666, \"#ed7953\"], [0.7777777777777778, \"#fb9f3a\"], [0.8888888888888888, \"#fdca26\"], [1.0, \"#f0f921\"]], \"type\": \"histogram2dcontour\"}], \"mesh3d\": [{\"colorbar\": {\"outlinewidth\": 0, \"ticks\": \"\"}, \"type\": \"mesh3d\"}], \"parcoords\": [{\"line\": {\"colorbar\": {\"outlinewidth\": 0, \"ticks\": \"\"}}, \"type\": \"parcoords\"}], \"pie\": [{\"automargin\": true, \"type\": \"pie\"}], \"scatter\": [{\"marker\": {\"colorbar\": {\"outlinewidth\": 0, \"ticks\": \"\"}}, \"type\": \"scatter\"}], \"scatter3d\": [{\"line\": {\"colorbar\": {\"outlinewidth\": 0, \"ticks\": \"\"}}, \"marker\": {\"colorbar\": {\"outlinewidth\": 0, \"ticks\": \"\"}}, \"type\": \"scatter3d\"}], \"scattercarpet\": [{\"marker\": {\"colorbar\": {\"outlinewidth\": 0, \"ticks\": \"\"}}, \"type\": \"scattercarpet\"}], \"scattergeo\": [{\"marker\": {\"colorbar\": {\"outlinewidth\": 0, \"ticks\": \"\"}}, \"type\": \"scattergeo\"}], \"scattergl\": [{\"marker\": {\"colorbar\": {\"outlinewidth\": 0, \"ticks\": \"\"}}, \"type\": \"scattergl\"}], \"scattermapbox\": [{\"marker\": {\"colorbar\": {\"outlinewidth\": 0, \"ticks\": \"\"}}, \"type\": \"scattermapbox\"}], \"scatterpolar\": [{\"marker\": {\"colorbar\": {\"outlinewidth\": 0, \"ticks\": \"\"}}, \"type\": \"scatterpolar\"}], \"scatterpolargl\": [{\"marker\": {\"colorbar\": {\"outlinewidth\": 0, \"ticks\": \"\"}}, \"type\": \"scatterpolargl\"}], \"scatterternary\": [{\"marker\": {\"colorbar\": {\"outlinewidth\": 0, \"ticks\": \"\"}}, \"type\": \"scatterternary\"}], \"surface\": [{\"colorbar\": {\"outlinewidth\": 0, \"ticks\": \"\"}, \"colorscale\": [[0.0, \"#0d0887\"], [0.1111111111111111, \"#46039f\"], [0.2222222222222222, \"#7201a8\"], [0.3333333333333333, \"#9c179e\"], [0.4444444444444444, \"#bd3786\"], [0.5555555555555556, \"#d8576b\"], [0.6666666666666666, \"#ed7953\"], [0.7777777777777778, \"#fb9f3a\"], [0.8888888888888888, \"#fdca26\"], [1.0, \"#f0f921\"]], \"type\": \"surface\"}], \"table\": [{\"cells\": {\"fill\": {\"color\": \"#EBF0F8\"}, \"line\": {\"color\": \"white\"}}, \"header\": {\"fill\": {\"color\": \"#C8D4E3\"}, \"line\": {\"color\": \"white\"}}, \"type\": \"table\"}]}, \"layout\": {\"annotationdefaults\": {\"arrowcolor\": \"#2a3f5f\", \"arrowhead\": 0, \"arrowwidth\": 1}, \"coloraxis\": {\"colorbar\": {\"outlinewidth\": 0, \"ticks\": \"\"}}, \"colorscale\": {\"diverging\": [[0, \"#8e0152\"], [0.1, \"#c51b7d\"], [0.2, \"#de77ae\"], [0.3, \"#f1b6da\"], [0.4, \"#fde0ef\"], [0.5, \"#f7f7f7\"], [0.6, \"#e6f5d0\"], [0.7, \"#b8e186\"], [0.8, \"#7fbc41\"], [0.9, \"#4d9221\"], [1, \"#276419\"]], \"sequential\": [[0.0, \"#0d0887\"], [0.1111111111111111, \"#46039f\"], [0.2222222222222222, \"#7201a8\"], [0.3333333333333333, \"#9c179e\"], [0.4444444444444444, \"#bd3786\"], [0.5555555555555556, \"#d8576b\"], [0.6666666666666666, \"#ed7953\"], [0.7777777777777778, \"#fb9f3a\"], [0.8888888888888888, \"#fdca26\"], [1.0, \"#f0f921\"]], \"sequentialminus\": [[0.0, \"#0d0887\"], [0.1111111111111111, \"#46039f\"], [0.2222222222222222, \"#7201a8\"], [0.3333333333333333, \"#9c179e\"], [0.4444444444444444, \"#bd3786\"], [0.5555555555555556, \"#d8576b\"], [0.6666666666666666, \"#ed7953\"], [0.7777777777777778, \"#fb9f3a\"], [0.8888888888888888, \"#fdca26\"], [1.0, \"#f0f921\"]]}, \"colorway\": [\"#636efa\", \"#EF553B\", \"#00cc96\", \"#ab63fa\", \"#FFA15A\", \"#19d3f3\", \"#FF6692\", \"#B6E880\", \"#FF97FF\", \"#FECB52\"], \"font\": {\"color\": \"#2a3f5f\"}, \"geo\": {\"bgcolor\": \"white\", \"lakecolor\": \"white\", \"landcolor\": \"#E5ECF6\", \"showlakes\": true, \"showland\": true, \"subunitcolor\": \"white\"}, \"hoverlabel\": {\"align\": \"left\"}, \"hovermode\": \"closest\", \"mapbox\": {\"style\": \"light\"}, \"paper_bgcolor\": \"white\", \"plot_bgcolor\": \"#E5ECF6\", \"polar\": {\"angularaxis\": {\"gridcolor\": \"white\", \"linecolor\": \"white\", \"ticks\": \"\"}, \"bgcolor\": \"#E5ECF6\", \"radialaxis\": {\"gridcolor\": \"white\", \"linecolor\": \"white\", \"ticks\": \"\"}}, \"scene\": {\"xaxis\": {\"backgroundcolor\": \"#E5ECF6\", \"gridcolor\": \"white\", \"gridwidth\": 2, \"linecolor\": \"white\", \"showbackground\": true, \"ticks\": \"\", \"zerolinecolor\": \"white\"}, \"yaxis\": {\"backgroundcolor\": \"#E5ECF6\", \"gridcolor\": \"white\", \"gridwidth\": 2, \"linecolor\": \"white\", \"showbackground\": true, \"ticks\": \"\", \"zerolinecolor\": \"white\"}, \"zaxis\": {\"backgroundcolor\": \"#E5ECF6\", \"gridcolor\": \"white\", \"gridwidth\": 2, \"linecolor\": \"white\", \"showbackground\": true, \"ticks\": \"\", \"zerolinecolor\": \"white\"}}, \"shapedefaults\": {\"line\": {\"color\": \"#2a3f5f\"}}, \"ternary\": {\"aaxis\": {\"gridcolor\": \"white\", \"linecolor\": \"white\", \"ticks\": \"\"}, \"baxis\": {\"gridcolor\": \"white\", \"linecolor\": \"white\", \"ticks\": \"\"}, \"bgcolor\": \"#E5ECF6\", \"caxis\": {\"gridcolor\": \"white\", \"linecolor\": \"white\", \"ticks\": \"\"}}, \"title\": {\"x\": 0.05}, \"xaxis\": {\"automargin\": true, \"gridcolor\": \"white\", \"linecolor\": \"white\", \"ticks\": \"\", \"title\": {\"standoff\": 15}, \"zerolinecolor\": \"white\", \"zerolinewidth\": 2}, \"yaxis\": {\"automargin\": true, \"gridcolor\": \"white\", \"linecolor\": \"white\", \"ticks\": \"\", \"title\": {\"standoff\": 15}, \"zerolinecolor\": \"white\", \"zerolinewidth\": 2}}}, \"title\": {\"font\": {\"color\": \"#4D5663\"}, \"text\": \"Count of the average price of one family house\"}, \"xaxis\": {\"gridcolor\": \"#E1E5ED\", \"showgrid\": true, \"tickfont\": {\"color\": \"#4D5663\"}, \"title\": {\"font\": {\"color\": \"#4D5663\"}, \"text\": \"Average price, USD\"}, \"zerolinecolor\": \"#E1E5ED\"}, \"yaxis\": {\"gridcolor\": \"#E1E5ED\", \"showgrid\": true, \"tickfont\": {\"color\": \"#4D5663\"}, \"title\": {\"font\": {\"color\": \"#4D5663\"}, \"text\": \"Count\"}, \"zerolinecolor\": \"#E1E5ED\"}},\n",
       "                        {\"responsive\": true}\n",
       "                    ).then(function(){\n",
       "                            \n",
       "var gd = document.getElementById('df96cfa3-ca4d-40e6-b146-4a4da37cabdb');\n",
       "var x = new MutationObserver(function (mutations, observer) {{\n",
       "        var display = window.getComputedStyle(gd).display;\n",
       "        if (!display || display === 'none') {{\n",
       "            console.log([gd, 'removed!']);\n",
       "            Plotly.purge(gd);\n",
       "            observer.disconnect();\n",
       "        }}\n",
       "}});\n",
       "\n",
       "// Listen for the removal of the full notebook cells\n",
       "var notebookContainer = gd.closest('#notebook-container');\n",
       "if (notebookContainer) {{\n",
       "    x.observe(notebookContainer, {childList: true});\n",
       "}}\n",
       "\n",
       "// Listen for the clearing of the current output cell\n",
       "var outputEl = gd.closest('.output');\n",
       "if (outputEl) {{\n",
       "    x.observe(outputEl, {childList: true});\n",
       "}}\n",
       "\n",
       "                        })\n",
       "                };\n",
       "                });\n",
       "            </script>\n",
       "        </div>"
      ]
     },
     "metadata": {},
     "output_type": "display_data"
    }
   ],
   "source": [
    "# generate histogram for sales per year\n",
    "ofh[\"avg_sale_price\"].iplot(kind=\"histogram\", asFigure=True, bins=50, \n",
    "                            title=\"Count of the average price of one family house\",xTitle='Average price, USD', yTitle='Count')"
   ]
  },
  {
   "cell_type": "markdown",
   "metadata": {},
   "source": [
    "# Reverse geocoding for insightful location features \n",
    "\n",
    "[Reverse geocoding](https://towardsdatascience.com/reverse-geocoding-in-python-a915acf29eb6) is the process of back (reverse) coding of a point location (latitude, longitude) to a readable address or place name. Here's the [documenation](https://blog.batchgeo.com/new-feature-reverse-geocoding/)"
   ]
  },
  {
   "cell_type": "code",
   "execution_count": 45,
   "metadata": {},
   "outputs": [],
   "source": [
    "from geopy.geocoders import Nominatim\n",
    "from geopy.extra.rate_limiter import RateLimiter\n",
    "\n",
    "combined['Coordinates'] = combined['lat'].astype(str) + \",\" + combined['lon'].astype(str)\n",
    "\n",
    "# read documentation https://geopy.readthedocs.io/\n",
    "\n",
    "locater = Nominatim(user_agent=\"geo_for_nyc_housing\", timeout=10)\n",
    "\n",
    "\n",
    "# adding RateLimiter to reduce the load on Geoservice \n",
    "\n",
    "rev_geocode = RateLimiter(locater.reverse, min_delay_seconds=0.2)\n",
    "\n",
    "\n",
    "combined['rev_geocode'] = combined['Coordinates'].apply(rev_geocode)"
   ]
  },
  {
   "cell_type": "code",
   "execution_count": 46,
   "metadata": {},
   "outputs": [
    {
     "data": {
      "text/plain": [
       "0      (Corlears Junior High School, Henry Street, Tw...\n",
       "1      (University Neighborhood High School, 200, Mon...\n",
       "2      (402, East 12th Street, East Village, Manhatta...\n",
       "3      (Lower East Side Preparatory High School, 145,...\n",
       "4      (New Explorations into Science Technology and ...\n",
       "5      (Bard High School Early College, 525, East Hou...\n",
       "6      (School of Visual Arts, East 23rd Street, Gram...\n",
       "7      (517, West 50th Street, Hell's Kitchen, Manhat...\n",
       "8      (350, Grand Street, Lower East Side, Manhattan...\n",
       "9      (517, West 50th Street, Hell's Kitchen, Manhat...\n",
       "10     (94, Hester Street, Chinatown, Manhattan, Manh...\n",
       "11     (517, West 50th Street, Hell's Kitchen, Manhat...\n",
       "12     (517, West 50th Street, Hell's Kitchen, Manhat...\n",
       "13     (350, Grand Street, Lower East Side, Manhattan...\n",
       "14     (350, Grand Street, Lower East Side, Manhattan...\n",
       "15     (HSBC, 26, Broadway, Financial District, Manha...\n",
       "16     (40, Irving Place, Union Square, Manhattan Com...\n",
       "17     (Broome Street, SoHo, Hudson Square, Manhattan...\n",
       "18     (333, West 18th Street, Chelsea, Manhattan, Ma...\n",
       "19     (High School of Graphic Communication Arts, 43...\n",
       "20     (40, Irving Place, Union Square, Manhattan Com...\n",
       "21     (424, West 56th Street, Midtown, Manhattan, Ma...\n",
       "22     (322, West 48th Street, Hell's Kitchen, Manhat...\n",
       "23     (Chelsea Landmark, 55, West 25th Street, Penn ...\n",
       "24     (139, 8th Avenue, Chelsea, Manhattan, Manhatta...\n",
       "25     (139, 8th Avenue, Chelsea, Manhattan, Manhatta...\n",
       "26     (Eleanor Roosevelt High School, 411, East 76th...\n",
       "27     (Duane Reade, 75, Broad Street, Financial Dist...\n",
       "28     (333, West 18th Street, Chelsea, Manhattan, Ma...\n",
       "29     (Old Stuyvesant High School, 345, East 15th St...\n",
       "                             ...                        \n",
       "333    (Springfield Boulevard, Laurelton, Queens, New...\n",
       "334    (Springfield Boulevard, Laurelton, Queens, New...\n",
       "335    (Saint Gerards School, 188-04, 91st Avenue, Ho...\n",
       "336    (116th Avenue, Cambria Heights, Queens, New Yo...\n",
       "337    (116th Avenue, Cambria Heights, Queens, New Yo...\n",
       "338    (The Young Women's Leadership School of Astori...\n",
       "339    (51-02, 21st Street, Long Island City, Queens,...\n",
       "340    (William C Bryant High School, 48-10, 31st Ave...\n",
       "341    (Long Island City High School, 14-30, Broadway...\n",
       "342    (Frank Sinatra School of the Arts, 35-12, 35th...\n",
       "343    (Court Square, 45th Avenue, Long Island City, ...\n",
       "344    (28-04, 41st Avenue, Sunnyside, Queens, New Yo...\n",
       "345    (28-04, 41st Avenue, Sunnyside, Queens, New Yo...\n",
       "346    (Baccalaureate School for Global Education, 34...\n",
       "347    (53, Essex Drive, Heartland Village, Staten Is...\n",
       "348    (53, Essex Drive, Heartland Village, Staten Is...\n",
       "349    (Michael J. Petrides School, Staten Island Bou...\n",
       "350    (465, New Dorp Lane, Todt Hill, Staten Island,...\n",
       "351    (Port Richmond High School, Innis Street, Port...\n",
       "352    (106, Hamilton Avenue, Saint George, Staten Is...\n",
       "353    (100, Luten Avenue, Princes Bay, Staten Island...\n",
       "354    (Susan E. Wagner High School, Mountainview Ave...\n",
       "355    (290, Saint Marks Place, Saint George, Staten ...\n",
       "356    (482, Clawson Street, Oakwood, Todt Hill, Stat...\n",
       "357    (399, Irving Avenue, Bushwick, New York, Brook...\n",
       "358    (1155, DeKalb Avenue, Bushwick, New York, Broo...\n",
       "359    (399, Irving Avenue, Bushwick, New York, Brook...\n",
       "360    (399, Irving Avenue, Bushwick, New York, Brook...\n",
       "361    (324, Palmetto Street, Bushwick, New York, Bro...\n",
       "362    (Bushwick Leaders' High School for Academic Ex...\n",
       "Name: rev_geocode, Length: 363, dtype: object"
      ]
     },
     "execution_count": 46,
     "metadata": {},
     "output_type": "execute_result"
    }
   ],
   "source": [
    "combined['rev_geocode'] "
   ]
  },
  {
   "cell_type": "code",
   "execution_count": 52,
   "metadata": {},
   "outputs": [
    {
     "data": {
      "text/html": [
       "<div>\n",
       "<style scoped>\n",
       "    .dataframe tbody tr th:only-of-type {\n",
       "        vertical-align: middle;\n",
       "    }\n",
       "\n",
       "    .dataframe tbody tr th {\n",
       "        vertical-align: top;\n",
       "    }\n",
       "\n",
       "    .dataframe thead th {\n",
       "        text-align: right;\n",
       "    }\n",
       "</style>\n",
       "<table border=\"1\" class=\"dataframe\">\n",
       "  <thead>\n",
       "    <tr style=\"text-align: right;\">\n",
       "      <th></th>\n",
       "      <th>DBN</th>\n",
       "      <th>SCHOOL NAME</th>\n",
       "      <th>Num of SAT Test Takers</th>\n",
       "      <th>SAT Critical Reading Avg. Score</th>\n",
       "      <th>SAT Math Avg. Score</th>\n",
       "      <th>SAT Writing Avg. Score</th>\n",
       "      <th>sat_score</th>\n",
       "      <th>SchoolName</th>\n",
       "      <th>AP Test Takers</th>\n",
       "      <th>Total Exams Taken</th>\n",
       "      <th>...</th>\n",
       "      <th>lat</th>\n",
       "      <th>lon</th>\n",
       "      <th>school_dist</th>\n",
       "      <th>ap_per</th>\n",
       "      <th>Coordinates</th>\n",
       "      <th>rev_geocode</th>\n",
       "      <th>rev_geo_raw</th>\n",
       "      <th>address_dict</th>\n",
       "      <th>neighborhood</th>\n",
       "      <th>suburb_name</th>\n",
       "    </tr>\n",
       "  </thead>\n",
       "  <tbody>\n",
       "    <tr>\n",
       "      <th>0</th>\n",
       "      <td>01M292</td>\n",
       "      <td>HENRY STREET SCHOOL FOR INTERNATIONAL STUDIES</td>\n",
       "      <td>29</td>\n",
       "      <td>355.0</td>\n",
       "      <td>404.0</td>\n",
       "      <td>363.0</td>\n",
       "      <td>1122.0</td>\n",
       "      <td>0</td>\n",
       "      <td>129.028846</td>\n",
       "      <td>197.038462</td>\n",
       "      <td>...</td>\n",
       "      <td>40.713764</td>\n",
       "      <td>-73.985260</td>\n",
       "      <td>01</td>\n",
       "      <td>30.575556</td>\n",
       "      <td>40.71376394700047,-73.98526003999967</td>\n",
       "      <td>(Corlears Junior High School, Henry Street, Tw...</td>\n",
       "      <td>{'place_id': 171820028, 'licence': 'Data © Ope...</td>\n",
       "      <td>{'amenity': 'Corlears Junior High School', 'ro...</td>\n",
       "      <td>Two Bridges</td>\n",
       "      <td>None</td>\n",
       "    </tr>\n",
       "    <tr>\n",
       "      <th>1</th>\n",
       "      <td>01M448</td>\n",
       "      <td>UNIVERSITY NEIGHBORHOOD HIGH SCHOOL</td>\n",
       "      <td>91</td>\n",
       "      <td>383.0</td>\n",
       "      <td>423.0</td>\n",
       "      <td>366.0</td>\n",
       "      <td>1172.0</td>\n",
       "      <td>UNIVERSITY NEIGHBORHOOD H.S.</td>\n",
       "      <td>39.000000</td>\n",
       "      <td>49.000000</td>\n",
       "      <td>...</td>\n",
       "      <td>40.712332</td>\n",
       "      <td>-73.984797</td>\n",
       "      <td>01</td>\n",
       "      <td>9.898477</td>\n",
       "      <td>40.7123318510005,-73.98479662499966</td>\n",
       "      <td>(University Neighborhood High School, 200, Mon...</td>\n",
       "      <td>{'place_id': 152520497, 'licence': 'Data © Ope...</td>\n",
       "      <td>{'amenity': 'University Neighborhood High Scho...</td>\n",
       "      <td>Lower East Side</td>\n",
       "      <td>None</td>\n",
       "    </tr>\n",
       "    <tr>\n",
       "      <th>2</th>\n",
       "      <td>01M450</td>\n",
       "      <td>EAST SIDE COMMUNITY SCHOOL</td>\n",
       "      <td>70</td>\n",
       "      <td>377.0</td>\n",
       "      <td>402.0</td>\n",
       "      <td>370.0</td>\n",
       "      <td>1149.0</td>\n",
       "      <td>EAST SIDE COMMUNITY HS</td>\n",
       "      <td>19.000000</td>\n",
       "      <td>21.000000</td>\n",
       "      <td>...</td>\n",
       "      <td>40.729783</td>\n",
       "      <td>-73.983041</td>\n",
       "      <td>01</td>\n",
       "      <td>3.177258</td>\n",
       "      <td>40.72978268700047,-73.98304144099967</td>\n",
       "      <td>(402, East 12th Street, East Village, Manhatta...</td>\n",
       "      <td>{'place_id': 146156216, 'licence': 'Data © Ope...</td>\n",
       "      <td>{'house_number': '402', 'road': 'East 12th Str...</td>\n",
       "      <td>East Village</td>\n",
       "      <td>None</td>\n",
       "    </tr>\n",
       "    <tr>\n",
       "      <th>3</th>\n",
       "      <td>01M509</td>\n",
       "      <td>MARTA VALLE HIGH SCHOOL</td>\n",
       "      <td>44</td>\n",
       "      <td>390.0</td>\n",
       "      <td>433.0</td>\n",
       "      <td>384.0</td>\n",
       "      <td>1207.0</td>\n",
       "      <td>0</td>\n",
       "      <td>129.028846</td>\n",
       "      <td>197.038462</td>\n",
       "      <td>...</td>\n",
       "      <td>40.720569</td>\n",
       "      <td>-73.985673</td>\n",
       "      <td>01</td>\n",
       "      <td>35.157724</td>\n",
       "      <td>40.72056907900048,-73.98567269099966</td>\n",
       "      <td>(Lower East Side Preparatory High School, 145,...</td>\n",
       "      <td>{'place_id': 235924867, 'licence': 'Data © Ope...</td>\n",
       "      <td>{'building': 'Lower East Side Preparatory High...</td>\n",
       "      <td>Lower East Side</td>\n",
       "      <td>None</td>\n",
       "    </tr>\n",
       "    <tr>\n",
       "      <th>4</th>\n",
       "      <td>01M539</td>\n",
       "      <td>NEW EXPLORATIONS INTO SCIENCE, TECHNOLOGY AND ...</td>\n",
       "      <td>159</td>\n",
       "      <td>522.0</td>\n",
       "      <td>574.0</td>\n",
       "      <td>525.0</td>\n",
       "      <td>1621.0</td>\n",
       "      <td>NEW EXPLORATIONS SCI,TECH,MATH</td>\n",
       "      <td>255.000000</td>\n",
       "      <td>377.000000</td>\n",
       "      <td>...</td>\n",
       "      <td>40.718725</td>\n",
       "      <td>-73.979426</td>\n",
       "      <td>01</td>\n",
       "      <td>15.809051</td>\n",
       "      <td>40.71872545100047,-73.97942638599966</td>\n",
       "      <td>(New Explorations into Science Technology and ...</td>\n",
       "      <td>{'place_id': 121160849, 'licence': 'Data © Ope...</td>\n",
       "      <td>{'amenity': 'New Explorations into Science Tec...</td>\n",
       "      <td>Lower East Side</td>\n",
       "      <td>None</td>\n",
       "    </tr>\n",
       "    <tr>\n",
       "      <th>5</th>\n",
       "      <td>01M696</td>\n",
       "      <td>BARD HIGH SCHOOL EARLY COLLEGE</td>\n",
       "      <td>130</td>\n",
       "      <td>624.0</td>\n",
       "      <td>604.0</td>\n",
       "      <td>628.0</td>\n",
       "      <td>1856.0</td>\n",
       "      <td>0</td>\n",
       "      <td>129.028846</td>\n",
       "      <td>197.038462</td>\n",
       "      <td>...</td>\n",
       "      <td>40.718962</td>\n",
       "      <td>-73.976066</td>\n",
       "      <td>01</td>\n",
       "      <td>20.912293</td>\n",
       "      <td>40.71896161700045,-73.97606602099967</td>\n",
       "      <td>(Bard High School Early College, 525, East Hou...</td>\n",
       "      <td>{'place_id': 121768242, 'licence': 'Data © Ope...</td>\n",
       "      <td>{'amenity': 'Bard High School Early College', ...</td>\n",
       "      <td>Lower East Side</td>\n",
       "      <td>None</td>\n",
       "    </tr>\n",
       "    <tr>\n",
       "      <th>6</th>\n",
       "      <td>02M047</td>\n",
       "      <td>47 THE AMERICAN SIGN LANGUAGE AND ENGLISH SECO...</td>\n",
       "      <td>16</td>\n",
       "      <td>395.0</td>\n",
       "      <td>400.0</td>\n",
       "      <td>387.0</td>\n",
       "      <td>1182.0</td>\n",
       "      <td>0</td>\n",
       "      <td>129.028846</td>\n",
       "      <td>197.038462</td>\n",
       "      <td>...</td>\n",
       "      <td>40.738599</td>\n",
       "      <td>-73.982512</td>\n",
       "      <td>02</td>\n",
       "      <td>74.154509</td>\n",
       "      <td>40.73859908700047,-73.98251191099969</td>\n",
       "      <td>(School of Visual Arts, East 23rd Street, Gram...</td>\n",
       "      <td>{'place_id': 233493283, 'licence': 'Data © Ope...</td>\n",
       "      <td>{'amenity': 'School of Visual Arts', 'road': '...</td>\n",
       "      <td>Gramercy</td>\n",
       "      <td>None</td>\n",
       "    </tr>\n",
       "    <tr>\n",
       "      <th>7</th>\n",
       "      <td>02M288</td>\n",
       "      <td>FOOD AND FINANCE HIGH SCHOOL</td>\n",
       "      <td>62</td>\n",
       "      <td>409.0</td>\n",
       "      <td>393.0</td>\n",
       "      <td>392.0</td>\n",
       "      <td>1194.0</td>\n",
       "      <td>0</td>\n",
       "      <td>129.028846</td>\n",
       "      <td>197.038462</td>\n",
       "      <td>...</td>\n",
       "      <td>40.765027</td>\n",
       "      <td>-73.992517</td>\n",
       "      <td>02</td>\n",
       "      <td>29.798810</td>\n",
       "      <td>40.765026708000455,-73.99251657799965</td>\n",
       "      <td>(517, West 50th Street, Hell's Kitchen, Manhat...</td>\n",
       "      <td>{'place_id': 28206636, 'licence': 'Data © Open...</td>\n",
       "      <td>{'house_number': '517', 'road': 'West 50th Str...</td>\n",
       "      <td>Hell's Kitchen</td>\n",
       "      <td>None</td>\n",
       "    </tr>\n",
       "    <tr>\n",
       "      <th>8</th>\n",
       "      <td>02M294</td>\n",
       "      <td>ESSEX STREET ACADEMY</td>\n",
       "      <td>53</td>\n",
       "      <td>394.0</td>\n",
       "      <td>384.0</td>\n",
       "      <td>378.0</td>\n",
       "      <td>1156.0</td>\n",
       "      <td>0</td>\n",
       "      <td>129.028846</td>\n",
       "      <td>197.038462</td>\n",
       "      <td>...</td>\n",
       "      <td>40.716867</td>\n",
       "      <td>-73.989532</td>\n",
       "      <td>02</td>\n",
       "      <td>37.617739</td>\n",
       "      <td>40.71686722400045,-73.98953194299962</td>\n",
       "      <td>(350, Grand Street, Lower East Side, Manhattan...</td>\n",
       "      <td>{'place_id': 148425242, 'licence': 'Data © Ope...</td>\n",
       "      <td>{'house_number': '350', 'road': 'Grand Street'...</td>\n",
       "      <td>Lower East Side</td>\n",
       "      <td>None</td>\n",
       "    </tr>\n",
       "    <tr>\n",
       "      <th>9</th>\n",
       "      <td>02M296</td>\n",
       "      <td>HIGH SCHOOL OF HOSPITALITY MANAGEMENT</td>\n",
       "      <td>58</td>\n",
       "      <td>374.0</td>\n",
       "      <td>375.0</td>\n",
       "      <td>362.0</td>\n",
       "      <td>1111.0</td>\n",
       "      <td>High School of Hospitality Management</td>\n",
       "      <td>129.028846</td>\n",
       "      <td>197.038462</td>\n",
       "      <td>...</td>\n",
       "      <td>40.765027</td>\n",
       "      <td>-73.992517</td>\n",
       "      <td>02</td>\n",
       "      <td>30.794474</td>\n",
       "      <td>40.765026708000455,-73.99251657799965</td>\n",
       "      <td>(517, West 50th Street, Hell's Kitchen, Manhat...</td>\n",
       "      <td>{'place_id': 28206636, 'licence': 'Data © Open...</td>\n",
       "      <td>{'house_number': '517', 'road': 'West 50th Str...</td>\n",
       "      <td>Hell's Kitchen</td>\n",
       "      <td>None</td>\n",
       "    </tr>\n",
       "  </tbody>\n",
       "</table>\n",
       "<p>10 rows × 167 columns</p>\n",
       "</div>"
      ],
      "text/plain": [
       "      DBN                                        SCHOOL NAME  \\\n",
       "0  01M292      HENRY STREET SCHOOL FOR INTERNATIONAL STUDIES   \n",
       "1  01M448                UNIVERSITY NEIGHBORHOOD HIGH SCHOOL   \n",
       "2  01M450                         EAST SIDE COMMUNITY SCHOOL   \n",
       "3  01M509                            MARTA VALLE HIGH SCHOOL   \n",
       "4  01M539  NEW EXPLORATIONS INTO SCIENCE, TECHNOLOGY AND ...   \n",
       "5  01M696                     BARD HIGH SCHOOL EARLY COLLEGE   \n",
       "6  02M047  47 THE AMERICAN SIGN LANGUAGE AND ENGLISH SECO...   \n",
       "7  02M288                       FOOD AND FINANCE HIGH SCHOOL   \n",
       "8  02M294                               ESSEX STREET ACADEMY   \n",
       "9  02M296              HIGH SCHOOL OF HOSPITALITY MANAGEMENT   \n",
       "\n",
       "  Num of SAT Test Takers  SAT Critical Reading Avg. Score  \\\n",
       "0                     29                            355.0   \n",
       "1                     91                            383.0   \n",
       "2                     70                            377.0   \n",
       "3                     44                            390.0   \n",
       "4                    159                            522.0   \n",
       "5                    130                            624.0   \n",
       "6                     16                            395.0   \n",
       "7                     62                            409.0   \n",
       "8                     53                            394.0   \n",
       "9                     58                            374.0   \n",
       "\n",
       "   SAT Math Avg. Score  SAT Writing Avg. Score  sat_score  \\\n",
       "0                404.0                   363.0     1122.0   \n",
       "1                423.0                   366.0     1172.0   \n",
       "2                402.0                   370.0     1149.0   \n",
       "3                433.0                   384.0     1207.0   \n",
       "4                574.0                   525.0     1621.0   \n",
       "5                604.0                   628.0     1856.0   \n",
       "6                400.0                   387.0     1182.0   \n",
       "7                393.0                   392.0     1194.0   \n",
       "8                384.0                   378.0     1156.0   \n",
       "9                375.0                   362.0     1111.0   \n",
       "\n",
       "                              SchoolName  AP Test Takers   Total Exams Taken  \\\n",
       "0                                      0       129.028846         197.038462   \n",
       "1           UNIVERSITY NEIGHBORHOOD H.S.        39.000000          49.000000   \n",
       "2                 EAST SIDE COMMUNITY HS        19.000000          21.000000   \n",
       "3                                      0       129.028846         197.038462   \n",
       "4         NEW EXPLORATIONS SCI,TECH,MATH       255.000000         377.000000   \n",
       "5                                      0       129.028846         197.038462   \n",
       "6                                      0       129.028846         197.038462   \n",
       "7                                      0       129.028846         197.038462   \n",
       "8                                      0       129.028846         197.038462   \n",
       "9  High School of Hospitality Management       129.028846         197.038462   \n",
       "\n",
       "   ...        lat        lon school_dist     ap_per  \\\n",
       "0  ...  40.713764 -73.985260          01  30.575556   \n",
       "1  ...  40.712332 -73.984797          01   9.898477   \n",
       "2  ...  40.729783 -73.983041          01   3.177258   \n",
       "3  ...  40.720569 -73.985673          01  35.157724   \n",
       "4  ...  40.718725 -73.979426          01  15.809051   \n",
       "5  ...  40.718962 -73.976066          01  20.912293   \n",
       "6  ...  40.738599 -73.982512          02  74.154509   \n",
       "7  ...  40.765027 -73.992517          02  29.798810   \n",
       "8  ...  40.716867 -73.989532          02  37.617739   \n",
       "9  ...  40.765027 -73.992517          02  30.794474   \n",
       "\n",
       "                             Coordinates  \\\n",
       "0   40.71376394700047,-73.98526003999967   \n",
       "1    40.7123318510005,-73.98479662499966   \n",
       "2   40.72978268700047,-73.98304144099967   \n",
       "3   40.72056907900048,-73.98567269099966   \n",
       "4   40.71872545100047,-73.97942638599966   \n",
       "5   40.71896161700045,-73.97606602099967   \n",
       "6   40.73859908700047,-73.98251191099969   \n",
       "7  40.765026708000455,-73.99251657799965   \n",
       "8   40.71686722400045,-73.98953194299962   \n",
       "9  40.765026708000455,-73.99251657799965   \n",
       "\n",
       "                                         rev_geocode  \\\n",
       "0  (Corlears Junior High School, Henry Street, Tw...   \n",
       "1  (University Neighborhood High School, 200, Mon...   \n",
       "2  (402, East 12th Street, East Village, Manhatta...   \n",
       "3  (Lower East Side Preparatory High School, 145,...   \n",
       "4  (New Explorations into Science Technology and ...   \n",
       "5  (Bard High School Early College, 525, East Hou...   \n",
       "6  (School of Visual Arts, East 23rd Street, Gram...   \n",
       "7  (517, West 50th Street, Hell's Kitchen, Manhat...   \n",
       "8  (350, Grand Street, Lower East Side, Manhattan...   \n",
       "9  (517, West 50th Street, Hell's Kitchen, Manhat...   \n",
       "\n",
       "                                         rev_geo_raw  \\\n",
       "0  {'place_id': 171820028, 'licence': 'Data © Ope...   \n",
       "1  {'place_id': 152520497, 'licence': 'Data © Ope...   \n",
       "2  {'place_id': 146156216, 'licence': 'Data © Ope...   \n",
       "3  {'place_id': 235924867, 'licence': 'Data © Ope...   \n",
       "4  {'place_id': 121160849, 'licence': 'Data © Ope...   \n",
       "5  {'place_id': 121768242, 'licence': 'Data © Ope...   \n",
       "6  {'place_id': 233493283, 'licence': 'Data © Ope...   \n",
       "7  {'place_id': 28206636, 'licence': 'Data © Open...   \n",
       "8  {'place_id': 148425242, 'licence': 'Data © Ope...   \n",
       "9  {'place_id': 28206636, 'licence': 'Data © Open...   \n",
       "\n",
       "                                        address_dict     neighborhood  \\\n",
       "0  {'amenity': 'Corlears Junior High School', 'ro...      Two Bridges   \n",
       "1  {'amenity': 'University Neighborhood High Scho...  Lower East Side   \n",
       "2  {'house_number': '402', 'road': 'East 12th Str...     East Village   \n",
       "3  {'building': 'Lower East Side Preparatory High...  Lower East Side   \n",
       "4  {'amenity': 'New Explorations into Science Tec...  Lower East Side   \n",
       "5  {'amenity': 'Bard High School Early College', ...  Lower East Side   \n",
       "6  {'amenity': 'School of Visual Arts', 'road': '...         Gramercy   \n",
       "7  {'house_number': '517', 'road': 'West 50th Str...   Hell's Kitchen   \n",
       "8  {'house_number': '350', 'road': 'Grand Street'...  Lower East Side   \n",
       "9  {'house_number': '517', 'road': 'West 50th Str...   Hell's Kitchen   \n",
       "\n",
       "  suburb_name  \n",
       "0        None  \n",
       "1        None  \n",
       "2        None  \n",
       "3        None  \n",
       "4        None  \n",
       "5        None  \n",
       "6        None  \n",
       "7        None  \n",
       "8        None  \n",
       "9        None  \n",
       "\n",
       "[10 rows x 167 columns]"
      ]
     },
     "execution_count": 52,
     "metadata": {},
     "output_type": "execute_result"
    }
   ],
   "source": [
    "#Use list comprhensions to pull location objects from reverse geo code dictionary \n",
    "combined['rev_geo_raw'] = [x.raw for x in combined['rev_geocode']]\n",
    "combined['address_dict'] = [x.get(\"address\") for x in combined['rev_geo_raw']]\n",
    "combined['neighborhood'] = [x.get(\"neighbourhood\") for x in combined['address_dict']]\n",
    "combined['suburb_name'] = [x.get('surburb') for x in combined['address_dict']]\n",
    "\n",
    "\n",
    "combined.head(10)"
   ]
  },
  {
   "cell_type": "code",
   "execution_count": 56,
   "metadata": {},
   "outputs": [
    {
     "name": "stdout",
     "output_type": "stream",
     "text": [
      "impute 0 missing neighborhoods from suburb\n",
      "0 missing neighborhoods remaining and filled with '0'\n"
     ]
    }
   ],
   "source": [
    "# There 18 records with missing information. We will replace any missing neighborhood with the suburb name \n",
    "combined[\"neighborhood\"] = combined[\"neighborhood\"].fillna(combined[\"suburb_name\"])\n",
    "combined[\"neighborhood\"] = combined[\"neighborhood\"].fillna(0)\n",
    "\n",
    "print (\"impute {} missing neighborhoods from suburb\".format(combined[\"neighborhood\"].isna().sum()))\n",
    "print (\"{} missing neighborhoods remaining and filled with '0'\".format(combined[\"neighborhood\"].isna().sum()))\n"
   ]
  },
  {
   "cell_type": "code",
   "execution_count": 69,
   "metadata": {},
   "outputs": [],
   "source": [
    "# drop dict, geocode, and geo raw column because they are not needed anymore\n",
    "combined_incl_locations = combined.copy() # but we will keep them in backup df because API call duration\n",
    "combined.drop(columns=[\"rev_geocode\",\"rev_geo_raw\",\"address_dict\"])\n",
    "\n",
    "# to successfully merge the dataframe, we must change the formatting of neighborhoods\n",
    "ofh['neighborhood'] = ofh['neighborhood'].str.lower().str.strip()\n",
    "combined['neighborhood'] = combined['neighborhood'].str.lower().str.strip()"
   ]
  },
  {
   "cell_type": "code",
   "execution_count": 71,
   "metadata": {},
   "outputs": [
    {
     "data": {
      "text/plain": [
       "0            airport la guardia\n",
       "1                 alphabet city\n",
       "2                      annadale\n",
       "3                 arden heights\n",
       "4                      arrochar\n",
       "5          arrochar-shore acres\n",
       "6                       arverne\n",
       "7                       astoria\n",
       "8                    bath beach\n",
       "9                      bathgate\n",
       "10                    bay ridge\n",
       "11                   baychester\n",
       "12                      bayside\n",
       "13         bedford park/norwood\n",
       "14           bedford stuyvesant\n",
       "15                   beechhurst\n",
       "16                 belle harbor\n",
       "17                    bellerose\n",
       "18                      belmont\n",
       "19                  bensonhurst\n",
       "20                 bergen beach\n",
       "21                   bloomfield\n",
       "22                  boerum hill\n",
       "23                 borough park\n",
       "24                 breezy point\n",
       "25                    briarwood\n",
       "26               brighton beach\n",
       "27                broad channel\n",
       "28                   bronx park\n",
       "29                    bronxdale\n",
       "                 ...           \n",
       "219                 throgs neck\n",
       "220                   todt hill\n",
       "221               tompkinsville\n",
       "222                 tottenville\n",
       "223                      travis\n",
       "224                     tribeca\n",
       "225     upper east side (59-79)\n",
       "226     upper east side (79-96)\n",
       "227     upper west side (59-79)\n",
       "228     upper west side (79-96)\n",
       "229    upper west side (96-116)\n",
       "230                   wakefield\n",
       "231    washington heights lower\n",
       "232    washington heights upper\n",
       "233           west new brighton\n",
       "234                 westchester\n",
       "235                 westerleigh\n",
       "236                  whitestone\n",
       "237              williamsbridge\n",
       "238        williamsburg-central\n",
       "239           williamsburg-east\n",
       "240          williamsburg-north\n",
       "241          williamsburg-south\n",
       "242                 willowbrook\n",
       "243             windsor terrace\n",
       "244                   woodhaven\n",
       "245                    woodlawn\n",
       "246                     woodrow\n",
       "247                    woodside\n",
       "248             wyckoff heights\n",
       "Name: neighborhood, Length: 249, dtype: object"
      ]
     },
     "execution_count": 71,
     "metadata": {},
     "output_type": "execute_result"
    }
   ],
   "source": [
    "ofh['neighborhood'] "
   ]
  },
  {
   "cell_type": "code",
   "execution_count": 73,
   "metadata": {},
   "outputs": [
    {
     "data": {
      "text/plain": [
       "0             two bridges\n",
       "1         lower east side\n",
       "2            east village\n",
       "3         lower east side\n",
       "4         lower east side\n",
       "5         lower east side\n",
       "6                gramercy\n",
       "7          hell's kitchen\n",
       "8         lower east side\n",
       "9          hell's kitchen\n",
       "10              chinatown\n",
       "11         hell's kitchen\n",
       "12         hell's kitchen\n",
       "13        lower east side\n",
       "14        lower east side\n",
       "15     financial district\n",
       "16           union square\n",
       "17                   soho\n",
       "18                chelsea\n",
       "19         hell's kitchen\n",
       "20           union square\n",
       "21                midtown\n",
       "22         hell's kitchen\n",
       "23                    NaN\n",
       "24                chelsea\n",
       "25                chelsea\n",
       "26        upper east side\n",
       "27     financial district\n",
       "28                chelsea\n",
       "29               gramercy\n",
       "              ...        \n",
       "333             laurelton\n",
       "334             laurelton\n",
       "335                hollis\n",
       "336       cambria heights\n",
       "337       cambria heights\n",
       "338               astoria\n",
       "339      long island city\n",
       "340                   NaN\n",
       "341               astoria\n",
       "342     sunnyside gardens\n",
       "343      long island city\n",
       "344             sunnyside\n",
       "345             sunnyside\n",
       "346     sunnyside gardens\n",
       "347     heartland village\n",
       "348     heartland village\n",
       "349          emerson hill\n",
       "350                   NaN\n",
       "351         port richmond\n",
       "352          saint george\n",
       "353           princes bay\n",
       "354     castleton corners\n",
       "355          saint george\n",
       "356               oakwood\n",
       "357              bushwick\n",
       "358              bushwick\n",
       "359              bushwick\n",
       "360              bushwick\n",
       "361              bushwick\n",
       "362              bushwick\n",
       "Name: neighborhood, Length: 363, dtype: object"
      ]
     },
     "execution_count": 73,
     "metadata": {},
     "output_type": "execute_result"
    }
   ],
   "source": [
    "combined['neighborhood'] "
   ]
  },
  {
   "cell_type": "code",
   "execution_count": 76,
   "metadata": {},
   "outputs": [
    {
     "name": "stdout",
     "output_type": "stream",
     "text": [
      "40% of schools have property values associated with them\n"
     ]
    }
   ],
   "source": [
    "# now finally add property data to school dataset\n",
    "combined_ofh = pd.merge(left=combined, right=ofh, on=\"neighborhood\",how=\"left\")\n",
    "share_prop = 100-combined_ofh[\"avg_sale_price\"].isna().sum()/combined_ofh.shape[0]*100\n",
    "print(\"{:,.0f}% of schools have property values associated with them\".format(share_prop))"
   ]
  },
  {
   "cell_type": "code",
   "execution_count": 91,
   "metadata": {},
   "outputs": [
    {
     "data": {
      "text/html": [
       "<div>\n",
       "<style scoped>\n",
       "    .dataframe tbody tr th:only-of-type {\n",
       "        vertical-align: middle;\n",
       "    }\n",
       "\n",
       "    .dataframe tbody tr th {\n",
       "        vertical-align: top;\n",
       "    }\n",
       "\n",
       "    .dataframe thead th {\n",
       "        text-align: right;\n",
       "    }\n",
       "</style>\n",
       "<table border=\"1\" class=\"dataframe\">\n",
       "  <thead>\n",
       "    <tr style=\"text-align: right;\">\n",
       "      <th></th>\n",
       "      <th>boro</th>\n",
       "      <th>neighborhood</th>\n",
       "      <th>sat_score</th>\n",
       "      <th>avg_sale_price</th>\n",
       "      <th>saf_tot_11</th>\n",
       "      <th>hover_info</th>\n",
       "    </tr>\n",
       "  </thead>\n",
       "  <tbody>\n",
       "    <tr>\n",
       "      <th>0</th>\n",
       "      <td>Bronx</td>\n",
       "      <td>belmont</td>\n",
       "      <td>1140</td>\n",
       "      <td>431974</td>\n",
       "      <td>7.166667</td>\n",
       "      <td>Belmont | Avg. Safety/Respect Score: 7.2</td>\n",
       "    </tr>\n",
       "    <tr>\n",
       "      <th>1</th>\n",
       "      <td>Bronx</td>\n",
       "      <td>bronxdale</td>\n",
       "      <td>1268</td>\n",
       "      <td>435064</td>\n",
       "      <td>7.300000</td>\n",
       "      <td>Bronxdale | Avg. Safety/Respect Score: 7.3</td>\n",
       "    </tr>\n",
       "    <tr>\n",
       "      <th>2</th>\n",
       "      <td>Bronx</td>\n",
       "      <td>co-op city</td>\n",
       "      <td>1142</td>\n",
       "      <td>401143</td>\n",
       "      <td>7.200000</td>\n",
       "      <td>Co-Op City | Avg. Safety/Respect Score: 7.2</td>\n",
       "    </tr>\n",
       "    <tr>\n",
       "      <th>3</th>\n",
       "      <td>Bronx</td>\n",
       "      <td>east tremont</td>\n",
       "      <td>1148</td>\n",
       "      <td>413358</td>\n",
       "      <td>7.500000</td>\n",
       "      <td>East Tremont | Avg. Safety/Respect Score: 7.5</td>\n",
       "    </tr>\n",
       "    <tr>\n",
       "      <th>4</th>\n",
       "      <td>Bronx</td>\n",
       "      <td>fordham</td>\n",
       "      <td>1190</td>\n",
       "      <td>448843</td>\n",
       "      <td>7.500000</td>\n",
       "      <td>Fordham | Avg. Safety/Respect Score: 7.5</td>\n",
       "    </tr>\n",
       "  </tbody>\n",
       "</table>\n",
       "</div>"
      ],
      "text/plain": [
       "    boro  neighborhood  sat_score  avg_sale_price  saf_tot_11  \\\n",
       "0  Bronx       belmont       1140          431974    7.166667   \n",
       "1  Bronx     bronxdale       1268          435064    7.300000   \n",
       "2  Bronx    co-op city       1142          401143    7.200000   \n",
       "3  Bronx  east tremont       1148          413358    7.500000   \n",
       "4  Bronx       fordham       1190          448843    7.500000   \n",
       "\n",
       "                                      hover_info  \n",
       "0       Belmont | Avg. Safety/Respect Score: 7.2  \n",
       "1     Bronxdale | Avg. Safety/Respect Score: 7.3  \n",
       "2    Co-Op City | Avg. Safety/Respect Score: 7.2  \n",
       "3  East Tremont | Avg. Safety/Respect Score: 7.5  \n",
       "4       Fordham | Avg. Safety/Respect Score: 7.5  "
      ]
     },
     "execution_count": 91,
     "metadata": {},
     "output_type": "execute_result"
    }
   ],
   "source": [
    "combined_ofh = combined_ofh[combined_ofh['avg_sale_price'].notna()]\n",
    "\n",
    "combined_ofh.shape # 144 rows and 170 columns \n",
    "\n",
    "#Since the merge we have 170 columns, we only want to include the cols critical for analysis \n",
    "analysis_df = combined_ofh.loc[:, [\"neighborhood\", \"boro\", \"sat_score\", \"avg_sale_price\",'saf_tot_11']]\n",
    "\n",
    "#let's group by bourough and neighborhood and take the mean of the SAT, AVG Price of a One Family Home, and Safety/Respect Score \n",
    "avg_borough = analysis_df.groupby(['boro','neighborhood']).mean().reset_index()\n",
    "\n",
    "# Create a new column for detailed hover information \n",
    "avg_borough['hover_info'] = avg_borough['neighborhood'].str.title() + \" | Avg. Safety/Respect Score: \" + avg_borough['saf_tot_11'].round(1).astype(str)\n",
    "\n",
    "#Round each of the columns for better analysis \n",
    "avg_borough['sat_score'] = avg_borough['sat_score'].round().astype(int)\n",
    "avg_borough['avg_sale_price'] = avg_borough['avg_sale_price'].round().astype(int)\n",
    "\n",
    "avg_borough.head()"
   ]
  },
  {
   "cell_type": "code",
   "execution_count": 92,
   "metadata": {},
   "outputs": [
    {
     "data": {
      "application/vnd.plotly.v1+json": {
       "config": {
        "linkText": "Export to plot.ly",
        "plotlyServerURL": "https://plot.ly",
        "showLink": true
       },
       "data": [
        {
         "marker": {
          "color": "rgba(255, 153, 51, 1.0)",
          "line": {
           "width": 1.3
          },
          "opacity": 0.8,
          "size": 12,
          "symbol": "circle"
         },
         "mode": "markers",
         "name": "Bronx",
         "text": [
          "Belmont | Avg. Safety/Respect Score: 7.2",
          "Bronxdale | Avg. Safety/Respect Score: 7.3",
          "Co-Op City | Avg. Safety/Respect Score: 7.2",
          "East Tremont | Avg. Safety/Respect Score: 7.5",
          "Fordham | Avg. Safety/Respect Score: 7.5",
          "Hunts Point | Avg. Safety/Respect Score: 7.2",
          "Woodlawn | Avg. Safety/Respect Score: 6.8"
         ],
         "textfont": {
          "color": "#4D5663"
         },
         "type": "scatter",
         "x": [
          431974,
          435064,
          401143,
          413358,
          448843,
          434571,
          498170
         ],
         "y": [
          1140,
          1268,
          1142,
          1148,
          1190,
          1161,
          1100
         ]
        },
        {
         "marker": {
          "color": "rgba(55, 128, 191, 1.0)",
          "line": {
           "width": 1.3
          },
          "opacity": 0.8,
          "size": 12,
          "symbol": "circle"
         },
         "mode": "markers",
         "name": "Brooklyn",
         "text": [
          "Bath Beach | Avg. Safety/Respect Score: 7.0",
          "Bay Ridge | Avg. Safety/Respect Score: 7.8",
          "Boerum Hill | Avg. Safety/Respect Score: 7.3",
          "Brighton Beach | Avg. Safety/Respect Score: 7.0",
          "Brownsville | Avg. Safety/Respect Score: 7.0",
          "Bushwick | Avg. Safety/Respect Score: 7.4",
          "Canarsie | Avg. Safety/Respect Score: 7.2",
          "Clinton Hill | Avg. Safety/Respect Score: 7.4",
          "Cobble Hill | Avg. Safety/Respect Score: 7.3",
          "Crown Heights | Avg. Safety/Respect Score: 7.4",
          "Dyker Heights | Avg. Safety/Respect Score: 7.6",
          "East New York | Avg. Safety/Respect Score: 7.6",
          "Fort Greene | Avg. Safety/Respect Score: 7.4",
          "Gravesend | Avg. Safety/Respect Score: 7.1",
          "Greenpoint | Avg. Safety/Respect Score: 6.6",
          "Kensington | Avg. Safety/Respect Score: 8.5",
          "Midwood | Avg. Safety/Respect Score: 7.3",
          "Ocean Hill | Avg. Safety/Respect Score: 7.1",
          "Park Slope | Avg. Safety/Respect Score: 6.8",
          "Prospect Heights | Avg. Safety/Respect Score: 6.7",
          "Sheepshead Bay | Avg. Safety/Respect Score: 7.9",
          "Sunset Park | Avg. Safety/Respect Score: 7.2",
          "Woodhaven | Avg. Safety/Respect Score: 6.6"
         ],
         "textfont": {
          "color": "#4D5663"
         },
         "type": "scatter",
         "x": [
          906281,
          996188,
          2499898,
          596014,
          476507,
          701870,
          479393,
          1837769,
          3271054,
          879387,
          954341,
          437183,
          2053957,
          815854,
          1341883,
          956323,
          945973,
          608423,
          2750328,
          1992402,
          725900,
          984350,
          515364
         ],
         "y": [
          1313,
          1323,
          1258,
          1184,
          1144,
          1116,
          1159,
          1272,
          1179,
          1238,
          1272,
          1200,
          1454,
          1146,
          1108,
          1352,
          1452,
          1185,
          1182,
          1125,
          1488,
          1223,
          1055
         ]
        },
        {
         "marker": {
          "color": "rgba(50, 171, 96, 1.0)",
          "line": {
           "width": 1.3
          },
          "opacity": 0.8,
          "size": 12,
          "symbol": "circle"
         },
         "mode": "markers",
         "name": "Manhattan",
         "text": [
          "Chelsea | Avg. Safety/Respect Score: 7.5",
          "Chinatown | Avg. Safety/Respect Score: 6.9",
          "East Village | Avg. Safety/Respect Score: 7.9",
          "Gramercy | Avg. Safety/Respect Score: 7.7",
          "Inwood | Avg. Safety/Respect Score: 8.3",
          "Lower East Side | Avg. Safety/Respect Score: 7.4",
          "Soho | Avg. Safety/Respect Score: 7.6"
         ],
         "textfont": {
          "color": "#4D5663"
         },
         "type": "scatter",
         "x": [
          6102887,
          4602500,
          5038928,
          6185500,
          709332,
          3483500,
          7600380
         ],
         "y": [
          1318,
          1293,
          1149,
          1244,
          1223,
          1328,
          1321
         ]
        },
        {
         "marker": {
          "color": "rgba(128, 0, 128, 1.0)",
          "line": {
           "width": 1.3
          },
          "opacity": 0.8,
          "size": 12,
          "symbol": "circle"
         },
         "mode": "markers",
         "name": "Queens",
         "text": [
          "Astoria | Avg. Safety/Respect Score: 7.2",
          "Bayside | Avg. Safety/Respect Score: 7.8",
          "Cambria Heights | Avg. Safety/Respect Score: 6.6",
          "Corona | Avg. Safety/Respect Score: 7.6",
          "Elmhurst | Avg. Safety/Respect Score: 7.4",
          "Fresh Meadows | Avg. Safety/Respect Score: 8.0",
          "Hollis | Avg. Safety/Respect Score: 8.1",
          "Jamaica | Avg. Safety/Respect Score: 7.4",
          "Laurelton | Avg. Safety/Respect Score: 7.0",
          "Little Neck | Avg. Safety/Respect Score: 6.9",
          "Long Island City | Avg. Safety/Respect Score: 7.6",
          "Murray Hill | Avg. Safety/Respect Score: 7.6",
          "Oakland Gardens | Avg. Safety/Respect Score: 7.0",
          "Ozone Park | Avg. Safety/Respect Score: 7.0",
          "Richmond Hill | Avg. Safety/Respect Score: 6.6",
          "Ridgewood | Avg. Safety/Respect Score: 7.3",
          "Sunnyside | Avg. Safety/Respect Score: 7.9"
         ],
         "textfont": {
          "color": "#4D5663"
         },
         "type": "scatter",
         "x": [
          911716,
          901566,
          408174,
          719868,
          811177,
          819107,
          489211,
          613558,
          443897,
          932165,
          1068991,
          4118775,
          964416,
          516498,
          521809,
          694401,
          706096
         ],
         "y": [
          1221,
          1445,
          1186,
          1174,
          1131,
          1400,
          1223,
          1592,
          1172,
          1279,
          1247,
          1160,
          1514,
          1228,
          1154,
          1211,
          1296
         ]
        },
        {
         "marker": {
          "color": "rgba(219, 64, 82, 1.0)",
          "line": {
           "width": 1.3
          },
          "opacity": 0.8,
          "size": 12,
          "symbol": "circle"
         },
         "mode": "markers",
         "name": "Staten Island",
         "text": [
          "Castleton Corners | Avg. Safety/Respect Score: 7.3",
          "Emerson Hill | Avg. Safety/Respect Score: 7.3",
          "Oakwood | Avg. Safety/Respect Score: 8.6",
          "Port Richmond | Avg. Safety/Respect Score: 6.4",
          "Princes Bay | Avg. Safety/Respect Score: 7.4"
         ],
         "textfont": {
          "color": "#4D5663"
         },
         "type": "scatter",
         "x": [
          489107,
          784207,
          558068,
          355127,
          654705
         ],
         "y": [
          1388,
          1426,
          1953,
          1279,
          1418
         ]
        }
       ],
       "layout": {
        "hovermode": "closest",
        "template": {
         "data": {
          "bar": [
           {
            "error_x": {
             "color": "#2a3f5f"
            },
            "error_y": {
             "color": "#2a3f5f"
            },
            "marker": {
             "line": {
              "color": "#E5ECF6",
              "width": 0.5
             }
            },
            "type": "bar"
           }
          ],
          "barpolar": [
           {
            "marker": {
             "line": {
              "color": "#E5ECF6",
              "width": 0.5
             }
            },
            "type": "barpolar"
           }
          ],
          "carpet": [
           {
            "aaxis": {
             "endlinecolor": "#2a3f5f",
             "gridcolor": "white",
             "linecolor": "white",
             "minorgridcolor": "white",
             "startlinecolor": "#2a3f5f"
            },
            "baxis": {
             "endlinecolor": "#2a3f5f",
             "gridcolor": "white",
             "linecolor": "white",
             "minorgridcolor": "white",
             "startlinecolor": "#2a3f5f"
            },
            "type": "carpet"
           }
          ],
          "choropleth": [
           {
            "colorbar": {
             "outlinewidth": 0,
             "ticks": ""
            },
            "type": "choropleth"
           }
          ],
          "contour": [
           {
            "colorbar": {
             "outlinewidth": 0,
             "ticks": ""
            },
            "colorscale": [
             [
              0,
              "#0d0887"
             ],
             [
              0.1111111111111111,
              "#46039f"
             ],
             [
              0.2222222222222222,
              "#7201a8"
             ],
             [
              0.3333333333333333,
              "#9c179e"
             ],
             [
              0.4444444444444444,
              "#bd3786"
             ],
             [
              0.5555555555555556,
              "#d8576b"
             ],
             [
              0.6666666666666666,
              "#ed7953"
             ],
             [
              0.7777777777777778,
              "#fb9f3a"
             ],
             [
              0.8888888888888888,
              "#fdca26"
             ],
             [
              1,
              "#f0f921"
             ]
            ],
            "type": "contour"
           }
          ],
          "contourcarpet": [
           {
            "colorbar": {
             "outlinewidth": 0,
             "ticks": ""
            },
            "type": "contourcarpet"
           }
          ],
          "heatmap": [
           {
            "colorbar": {
             "outlinewidth": 0,
             "ticks": ""
            },
            "colorscale": [
             [
              0,
              "#0d0887"
             ],
             [
              0.1111111111111111,
              "#46039f"
             ],
             [
              0.2222222222222222,
              "#7201a8"
             ],
             [
              0.3333333333333333,
              "#9c179e"
             ],
             [
              0.4444444444444444,
              "#bd3786"
             ],
             [
              0.5555555555555556,
              "#d8576b"
             ],
             [
              0.6666666666666666,
              "#ed7953"
             ],
             [
              0.7777777777777778,
              "#fb9f3a"
             ],
             [
              0.8888888888888888,
              "#fdca26"
             ],
             [
              1,
              "#f0f921"
             ]
            ],
            "type": "heatmap"
           }
          ],
          "heatmapgl": [
           {
            "colorbar": {
             "outlinewidth": 0,
             "ticks": ""
            },
            "colorscale": [
             [
              0,
              "#0d0887"
             ],
             [
              0.1111111111111111,
              "#46039f"
             ],
             [
              0.2222222222222222,
              "#7201a8"
             ],
             [
              0.3333333333333333,
              "#9c179e"
             ],
             [
              0.4444444444444444,
              "#bd3786"
             ],
             [
              0.5555555555555556,
              "#d8576b"
             ],
             [
              0.6666666666666666,
              "#ed7953"
             ],
             [
              0.7777777777777778,
              "#fb9f3a"
             ],
             [
              0.8888888888888888,
              "#fdca26"
             ],
             [
              1,
              "#f0f921"
             ]
            ],
            "type": "heatmapgl"
           }
          ],
          "histogram": [
           {
            "marker": {
             "colorbar": {
              "outlinewidth": 0,
              "ticks": ""
             }
            },
            "type": "histogram"
           }
          ],
          "histogram2d": [
           {
            "colorbar": {
             "outlinewidth": 0,
             "ticks": ""
            },
            "colorscale": [
             [
              0,
              "#0d0887"
             ],
             [
              0.1111111111111111,
              "#46039f"
             ],
             [
              0.2222222222222222,
              "#7201a8"
             ],
             [
              0.3333333333333333,
              "#9c179e"
             ],
             [
              0.4444444444444444,
              "#bd3786"
             ],
             [
              0.5555555555555556,
              "#d8576b"
             ],
             [
              0.6666666666666666,
              "#ed7953"
             ],
             [
              0.7777777777777778,
              "#fb9f3a"
             ],
             [
              0.8888888888888888,
              "#fdca26"
             ],
             [
              1,
              "#f0f921"
             ]
            ],
            "type": "histogram2d"
           }
          ],
          "histogram2dcontour": [
           {
            "colorbar": {
             "outlinewidth": 0,
             "ticks": ""
            },
            "colorscale": [
             [
              0,
              "#0d0887"
             ],
             [
              0.1111111111111111,
              "#46039f"
             ],
             [
              0.2222222222222222,
              "#7201a8"
             ],
             [
              0.3333333333333333,
              "#9c179e"
             ],
             [
              0.4444444444444444,
              "#bd3786"
             ],
             [
              0.5555555555555556,
              "#d8576b"
             ],
             [
              0.6666666666666666,
              "#ed7953"
             ],
             [
              0.7777777777777778,
              "#fb9f3a"
             ],
             [
              0.8888888888888888,
              "#fdca26"
             ],
             [
              1,
              "#f0f921"
             ]
            ],
            "type": "histogram2dcontour"
           }
          ],
          "mesh3d": [
           {
            "colorbar": {
             "outlinewidth": 0,
             "ticks": ""
            },
            "type": "mesh3d"
           }
          ],
          "parcoords": [
           {
            "line": {
             "colorbar": {
              "outlinewidth": 0,
              "ticks": ""
             }
            },
            "type": "parcoords"
           }
          ],
          "pie": [
           {
            "automargin": true,
            "type": "pie"
           }
          ],
          "scatter": [
           {
            "marker": {
             "colorbar": {
              "outlinewidth": 0,
              "ticks": ""
             }
            },
            "type": "scatter"
           }
          ],
          "scatter3d": [
           {
            "line": {
             "colorbar": {
              "outlinewidth": 0,
              "ticks": ""
             }
            },
            "marker": {
             "colorbar": {
              "outlinewidth": 0,
              "ticks": ""
             }
            },
            "type": "scatter3d"
           }
          ],
          "scattercarpet": [
           {
            "marker": {
             "colorbar": {
              "outlinewidth": 0,
              "ticks": ""
             }
            },
            "type": "scattercarpet"
           }
          ],
          "scattergeo": [
           {
            "marker": {
             "colorbar": {
              "outlinewidth": 0,
              "ticks": ""
             }
            },
            "type": "scattergeo"
           }
          ],
          "scattergl": [
           {
            "marker": {
             "colorbar": {
              "outlinewidth": 0,
              "ticks": ""
             }
            },
            "type": "scattergl"
           }
          ],
          "scattermapbox": [
           {
            "marker": {
             "colorbar": {
              "outlinewidth": 0,
              "ticks": ""
             }
            },
            "type": "scattermapbox"
           }
          ],
          "scatterpolar": [
           {
            "marker": {
             "colorbar": {
              "outlinewidth": 0,
              "ticks": ""
             }
            },
            "type": "scatterpolar"
           }
          ],
          "scatterpolargl": [
           {
            "marker": {
             "colorbar": {
              "outlinewidth": 0,
              "ticks": ""
             }
            },
            "type": "scatterpolargl"
           }
          ],
          "scatterternary": [
           {
            "marker": {
             "colorbar": {
              "outlinewidth": 0,
              "ticks": ""
             }
            },
            "type": "scatterternary"
           }
          ],
          "surface": [
           {
            "colorbar": {
             "outlinewidth": 0,
             "ticks": ""
            },
            "colorscale": [
             [
              0,
              "#0d0887"
             ],
             [
              0.1111111111111111,
              "#46039f"
             ],
             [
              0.2222222222222222,
              "#7201a8"
             ],
             [
              0.3333333333333333,
              "#9c179e"
             ],
             [
              0.4444444444444444,
              "#bd3786"
             ],
             [
              0.5555555555555556,
              "#d8576b"
             ],
             [
              0.6666666666666666,
              "#ed7953"
             ],
             [
              0.7777777777777778,
              "#fb9f3a"
             ],
             [
              0.8888888888888888,
              "#fdca26"
             ],
             [
              1,
              "#f0f921"
             ]
            ],
            "type": "surface"
           }
          ],
          "table": [
           {
            "cells": {
             "fill": {
              "color": "#EBF0F8"
             },
             "line": {
              "color": "white"
             }
            },
            "header": {
             "fill": {
              "color": "#C8D4E3"
             },
             "line": {
              "color": "white"
             }
            },
            "type": "table"
           }
          ]
         },
         "layout": {
          "annotationdefaults": {
           "arrowcolor": "#2a3f5f",
           "arrowhead": 0,
           "arrowwidth": 1
          },
          "coloraxis": {
           "colorbar": {
            "outlinewidth": 0,
            "ticks": ""
           }
          },
          "colorscale": {
           "diverging": [
            [
             0,
             "#8e0152"
            ],
            [
             0.1,
             "#c51b7d"
            ],
            [
             0.2,
             "#de77ae"
            ],
            [
             0.3,
             "#f1b6da"
            ],
            [
             0.4,
             "#fde0ef"
            ],
            [
             0.5,
             "#f7f7f7"
            ],
            [
             0.6,
             "#e6f5d0"
            ],
            [
             0.7,
             "#b8e186"
            ],
            [
             0.8,
             "#7fbc41"
            ],
            [
             0.9,
             "#4d9221"
            ],
            [
             1,
             "#276419"
            ]
           ],
           "sequential": [
            [
             0,
             "#0d0887"
            ],
            [
             0.1111111111111111,
             "#46039f"
            ],
            [
             0.2222222222222222,
             "#7201a8"
            ],
            [
             0.3333333333333333,
             "#9c179e"
            ],
            [
             0.4444444444444444,
             "#bd3786"
            ],
            [
             0.5555555555555556,
             "#d8576b"
            ],
            [
             0.6666666666666666,
             "#ed7953"
            ],
            [
             0.7777777777777778,
             "#fb9f3a"
            ],
            [
             0.8888888888888888,
             "#fdca26"
            ],
            [
             1,
             "#f0f921"
            ]
           ],
           "sequentialminus": [
            [
             0,
             "#0d0887"
            ],
            [
             0.1111111111111111,
             "#46039f"
            ],
            [
             0.2222222222222222,
             "#7201a8"
            ],
            [
             0.3333333333333333,
             "#9c179e"
            ],
            [
             0.4444444444444444,
             "#bd3786"
            ],
            [
             0.5555555555555556,
             "#d8576b"
            ],
            [
             0.6666666666666666,
             "#ed7953"
            ],
            [
             0.7777777777777778,
             "#fb9f3a"
            ],
            [
             0.8888888888888888,
             "#fdca26"
            ],
            [
             1,
             "#f0f921"
            ]
           ]
          },
          "colorway": [
           "#636efa",
           "#EF553B",
           "#00cc96",
           "#ab63fa",
           "#FFA15A",
           "#19d3f3",
           "#FF6692",
           "#B6E880",
           "#FF97FF",
           "#FECB52"
          ],
          "font": {
           "color": "#2a3f5f"
          },
          "geo": {
           "bgcolor": "white",
           "lakecolor": "white",
           "landcolor": "#E5ECF6",
           "showlakes": true,
           "showland": true,
           "subunitcolor": "white"
          },
          "hoverlabel": {
           "align": "left"
          },
          "hovermode": "closest",
          "mapbox": {
           "style": "light"
          },
          "paper_bgcolor": "white",
          "plot_bgcolor": "#E5ECF6",
          "polar": {
           "angularaxis": {
            "gridcolor": "white",
            "linecolor": "white",
            "ticks": ""
           },
           "bgcolor": "#E5ECF6",
           "radialaxis": {
            "gridcolor": "white",
            "linecolor": "white",
            "ticks": ""
           }
          },
          "scene": {
           "xaxis": {
            "backgroundcolor": "#E5ECF6",
            "gridcolor": "white",
            "gridwidth": 2,
            "linecolor": "white",
            "showbackground": true,
            "ticks": "",
            "zerolinecolor": "white"
           },
           "yaxis": {
            "backgroundcolor": "#E5ECF6",
            "gridcolor": "white",
            "gridwidth": 2,
            "linecolor": "white",
            "showbackground": true,
            "ticks": "",
            "zerolinecolor": "white"
           },
           "zaxis": {
            "backgroundcolor": "#E5ECF6",
            "gridcolor": "white",
            "gridwidth": 2,
            "linecolor": "white",
            "showbackground": true,
            "ticks": "",
            "zerolinecolor": "white"
           }
          },
          "shapedefaults": {
           "line": {
            "color": "#2a3f5f"
           }
          },
          "ternary": {
           "aaxis": {
            "gridcolor": "white",
            "linecolor": "white",
            "ticks": ""
           },
           "baxis": {
            "gridcolor": "white",
            "linecolor": "white",
            "ticks": ""
           },
           "bgcolor": "#E5ECF6",
           "caxis": {
            "gridcolor": "white",
            "linecolor": "white",
            "ticks": ""
           }
          },
          "title": {
           "x": 0.05
          },
          "xaxis": {
           "automargin": true,
           "gridcolor": "white",
           "linecolor": "white",
           "ticks": "",
           "title": {
            "standoff": 15
           },
           "zerolinecolor": "white",
           "zerolinewidth": 2
          },
          "yaxis": {
           "automargin": true,
           "gridcolor": "white",
           "linecolor": "white",
           "ticks": "",
           "title": {
            "standoff": 15
           },
           "zerolinecolor": "white",
           "zerolinewidth": 2
          }
         }
        },
        "title": {
         "text": "Property value vs. SAT score by neighborhood"
        }
       }
      },
      "text/html": [
       "<div>\n",
       "        \n",
       "        \n",
       "            <div id=\"d3118cd2-1d7a-43c9-8a62-edf3f5b24bde\" class=\"plotly-graph-div\" style=\"height:525px; width:100%;\"></div>\n",
       "            <script type=\"text/javascript\">\n",
       "                require([\"plotly\"], function(Plotly) {\n",
       "                    window.PLOTLYENV=window.PLOTLYENV || {};\n",
       "                    window.PLOTLYENV.BASE_URL='https://plot.ly';\n",
       "                    \n",
       "                if (document.getElementById(\"d3118cd2-1d7a-43c9-8a62-edf3f5b24bde\")) {\n",
       "                    Plotly.newPlot(\n",
       "                        'd3118cd2-1d7a-43c9-8a62-edf3f5b24bde',\n",
       "                        [{\"marker\": {\"color\": \"rgba(255, 153, 51, 1.0)\", \"line\": {\"width\": 1.3}, \"opacity\": 0.8, \"size\": 12, \"symbol\": \"circle\"}, \"mode\": \"markers\", \"name\": \"Bronx\", \"text\": [\"Belmont | Avg. Safety/Respect Score: 7.2\", \"Bronxdale | Avg. Safety/Respect Score: 7.3\", \"Co-Op City | Avg. Safety/Respect Score: 7.2\", \"East Tremont | Avg. Safety/Respect Score: 7.5\", \"Fordham | Avg. Safety/Respect Score: 7.5\", \"Hunts Point | Avg. Safety/Respect Score: 7.2\", \"Woodlawn | Avg. Safety/Respect Score: 6.8\"], \"textfont\": {\"color\": \"#4D5663\"}, \"type\": \"scatter\", \"x\": [431974, 435064, 401143, 413358, 448843, 434571, 498170], \"y\": [1140, 1268, 1142, 1148, 1190, 1161, 1100]}, {\"marker\": {\"color\": \"rgba(55, 128, 191, 1.0)\", \"line\": {\"width\": 1.3}, \"opacity\": 0.8, \"size\": 12, \"symbol\": \"circle\"}, \"mode\": \"markers\", \"name\": \"Brooklyn\", \"text\": [\"Bath Beach | Avg. Safety/Respect Score: 7.0\", \"Bay Ridge | Avg. Safety/Respect Score: 7.8\", \"Boerum Hill | Avg. Safety/Respect Score: 7.3\", \"Brighton Beach | Avg. Safety/Respect Score: 7.0\", \"Brownsville | Avg. Safety/Respect Score: 7.0\", \"Bushwick | Avg. Safety/Respect Score: 7.4\", \"Canarsie | Avg. Safety/Respect Score: 7.2\", \"Clinton Hill | Avg. Safety/Respect Score: 7.4\", \"Cobble Hill | Avg. Safety/Respect Score: 7.3\", \"Crown Heights | Avg. Safety/Respect Score: 7.4\", \"Dyker Heights | Avg. Safety/Respect Score: 7.6\", \"East New York | Avg. Safety/Respect Score: 7.6\", \"Fort Greene | Avg. Safety/Respect Score: 7.4\", \"Gravesend | Avg. Safety/Respect Score: 7.1\", \"Greenpoint | Avg. Safety/Respect Score: 6.6\", \"Kensington | Avg. Safety/Respect Score: 8.5\", \"Midwood | Avg. Safety/Respect Score: 7.3\", \"Ocean Hill | Avg. Safety/Respect Score: 7.1\", \"Park Slope | Avg. Safety/Respect Score: 6.8\", \"Prospect Heights | Avg. Safety/Respect Score: 6.7\", \"Sheepshead Bay | Avg. Safety/Respect Score: 7.9\", \"Sunset Park | Avg. Safety/Respect Score: 7.2\", \"Woodhaven | Avg. Safety/Respect Score: 6.6\"], \"textfont\": {\"color\": \"#4D5663\"}, \"type\": \"scatter\", \"x\": [906281, 996188, 2499898, 596014, 476507, 701870, 479393, 1837769, 3271054, 879387, 954341, 437183, 2053957, 815854, 1341883, 956323, 945973, 608423, 2750328, 1992402, 725900, 984350, 515364], \"y\": [1313, 1323, 1258, 1184, 1144, 1116, 1159, 1272, 1179, 1238, 1272, 1200, 1454, 1146, 1108, 1352, 1452, 1185, 1182, 1125, 1488, 1223, 1055]}, {\"marker\": {\"color\": \"rgba(50, 171, 96, 1.0)\", \"line\": {\"width\": 1.3}, \"opacity\": 0.8, \"size\": 12, \"symbol\": \"circle\"}, \"mode\": \"markers\", \"name\": \"Manhattan\", \"text\": [\"Chelsea | Avg. Safety/Respect Score: 7.5\", \"Chinatown | Avg. Safety/Respect Score: 6.9\", \"East Village | Avg. Safety/Respect Score: 7.9\", \"Gramercy | Avg. Safety/Respect Score: 7.7\", \"Inwood | Avg. Safety/Respect Score: 8.3\", \"Lower East Side | Avg. Safety/Respect Score: 7.4\", \"Soho | Avg. Safety/Respect Score: 7.6\"], \"textfont\": {\"color\": \"#4D5663\"}, \"type\": \"scatter\", \"x\": [6102887, 4602500, 5038928, 6185500, 709332, 3483500, 7600380], \"y\": [1318, 1293, 1149, 1244, 1223, 1328, 1321]}, {\"marker\": {\"color\": \"rgba(128, 0, 128, 1.0)\", \"line\": {\"width\": 1.3}, \"opacity\": 0.8, \"size\": 12, \"symbol\": \"circle\"}, \"mode\": \"markers\", \"name\": \"Queens\", \"text\": [\"Astoria | Avg. Safety/Respect Score: 7.2\", \"Bayside | Avg. Safety/Respect Score: 7.8\", \"Cambria Heights | Avg. Safety/Respect Score: 6.6\", \"Corona | Avg. Safety/Respect Score: 7.6\", \"Elmhurst | Avg. Safety/Respect Score: 7.4\", \"Fresh Meadows | Avg. Safety/Respect Score: 8.0\", \"Hollis | Avg. Safety/Respect Score: 8.1\", \"Jamaica | Avg. Safety/Respect Score: 7.4\", \"Laurelton | Avg. Safety/Respect Score: 7.0\", \"Little Neck | Avg. Safety/Respect Score: 6.9\", \"Long Island City | Avg. Safety/Respect Score: 7.6\", \"Murray Hill | Avg. Safety/Respect Score: 7.6\", \"Oakland Gardens | Avg. Safety/Respect Score: 7.0\", \"Ozone Park | Avg. Safety/Respect Score: 7.0\", \"Richmond Hill | Avg. Safety/Respect Score: 6.6\", \"Ridgewood | Avg. Safety/Respect Score: 7.3\", \"Sunnyside | Avg. Safety/Respect Score: 7.9\"], \"textfont\": {\"color\": \"#4D5663\"}, \"type\": \"scatter\", \"x\": [911716, 901566, 408174, 719868, 811177, 819107, 489211, 613558, 443897, 932165, 1068991, 4118775, 964416, 516498, 521809, 694401, 706096], \"y\": [1221, 1445, 1186, 1174, 1131, 1400, 1223, 1592, 1172, 1279, 1247, 1160, 1514, 1228, 1154, 1211, 1296]}, {\"marker\": {\"color\": \"rgba(219, 64, 82, 1.0)\", \"line\": {\"width\": 1.3}, \"opacity\": 0.8, \"size\": 12, \"symbol\": \"circle\"}, \"mode\": \"markers\", \"name\": \"Staten Island\", \"text\": [\"Castleton Corners | Avg. Safety/Respect Score: 7.3\", \"Emerson Hill | Avg. Safety/Respect Score: 7.3\", \"Oakwood | Avg. Safety/Respect Score: 8.6\", \"Port Richmond | Avg. Safety/Respect Score: 6.4\", \"Princes Bay | Avg. Safety/Respect Score: 7.4\"], \"textfont\": {\"color\": \"#4D5663\"}, \"type\": \"scatter\", \"x\": [489107, 784207, 558068, 355127, 654705], \"y\": [1388, 1426, 1953, 1279, 1418]}],\n",
       "                        {\"hovermode\": \"closest\", \"template\": {\"data\": {\"bar\": [{\"error_x\": {\"color\": \"#2a3f5f\"}, \"error_y\": {\"color\": \"#2a3f5f\"}, \"marker\": {\"line\": {\"color\": \"#E5ECF6\", \"width\": 0.5}}, \"type\": \"bar\"}], \"barpolar\": [{\"marker\": {\"line\": {\"color\": \"#E5ECF6\", \"width\": 0.5}}, \"type\": \"barpolar\"}], \"carpet\": [{\"aaxis\": {\"endlinecolor\": \"#2a3f5f\", \"gridcolor\": \"white\", \"linecolor\": \"white\", \"minorgridcolor\": \"white\", \"startlinecolor\": \"#2a3f5f\"}, \"baxis\": {\"endlinecolor\": \"#2a3f5f\", \"gridcolor\": \"white\", \"linecolor\": \"white\", \"minorgridcolor\": \"white\", \"startlinecolor\": \"#2a3f5f\"}, \"type\": \"carpet\"}], \"choropleth\": [{\"colorbar\": {\"outlinewidth\": 0, \"ticks\": \"\"}, \"type\": \"choropleth\"}], \"contour\": [{\"colorbar\": {\"outlinewidth\": 0, \"ticks\": \"\"}, \"colorscale\": [[0.0, \"#0d0887\"], [0.1111111111111111, \"#46039f\"], [0.2222222222222222, \"#7201a8\"], [0.3333333333333333, \"#9c179e\"], [0.4444444444444444, \"#bd3786\"], [0.5555555555555556, \"#d8576b\"], [0.6666666666666666, \"#ed7953\"], [0.7777777777777778, \"#fb9f3a\"], [0.8888888888888888, \"#fdca26\"], [1.0, \"#f0f921\"]], \"type\": \"contour\"}], \"contourcarpet\": [{\"colorbar\": {\"outlinewidth\": 0, \"ticks\": \"\"}, \"type\": \"contourcarpet\"}], \"heatmap\": [{\"colorbar\": {\"outlinewidth\": 0, \"ticks\": \"\"}, \"colorscale\": [[0.0, \"#0d0887\"], [0.1111111111111111, \"#46039f\"], [0.2222222222222222, \"#7201a8\"], [0.3333333333333333, \"#9c179e\"], [0.4444444444444444, \"#bd3786\"], [0.5555555555555556, \"#d8576b\"], [0.6666666666666666, \"#ed7953\"], [0.7777777777777778, \"#fb9f3a\"], [0.8888888888888888, \"#fdca26\"], [1.0, \"#f0f921\"]], \"type\": \"heatmap\"}], \"heatmapgl\": [{\"colorbar\": {\"outlinewidth\": 0, \"ticks\": \"\"}, \"colorscale\": [[0.0, \"#0d0887\"], [0.1111111111111111, \"#46039f\"], [0.2222222222222222, \"#7201a8\"], [0.3333333333333333, \"#9c179e\"], [0.4444444444444444, \"#bd3786\"], [0.5555555555555556, \"#d8576b\"], [0.6666666666666666, \"#ed7953\"], [0.7777777777777778, \"#fb9f3a\"], [0.8888888888888888, \"#fdca26\"], [1.0, \"#f0f921\"]], \"type\": \"heatmapgl\"}], \"histogram\": [{\"marker\": {\"colorbar\": {\"outlinewidth\": 0, \"ticks\": \"\"}}, \"type\": \"histogram\"}], \"histogram2d\": [{\"colorbar\": {\"outlinewidth\": 0, \"ticks\": \"\"}, \"colorscale\": [[0.0, \"#0d0887\"], [0.1111111111111111, \"#46039f\"], [0.2222222222222222, \"#7201a8\"], [0.3333333333333333, \"#9c179e\"], [0.4444444444444444, \"#bd3786\"], [0.5555555555555556, \"#d8576b\"], [0.6666666666666666, \"#ed7953\"], [0.7777777777777778, \"#fb9f3a\"], [0.8888888888888888, \"#fdca26\"], [1.0, \"#f0f921\"]], \"type\": \"histogram2d\"}], \"histogram2dcontour\": [{\"colorbar\": {\"outlinewidth\": 0, \"ticks\": \"\"}, \"colorscale\": [[0.0, \"#0d0887\"], [0.1111111111111111, \"#46039f\"], [0.2222222222222222, \"#7201a8\"], [0.3333333333333333, \"#9c179e\"], [0.4444444444444444, \"#bd3786\"], [0.5555555555555556, \"#d8576b\"], [0.6666666666666666, \"#ed7953\"], [0.7777777777777778, \"#fb9f3a\"], [0.8888888888888888, \"#fdca26\"], [1.0, \"#f0f921\"]], \"type\": \"histogram2dcontour\"}], \"mesh3d\": [{\"colorbar\": {\"outlinewidth\": 0, \"ticks\": \"\"}, \"type\": \"mesh3d\"}], \"parcoords\": [{\"line\": {\"colorbar\": {\"outlinewidth\": 0, \"ticks\": \"\"}}, \"type\": \"parcoords\"}], \"pie\": [{\"automargin\": true, \"type\": \"pie\"}], \"scatter\": [{\"marker\": {\"colorbar\": {\"outlinewidth\": 0, \"ticks\": \"\"}}, \"type\": \"scatter\"}], \"scatter3d\": [{\"line\": {\"colorbar\": {\"outlinewidth\": 0, \"ticks\": \"\"}}, \"marker\": {\"colorbar\": {\"outlinewidth\": 0, \"ticks\": \"\"}}, \"type\": \"scatter3d\"}], \"scattercarpet\": [{\"marker\": {\"colorbar\": {\"outlinewidth\": 0, \"ticks\": \"\"}}, \"type\": \"scattercarpet\"}], \"scattergeo\": [{\"marker\": {\"colorbar\": {\"outlinewidth\": 0, \"ticks\": \"\"}}, \"type\": \"scattergeo\"}], \"scattergl\": [{\"marker\": {\"colorbar\": {\"outlinewidth\": 0, \"ticks\": \"\"}}, \"type\": \"scattergl\"}], \"scattermapbox\": [{\"marker\": {\"colorbar\": {\"outlinewidth\": 0, \"ticks\": \"\"}}, \"type\": \"scattermapbox\"}], \"scatterpolar\": [{\"marker\": {\"colorbar\": {\"outlinewidth\": 0, \"ticks\": \"\"}}, \"type\": \"scatterpolar\"}], \"scatterpolargl\": [{\"marker\": {\"colorbar\": {\"outlinewidth\": 0, \"ticks\": \"\"}}, \"type\": \"scatterpolargl\"}], \"scatterternary\": [{\"marker\": {\"colorbar\": {\"outlinewidth\": 0, \"ticks\": \"\"}}, \"type\": \"scatterternary\"}], \"surface\": [{\"colorbar\": {\"outlinewidth\": 0, \"ticks\": \"\"}, \"colorscale\": [[0.0, \"#0d0887\"], [0.1111111111111111, \"#46039f\"], [0.2222222222222222, \"#7201a8\"], [0.3333333333333333, \"#9c179e\"], [0.4444444444444444, \"#bd3786\"], [0.5555555555555556, \"#d8576b\"], [0.6666666666666666, \"#ed7953\"], [0.7777777777777778, \"#fb9f3a\"], [0.8888888888888888, \"#fdca26\"], [1.0, \"#f0f921\"]], \"type\": \"surface\"}], \"table\": [{\"cells\": {\"fill\": {\"color\": \"#EBF0F8\"}, \"line\": {\"color\": \"white\"}}, \"header\": {\"fill\": {\"color\": \"#C8D4E3\"}, \"line\": {\"color\": \"white\"}}, \"type\": \"table\"}]}, \"layout\": {\"annotationdefaults\": {\"arrowcolor\": \"#2a3f5f\", \"arrowhead\": 0, \"arrowwidth\": 1}, \"coloraxis\": {\"colorbar\": {\"outlinewidth\": 0, \"ticks\": \"\"}}, \"colorscale\": {\"diverging\": [[0, \"#8e0152\"], [0.1, \"#c51b7d\"], [0.2, \"#de77ae\"], [0.3, \"#f1b6da\"], [0.4, \"#fde0ef\"], [0.5, \"#f7f7f7\"], [0.6, \"#e6f5d0\"], [0.7, \"#b8e186\"], [0.8, \"#7fbc41\"], [0.9, \"#4d9221\"], [1, \"#276419\"]], \"sequential\": [[0.0, \"#0d0887\"], [0.1111111111111111, \"#46039f\"], [0.2222222222222222, \"#7201a8\"], [0.3333333333333333, \"#9c179e\"], [0.4444444444444444, \"#bd3786\"], [0.5555555555555556, \"#d8576b\"], [0.6666666666666666, \"#ed7953\"], [0.7777777777777778, \"#fb9f3a\"], [0.8888888888888888, \"#fdca26\"], [1.0, \"#f0f921\"]], \"sequentialminus\": [[0.0, \"#0d0887\"], [0.1111111111111111, \"#46039f\"], [0.2222222222222222, \"#7201a8\"], [0.3333333333333333, \"#9c179e\"], [0.4444444444444444, \"#bd3786\"], [0.5555555555555556, \"#d8576b\"], [0.6666666666666666, \"#ed7953\"], [0.7777777777777778, \"#fb9f3a\"], [0.8888888888888888, \"#fdca26\"], [1.0, \"#f0f921\"]]}, \"colorway\": [\"#636efa\", \"#EF553B\", \"#00cc96\", \"#ab63fa\", \"#FFA15A\", \"#19d3f3\", \"#FF6692\", \"#B6E880\", \"#FF97FF\", \"#FECB52\"], \"font\": {\"color\": \"#2a3f5f\"}, \"geo\": {\"bgcolor\": \"white\", \"lakecolor\": \"white\", \"landcolor\": \"#E5ECF6\", \"showlakes\": true, \"showland\": true, \"subunitcolor\": \"white\"}, \"hoverlabel\": {\"align\": \"left\"}, \"hovermode\": \"closest\", \"mapbox\": {\"style\": \"light\"}, \"paper_bgcolor\": \"white\", \"plot_bgcolor\": \"#E5ECF6\", \"polar\": {\"angularaxis\": {\"gridcolor\": \"white\", \"linecolor\": \"white\", \"ticks\": \"\"}, \"bgcolor\": \"#E5ECF6\", \"radialaxis\": {\"gridcolor\": \"white\", \"linecolor\": \"white\", \"ticks\": \"\"}}, \"scene\": {\"xaxis\": {\"backgroundcolor\": \"#E5ECF6\", \"gridcolor\": \"white\", \"gridwidth\": 2, \"linecolor\": \"white\", \"showbackground\": true, \"ticks\": \"\", \"zerolinecolor\": \"white\"}, \"yaxis\": {\"backgroundcolor\": \"#E5ECF6\", \"gridcolor\": \"white\", \"gridwidth\": 2, \"linecolor\": \"white\", \"showbackground\": true, \"ticks\": \"\", \"zerolinecolor\": \"white\"}, \"zaxis\": {\"backgroundcolor\": \"#E5ECF6\", \"gridcolor\": \"white\", \"gridwidth\": 2, \"linecolor\": \"white\", \"showbackground\": true, \"ticks\": \"\", \"zerolinecolor\": \"white\"}}, \"shapedefaults\": {\"line\": {\"color\": \"#2a3f5f\"}}, \"ternary\": {\"aaxis\": {\"gridcolor\": \"white\", \"linecolor\": \"white\", \"ticks\": \"\"}, \"baxis\": {\"gridcolor\": \"white\", \"linecolor\": \"white\", \"ticks\": \"\"}, \"bgcolor\": \"#E5ECF6\", \"caxis\": {\"gridcolor\": \"white\", \"linecolor\": \"white\", \"ticks\": \"\"}}, \"title\": {\"x\": 0.05}, \"xaxis\": {\"automargin\": true, \"gridcolor\": \"white\", \"linecolor\": \"white\", \"ticks\": \"\", \"title\": {\"standoff\": 15}, \"zerolinecolor\": \"white\", \"zerolinewidth\": 2}, \"yaxis\": {\"automargin\": true, \"gridcolor\": \"white\", \"linecolor\": \"white\", \"ticks\": \"\", \"title\": {\"standoff\": 15}, \"zerolinecolor\": \"white\", \"zerolinewidth\": 2}}}, \"title\": {\"text\": \"Property value vs. SAT score by neighborhood\"}},\n",
       "                        {\"showLink\": true, \"linkText\": \"Export to plot.ly\", \"plotlyServerURL\": \"https://plot.ly\", \"responsive\": true}\n",
       "                    ).then(function(){\n",
       "                            \n",
       "var gd = document.getElementById('d3118cd2-1d7a-43c9-8a62-edf3f5b24bde');\n",
       "var x = new MutationObserver(function (mutations, observer) {{\n",
       "        var display = window.getComputedStyle(gd).display;\n",
       "        if (!display || display === 'none') {{\n",
       "            console.log([gd, 'removed!']);\n",
       "            Plotly.purge(gd);\n",
       "            observer.disconnect();\n",
       "        }}\n",
       "}});\n",
       "\n",
       "// Listen for the removal of the full notebook cells\n",
       "var notebookContainer = gd.closest('#notebook-container');\n",
       "if (notebookContainer) {{\n",
       "    x.observe(notebookContainer, {childList: true});\n",
       "}}\n",
       "\n",
       "// Listen for the clearing of the current output cell\n",
       "var outputEl = gd.closest('.output');\n",
       "if (outputEl) {{\n",
       "    x.observe(outputEl, {childList: true});\n",
       "}}\n",
       "\n",
       "                        })\n",
       "                };\n",
       "                });\n",
       "            </script>\n",
       "        </div>"
      ]
     },
     "metadata": {},
     "output_type": "display_data"
    }
   ],
   "source": [
    "\n",
    "avg_borough.iplot(\n",
    "        x = 'avg_sale_price',\n",
    "        y = 'sat_score',\n",
    "        categories = 'boro',\n",
    "        text = 'hover_info',\n",
    "        vline= {\"x\":avg_borough['avg_sale_price'].mean(),\n",
    "                \"color\":\"#000000\",\n",
    "                \"dash\": \"dash\"\n",
    "               },\n",
    "        hline={\"y\":avg_borough['sat_score'].mean(),\n",
    "               \"color\":\"#000000\",\n",
    "               \"dash\": \"dash\"\n",
    "              },\n",
    "        layout = dict(\n",
    "            hovermode=\"closest\",\n",
    "            title='Property value vs. SAT score by neighborhood'),\n",
    "            xTitle='Avg. value of one family home, $',\n",
    "            yTitle='Avg. SAT score'\n",
    "\n",
    ")"
   ]
  }
 ],
 "metadata": {
  "kernelspec": {
   "display_name": "Python 3",
   "language": "python",
   "name": "python3"
  },
  "language_info": {
   "codemirror_mode": {
    "name": "ipython",
    "version": 3
   },
   "file_extension": ".py",
   "mimetype": "text/x-python",
   "name": "python",
   "nbconvert_exporter": "python",
   "pygments_lexer": "ipython3",
   "version": "3.7.3"
  }
 },
 "nbformat": 4,
 "nbformat_minor": 2
}
